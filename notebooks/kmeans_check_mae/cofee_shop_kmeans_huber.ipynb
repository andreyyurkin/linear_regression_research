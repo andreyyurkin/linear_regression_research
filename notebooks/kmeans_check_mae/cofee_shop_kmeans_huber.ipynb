{
 "cells": [
  {
   "cell_type": "code",
   "execution_count": 1,
   "metadata": {},
   "outputs": [],
   "source": [
    "import pandas as pd\n",
    "import matplotlib.pyplot as plt\n",
    "import seaborn as sns\n",
    "import sklearn\n",
    "import catboost as cat\n",
    "import numpy as np\n",
    "from sklearn.linear_model import LinearRegression\n",
    "import sklearn.metrics as metrics\n",
    "from sklearn.model_selection import train_test_split\n",
    "from sklearn.preprocessing import MinMaxScaler, OneHotEncoder\n",
    "# from sklearn.ensemble import RandomForestClassifier\n",
    "from sklearn.cluster import KMeans"
   ]
  },
  {
   "cell_type": "code",
   "execution_count": 2,
   "metadata": {},
   "outputs": [],
   "source": [
    "df = pd.read_csv(\"../../datasets/coffee_shop_dataset/coffee_shop_revenue.csv\")\n",
    "target = \"Daily_Revenue\"\n",
    "\n",
    "num_features = list(df.select_dtypes(exclude='object'))\n",
    "num_features.remove(target)\n",
    "cat_features = list(df.select_dtypes(include='object'))\n",
    "catboost_features = num_features+cat_features"
   ]
  },
  {
   "cell_type": "markdown",
   "metadata": {},
   "source": [
    "# Dataset preprocessing"
   ]
  },
  {
   "cell_type": "code",
   "execution_count": 3,
   "metadata": {},
   "outputs": [],
   "source": [
    "df.loc[:, num_features] = df.loc[:, num_features].fillna(0)\n",
    "df.loc[:, cat_features] = df.loc[:, cat_features].fillna('Other')"
   ]
  },
  {
   "cell_type": "code",
   "execution_count": 4,
   "metadata": {},
   "outputs": [
    {
     "data": {
      "text/plain": [
       "(2000, 0)"
      ]
     },
     "execution_count": 4,
     "metadata": {},
     "output_type": "execute_result"
    }
   ],
   "source": [
    "enc = OneHotEncoder(sparse_output=False, drop='first')\n",
    "encoded_cat_df = enc.fit_transform(df[cat_features])\n",
    "encoded_cat_df = pd.DataFrame(encoded_cat_df, columns=enc.get_feature_names_out(cat_features)).astype('Int16')\n",
    "encoded_cat_features = list(encoded_cat_df.columns)\n",
    "encoded_cat_df.shape"
   ]
  },
  {
   "cell_type": "code",
   "execution_count": 5,
   "metadata": {},
   "outputs": [],
   "source": [
    "encoded_df = pd.concat([df, encoded_cat_df], axis=1)"
   ]
  },
  {
   "cell_type": "code",
   "execution_count": 6,
   "metadata": {},
   "outputs": [],
   "source": [
    "X_train, X_test, y_train, y_test = train_test_split(\n",
    "    encoded_df[num_features+cat_features+encoded_cat_features], \n",
    "    encoded_df[target], \n",
    "    test_size=0.33, random_state=2025)\n",
    "\n",
    "df_train = pd.concat([X_train, y_train], axis=1).reset_index(drop=True)\n",
    "df_test = pd.concat([X_test, y_test], axis=1).reset_index(drop=True)"
   ]
  },
  {
   "cell_type": "code",
   "execution_count": 7,
   "metadata": {},
   "outputs": [],
   "source": [
    "linear_features = num_features+encoded_cat_features"
   ]
  },
  {
   "cell_type": "code",
   "execution_count": 8,
   "metadata": {},
   "outputs": [],
   "source": [
    "scaler = MinMaxScaler()\n",
    "scaled_df_train = scaler.fit_transform(df_train[linear_features])\n",
    "scaled_df_train = pd.DataFrame(scaled_df_train, columns=linear_features)\n",
    "scaled_df_train = pd.concat([scaled_df_train, df_train[[target]+ cat_features]], axis=1)\n",
    "\n",
    "scaled_df_test = scaler.transform(df_test[linear_features])\n",
    "scaled_df_test = pd.DataFrame(scaled_df_test, columns=linear_features)\n",
    "scaled_df_test = pd.concat([scaled_df_test, df_test[[target]+ cat_features]], axis=1)"
   ]
  },
  {
   "cell_type": "markdown",
   "metadata": {},
   "source": [
    "# Simple Linear Regression"
   ]
  },
  {
   "cell_type": "code",
   "execution_count": 9,
   "metadata": {},
   "outputs": [],
   "source": [
    "result_metrics = pd.DataFrame(columns=[\n",
    "     'algorithm',\n",
    "     'dataset_type',\n",
    "     'R2',\n",
    "     'MSE',\n",
    "     'RMSE',\n",
    "     'MAE',\n",
    "     'MAPE'\n",
    "])"
   ]
  },
  {
   "cell_type": "code",
   "execution_count": 10,
   "metadata": {},
   "outputs": [],
   "source": [
    "def get_metrics(y_true, y_pred, algorithm, dataset_type, res_df=None):\n",
    "    res_df = res_df.copy()\n",
    "    \n",
    "    r2 = metrics.r2_score(y_true, y_pred)\n",
    "    mse = metrics.mean_squared_error(y_true, y_pred)\n",
    "    mae = metrics.mean_absolute_error(y_true, y_pred)\n",
    "    mape = metrics.mean_absolute_percentage_error(y_true, y_pred)\n",
    "\n",
    "    print(f\"{algorithm}, -- Type Dataset - {dataset_type}\")\n",
    "    print(f\"R2 = {r2}\")\n",
    "    print(f\"MSE = {mse}\")\n",
    "    print(f\"RMSE = {mse**0.5}\")\n",
    "    print(f\"MAE = {mae}\")\n",
    "    print(f\"MAPE = {mape}\")\n",
    "    \n",
    "    curr_res = [algorithm, dataset_type] + [r2, mse, mse**0.5, mae, mape]\n",
    "    res_df = pd.concat([res_df,\n",
    "                        pd.DataFrame([curr_res], columns=['algorithm',\n",
    "                                                            'dataset_type',\n",
    "                                                            'R2',\n",
    "                                                            'MSE',\n",
    "                                                            'RMSE',\n",
    "                                                            'MAE',\n",
    "                                                            'MAPE'])])\n",
    "    return res_df"
   ]
  },
  {
   "cell_type": "code",
   "execution_count": 11,
   "metadata": {},
   "outputs": [
    {
     "data": {
      "text/html": [
       "<style>#sk-container-id-1 {\n",
       "  /* Definition of color scheme common for light and dark mode */\n",
       "  --sklearn-color-text: #000;\n",
       "  --sklearn-color-text-muted: #666;\n",
       "  --sklearn-color-line: gray;\n",
       "  /* Definition of color scheme for unfitted estimators */\n",
       "  --sklearn-color-unfitted-level-0: #fff5e6;\n",
       "  --sklearn-color-unfitted-level-1: #f6e4d2;\n",
       "  --sklearn-color-unfitted-level-2: #ffe0b3;\n",
       "  --sklearn-color-unfitted-level-3: chocolate;\n",
       "  /* Definition of color scheme for fitted estimators */\n",
       "  --sklearn-color-fitted-level-0: #f0f8ff;\n",
       "  --sklearn-color-fitted-level-1: #d4ebff;\n",
       "  --sklearn-color-fitted-level-2: #b3dbfd;\n",
       "  --sklearn-color-fitted-level-3: cornflowerblue;\n",
       "\n",
       "  /* Specific color for light theme */\n",
       "  --sklearn-color-text-on-default-background: var(--sg-text-color, var(--theme-code-foreground, var(--jp-content-font-color1, black)));\n",
       "  --sklearn-color-background: var(--sg-background-color, var(--theme-background, var(--jp-layout-color0, white)));\n",
       "  --sklearn-color-border-box: var(--sg-text-color, var(--theme-code-foreground, var(--jp-content-font-color1, black)));\n",
       "  --sklearn-color-icon: #696969;\n",
       "\n",
       "  @media (prefers-color-scheme: dark) {\n",
       "    /* Redefinition of color scheme for dark theme */\n",
       "    --sklearn-color-text-on-default-background: var(--sg-text-color, var(--theme-code-foreground, var(--jp-content-font-color1, white)));\n",
       "    --sklearn-color-background: var(--sg-background-color, var(--theme-background, var(--jp-layout-color0, #111)));\n",
       "    --sklearn-color-border-box: var(--sg-text-color, var(--theme-code-foreground, var(--jp-content-font-color1, white)));\n",
       "    --sklearn-color-icon: #878787;\n",
       "  }\n",
       "}\n",
       "\n",
       "#sk-container-id-1 {\n",
       "  color: var(--sklearn-color-text);\n",
       "}\n",
       "\n",
       "#sk-container-id-1 pre {\n",
       "  padding: 0;\n",
       "}\n",
       "\n",
       "#sk-container-id-1 input.sk-hidden--visually {\n",
       "  border: 0;\n",
       "  clip: rect(1px 1px 1px 1px);\n",
       "  clip: rect(1px, 1px, 1px, 1px);\n",
       "  height: 1px;\n",
       "  margin: -1px;\n",
       "  overflow: hidden;\n",
       "  padding: 0;\n",
       "  position: absolute;\n",
       "  width: 1px;\n",
       "}\n",
       "\n",
       "#sk-container-id-1 div.sk-dashed-wrapped {\n",
       "  border: 1px dashed var(--sklearn-color-line);\n",
       "  margin: 0 0.4em 0.5em 0.4em;\n",
       "  box-sizing: border-box;\n",
       "  padding-bottom: 0.4em;\n",
       "  background-color: var(--sklearn-color-background);\n",
       "}\n",
       "\n",
       "#sk-container-id-1 div.sk-container {\n",
       "  /* jupyter's `normalize.less` sets `[hidden] { display: none; }`\n",
       "     but bootstrap.min.css set `[hidden] { display: none !important; }`\n",
       "     so we also need the `!important` here to be able to override the\n",
       "     default hidden behavior on the sphinx rendered scikit-learn.org.\n",
       "     See: https://github.com/scikit-learn/scikit-learn/issues/21755 */\n",
       "  display: inline-block !important;\n",
       "  position: relative;\n",
       "}\n",
       "\n",
       "#sk-container-id-1 div.sk-text-repr-fallback {\n",
       "  display: none;\n",
       "}\n",
       "\n",
       "div.sk-parallel-item,\n",
       "div.sk-serial,\n",
       "div.sk-item {\n",
       "  /* draw centered vertical line to link estimators */\n",
       "  background-image: linear-gradient(var(--sklearn-color-text-on-default-background), var(--sklearn-color-text-on-default-background));\n",
       "  background-size: 2px 100%;\n",
       "  background-repeat: no-repeat;\n",
       "  background-position: center center;\n",
       "}\n",
       "\n",
       "/* Parallel-specific style estimator block */\n",
       "\n",
       "#sk-container-id-1 div.sk-parallel-item::after {\n",
       "  content: \"\";\n",
       "  width: 100%;\n",
       "  border-bottom: 2px solid var(--sklearn-color-text-on-default-background);\n",
       "  flex-grow: 1;\n",
       "}\n",
       "\n",
       "#sk-container-id-1 div.sk-parallel {\n",
       "  display: flex;\n",
       "  align-items: stretch;\n",
       "  justify-content: center;\n",
       "  background-color: var(--sklearn-color-background);\n",
       "  position: relative;\n",
       "}\n",
       "\n",
       "#sk-container-id-1 div.sk-parallel-item {\n",
       "  display: flex;\n",
       "  flex-direction: column;\n",
       "}\n",
       "\n",
       "#sk-container-id-1 div.sk-parallel-item:first-child::after {\n",
       "  align-self: flex-end;\n",
       "  width: 50%;\n",
       "}\n",
       "\n",
       "#sk-container-id-1 div.sk-parallel-item:last-child::after {\n",
       "  align-self: flex-start;\n",
       "  width: 50%;\n",
       "}\n",
       "\n",
       "#sk-container-id-1 div.sk-parallel-item:only-child::after {\n",
       "  width: 0;\n",
       "}\n",
       "\n",
       "/* Serial-specific style estimator block */\n",
       "\n",
       "#sk-container-id-1 div.sk-serial {\n",
       "  display: flex;\n",
       "  flex-direction: column;\n",
       "  align-items: center;\n",
       "  background-color: var(--sklearn-color-background);\n",
       "  padding-right: 1em;\n",
       "  padding-left: 1em;\n",
       "}\n",
       "\n",
       "\n",
       "/* Toggleable style: style used for estimator/Pipeline/ColumnTransformer box that is\n",
       "clickable and can be expanded/collapsed.\n",
       "- Pipeline and ColumnTransformer use this feature and define the default style\n",
       "- Estimators will overwrite some part of the style using the `sk-estimator` class\n",
       "*/\n",
       "\n",
       "/* Pipeline and ColumnTransformer style (default) */\n",
       "\n",
       "#sk-container-id-1 div.sk-toggleable {\n",
       "  /* Default theme specific background. It is overwritten whether we have a\n",
       "  specific estimator or a Pipeline/ColumnTransformer */\n",
       "  background-color: var(--sklearn-color-background);\n",
       "}\n",
       "\n",
       "/* Toggleable label */\n",
       "#sk-container-id-1 label.sk-toggleable__label {\n",
       "  cursor: pointer;\n",
       "  display: flex;\n",
       "  width: 100%;\n",
       "  margin-bottom: 0;\n",
       "  padding: 0.5em;\n",
       "  box-sizing: border-box;\n",
       "  text-align: center;\n",
       "  align-items: start;\n",
       "  justify-content: space-between;\n",
       "  gap: 0.5em;\n",
       "}\n",
       "\n",
       "#sk-container-id-1 label.sk-toggleable__label .caption {\n",
       "  font-size: 0.6rem;\n",
       "  font-weight: lighter;\n",
       "  color: var(--sklearn-color-text-muted);\n",
       "}\n",
       "\n",
       "#sk-container-id-1 label.sk-toggleable__label-arrow:before {\n",
       "  /* Arrow on the left of the label */\n",
       "  content: \"▸\";\n",
       "  float: left;\n",
       "  margin-right: 0.25em;\n",
       "  color: var(--sklearn-color-icon);\n",
       "}\n",
       "\n",
       "#sk-container-id-1 label.sk-toggleable__label-arrow:hover:before {\n",
       "  color: var(--sklearn-color-text);\n",
       "}\n",
       "\n",
       "/* Toggleable content - dropdown */\n",
       "\n",
       "#sk-container-id-1 div.sk-toggleable__content {\n",
       "  max-height: 0;\n",
       "  max-width: 0;\n",
       "  overflow: hidden;\n",
       "  text-align: left;\n",
       "  /* unfitted */\n",
       "  background-color: var(--sklearn-color-unfitted-level-0);\n",
       "}\n",
       "\n",
       "#sk-container-id-1 div.sk-toggleable__content.fitted {\n",
       "  /* fitted */\n",
       "  background-color: var(--sklearn-color-fitted-level-0);\n",
       "}\n",
       "\n",
       "#sk-container-id-1 div.sk-toggleable__content pre {\n",
       "  margin: 0.2em;\n",
       "  border-radius: 0.25em;\n",
       "  color: var(--sklearn-color-text);\n",
       "  /* unfitted */\n",
       "  background-color: var(--sklearn-color-unfitted-level-0);\n",
       "}\n",
       "\n",
       "#sk-container-id-1 div.sk-toggleable__content.fitted pre {\n",
       "  /* unfitted */\n",
       "  background-color: var(--sklearn-color-fitted-level-0);\n",
       "}\n",
       "\n",
       "#sk-container-id-1 input.sk-toggleable__control:checked~div.sk-toggleable__content {\n",
       "  /* Expand drop-down */\n",
       "  max-height: 200px;\n",
       "  max-width: 100%;\n",
       "  overflow: auto;\n",
       "}\n",
       "\n",
       "#sk-container-id-1 input.sk-toggleable__control:checked~label.sk-toggleable__label-arrow:before {\n",
       "  content: \"▾\";\n",
       "}\n",
       "\n",
       "/* Pipeline/ColumnTransformer-specific style */\n",
       "\n",
       "#sk-container-id-1 div.sk-label input.sk-toggleable__control:checked~label.sk-toggleable__label {\n",
       "  color: var(--sklearn-color-text);\n",
       "  background-color: var(--sklearn-color-unfitted-level-2);\n",
       "}\n",
       "\n",
       "#sk-container-id-1 div.sk-label.fitted input.sk-toggleable__control:checked~label.sk-toggleable__label {\n",
       "  background-color: var(--sklearn-color-fitted-level-2);\n",
       "}\n",
       "\n",
       "/* Estimator-specific style */\n",
       "\n",
       "/* Colorize estimator box */\n",
       "#sk-container-id-1 div.sk-estimator input.sk-toggleable__control:checked~label.sk-toggleable__label {\n",
       "  /* unfitted */\n",
       "  background-color: var(--sklearn-color-unfitted-level-2);\n",
       "}\n",
       "\n",
       "#sk-container-id-1 div.sk-estimator.fitted input.sk-toggleable__control:checked~label.sk-toggleable__label {\n",
       "  /* fitted */\n",
       "  background-color: var(--sklearn-color-fitted-level-2);\n",
       "}\n",
       "\n",
       "#sk-container-id-1 div.sk-label label.sk-toggleable__label,\n",
       "#sk-container-id-1 div.sk-label label {\n",
       "  /* The background is the default theme color */\n",
       "  color: var(--sklearn-color-text-on-default-background);\n",
       "}\n",
       "\n",
       "/* On hover, darken the color of the background */\n",
       "#sk-container-id-1 div.sk-label:hover label.sk-toggleable__label {\n",
       "  color: var(--sklearn-color-text);\n",
       "  background-color: var(--sklearn-color-unfitted-level-2);\n",
       "}\n",
       "\n",
       "/* Label box, darken color on hover, fitted */\n",
       "#sk-container-id-1 div.sk-label.fitted:hover label.sk-toggleable__label.fitted {\n",
       "  color: var(--sklearn-color-text);\n",
       "  background-color: var(--sklearn-color-fitted-level-2);\n",
       "}\n",
       "\n",
       "/* Estimator label */\n",
       "\n",
       "#sk-container-id-1 div.sk-label label {\n",
       "  font-family: monospace;\n",
       "  font-weight: bold;\n",
       "  display: inline-block;\n",
       "  line-height: 1.2em;\n",
       "}\n",
       "\n",
       "#sk-container-id-1 div.sk-label-container {\n",
       "  text-align: center;\n",
       "}\n",
       "\n",
       "/* Estimator-specific */\n",
       "#sk-container-id-1 div.sk-estimator {\n",
       "  font-family: monospace;\n",
       "  border: 1px dotted var(--sklearn-color-border-box);\n",
       "  border-radius: 0.25em;\n",
       "  box-sizing: border-box;\n",
       "  margin-bottom: 0.5em;\n",
       "  /* unfitted */\n",
       "  background-color: var(--sklearn-color-unfitted-level-0);\n",
       "}\n",
       "\n",
       "#sk-container-id-1 div.sk-estimator.fitted {\n",
       "  /* fitted */\n",
       "  background-color: var(--sklearn-color-fitted-level-0);\n",
       "}\n",
       "\n",
       "/* on hover */\n",
       "#sk-container-id-1 div.sk-estimator:hover {\n",
       "  /* unfitted */\n",
       "  background-color: var(--sklearn-color-unfitted-level-2);\n",
       "}\n",
       "\n",
       "#sk-container-id-1 div.sk-estimator.fitted:hover {\n",
       "  /* fitted */\n",
       "  background-color: var(--sklearn-color-fitted-level-2);\n",
       "}\n",
       "\n",
       "/* Specification for estimator info (e.g. \"i\" and \"?\") */\n",
       "\n",
       "/* Common style for \"i\" and \"?\" */\n",
       "\n",
       ".sk-estimator-doc-link,\n",
       "a:link.sk-estimator-doc-link,\n",
       "a:visited.sk-estimator-doc-link {\n",
       "  float: right;\n",
       "  font-size: smaller;\n",
       "  line-height: 1em;\n",
       "  font-family: monospace;\n",
       "  background-color: var(--sklearn-color-background);\n",
       "  border-radius: 1em;\n",
       "  height: 1em;\n",
       "  width: 1em;\n",
       "  text-decoration: none !important;\n",
       "  margin-left: 0.5em;\n",
       "  text-align: center;\n",
       "  /* unfitted */\n",
       "  border: var(--sklearn-color-unfitted-level-1) 1pt solid;\n",
       "  color: var(--sklearn-color-unfitted-level-1);\n",
       "}\n",
       "\n",
       ".sk-estimator-doc-link.fitted,\n",
       "a:link.sk-estimator-doc-link.fitted,\n",
       "a:visited.sk-estimator-doc-link.fitted {\n",
       "  /* fitted */\n",
       "  border: var(--sklearn-color-fitted-level-1) 1pt solid;\n",
       "  color: var(--sklearn-color-fitted-level-1);\n",
       "}\n",
       "\n",
       "/* On hover */\n",
       "div.sk-estimator:hover .sk-estimator-doc-link:hover,\n",
       ".sk-estimator-doc-link:hover,\n",
       "div.sk-label-container:hover .sk-estimator-doc-link:hover,\n",
       ".sk-estimator-doc-link:hover {\n",
       "  /* unfitted */\n",
       "  background-color: var(--sklearn-color-unfitted-level-3);\n",
       "  color: var(--sklearn-color-background);\n",
       "  text-decoration: none;\n",
       "}\n",
       "\n",
       "div.sk-estimator.fitted:hover .sk-estimator-doc-link.fitted:hover,\n",
       ".sk-estimator-doc-link.fitted:hover,\n",
       "div.sk-label-container:hover .sk-estimator-doc-link.fitted:hover,\n",
       ".sk-estimator-doc-link.fitted:hover {\n",
       "  /* fitted */\n",
       "  background-color: var(--sklearn-color-fitted-level-3);\n",
       "  color: var(--sklearn-color-background);\n",
       "  text-decoration: none;\n",
       "}\n",
       "\n",
       "/* Span, style for the box shown on hovering the info icon */\n",
       ".sk-estimator-doc-link span {\n",
       "  display: none;\n",
       "  z-index: 9999;\n",
       "  position: relative;\n",
       "  font-weight: normal;\n",
       "  right: .2ex;\n",
       "  padding: .5ex;\n",
       "  margin: .5ex;\n",
       "  width: min-content;\n",
       "  min-width: 20ex;\n",
       "  max-width: 50ex;\n",
       "  color: var(--sklearn-color-text);\n",
       "  box-shadow: 2pt 2pt 4pt #999;\n",
       "  /* unfitted */\n",
       "  background: var(--sklearn-color-unfitted-level-0);\n",
       "  border: .5pt solid var(--sklearn-color-unfitted-level-3);\n",
       "}\n",
       "\n",
       ".sk-estimator-doc-link.fitted span {\n",
       "  /* fitted */\n",
       "  background: var(--sklearn-color-fitted-level-0);\n",
       "  border: var(--sklearn-color-fitted-level-3);\n",
       "}\n",
       "\n",
       ".sk-estimator-doc-link:hover span {\n",
       "  display: block;\n",
       "}\n",
       "\n",
       "/* \"?\"-specific style due to the `<a>` HTML tag */\n",
       "\n",
       "#sk-container-id-1 a.estimator_doc_link {\n",
       "  float: right;\n",
       "  font-size: 1rem;\n",
       "  line-height: 1em;\n",
       "  font-family: monospace;\n",
       "  background-color: var(--sklearn-color-background);\n",
       "  border-radius: 1rem;\n",
       "  height: 1rem;\n",
       "  width: 1rem;\n",
       "  text-decoration: none;\n",
       "  /* unfitted */\n",
       "  color: var(--sklearn-color-unfitted-level-1);\n",
       "  border: var(--sklearn-color-unfitted-level-1) 1pt solid;\n",
       "}\n",
       "\n",
       "#sk-container-id-1 a.estimator_doc_link.fitted {\n",
       "  /* fitted */\n",
       "  border: var(--sklearn-color-fitted-level-1) 1pt solid;\n",
       "  color: var(--sklearn-color-fitted-level-1);\n",
       "}\n",
       "\n",
       "/* On hover */\n",
       "#sk-container-id-1 a.estimator_doc_link:hover {\n",
       "  /* unfitted */\n",
       "  background-color: var(--sklearn-color-unfitted-level-3);\n",
       "  color: var(--sklearn-color-background);\n",
       "  text-decoration: none;\n",
       "}\n",
       "\n",
       "#sk-container-id-1 a.estimator_doc_link.fitted:hover {\n",
       "  /* fitted */\n",
       "  background-color: var(--sklearn-color-fitted-level-3);\n",
       "}\n",
       "</style><div id=\"sk-container-id-1\" class=\"sk-top-container\"><div class=\"sk-text-repr-fallback\"><pre>HuberRegressor()</pre><b>In a Jupyter environment, please rerun this cell to show the HTML representation or trust the notebook. <br />On GitHub, the HTML representation is unable to render, please try loading this page with nbviewer.org.</b></div><div class=\"sk-container\" hidden><div class=\"sk-item\"><div class=\"sk-estimator fitted sk-toggleable\"><input class=\"sk-toggleable__control sk-hidden--visually\" id=\"sk-estimator-id-1\" type=\"checkbox\" checked><label for=\"sk-estimator-id-1\" class=\"sk-toggleable__label fitted sk-toggleable__label-arrow\"><div><div>HuberRegressor</div></div><div><a class=\"sk-estimator-doc-link fitted\" rel=\"noreferrer\" target=\"_blank\" href=\"https://scikit-learn.org/1.6/modules/generated/sklearn.linear_model.HuberRegressor.html\">?<span>Documentation for HuberRegressor</span></a><span class=\"sk-estimator-doc-link fitted\">i<span>Fitted</span></span></div></label><div class=\"sk-toggleable__content fitted\"><pre>HuberRegressor()</pre></div> </div></div></div></div>"
      ],
      "text/plain": [
       "HuberRegressor()"
      ]
     },
     "execution_count": 11,
     "metadata": {},
     "output_type": "execute_result"
    }
   ],
   "source": [
    "from sklearn.linear_model import HuberRegressor\n",
    "\n",
    "# loss='epsilon_insensitive' эквивалентен MAE при epsilon=0\n",
    "simple_model = HuberRegressor(epsilon=1.35)\n",
    "simple_model.fit(scaled_df_train[linear_features], scaled_df_train[target])"
   ]
  },
  {
   "cell_type": "code",
   "execution_count": 12,
   "metadata": {},
   "outputs": [],
   "source": [
    "preds_train = simple_model.predict(scaled_df_train[linear_features])\n",
    "preds_test = simple_model.predict(scaled_df_test[linear_features])"
   ]
  },
  {
   "cell_type": "code",
   "execution_count": 13,
   "metadata": {},
   "outputs": [
    {
     "name": "stdout",
     "output_type": "stream",
     "text": [
      "simple_regression, -- Type Dataset - train\n",
      "R2 = 0.8922667274266651\n",
      "MSE = 103392.83741705923\n",
      "RMSE = 321.54756633670735\n",
      "MAE = 252.25593982288717\n",
      "MAPE = 0.19708086081365078\n"
     ]
    },
    {
     "name": "stderr",
     "output_type": "stream",
     "text": [
      "/var/folders/dy/q_kmpbjj54q1glfr1wthxzhw0000gn/T/ipykernel_37439/2903524573.py:17: FutureWarning: The behavior of DataFrame concatenation with empty or all-NA entries is deprecated. In a future version, this will no longer exclude empty or all-NA columns when determining the result dtypes. To retain the old behavior, exclude the relevant entries before the concat operation.\n",
      "  res_df = pd.concat([res_df,\n"
     ]
    }
   ],
   "source": [
    "result_metrics = get_metrics(scaled_df_train[target], preds_train, \n",
    "                              algorithm='simple_regression', dataset_type='train', \n",
    "                              res_df=result_metrics)"
   ]
  },
  {
   "cell_type": "code",
   "execution_count": 14,
   "metadata": {},
   "outputs": [
    {
     "name": "stdout",
     "output_type": "stream",
     "text": [
      "simple_regression, -- Type Dataset - test\n",
      "R2 = 0.8890064775010744\n",
      "MSE = 104092.0196650065\n",
      "RMSE = 322.63294882111234\n",
      "MAE = 254.3491354690157\n",
      "MAPE = 0.19527601175954648\n"
     ]
    }
   ],
   "source": [
    "result_metrics = get_metrics(scaled_df_test[target], preds_test, \n",
    "                              algorithm='simple_regression', dataset_type='test', \n",
    "                              res_df=result_metrics)"
   ]
  },
  {
   "cell_type": "code",
   "execution_count": 15,
   "metadata": {},
   "outputs": [
    {
     "data": {
      "text/html": [
       "<div>\n",
       "<style scoped>\n",
       "    .dataframe tbody tr th:only-of-type {\n",
       "        vertical-align: middle;\n",
       "    }\n",
       "\n",
       "    .dataframe tbody tr th {\n",
       "        vertical-align: top;\n",
       "    }\n",
       "\n",
       "    .dataframe thead th {\n",
       "        text-align: right;\n",
       "    }\n",
       "</style>\n",
       "<table border=\"1\" class=\"dataframe\">\n",
       "  <thead>\n",
       "    <tr style=\"text-align: right;\">\n",
       "      <th></th>\n",
       "      <th>algorithm</th>\n",
       "      <th>dataset_type</th>\n",
       "      <th>R2</th>\n",
       "      <th>MSE</th>\n",
       "      <th>RMSE</th>\n",
       "      <th>MAE</th>\n",
       "      <th>MAPE</th>\n",
       "    </tr>\n",
       "  </thead>\n",
       "  <tbody>\n",
       "    <tr>\n",
       "      <th>0</th>\n",
       "      <td>simple_regression</td>\n",
       "      <td>train</td>\n",
       "      <td>0.892267</td>\n",
       "      <td>103392.837417</td>\n",
       "      <td>321.547566</td>\n",
       "      <td>252.255940</td>\n",
       "      <td>0.197081</td>\n",
       "    </tr>\n",
       "    <tr>\n",
       "      <th>0</th>\n",
       "      <td>simple_regression</td>\n",
       "      <td>test</td>\n",
       "      <td>0.889006</td>\n",
       "      <td>104092.019665</td>\n",
       "      <td>322.632949</td>\n",
       "      <td>254.349135</td>\n",
       "      <td>0.195276</td>\n",
       "    </tr>\n",
       "  </tbody>\n",
       "</table>\n",
       "</div>"
      ],
      "text/plain": [
       "           algorithm dataset_type        R2            MSE        RMSE  \\\n",
       "0  simple_regression        train  0.892267  103392.837417  321.547566   \n",
       "0  simple_regression         test  0.889006  104092.019665  322.632949   \n",
       "\n",
       "          MAE      MAPE  \n",
       "0  252.255940  0.197081  \n",
       "0  254.349135  0.195276  "
      ]
     },
     "execution_count": 15,
     "metadata": {},
     "output_type": "execute_result"
    }
   ],
   "source": [
    "result_metrics"
   ]
  },
  {
   "cell_type": "markdown",
   "metadata": {},
   "source": [
    "# Combine with classifier after k-means"
   ]
  },
  {
   "cell_type": "markdown",
   "metadata": {},
   "source": [
    "## fit k-means 2 clusters on target"
   ]
  },
  {
   "cell_type": "markdown",
   "metadata": {},
   "source": [
    "### clustering"
   ]
  },
  {
   "cell_type": "code",
   "execution_count": 16,
   "metadata": {},
   "outputs": [],
   "source": [
    "kmeans = KMeans(n_clusters=2, random_state=2025)\n",
    "kmeans.fit(scaled_df_train[[target]])\n",
    "clf_target ='kmeans'\n",
    "\n",
    "scaled_df_train['kmeans'] = kmeans.predict(scaled_df_train[[target]])\n",
    "scaled_df_test['kmeans'] = kmeans.predict(scaled_df_test[[target]])\n",
    "\n",
    "kmeans_data = pd.concat([scaled_df_train, scaled_df_test])"
   ]
  },
  {
   "cell_type": "code",
   "execution_count": 17,
   "metadata": {},
   "outputs": [
    {
     "data": {
      "image/png": "[encoded data removed]",
      "text/plain": [
       "<Figure size 640x480 with 1 Axes>"
      ]
     },
     "metadata": {},
     "output_type": "display_data"
    }
   ],
   "source": [
    "plt.title('target dist')\n",
    "plt.grid(which='major')\n",
    "sns.histplot(data = kmeans_data, x=target, kde=True, hue='kmeans')\n",
    "plt.show()"
   ]
  },
  {
   "cell_type": "markdown",
   "metadata": {},
   "source": [
    "### fit clf"
   ]
  },
  {
   "cell_type": "code",
   "execution_count": 18,
   "metadata": {},
   "outputs": [],
   "source": [
    "clf = cat.CatBoostClassifier(random_state=2025, cat_features=cat_features, verbose=False)\n",
    "clf.fit(scaled_df_train[catboost_features], scaled_df_train[clf_target])\n",
    "\n",
    "clf_pred_train = clf.predict(scaled_df_train[catboost_features])\n",
    "clf_pred_test = clf.predict(scaled_df_test[catboost_features])"
   ]
  },
  {
   "cell_type": "code",
   "execution_count": 19,
   "metadata": {},
   "outputs": [
    {
     "name": "stdout",
     "output_type": "stream",
     "text": [
      "              precision    recall  f1-score   support\n",
      "\n",
      "           0       0.99      0.99      0.99       461\n",
      "           1       0.99      1.00      0.99       879\n",
      "\n",
      "    accuracy                           0.99      1340\n",
      "   macro avg       0.99      0.99      0.99      1340\n",
      "weighted avg       0.99      0.99      0.99      1340\n",
      "\n"
     ]
    }
   ],
   "source": [
    "print(metrics.classification_report(scaled_df_train[clf_target], clf_pred_train))"
   ]
  },
  {
   "cell_type": "code",
   "execution_count": 20,
   "metadata": {},
   "outputs": [
    {
     "name": "stdout",
     "output_type": "stream",
     "text": [
      "              precision    recall  f1-score   support\n",
      "\n",
      "           0       0.91      0.91      0.91       228\n",
      "           1       0.95      0.95      0.95       432\n",
      "\n",
      "    accuracy                           0.94       660\n",
      "   macro avg       0.93      0.93      0.93       660\n",
      "weighted avg       0.94      0.94      0.94       660\n",
      "\n"
     ]
    }
   ],
   "source": [
    "print(metrics.classification_report(scaled_df_test[clf_target], clf_pred_test))"
   ]
  },
  {
   "cell_type": "markdown",
   "metadata": {},
   "source": [
    "### fit regression"
   ]
  },
  {
   "cell_type": "code",
   "execution_count": 21,
   "metadata": {},
   "outputs": [],
   "source": [
    "scaled_df_train_0 = scaled_df_train[scaled_df_train[clf_target] == 0]\n",
    "scaled_df_train_1 = scaled_df_train[scaled_df_train[clf_target] == 1]\n",
    "\n",
    "clf_pred_test = clf.predict(scaled_df_test[catboost_features])\n",
    "scaled_df_test['clf_pred'] = clf_pred_test\n",
    "\n",
    "scaled_df_test_0 = scaled_df_test[scaled_df_test['clf_pred'] == 0]\n",
    "scaled_df_test_1 = scaled_df_test[scaled_df_test['clf_pred'] == 1]"
   ]
  },
  {
   "cell_type": "code",
   "execution_count": 22,
   "metadata": {},
   "outputs": [
    {
     "name": "stdout",
     "output_type": "stream",
     "text": [
      "train (461, 8) (879, 8)\n",
      "test (227, 9) (433, 9)\n"
     ]
    }
   ],
   "source": [
    "print(\"train\", scaled_df_train_0.shape, scaled_df_train_1.shape)\n",
    "print(\"test\", scaled_df_test_0.shape, scaled_df_test_1.shape)"
   ]
  },
  {
   "cell_type": "code",
   "execution_count": 23,
   "metadata": {},
   "outputs": [],
   "source": [
    "lr_0 = HuberRegressor(epsilon=1.35)\n",
    "lr_0.fit(scaled_df_train_0[linear_features], scaled_df_train_0[target])\n",
    "pred_train_0 = lr_0.predict(scaled_df_train_0[linear_features])\n",
    "pred_test_0 = lr_0.predict(scaled_df_test_0[linear_features])\n",
    "\n",
    "lr_1 = HuberRegressor(epsilon=1.35)\n",
    "lr_1.fit(scaled_df_train_1[linear_features], scaled_df_train_1[target])\n",
    "pred_train_1 = lr_1.predict(scaled_df_train_1[linear_features])\n",
    "pred_test_1 = lr_1.predict(scaled_df_test_1[linear_features])"
   ]
  },
  {
   "cell_type": "code",
   "execution_count": 24,
   "metadata": {},
   "outputs": [
    {
     "name": "stdout",
     "output_type": "stream",
     "text": [
      "segm_kmeans2_regression, -- Type Dataset - train\n",
      "R2 = 0.9409020428308881\n",
      "MSE = 56716.97639285009\n",
      "RMSE = 238.1532624022818\n",
      "MAE = 190.0541652826868\n",
      "MAPE = 0.1563720466800032\n",
      "segm_kmeans2_regression, -- Type Dataset - test\n",
      "R2 = 0.9351898917250961\n",
      "MSE = 60780.25918231219\n",
      "RMSE = 246.53652707522306\n",
      "MAE = 197.51001123221457\n",
      "MAPE = 0.14187940383394634\n"
     ]
    }
   ],
   "source": [
    "result_metrics = get_metrics(pd.concat([scaled_df_train_0[target], \n",
    "                                        scaled_df_train_1[target]]),\n",
    "                             np.hstack([pred_train_0, pred_train_1]),\n",
    "                              algorithm='segm_kmeans2_regression', dataset_type='train', \n",
    "                              res_df=result_metrics)\n",
    "\n",
    "result_metrics = get_metrics(pd.concat([scaled_df_test_0[target], \n",
    "                                        scaled_df_test_1[target]]),\n",
    "                             np.hstack([pred_test_0, pred_test_1]),\n",
    "                              algorithm='segm_kmeans2_regression', dataset_type='test', \n",
    "                              res_df=result_metrics)"
   ]
  },
  {
   "cell_type": "markdown",
   "metadata": {},
   "source": [
    "## fit k-means 3  clusters on target"
   ]
  },
  {
   "cell_type": "markdown",
   "metadata": {},
   "source": [
    "### clustering"
   ]
  },
  {
   "cell_type": "code",
   "execution_count": 25,
   "metadata": {},
   "outputs": [],
   "source": [
    "kmeans = KMeans(n_clusters=3, random_state=2025)\n",
    "kmeans.fit(scaled_df_train[[target]])\n",
    "\n",
    "scaled_df_train['kmeans'] = kmeans.predict(scaled_df_train[[target]])\n",
    "scaled_df_test['kmeans'] = kmeans.predict(scaled_df_test[[target]])\n",
    "\n",
    "kmeans_data = pd.concat([scaled_df_train, scaled_df_test])"
   ]
  },
  {
   "cell_type": "code",
   "execution_count": 26,
   "metadata": {},
   "outputs": [
    {
     "data": {
      "image/png": "[encoded data removed]",
      "text/plain": [
       "<Figure size 640x480 with 1 Axes>"
      ]
     },
     "metadata": {},
     "output_type": "display_data"
    }
   ],
   "source": [
    "plt.title('target dist')\n",
    "plt.grid(which='major')\n",
    "sns.histplot(data = kmeans_data, x=target, kde=True, hue='kmeans')\n",
    "plt.show()"
   ]
  },
  {
   "cell_type": "markdown",
   "metadata": {},
   "source": [
    "### fit clf"
   ]
  },
  {
   "cell_type": "code",
   "execution_count": 27,
   "metadata": {},
   "outputs": [],
   "source": [
    "clf = cat.CatBoostClassifier(random_state=2025, cat_features=cat_features, verbose=False)\n",
    "clf.fit(scaled_df_train[catboost_features], scaled_df_train[clf_target])\n",
    "\n",
    "clf_pred_train = clf.predict(scaled_df_train[catboost_features])\n",
    "clf_pred_test = clf.predict(scaled_df_test[catboost_features])"
   ]
  },
  {
   "cell_type": "code",
   "execution_count": 28,
   "metadata": {},
   "outputs": [
    {
     "name": "stdout",
     "output_type": "stream",
     "text": [
      "              precision    recall  f1-score   support\n",
      "\n",
      "           0       1.00      1.00      1.00       509\n",
      "           1       1.00      1.00      1.00       579\n",
      "           2       1.00      1.00      1.00       252\n",
      "\n",
      "    accuracy                           1.00      1340\n",
      "   macro avg       1.00      1.00      1.00      1340\n",
      "weighted avg       1.00      1.00      1.00      1340\n",
      "\n"
     ]
    }
   ],
   "source": [
    "print(metrics.classification_report(scaled_df_train[clf_target], clf_pred_train))"
   ]
  },
  {
   "cell_type": "code",
   "execution_count": 29,
   "metadata": {},
   "outputs": [
    {
     "name": "stdout",
     "output_type": "stream",
     "text": [
      "              precision    recall  f1-score   support\n",
      "\n",
      "           0       0.85      0.87      0.86       246\n",
      "           1       0.91      0.93      0.92       283\n",
      "           2       0.97      0.85      0.91       131\n",
      "\n",
      "    accuracy                           0.90       660\n",
      "   macro avg       0.91      0.89      0.90       660\n",
      "weighted avg       0.90      0.90      0.90       660\n",
      "\n"
     ]
    }
   ],
   "source": [
    "print(metrics.classification_report(scaled_df_test[clf_target], clf_pred_test))"
   ]
  },
  {
   "cell_type": "markdown",
   "metadata": {},
   "source": [
    "### fit regression"
   ]
  },
  {
   "cell_type": "code",
   "execution_count": 30,
   "metadata": {},
   "outputs": [],
   "source": [
    "scaled_df_train_0 = scaled_df_train[scaled_df_train[clf_target] == 0]\n",
    "scaled_df_train_1 = scaled_df_train[scaled_df_train[clf_target] == 1]\n",
    "scaled_df_train_2 = scaled_df_train[scaled_df_train[clf_target] == 2]\n",
    "\n",
    "clf_pred_test = clf.predict(scaled_df_test[catboost_features])\n",
    "scaled_df_test['clf_pred'] = clf_pred_test\n",
    "\n",
    "scaled_df_test_0 = scaled_df_test[scaled_df_test['clf_pred'] == 0]\n",
    "scaled_df_test_1 = scaled_df_test[scaled_df_test['clf_pred'] == 1]\n",
    "scaled_df_test_2 = scaled_df_test[scaled_df_test['clf_pred'] == 2]"
   ]
  },
  {
   "cell_type": "code",
   "execution_count": 31,
   "metadata": {},
   "outputs": [
    {
     "name": "stdout",
     "output_type": "stream",
     "text": [
      "train (509, 8) (579, 8) (252, 8)\n",
      "test (253, 9) (291, 9) (116, 9)\n"
     ]
    }
   ],
   "source": [
    "print(\"train\", scaled_df_train_0.shape, scaled_df_train_1.shape, scaled_df_train_2.shape)\n",
    "print(\"test\", scaled_df_test_0.shape, scaled_df_test_1.shape, scaled_df_test_2.shape)"
   ]
  },
  {
   "cell_type": "code",
   "execution_count": 32,
   "metadata": {},
   "outputs": [],
   "source": [
    "lr_0 = HuberRegressor(epsilon=1.35)\n",
    "lr_0.fit(scaled_df_train_0[linear_features], scaled_df_train_0[target])\n",
    "pred_train_0 = lr_0.predict(scaled_df_train_0[linear_features])\n",
    "pred_test_0 = lr_0.predict(scaled_df_test_0[linear_features])\n",
    "\n",
    "lr_1 = HuberRegressor(epsilon=1.35)\n",
    "lr_1.fit(scaled_df_train_1[linear_features], scaled_df_train_1[target])\n",
    "pred_train_1 = lr_1.predict(scaled_df_train_1[linear_features])\n",
    "pred_test_1 = lr_1.predict(scaled_df_test_1[linear_features])\n",
    "\n",
    "lr_2 = HuberRegressor(epsilon=1.35)\n",
    "lr_2.fit(scaled_df_train_2[linear_features], scaled_df_train_2[target])\n",
    "pred_train_2 = lr_2.predict(scaled_df_train_2[linear_features])\n",
    "pred_test_2 = lr_2.predict(scaled_df_test_2[linear_features])"
   ]
  },
  {
   "cell_type": "code",
   "execution_count": 33,
   "metadata": {},
   "outputs": [
    {
     "name": "stdout",
     "output_type": "stream",
     "text": [
      "segm_kmeans3_regression, -- Type Dataset - train\n",
      "R2 = 0.9560537518772197\n",
      "MSE = 42175.71023989277\n",
      "RMSE = 205.36725698098218\n",
      "MAE = 163.8250932222088\n",
      "MAPE = 0.13832100871948677\n",
      "segm_kmeans3_regression, -- Type Dataset - test\n",
      "R2 = 0.936652781120394\n",
      "MSE = 59408.33126909051\n",
      "RMSE = 243.7382433453776\n",
      "MAE = 195.7765957477334\n",
      "MAPE = 0.13299287336289067\n"
     ]
    }
   ],
   "source": [
    "result_metrics = get_metrics(pd.concat([scaled_df_train_0[target], \n",
    "                                        scaled_df_train_1[target],\n",
    "                                        scaled_df_train_2[target]]),\n",
    "                             np.hstack([pred_train_0, pred_train_1, pred_train_2]),\n",
    "                              algorithm='segm_kmeans3_regression', dataset_type='train', \n",
    "                              res_df=result_metrics)\n",
    "\n",
    "result_metrics = get_metrics(pd.concat([scaled_df_test_0[target], \n",
    "                                        scaled_df_test_1[target],\n",
    "                                        scaled_df_test_2[target]]),\n",
    "                             np.hstack([pred_test_0, pred_test_1, pred_test_2]),\n",
    "                              algorithm='segm_kmeans3_regression', dataset_type='test', \n",
    "                              res_df=result_metrics)"
   ]
  },
  {
   "cell_type": "markdown",
   "metadata": {},
   "source": [
    "## fit 2 clusters on features"
   ]
  },
  {
   "cell_type": "markdown",
   "metadata": {},
   "source": [
    "### clustering"
   ]
  },
  {
   "cell_type": "code",
   "execution_count": 34,
   "metadata": {},
   "outputs": [],
   "source": [
    "kmeans = KMeans(n_clusters=2, random_state=2025)\n",
    "kmeans.fit(scaled_df_train[linear_features])\n",
    "\n",
    "scaled_df_train['kmeans'] = kmeans.predict(scaled_df_train[linear_features])\n",
    "scaled_df_test['kmeans'] = kmeans.predict(scaled_df_test[linear_features])\n",
    "\n",
    "kmeans_data = pd.concat([scaled_df_train, scaled_df_test])"
   ]
  },
  {
   "cell_type": "code",
   "execution_count": 35,
   "metadata": {},
   "outputs": [
    {
     "data": {
      "image/png": "[encoded data removed]",
      "text/plain": [
       "<Figure size 640x480 with 1 Axes>"
      ]
     },
     "metadata": {},
     "output_type": "display_data"
    }
   ],
   "source": [
    "plt.title('target dist')\n",
    "plt.grid(which='major')\n",
    "sns.histplot(data = kmeans_data, x=target, kde=True, hue='kmeans')\n",
    "plt.show()"
   ]
  },
  {
   "cell_type": "markdown",
   "metadata": {},
   "source": [
    "### fit clf"
   ]
  },
  {
   "cell_type": "code",
   "execution_count": 36,
   "metadata": {},
   "outputs": [],
   "source": [
    "clf = cat.CatBoostClassifier(random_state=2025, cat_features=cat_features, verbose=False)\n",
    "clf.fit(scaled_df_train[catboost_features], scaled_df_train[clf_target])\n",
    "\n",
    "clf_pred_train = clf.predict(scaled_df_train[catboost_features])\n",
    "clf_pred_test = clf.predict(scaled_df_test[catboost_features])"
   ]
  },
  {
   "cell_type": "code",
   "execution_count": 37,
   "metadata": {},
   "outputs": [
    {
     "name": "stdout",
     "output_type": "stream",
     "text": [
      "              precision    recall  f1-score   support\n",
      "\n",
      "           0       1.00      1.00      1.00       657\n",
      "           1       1.00      1.00      1.00       683\n",
      "\n",
      "    accuracy                           1.00      1340\n",
      "   macro avg       1.00      1.00      1.00      1340\n",
      "weighted avg       1.00      1.00      1.00      1340\n",
      "\n"
     ]
    }
   ],
   "source": [
    "print(metrics.classification_report(scaled_df_train[clf_target], clf_pred_train))"
   ]
  },
  {
   "cell_type": "code",
   "execution_count": 38,
   "metadata": {},
   "outputs": [
    {
     "name": "stdout",
     "output_type": "stream",
     "text": [
      "              precision    recall  f1-score   support\n",
      "\n",
      "           0       0.99      0.98      0.99       332\n",
      "           1       0.98      0.99      0.99       328\n",
      "\n",
      "    accuracy                           0.99       660\n",
      "   macro avg       0.99      0.99      0.99       660\n",
      "weighted avg       0.99      0.99      0.99       660\n",
      "\n"
     ]
    }
   ],
   "source": [
    "print(metrics.classification_report(scaled_df_test[clf_target], clf_pred_test))"
   ]
  },
  {
   "cell_type": "markdown",
   "metadata": {},
   "source": [
    "### fit regression"
   ]
  },
  {
   "cell_type": "code",
   "execution_count": 39,
   "metadata": {},
   "outputs": [],
   "source": [
    "scaled_df_train_0 = scaled_df_train[scaled_df_train[clf_target] == 0]\n",
    "scaled_df_train_1 = scaled_df_train[scaled_df_train[clf_target] == 1]\n",
    "\n",
    "clf_pred_test = clf.predict(scaled_df_test[catboost_features])\n",
    "scaled_df_test['clf_pred'] = clf_pred_test\n",
    "\n",
    "scaled_df_test_0 = scaled_df_test[scaled_df_test['clf_pred'] == 0]\n",
    "scaled_df_test_1 = scaled_df_test[scaled_df_test['clf_pred'] == 1]"
   ]
  },
  {
   "cell_type": "code",
   "execution_count": 40,
   "metadata": {},
   "outputs": [
    {
     "name": "stdout",
     "output_type": "stream",
     "text": [
      "train (657, 8) (683, 8)\n",
      "test (331, 9) (329, 9)\n"
     ]
    }
   ],
   "source": [
    "print(\"train\", scaled_df_train_0.shape, scaled_df_train_1.shape)\n",
    "print(\"test\", scaled_df_test_0.shape, scaled_df_test_1.shape)"
   ]
  },
  {
   "cell_type": "code",
   "execution_count": 41,
   "metadata": {},
   "outputs": [],
   "source": [
    "lr_0 = HuberRegressor(epsilon=1.35)\n",
    "lr_0.fit(scaled_df_train_0[linear_features], scaled_df_train_0[target])\n",
    "pred_train_0 = lr_0.predict(scaled_df_train_0[linear_features])\n",
    "pred_test_0 = lr_0.predict(scaled_df_test_0[linear_features])\n",
    "\n",
    "lr_1 = HuberRegressor(epsilon=1.35)\n",
    "lr_1.fit(scaled_df_train_1[linear_features], scaled_df_train_1[target])\n",
    "pred_train_1 = lr_1.predict(scaled_df_train_1[linear_features])\n",
    "pred_test_1 = lr_1.predict(scaled_df_test_1[linear_features])"
   ]
  },
  {
   "cell_type": "code",
   "execution_count": 42,
   "metadata": {},
   "outputs": [
    {
     "name": "stdout",
     "output_type": "stream",
     "text": [
      "segm_kmeans2onFeatures_regression, -- Type Dataset - train\n",
      "R2 = 0.8923773275990222\n",
      "MSE = 103286.69318356783\n",
      "RMSE = 321.38247180511854\n",
      "MAE = 251.45419958602523\n",
      "MAPE = 0.19671308015819303\n",
      "segm_kmeans2onFeatures_regression, -- Type Dataset - test\n",
      "R2 = 0.8882261848568768\n",
      "MSE = 104823.79423559077\n",
      "RMSE = 323.7650293586242\n",
      "MAE = 255.45229995144248\n",
      "MAPE = 0.19713046584234126\n"
     ]
    }
   ],
   "source": [
    "result_metrics = get_metrics(pd.concat([scaled_df_train_0[target], \n",
    "                                        scaled_df_train_1[target]]),\n",
    "                             np.hstack([pred_train_0, pred_train_1]),\n",
    "                              algorithm='segm_kmeans2onFeatures_regression', \n",
    "                              dataset_type='train', \n",
    "                              res_df=result_metrics)\n",
    "\n",
    "result_metrics = get_metrics(pd.concat([scaled_df_test_0[target], \n",
    "                                        scaled_df_test_1[target]]),\n",
    "                             np.hstack([pred_test_0, pred_test_1]),\n",
    "                              algorithm='segm_kmeans2onFeatures_regression', \n",
    "                              dataset_type='test', \n",
    "                              res_df=result_metrics)"
   ]
  },
  {
   "cell_type": "markdown",
   "metadata": {},
   "source": [
    "## fit 3 clusters on features"
   ]
  },
  {
   "cell_type": "markdown",
   "metadata": {},
   "source": [
    "### clustering"
   ]
  },
  {
   "cell_type": "code",
   "execution_count": 43,
   "metadata": {},
   "outputs": [],
   "source": [
    "kmeans = KMeans(n_clusters=3, random_state=2025)\n",
    "kmeans.fit(scaled_df_train[linear_features])\n",
    "\n",
    "scaled_df_train['kmeans'] = kmeans.predict(scaled_df_train[linear_features])\n",
    "scaled_df_test['kmeans'] = kmeans.predict(scaled_df_test[linear_features])\n",
    "\n",
    "kmeans_data = pd.concat([scaled_df_train, scaled_df_test])"
   ]
  },
  {
   "cell_type": "code",
   "execution_count": 44,
   "metadata": {},
   "outputs": [
    {
     "data": {
      "image/png": "[encoded data removed]",
      "text/plain": [
       "<Figure size 640x480 with 1 Axes>"
      ]
     },
     "metadata": {},
     "output_type": "display_data"
    }
   ],
   "source": [
    "plt.title('target dist')\n",
    "plt.grid(which='major')\n",
    "sns.histplot(data = kmeans_data, x=target, kde=True, hue='kmeans')\n",
    "plt.show()"
   ]
  },
  {
   "cell_type": "markdown",
   "metadata": {},
   "source": [
    "### fit clf"
   ]
  },
  {
   "cell_type": "code",
   "execution_count": 45,
   "metadata": {},
   "outputs": [],
   "source": [
    "clf = cat.CatBoostClassifier(random_state=2025, cat_features=cat_features, verbose=False)\n",
    "clf.fit(scaled_df_train[catboost_features], scaled_df_train[clf_target])\n",
    "\n",
    "clf_pred_train = clf.predict(scaled_df_train[catboost_features])\n",
    "clf_pred_test = clf.predict(scaled_df_test[catboost_features])"
   ]
  },
  {
   "cell_type": "code",
   "execution_count": 46,
   "metadata": {},
   "outputs": [
    {
     "name": "stdout",
     "output_type": "stream",
     "text": [
      "              precision    recall  f1-score   support\n",
      "\n",
      "           0       1.00      1.00      1.00       520\n",
      "           1       1.00      1.00      1.00       401\n",
      "           2       1.00      1.00      1.00       419\n",
      "\n",
      "    accuracy                           1.00      1340\n",
      "   macro avg       1.00      1.00      1.00      1340\n",
      "weighted avg       1.00      1.00      1.00      1340\n",
      "\n"
     ]
    }
   ],
   "source": [
    "print(metrics.classification_report(scaled_df_train[clf_target], clf_pred_train))"
   ]
  },
  {
   "cell_type": "code",
   "execution_count": 47,
   "metadata": {},
   "outputs": [
    {
     "name": "stdout",
     "output_type": "stream",
     "text": [
      "              precision    recall  f1-score   support\n",
      "\n",
      "           0       0.96      0.97      0.97       246\n",
      "           1       0.97      0.96      0.97       200\n",
      "           2       0.96      0.97      0.97       214\n",
      "\n",
      "    accuracy                           0.97       660\n",
      "   macro avg       0.97      0.97      0.97       660\n",
      "weighted avg       0.97      0.97      0.97       660\n",
      "\n"
     ]
    }
   ],
   "source": [
    "print(metrics.classification_report(scaled_df_test[clf_target], clf_pred_test))"
   ]
  },
  {
   "cell_type": "markdown",
   "metadata": {},
   "source": [
    "### fit regression"
   ]
  },
  {
   "cell_type": "code",
   "execution_count": 48,
   "metadata": {},
   "outputs": [],
   "source": [
    "scaled_df_train_0 = scaled_df_train[scaled_df_train[clf_target] == 0]\n",
    "scaled_df_train_1 = scaled_df_train[scaled_df_train[clf_target] == 1]\n",
    "scaled_df_train_2 = scaled_df_train[scaled_df_train[clf_target] == 2]\n",
    "\n",
    "clf_pred_test = clf.predict(scaled_df_test[catboost_features])\n",
    "scaled_df_test['clf_pred'] = clf_pred_test\n",
    "\n",
    "scaled_df_test_0 = scaled_df_test[scaled_df_test['clf_pred'] == 0]\n",
    "scaled_df_test_1 = scaled_df_test[scaled_df_test['clf_pred'] == 1]\n",
    "scaled_df_test_2 = scaled_df_test[scaled_df_test['clf_pred'] == 2]"
   ]
  },
  {
   "cell_type": "code",
   "execution_count": 49,
   "metadata": {},
   "outputs": [
    {
     "name": "stdout",
     "output_type": "stream",
     "text": [
      "train (520, 8) (401, 8) (419, 8)\n",
      "test (247, 9) (198, 9) (215, 9)\n"
     ]
    }
   ],
   "source": [
    "print(\"train\", scaled_df_train_0.shape, scaled_df_train_1.shape, scaled_df_train_2.shape)\n",
    "print(\"test\", scaled_df_test_0.shape, scaled_df_test_1.shape, scaled_df_test_2.shape)"
   ]
  },
  {
   "cell_type": "code",
   "execution_count": 50,
   "metadata": {},
   "outputs": [],
   "source": [
    "lr_0 =HuberRegressor(epsilon=1.35)\n",
    "lr_0.fit(scaled_df_train_0[linear_features], scaled_df_train_0[target])\n",
    "pred_train_0 = lr_0.predict(scaled_df_train_0[linear_features])\n",
    "pred_test_0 = lr_0.predict(scaled_df_test_0[linear_features])\n",
    "\n",
    "lr_1 = HuberRegressor(epsilon=1.35)\n",
    "lr_1.fit(scaled_df_train_1[linear_features], scaled_df_train_1[target])\n",
    "pred_train_1 = lr_1.predict(scaled_df_train_1[linear_features])\n",
    "pred_test_1 = lr_1.predict(scaled_df_test_1[linear_features])\n",
    "\n",
    "lr_2 = HuberRegressor(epsilon=1.35)\n",
    "lr_2.fit(scaled_df_train_2[linear_features], scaled_df_train_2[target])\n",
    "pred_train_2 = lr_2.predict(scaled_df_train_2[linear_features])\n",
    "pred_test_2 = lr_2.predict(scaled_df_test_2[linear_features])"
   ]
  },
  {
   "cell_type": "code",
   "execution_count": 51,
   "metadata": {},
   "outputs": [
    {
     "name": "stdout",
     "output_type": "stream",
     "text": [
      "segm_kmeans3onFeatures_regression, -- Type Dataset - train\n",
      "R2 = 0.8934296649106208\n",
      "MSE = 102276.75319040596\n",
      "RMSE = 319.8073688807154\n",
      "MAE = 250.21772981998558\n",
      "MAPE = 0.19371697671448143\n",
      "segm_kmeans3onFeatures_regression, -- Type Dataset - test\n",
      "R2 = 0.8846491171633881\n",
      "MSE = 108178.44225748132\n",
      "RMSE = 328.90491370224515\n",
      "MAE = 258.33774571573707\n",
      "MAPE = 0.19900500242807784\n"
     ]
    }
   ],
   "source": [
    "result_metrics = get_metrics(pd.concat([scaled_df_train_0[target], \n",
    "                                        scaled_df_train_1[target],\n",
    "                                        scaled_df_train_2[target]]),\n",
    "                             np.hstack([pred_train_0, pred_train_1, pred_train_2]),\n",
    "                              algorithm='segm_kmeans3onFeatures_regression',\n",
    "                               dataset_type='train', \n",
    "                              res_df=result_metrics)\n",
    "\n",
    "result_metrics = get_metrics(pd.concat([scaled_df_test_0[target], \n",
    "                                        scaled_df_test_1[target],\n",
    "                                        scaled_df_test_2[target]]),\n",
    "                             np.hstack([pred_test_0, pred_test_1, pred_test_2]),\n",
    "                              algorithm='segm_kmeans3onFeatures_regression',\n",
    "                               dataset_type='test', \n",
    "                              res_df=result_metrics)"
   ]
  },
  {
   "cell_type": "markdown",
   "metadata": {},
   "source": [
    "# Catboost"
   ]
  },
  {
   "cell_type": "code",
   "execution_count": 52,
   "metadata": {},
   "outputs": [],
   "source": [
    "catboost_features = num_features+cat_features"
   ]
  },
  {
   "cell_type": "code",
   "execution_count": 53,
   "metadata": {},
   "outputs": [
    {
     "name": "stderr",
     "output_type": "stream",
     "text": [
      "/Users/andrejurkinair/Documents/diploma_practice/.venv/lib/python3.11/site-packages/tqdm/auto.py:21: TqdmWarning: IProgress not found. Please update jupyter and ipywidgets. See https://ipywidgets.readthedocs.io/en/stable/user_install.html\n",
      "  from .autonotebook import tqdm as notebook_tqdm\n",
      "[I 2025-04-23 22:58:35,963] A new study created in memory with name: no-name-2d56c5b2-ec17-42e6-bc5d-b8ebffbd658b\n",
      "[I 2025-04-23 22:58:36,742] Trial 0 finished with value: 311.89381698511005 and parameters: {'iterations': 1346, 'learning_rate': 0.001658553865791785, 'l2_leaf_reg': 2.2785656934798575, 'random_strength': 3.252430415694398, 'bagging_temperature': 4.227421630372728, 'border_count': 73, 'min_data_in_leaf': 27, 'leaf_estimation_iterations': 13, 'grow_policy': 'SymmetricTree', 'od_type': 'Iter', 'od_wait': 30, 'one_hot_max_size': 142}. Best is trial 0 with value: 311.89381698511005.\n",
      "[I 2025-04-23 22:58:37,139] Trial 1 finished with value: 215.7138895747778 and parameters: {'iterations': 921, 'learning_rate': 0.10327962017218438, 'l2_leaf_reg': 0.03286074905160812, 'random_strength': 0.3410951221998543, 'bagging_temperature': 5.138544032095402, 'border_count': 90, 'min_data_in_leaf': 40, 'leaf_estimation_iterations': 2, 'grow_policy': 'SymmetricTree', 'od_type': 'IncToDec', 'od_wait': 46, 'one_hot_max_size': 93}. Best is trial 1 with value: 215.7138895747778.\n",
      "[I 2025-04-23 22:58:37,383] Trial 2 finished with value: 223.73445786297697 and parameters: {'iterations': 1918, 'learning_rate': 0.01726382330322388, 'l2_leaf_reg': 0.09082919586845083, 'random_strength': 0.04441575390585676, 'bagging_temperature': 2.142028936821756, 'border_count': 88, 'min_data_in_leaf': 31, 'leaf_estimation_iterations': 3, 'grow_policy': 'Lossguide', 'od_type': 'Iter', 'od_wait': 22, 'one_hot_max_size': 47, 'max_leaves': 11}. Best is trial 1 with value: 215.7138895747778.\n",
      "[I 2025-04-23 22:58:38,247] Trial 3 finished with value: 218.66068953597645 and parameters: {'iterations': 1517, 'learning_rate': 0.002803833258736892, 'l2_leaf_reg': 0.3286191637472329, 'random_strength': 0.002425561910952702, 'bagging_temperature': 9.236884258515756, 'border_count': 148, 'min_data_in_leaf': 6, 'leaf_estimation_iterations': 8, 'grow_policy': 'SymmetricTree', 'od_type': 'Iter', 'od_wait': 10, 'one_hot_max_size': 152}. Best is trial 1 with value: 215.7138895747778.\n",
      "[I 2025-04-23 22:58:38,365] Trial 4 finished with value: 395.2703272638499 and parameters: {'iterations': 226, 'learning_rate': 0.005443594858167452, 'l2_leaf_reg': 0.07820015422136935, 'random_strength': 0.06747991162793586, 'bagging_temperature': 0.2293739977053011, 'border_count': 171, 'min_data_in_leaf': 91, 'leaf_estimation_iterations': 1, 'grow_policy': 'SymmetricTree', 'od_type': 'IncToDec', 'od_wait': 49, 'one_hot_max_size': 250}. Best is trial 1 with value: 215.7138895747778.\n",
      "[I 2025-04-23 22:58:39,087] Trial 5 finished with value: 217.3163230375723 and parameters: {'iterations': 1346, 'learning_rate': 0.003558821865562039, 'l2_leaf_reg': 0.12717255203022562, 'random_strength': 0.03219744743310732, 'bagging_temperature': 3.1962924856632293, 'border_count': 157, 'min_data_in_leaf': 86, 'leaf_estimation_iterations': 5, 'grow_policy': 'SymmetricTree', 'od_type': 'Iter', 'od_wait': 26, 'one_hot_max_size': 144}. Best is trial 1 with value: 215.7138895747778.\n",
      "[I 2025-04-23 22:58:39,179] Trial 6 finished with value: 238.2192768548912 and parameters: {'iterations': 1958, 'learning_rate': 0.20927341887728573, 'l2_leaf_reg': 1.7887417301807098, 'random_strength': 6.560260142473809, 'bagging_temperature': 9.223484046026332, 'border_count': 57, 'min_data_in_leaf': 69, 'leaf_estimation_iterations': 6, 'grow_policy': 'Lossguide', 'od_type': 'Iter', 'od_wait': 42, 'one_hot_max_size': 14, 'max_leaves': 35}. Best is trial 1 with value: 215.7138895747778.\n",
      "[I 2025-04-23 22:58:39,755] Trial 7 finished with value: 443.4375690988311 and parameters: {'iterations': 1099, 'learning_rate': 0.0014938459954341675, 'l2_leaf_reg': 3.7918803910538923, 'random_strength': 5.110993462983103, 'bagging_temperature': 0.1363411502456724, 'border_count': 88, 'min_data_in_leaf': 21, 'leaf_estimation_iterations': 2, 'grow_policy': 'Depthwise', 'od_type': 'IncToDec', 'od_wait': 29, 'one_hot_max_size': 208, 'max_depth': 4}. Best is trial 1 with value: 215.7138895747778.\n",
      "[I 2025-04-23 22:58:39,861] Trial 8 finished with value: 226.54469480167072 and parameters: {'iterations': 448, 'learning_rate': 0.021819213667185734, 'l2_leaf_reg': 1.1953270194638241, 'random_strength': 0.04184956943628197, 'bagging_temperature': 0.3932886929304036, 'border_count': 51, 'min_data_in_leaf': 97, 'leaf_estimation_iterations': 2, 'grow_policy': 'Depthwise', 'od_type': 'Iter', 'od_wait': 38, 'one_hot_max_size': 117, 'max_depth': 2}. Best is trial 1 with value: 215.7138895747778.\n",
      "[I 2025-04-23 22:58:39,979] Trial 9 finished with value: 219.56690506138645 and parameters: {'iterations': 1719, 'learning_rate': 0.04520073109102696, 'l2_leaf_reg': 0.026012613677840003, 'random_strength': 0.044897270251792146, 'bagging_temperature': 7.456149264743442, 'border_count': 152, 'min_data_in_leaf': 81, 'leaf_estimation_iterations': 7, 'grow_policy': 'Lossguide', 'od_type': 'Iter', 'od_wait': 22, 'one_hot_max_size': 247, 'max_leaves': 20}. Best is trial 1 with value: 215.7138895747778.\n",
      "[I 2025-04-23 22:58:40,437] Trial 10 finished with value: 221.18014644267603 and parameters: {'iterations': 746, 'learning_rate': 0.20266035288028536, 'l2_leaf_reg': 0.0017919724626481825, 'random_strength': 0.708248413073488, 'bagging_temperature': 6.233596687642447, 'border_count': 232, 'min_data_in_leaf': 54, 'leaf_estimation_iterations': 11, 'grow_policy': 'SymmetricTree', 'od_type': 'IncToDec', 'od_wait': 50, 'one_hot_max_size': 75}. Best is trial 1 with value: 215.7138895747778.\n",
      "[I 2025-04-23 22:58:40,983] Trial 11 finished with value: 221.26810397528646 and parameters: {'iterations': 989, 'learning_rate': 0.0712895187129148, 'l2_leaf_reg': 0.009459094283017434, 'random_strength': 0.004265343191497945, 'bagging_temperature': 3.832616739289218, 'border_count': 202, 'min_data_in_leaf': 51, 'leaf_estimation_iterations': 5, 'grow_policy': 'SymmetricTree', 'od_type': 'IncToDec', 'od_wait': 37, 'one_hot_max_size': 95}. Best is trial 1 with value: 215.7138895747778.\n",
      "[I 2025-04-23 22:58:41,410] Trial 12 finished with value: 212.7929732255395 and parameters: {'iterations': 866, 'learning_rate': 0.007455923858872809, 'l2_leaf_reg': 0.015102446566214994, 'random_strength': 0.5308427184426656, 'bagging_temperature': 2.739609005768158, 'border_count': 115, 'min_data_in_leaf': 69, 'leaf_estimation_iterations': 4, 'grow_policy': 'SymmetricTree', 'od_type': 'IncToDec', 'od_wait': 21, 'one_hot_max_size': 169}. Best is trial 12 with value: 212.7929732255395.\n",
      "[I 2025-04-23 22:58:41,760] Trial 13 finished with value: 214.27603882182117 and parameters: {'iterations': 705, 'learning_rate': 0.008147570945295897, 'l2_leaf_reg': 0.005792776571034041, 'random_strength': 0.40065668541556126, 'bagging_temperature': 6.149270331976242, 'border_count': 117, 'min_data_in_leaf': 68, 'leaf_estimation_iterations': 4, 'grow_policy': 'SymmetricTree', 'od_type': 'IncToDec', 'od_wait': 11, 'one_hot_max_size': 187}. Best is trial 12 with value: 212.7929732255395.\n",
      "[I 2025-04-23 22:58:42,076] Trial 14 finished with value: 215.68005404901197 and parameters: {'iterations': 583, 'learning_rate': 0.008556394309225803, 'l2_leaf_reg': 0.0025099007108734697, 'random_strength': 0.535248874337651, 'bagging_temperature': 6.7838760707107575, 'border_count': 123, 'min_data_in_leaf': 67, 'leaf_estimation_iterations': 10, 'grow_policy': 'SymmetricTree', 'od_type': 'IncToDec', 'od_wait': 10, 'one_hot_max_size': 195}. Best is trial 12 with value: 212.7929732255395.\n",
      "[I 2025-04-23 22:58:42,293] Trial 15 finished with value: 260.2120953301869 and parameters: {'iterations': 202, 'learning_rate': 0.012994052039827633, 'l2_leaf_reg': 0.006729595778070257, 'random_strength': 1.4296530735247426, 'bagging_temperature': 2.6642841894635483, 'border_count': 117, 'min_data_in_leaf': 67, 'leaf_estimation_iterations': 5, 'grow_policy': 'Depthwise', 'od_type': 'IncToDec', 'od_wait': 16, 'one_hot_max_size': 186, 'max_depth': 11}. Best is trial 12 with value: 212.7929732255395.\n",
      "[I 2025-04-23 22:58:42,724] Trial 16 finished with value: 213.373522559744 and parameters: {'iterations': 719, 'learning_rate': 0.034755823907902716, 'l2_leaf_reg': 0.001050875675177316, 'random_strength': 0.19029279464341933, 'bagging_temperature': 5.117508945799082, 'border_count': 123, 'min_data_in_leaf': 76, 'leaf_estimation_iterations': 15, 'grow_policy': 'SymmetricTree', 'od_type': 'IncToDec', 'od_wait': 16, 'one_hot_max_size': 177}. Best is trial 12 with value: 212.7929732255395.\n",
      "[I 2025-04-23 22:58:42,953] Trial 17 finished with value: 219.00645959383115 and parameters: {'iterations': 424, 'learning_rate': 0.020967772976563777, 'l2_leaf_reg': 0.0011486980333991431, 'random_strength': 0.011333537491517926, 'bagging_temperature': 2.164628925220571, 'border_count': 33, 'min_data_in_leaf': 78, 'leaf_estimation_iterations': 15, 'grow_policy': 'SymmetricTree', 'od_type': 'IncToDec', 'od_wait': 19, 'one_hot_max_size': 215}. Best is trial 12 with value: 212.7929732255395.\n",
      "[I 2025-04-23 22:58:43,801] Trial 18 finished with value: 224.14209616837726 and parameters: {'iterations': 1134, 'learning_rate': 0.058208050241221096, 'l2_leaf_reg': 0.02006131578465086, 'random_strength': 0.11790807272375506, 'bagging_temperature': 4.934007743044849, 'border_count': 183, 'min_data_in_leaf': 57, 'leaf_estimation_iterations': 9, 'grow_policy': 'Lossguide', 'od_type': 'IncToDec', 'od_wait': 17, 'one_hot_max_size': 166, 'max_leaves': 64}. Best is trial 12 with value: 212.7929732255395.\n",
      "[I 2025-04-23 22:58:44,969] Trial 19 finished with value: 219.1770860166457 and parameters: {'iterations': 765, 'learning_rate': 0.03419306563163372, 'l2_leaf_reg': 0.3925194037272196, 'random_strength': 0.17174419970779345, 'bagging_temperature': 1.490698302834501, 'border_count': 129, 'min_data_in_leaf': 41, 'leaf_estimation_iterations': 15, 'grow_policy': 'Depthwise', 'od_type': 'IncToDec', 'od_wait': 15, 'one_hot_max_size': 226, 'max_depth': 12}. Best is trial 12 with value: 212.7929732255395.\n",
      "[I 2025-04-23 22:58:45,782] Trial 20 finished with value: 216.87782014177975 and parameters: {'iterations': 1243, 'learning_rate': 0.03234818948725986, 'l2_leaf_reg': 0.0031883896036947546, 'random_strength': 1.7526212871673363, 'bagging_temperature': 7.935255152218382, 'border_count': 254, 'min_data_in_leaf': 99, 'leaf_estimation_iterations': 13, 'grow_policy': 'SymmetricTree', 'od_type': 'IncToDec', 'od_wait': 25, 'one_hot_max_size': 116}. Best is trial 12 with value: 212.7929732255395.\n",
      "[I 2025-04-23 22:58:46,150] Trial 21 finished with value: 213.8955092745421 and parameters: {'iterations': 777, 'learning_rate': 0.00828269975334692, 'l2_leaf_reg': 0.006600361845104661, 'random_strength': 0.23911537092433796, 'bagging_temperature': 5.798413571916318, 'border_count': 111, 'min_data_in_leaf': 74, 'leaf_estimation_iterations': 4, 'grow_policy': 'SymmetricTree', 'od_type': 'IncToDec', 'od_wait': 13, 'one_hot_max_size': 178}. Best is trial 12 with value: 212.7929732255395.\n",
      "[I 2025-04-23 22:58:46,583] Trial 22 finished with value: 214.53213905369884 and parameters: {'iterations': 880, 'learning_rate': 0.009526768533138778, 'l2_leaf_reg': 0.012030321896275656, 'random_strength': 0.20069871549825266, 'bagging_temperature': 5.291351516652565, 'border_count': 105, 'min_data_in_leaf': 76, 'leaf_estimation_iterations': 7, 'grow_policy': 'SymmetricTree', 'od_type': 'IncToDec', 'od_wait': 14, 'one_hot_max_size': 172}. Best is trial 12 with value: 212.7929732255395.\n",
      "[I 2025-04-23 22:58:46,855] Trial 23 finished with value: 242.8191170024104 and parameters: {'iterations': 540, 'learning_rate': 0.00468148772540922, 'l2_leaf_reg': 0.0036546496826805573, 'random_strength': 0.01775861595869597, 'bagging_temperature': 3.893530933381113, 'border_count': 140, 'min_data_in_leaf': 60, 'leaf_estimation_iterations': 4, 'grow_policy': 'SymmetricTree', 'od_type': 'IncToDec', 'od_wait': 20, 'one_hot_max_size': 166}. Best is trial 12 with value: 212.7929732255395.\n",
      "[I 2025-04-23 22:58:47,307] Trial 24 finished with value: 313.3773837701556 and parameters: {'iterations': 845, 'learning_rate': 0.002281506727438863, 'l2_leaf_reg': 0.0010020376092734205, 'random_strength': 1.1737716870944312, 'bagging_temperature': 5.867911505025556, 'border_count': 109, 'min_data_in_leaf': 87, 'leaf_estimation_iterations': 11, 'grow_policy': 'SymmetricTree', 'od_type': 'IncToDec', 'od_wait': 14, 'one_hot_max_size': 129}. Best is trial 12 with value: 212.7929732255395.\n",
      "[I 2025-04-23 22:58:47,692] Trial 25 finished with value: 216.96291692465718 and parameters: {'iterations': 631, 'learning_rate': 0.0062769524646809505, 'l2_leaf_reg': 0.051784790912499754, 'random_strength': 0.24064906767912816, 'bagging_temperature': 4.527405310460296, 'border_count': 179, 'min_data_in_leaf': 75, 'leaf_estimation_iterations': 8, 'grow_policy': 'SymmetricTree', 'od_type': 'IncToDec', 'od_wait': 25, 'one_hot_max_size': 235}. Best is trial 12 with value: 212.7929732255395.\n",
      "[I 2025-04-23 22:58:47,909] Trial 26 finished with value: 217.50258719986903 and parameters: {'iterations': 372, 'learning_rate': 0.013214585370842242, 'l2_leaf_reg': 0.011314993815868894, 'random_strength': 0.10083225051828387, 'bagging_temperature': 3.350737553894791, 'border_count': 99, 'min_data_in_leaf': 46, 'leaf_estimation_iterations': 13, 'grow_policy': 'SymmetricTree', 'od_type': 'IncToDec', 'od_wait': 19, 'one_hot_max_size': 202}. Best is trial 12 with value: 212.7929732255395.\n",
      "[I 2025-04-23 22:58:48,402] Trial 27 finished with value: 468.4447385129983 and parameters: {'iterations': 1027, 'learning_rate': 0.0010344251017075777, 'l2_leaf_reg': 0.004673343053814333, 'random_strength': 0.8025159953033093, 'bagging_temperature': 8.078601747949604, 'border_count': 136, 'min_data_in_leaf': 62, 'leaf_estimation_iterations': 4, 'grow_policy': 'SymmetricTree', 'od_type': 'IncToDec', 'od_wait': 34, 'one_hot_max_size': 171}. Best is trial 12 with value: 212.7929732255395.\n",
      "[I 2025-04-23 22:58:48,617] Trial 28 finished with value: 230.69636180767586 and parameters: {'iterations': 335, 'learning_rate': 0.11394716149981568, 'l2_leaf_reg': 0.0016604824691692508, 'random_strength': 2.400788838158407, 'bagging_temperature': 7.12976385778074, 'border_count': 73, 'min_data_in_leaf': 83, 'leaf_estimation_iterations': 1, 'grow_policy': 'Depthwise', 'od_type': 'IncToDec', 'od_wait': 13, 'one_hot_max_size': 154, 'max_depth': 7}. Best is trial 12 with value: 212.7929732255395.\n",
      "[I 2025-04-23 22:58:49,455] Trial 29 finished with value: 223.564084448855 and parameters: {'iterations': 1226, 'learning_rate': 0.02454316844951966, 'l2_leaf_reg': 0.01297172417066735, 'random_strength': 9.591233518737818, 'bagging_temperature': 4.334082066250771, 'border_count': 70, 'min_data_in_leaf': 73, 'leaf_estimation_iterations': 12, 'grow_policy': 'Lossguide', 'od_type': 'IncToDec', 'od_wait': 29, 'one_hot_max_size': 137, 'max_leaves': 60}. Best is trial 12 with value: 212.7929732255395.\n",
      "[I 2025-04-23 22:58:49,828] Trial 30 finished with value: 217.63513832049728 and parameters: {'iterations': 656, 'learning_rate': 0.013272445262420898, 'l2_leaf_reg': 0.00227948303564791, 'random_strength': 3.353496850906521, 'bagging_temperature': 1.2716480610278253, 'border_count': 167, 'min_data_in_leaf': 92, 'leaf_estimation_iterations': 7, 'grow_policy': 'SymmetricTree', 'od_type': 'IncToDec', 'od_wait': 22, 'one_hot_max_size': 221}. Best is trial 12 with value: 212.7929732255395.\n",
      "[I 2025-04-23 22:58:50,174] Trial 31 finished with value: 214.01657588912735 and parameters: {'iterations': 723, 'learning_rate': 0.008014969461073374, 'l2_leaf_reg': 0.005113061760157789, 'random_strength': 0.48681910532398476, 'bagging_temperature': 6.164835486717873, 'border_count': 119, 'min_data_in_leaf': 64, 'leaf_estimation_iterations': 4, 'grow_policy': 'SymmetricTree', 'od_type': 'IncToDec', 'od_wait': 12, 'one_hot_max_size': 185}. Best is trial 12 with value: 212.7929732255395.\n",
      "[I 2025-04-23 22:58:50,574] Trial 32 finished with value: 223.57758615699586 and parameters: {'iterations': 852, 'learning_rate': 0.003934302032790611, 'l2_leaf_reg': 0.020024432704648865, 'random_strength': 0.3540730435464778, 'bagging_temperature': 5.552196569850931, 'border_count': 128, 'min_data_in_leaf': 62, 'leaf_estimation_iterations': 3, 'grow_policy': 'SymmetricTree', 'od_type': 'IncToDec', 'od_wait': 17, 'one_hot_max_size': 183}. Best is trial 12 with value: 212.7929732255395.\n",
      "[I 2025-04-23 22:58:50,996] Trial 33 finished with value: 216.04933071244596 and parameters: {'iterations': 950, 'learning_rate': 0.007518007918750624, 'l2_leaf_reg': 0.03894248449076605, 'random_strength': 0.9142011846435973, 'bagging_temperature': 4.853161317303142, 'border_count': 100, 'min_data_in_leaf': 73, 'leaf_estimation_iterations': 3, 'grow_policy': 'SymmetricTree', 'od_type': 'IncToDec', 'od_wait': 12, 'one_hot_max_size': 155}. Best is trial 12 with value: 212.7929732255395.\n",
      "[I 2025-04-23 22:58:51,240] Trial 34 finished with value: 215.60198120159896 and parameters: {'iterations': 498, 'learning_rate': 0.012364323446300196, 'l2_leaf_reg': 0.00632757271035527, 'random_strength': 0.2458286324170864, 'bagging_temperature': 6.353532119779795, 'border_count': 88, 'min_data_in_leaf': 43, 'leaf_estimation_iterations': 6, 'grow_policy': 'SymmetricTree', 'od_type': 'IncToDec', 'od_wait': 18, 'one_hot_max_size': 194}. Best is trial 12 with value: 212.7929732255395.\n",
      "[I 2025-04-23 22:58:51,656] Trial 35 finished with value: 264.576632773101 and parameters: {'iterations': 799, 'learning_rate': 0.0026627718909394867, 'l2_leaf_reg': 0.18175945760977852, 'random_strength': 0.1378349770277958, 'bagging_temperature': 5.470482309890795, 'border_count': 138, 'min_data_in_leaf': 31, 'leaf_estimation_iterations': 6, 'grow_policy': 'SymmetricTree', 'od_type': 'Iter', 'od_wait': 22, 'one_hot_max_size': 177}. Best is trial 12 with value: 212.7929732255395.\n",
      "[I 2025-04-23 22:58:52,235] Trial 36 finished with value: 215.84145217229974 and parameters: {'iterations': 1469, 'learning_rate': 0.017581149595397128, 'l2_leaf_reg': 0.0015403464919109692, 'random_strength': 0.0736799385064131, 'bagging_temperature': 6.743555437208698, 'border_count': 75, 'min_data_in_leaf': 64, 'leaf_estimation_iterations': 2, 'grow_policy': 'SymmetricTree', 'od_type': 'IncToDec', 'od_wait': 12, 'one_hot_max_size': 147}. Best is trial 12 with value: 212.7929732255395.\n",
      "[I 2025-04-23 22:58:52,666] Trial 37 finished with value: 216.31383225966553 and parameters: {'iterations': 934, 'learning_rate': 0.005548672731139193, 'l2_leaf_reg': 0.003286347099658499, 'random_strength': 0.5549489064692007, 'bagging_temperature': 8.61835261583754, 'border_count': 110, 'min_data_in_leaf': 90, 'leaf_estimation_iterations': 4, 'grow_policy': 'SymmetricTree', 'od_type': 'Iter', 'od_wait': 15, 'one_hot_max_size': 206}. Best is trial 12 with value: 212.7929732255395.\n",
      "[I 2025-04-23 22:58:52,916] Trial 38 finished with value: 466.2490006194234 and parameters: {'iterations': 297, 'learning_rate': 0.003438296456526333, 'l2_leaf_reg': 0.06726949266982496, 'random_strength': 0.355505678797418, 'bagging_temperature': 3.200080764636304, 'border_count': 146, 'min_data_in_leaf': 81, 'leaf_estimation_iterations': 3, 'grow_policy': 'Lossguide', 'od_type': 'IncToDec', 'od_wait': 27, 'one_hot_max_size': 108, 'max_leaves': 41}. Best is trial 12 with value: 212.7929732255395.\n",
      "[I 2025-04-23 22:58:53,283] Trial 39 finished with value: 216.728583547269 and parameters: {'iterations': 664, 'learning_rate': 0.03285047785530149, 'l2_leaf_reg': 0.008878716960983468, 'random_strength': 0.07008452790679366, 'bagging_temperature': 3.770555546681339, 'border_count': 96, 'min_data_in_leaf': 56, 'leaf_estimation_iterations': 14, 'grow_policy': 'SymmetricTree', 'od_type': 'IncToDec', 'od_wait': 10, 'one_hot_max_size': 160}. Best is trial 12 with value: 212.7929732255395.\n",
      "[I 2025-04-23 22:58:53,909] Trial 40 finished with value: 266.05582391719634 and parameters: {'iterations': 1146, 'learning_rate': 0.0018627952054108131, 'l2_leaf_reg': 0.020639716858540682, 'random_strength': 0.020801955503681375, 'bagging_temperature': 2.528699931742875, 'border_count': 197, 'min_data_in_leaf': 71, 'leaf_estimation_iterations': 5, 'grow_policy': 'SymmetricTree', 'od_type': 'Iter', 'od_wait': 32, 'one_hot_max_size': 133}. Best is trial 12 with value: 212.7929732255395.\n",
      "[I 2025-04-23 22:58:53,988] Trial 41 finished with value: 431.23063239203486 and parameters: {'iterations': 117, 'learning_rate': 0.009732743092986917, 'l2_leaf_reg': 0.0051067778978307965, 'random_strength': 0.44210491446156136, 'bagging_temperature': 6.085459537111946, 'border_count': 118, 'min_data_in_leaf': 69, 'leaf_estimation_iterations': 4, 'grow_policy': 'SymmetricTree', 'od_type': 'IncToDec', 'od_wait': 10, 'one_hot_max_size': 181}. Best is trial 12 with value: 212.7929732255395.\n",
      "[I 2025-04-23 22:58:54,347] Trial 42 finished with value: 214.9139591741086 and parameters: {'iterations': 700, 'learning_rate': 0.006513979781189992, 'l2_leaf_reg': 0.006371951161264695, 'random_strength': 0.27884021448734425, 'bagging_temperature': 5.7562168750649825, 'border_count': 156, 'min_data_in_leaf': 12, 'leaf_estimation_iterations': 5, 'grow_policy': 'SymmetricTree', 'od_type': 'IncToDec', 'od_wait': 12, 'one_hot_max_size': 198}. Best is trial 12 with value: 212.7929732255395.\n",
      "[I 2025-04-23 22:58:54,667] Trial 43 finished with value: 218.54452382551773 and parameters: {'iterations': 761, 'learning_rate': 0.01001579207470584, 'l2_leaf_reg': 9.728287485897223, 'random_strength': 0.5916150954573763, 'bagging_temperature': 6.49541885911086, 'border_count': 112, 'min_data_in_leaf': 49, 'leaf_estimation_iterations': 1, 'grow_policy': 'SymmetricTree', 'od_type': 'IncToDec', 'od_wait': 21, 'one_hot_max_size': 235}. Best is trial 12 with value: 212.7929732255395.\n",
      "[I 2025-04-23 22:58:54,971] Trial 44 finished with value: 288.5261341541777 and parameters: {'iterations': 553, 'learning_rate': 0.004302130129841828, 'l2_leaf_reg': 0.03717406204341828, 'random_strength': 2.3634567374635367, 'bagging_temperature': 7.321021831747066, 'border_count': 128, 'min_data_in_leaf': 80, 'leaf_estimation_iterations': 9, 'grow_policy': 'SymmetricTree', 'od_type': 'IncToDec', 'od_wait': 16, 'one_hot_max_size': 19}. Best is trial 12 with value: 212.7929732255395.\n",
      "[I 2025-04-23 22:58:55,837] Trial 45 finished with value: 218.70556305407732 and parameters: {'iterations': 1058, 'learning_rate': 0.007675352905390014, 'l2_leaf_reg': 0.015977770688378832, 'random_strength': 0.14451274102040018, 'bagging_temperature': 4.894676411235343, 'border_count': 86, 'min_data_in_leaf': 65, 'leaf_estimation_iterations': 6, 'grow_policy': 'Depthwise', 'od_type': 'IncToDec', 'od_wait': 12, 'one_hot_max_size': 187, 'max_depth': 8}. Best is trial 12 with value: 212.7929732255395.\n",
      "[I 2025-04-23 22:58:56,065] Trial 46 finished with value: 214.20382247772054 and parameters: {'iterations': 909, 'learning_rate': 0.01930326610670978, 'l2_leaf_reg': 0.0024780793607040805, 'random_strength': 0.9660466776864269, 'bagging_temperature': 6.952569043826217, 'border_count': 120, 'min_data_in_leaf': 70, 'leaf_estimation_iterations': 2, 'grow_policy': 'SymmetricTree', 'od_type': 'Iter', 'od_wait': 44, 'one_hot_max_size': 213}. Best is trial 12 with value: 212.7929732255395.\n",
      "[I 2025-04-23 22:58:56,388] Trial 47 finished with value: 218.7231793493591 and parameters: {'iterations': 1839, 'learning_rate': 0.016606293581420902, 'l2_leaf_reg': 0.002094621826391728, 'random_strength': 1.0972463856840384, 'bagging_temperature': 8.142852261919742, 'border_count': 83, 'min_data_in_leaf': 85, 'leaf_estimation_iterations': 2, 'grow_policy': 'Lossguide', 'od_type': 'Iter', 'od_wait': 45, 'one_hot_max_size': 208, 'max_leaves': 47}. Best is trial 12 with value: 212.7929732255395.\n",
      "[I 2025-04-23 22:58:56,497] Trial 48 finished with value: 220.5091822631847 and parameters: {'iterations': 946, 'learning_rate': 0.05471707563645279, 'l2_leaf_reg': 0.0011560719945798818, 'random_strength': 4.512353047709416, 'bagging_temperature': 9.88725718828827, 'border_count': 63, 'min_data_in_leaf': 77, 'leaf_estimation_iterations': 1, 'grow_policy': 'SymmetricTree', 'od_type': 'Iter', 'od_wait': 40, 'one_hot_max_size': 233}. Best is trial 12 with value: 212.7929732255395.\n",
      "[I 2025-04-23 22:58:56,664] Trial 49 finished with value: 217.26103252189955 and parameters: {'iterations': 826, 'learning_rate': 0.02545114755818928, 'l2_leaf_reg': 0.0037836516222027453, 'random_strength': 0.044040649560660665, 'bagging_temperature': 6.960297849488392, 'border_count': 131, 'min_data_in_leaf': 58, 'leaf_estimation_iterations': 2, 'grow_policy': 'SymmetricTree', 'od_type': 'Iter', 'od_wait': 43, 'one_hot_max_size': 247}. Best is trial 12 with value: 212.7929732255395.\n"
     ]
    }
   ],
   "source": [
    "import optuna\n",
    "from catboost import CatBoostRegressor\n",
    "from sklearn.metrics import mean_squared_error, r2_score\n",
    "\n",
    "def objective(trial, X, y):\n",
    "    # Разделение данных на train и validation\n",
    "    X_train, X_val, y_train, y_val = train_test_split(X, y, test_size=0.2, random_state=2025)\n",
    "    \n",
    "    # Параметры для перебора\n",
    "    params = {\n",
    "        'iterations': trial.suggest_int('iterations', 100, 2000),\n",
    "        'learning_rate': trial.suggest_float('learning_rate', 1e-3, 0.3, log=True),\n",
    "        'l2_leaf_reg': trial.suggest_float('l2_leaf_reg', 1e-3, 10.0, log=True),\n",
    "        'random_strength': trial.suggest_float('random_strength', 1e-3, 10, log=True),\n",
    "        'bagging_temperature': trial.suggest_float('bagging_temperature', 0.0, 10.0),\n",
    "        'border_count': trial.suggest_int('border_count', 32, 255),\n",
    "        'min_data_in_leaf': trial.suggest_int('min_data_in_leaf', 1, 100),\n",
    "        'leaf_estimation_iterations': trial.suggest_int('leaf_estimation_iterations', 1, 15),\n",
    "        'grow_policy': trial.suggest_categorical('grow_policy', ['SymmetricTree', 'Depthwise', 'Lossguide']),\n",
    "        'boosting_type': 'Plain',\n",
    "        'od_type': trial.suggest_categorical('od_type', ['IncToDec', 'Iter']),\n",
    "        'od_wait': trial.suggest_int('od_wait', 10, 50),\n",
    "        'one_hot_max_size': trial.suggest_int('one_hot_max_size', 2, 255),\n",
    "        'eval_metric': 'RMSE',  # Метрика для регрессии\n",
    "        'loss_function': 'RMSE',  # Функция потерь\n",
    "        'task_type': 'CPU',\n",
    "        'verbose': False,\n",
    "        'random_state': 2025,\n",
    "    }\n",
    "    \n",
    "    # Параметры глубины\n",
    "    if params['grow_policy'] == 'Lossguide':\n",
    "        params['max_leaves'] = trial.suggest_int('max_leaves', 4, 64)\n",
    "    elif params['grow_policy'] == 'Depthwise':\n",
    "        params['max_depth'] = trial.suggest_int('max_depth', 2, 12)\n",
    "    \n",
    "    # Указание категориальных признаков (если есть)\n",
    "    if cat_features:\n",
    "        params['cat_features'] = cat_features\n",
    "    \n",
    "    # Создание и обучение модели\n",
    "    model = CatBoostRegressor(**params)\n",
    "    model.fit(\n",
    "        X_train, y_train,\n",
    "        eval_set=(X_val, y_val),\n",
    "        verbose=0\n",
    "    )\n",
    "    \n",
    "    # Предсказание на валидации\n",
    "    y_pred = model.predict(X_val)\n",
    "    \n",
    "    # Метрика качества (можно выбрать другую)\n",
    "    rmse = metrics.mean_squared_error(y_val, y_pred)**0.5\n",
    "    # Или можно использовать R2: return r2_score(y_val, y_pred)\n",
    "    return rmse\n",
    "\n",
    "# Пример использования:\n",
    "study = optuna.create_study(direction='minimize')  # Для RMSE минимизируем\n",
    "study.optimize(lambda trial: objective(trial, \n",
    "                                     scaled_df_train[catboost_features], \n",
    "                                     scaled_df_train[target]), \n",
    "                                     n_trials=50)\n",
    "best_params = study.best_params"
   ]
  },
  {
   "cell_type": "code",
   "execution_count": 54,
   "metadata": {},
   "outputs": [
    {
     "data": {
      "text/plain": [
       "<catboost.core.CatBoostRegressor at 0x17b7b3d50>"
      ]
     },
     "execution_count": 54,
     "metadata": {},
     "output_type": "execute_result"
    }
   ],
   "source": [
    "cat_model = cat.CatBoostRegressor(**best_params, cat_features = cat_features, verbose = False,\n",
    "        random_state= 2025, boosting_type='Plain')\n",
    "cat_model.fit(df_train[catboost_features], df_train[target])"
   ]
  },
  {
   "cell_type": "code",
   "execution_count": 55,
   "metadata": {},
   "outputs": [],
   "source": [
    "y_train_pred = cat_model.predict(df_train[catboost_features])\n",
    "y_test_pred = cat_model.predict(df_test[catboost_features])"
   ]
  },
  {
   "cell_type": "code",
   "execution_count": 56,
   "metadata": {},
   "outputs": [
    {
     "name": "stdout",
     "output_type": "stream",
     "text": [
      "catboost_regression, -- Type Dataset - train\n",
      "R2 = 0.9666953990970955\n",
      "MSE = 31962.801316093508\n",
      "RMSE = 178.78143448382303\n",
      "MAE = 142.24106238699497\n",
      "MAPE = 0.1123434382809482\n"
     ]
    }
   ],
   "source": [
    "result_metrics = get_metrics(df_train[target], y_train_pred,\n",
    "                              algorithm='catboost_regression', dataset_type='train', \n",
    "                              res_df=result_metrics)"
   ]
  },
  {
   "cell_type": "code",
   "execution_count": 57,
   "metadata": {},
   "outputs": [
    {
     "name": "stdout",
     "output_type": "stream",
     "text": [
      "catboost_regression, -- Type Dataset - test\n",
      "R2 = 0.9545241006145873\n",
      "MSE = 42648.23844252775\n",
      "RMSE = 206.51449935180761\n",
      "MAE = 166.55426253403706\n",
      "MAPE = 0.11706691590106719\n"
     ]
    }
   ],
   "source": [
    "result_metrics = get_metrics(df_test[target], y_test_pred,\n",
    "                              algorithm='catboost_regression', dataset_type='test', \n",
    "                              res_df=result_metrics)"
   ]
  },
  {
   "cell_type": "code",
   "execution_count": 58,
   "metadata": {},
   "outputs": [
    {
     "data": {
      "text/html": [
       "<div>\n",
       "<style scoped>\n",
       "    .dataframe tbody tr th:only-of-type {\n",
       "        vertical-align: middle;\n",
       "    }\n",
       "\n",
       "    .dataframe tbody tr th {\n",
       "        vertical-align: top;\n",
       "    }\n",
       "\n",
       "    .dataframe thead th {\n",
       "        text-align: right;\n",
       "    }\n",
       "</style>\n",
       "<table border=\"1\" class=\"dataframe\">\n",
       "  <thead>\n",
       "    <tr style=\"text-align: right;\">\n",
       "      <th></th>\n",
       "      <th>algorithm</th>\n",
       "      <th>dataset_type</th>\n",
       "      <th>R2</th>\n",
       "      <th>MSE</th>\n",
       "      <th>RMSE</th>\n",
       "      <th>MAE</th>\n",
       "      <th>MAPE</th>\n",
       "    </tr>\n",
       "  </thead>\n",
       "  <tbody>\n",
       "    <tr>\n",
       "      <th>0</th>\n",
       "      <td>simple_regression</td>\n",
       "      <td>train</td>\n",
       "      <td>0.892267</td>\n",
       "      <td>103392.837417</td>\n",
       "      <td>321.547566</td>\n",
       "      <td>252.255940</td>\n",
       "      <td>0.197081</td>\n",
       "    </tr>\n",
       "    <tr>\n",
       "      <th>0</th>\n",
       "      <td>segm_kmeans2_regression</td>\n",
       "      <td>train</td>\n",
       "      <td>0.940902</td>\n",
       "      <td>56716.976393</td>\n",
       "      <td>238.153262</td>\n",
       "      <td>190.054165</td>\n",
       "      <td>0.156372</td>\n",
       "    </tr>\n",
       "    <tr>\n",
       "      <th>0</th>\n",
       "      <td>segm_kmeans3_regression</td>\n",
       "      <td>train</td>\n",
       "      <td>0.956054</td>\n",
       "      <td>42175.710240</td>\n",
       "      <td>205.367257</td>\n",
       "      <td>163.825093</td>\n",
       "      <td>0.138321</td>\n",
       "    </tr>\n",
       "    <tr>\n",
       "      <th>0</th>\n",
       "      <td>segm_kmeans2onFeatures_regression</td>\n",
       "      <td>train</td>\n",
       "      <td>0.892377</td>\n",
       "      <td>103286.693184</td>\n",
       "      <td>321.382472</td>\n",
       "      <td>251.454200</td>\n",
       "      <td>0.196713</td>\n",
       "    </tr>\n",
       "    <tr>\n",
       "      <th>0</th>\n",
       "      <td>segm_kmeans3onFeatures_regression</td>\n",
       "      <td>train</td>\n",
       "      <td>0.893430</td>\n",
       "      <td>102276.753190</td>\n",
       "      <td>319.807369</td>\n",
       "      <td>250.217730</td>\n",
       "      <td>0.193717</td>\n",
       "    </tr>\n",
       "    <tr>\n",
       "      <th>0</th>\n",
       "      <td>catboost_regression</td>\n",
       "      <td>train</td>\n",
       "      <td>0.966695</td>\n",
       "      <td>31962.801316</td>\n",
       "      <td>178.781434</td>\n",
       "      <td>142.241062</td>\n",
       "      <td>0.112343</td>\n",
       "    </tr>\n",
       "  </tbody>\n",
       "</table>\n",
       "</div>"
      ],
      "text/plain": [
       "                           algorithm dataset_type        R2            MSE  \\\n",
       "0                  simple_regression        train  0.892267  103392.837417   \n",
       "0            segm_kmeans2_regression        train  0.940902   56716.976393   \n",
       "0            segm_kmeans3_regression        train  0.956054   42175.710240   \n",
       "0  segm_kmeans2onFeatures_regression        train  0.892377  103286.693184   \n",
       "0  segm_kmeans3onFeatures_regression        train  0.893430  102276.753190   \n",
       "0                catboost_regression        train  0.966695   31962.801316   \n",
       "\n",
       "         RMSE         MAE      MAPE  \n",
       "0  321.547566  252.255940  0.197081  \n",
       "0  238.153262  190.054165  0.156372  \n",
       "0  205.367257  163.825093  0.138321  \n",
       "0  321.382472  251.454200  0.196713  \n",
       "0  319.807369  250.217730  0.193717  \n",
       "0  178.781434  142.241062  0.112343  "
      ]
     },
     "execution_count": 58,
     "metadata": {},
     "output_type": "execute_result"
    }
   ],
   "source": [
    "result_metrics.query('dataset_type == \"train\"')"
   ]
  },
  {
   "cell_type": "code",
   "execution_count": 59,
   "metadata": {},
   "outputs": [
    {
     "data": {
      "text/html": [
       "<div>\n",
       "<style scoped>\n",
       "    .dataframe tbody tr th:only-of-type {\n",
       "        vertical-align: middle;\n",
       "    }\n",
       "\n",
       "    .dataframe tbody tr th {\n",
       "        vertical-align: top;\n",
       "    }\n",
       "\n",
       "    .dataframe thead th {\n",
       "        text-align: right;\n",
       "    }\n",
       "</style>\n",
       "<table border=\"1\" class=\"dataframe\">\n",
       "  <thead>\n",
       "    <tr style=\"text-align: right;\">\n",
       "      <th></th>\n",
       "      <th>algorithm</th>\n",
       "      <th>dataset_type</th>\n",
       "      <th>R2</th>\n",
       "      <th>MSE</th>\n",
       "      <th>RMSE</th>\n",
       "      <th>MAE</th>\n",
       "      <th>MAPE</th>\n",
       "    </tr>\n",
       "  </thead>\n",
       "  <tbody>\n",
       "    <tr>\n",
       "      <th>0</th>\n",
       "      <td>simple_regression</td>\n",
       "      <td>test</td>\n",
       "      <td>0.889006</td>\n",
       "      <td>104092.019665</td>\n",
       "      <td>322.632949</td>\n",
       "      <td>254.349135</td>\n",
       "      <td>0.195276</td>\n",
       "    </tr>\n",
       "    <tr>\n",
       "      <th>0</th>\n",
       "      <td>segm_kmeans2_regression</td>\n",
       "      <td>test</td>\n",
       "      <td>0.935190</td>\n",
       "      <td>60780.259182</td>\n",
       "      <td>246.536527</td>\n",
       "      <td>197.510011</td>\n",
       "      <td>0.141879</td>\n",
       "    </tr>\n",
       "    <tr>\n",
       "      <th>0</th>\n",
       "      <td>segm_kmeans3_regression</td>\n",
       "      <td>test</td>\n",
       "      <td>0.936653</td>\n",
       "      <td>59408.331269</td>\n",
       "      <td>243.738243</td>\n",
       "      <td>195.776596</td>\n",
       "      <td>0.132993</td>\n",
       "    </tr>\n",
       "    <tr>\n",
       "      <th>0</th>\n",
       "      <td>segm_kmeans2onFeatures_regression</td>\n",
       "      <td>test</td>\n",
       "      <td>0.888226</td>\n",
       "      <td>104823.794236</td>\n",
       "      <td>323.765029</td>\n",
       "      <td>255.452300</td>\n",
       "      <td>0.197130</td>\n",
       "    </tr>\n",
       "    <tr>\n",
       "      <th>0</th>\n",
       "      <td>segm_kmeans3onFeatures_regression</td>\n",
       "      <td>test</td>\n",
       "      <td>0.884649</td>\n",
       "      <td>108178.442257</td>\n",
       "      <td>328.904914</td>\n",
       "      <td>258.337746</td>\n",
       "      <td>0.199005</td>\n",
       "    </tr>\n",
       "    <tr>\n",
       "      <th>0</th>\n",
       "      <td>catboost_regression</td>\n",
       "      <td>test</td>\n",
       "      <td>0.954524</td>\n",
       "      <td>42648.238443</td>\n",
       "      <td>206.514499</td>\n",
       "      <td>166.554263</td>\n",
       "      <td>0.117067</td>\n",
       "    </tr>\n",
       "  </tbody>\n",
       "</table>\n",
       "</div>"
      ],
      "text/plain": [
       "                           algorithm dataset_type        R2            MSE  \\\n",
       "0                  simple_regression         test  0.889006  104092.019665   \n",
       "0            segm_kmeans2_regression         test  0.935190   60780.259182   \n",
       "0            segm_kmeans3_regression         test  0.936653   59408.331269   \n",
       "0  segm_kmeans2onFeatures_regression         test  0.888226  104823.794236   \n",
       "0  segm_kmeans3onFeatures_regression         test  0.884649  108178.442257   \n",
       "0                catboost_regression         test  0.954524   42648.238443   \n",
       "\n",
       "         RMSE         MAE      MAPE  \n",
       "0  322.632949  254.349135  0.195276  \n",
       "0  246.536527  197.510011  0.141879  \n",
       "0  243.738243  195.776596  0.132993  \n",
       "0  323.765029  255.452300  0.197130  \n",
       "0  328.904914  258.337746  0.199005  \n",
       "0  206.514499  166.554263  0.117067  "
      ]
     },
     "execution_count": 59,
     "metadata": {},
     "output_type": "execute_result"
    }
   ],
   "source": [
    "result_metrics.query('dataset_type == \"test\"')"
   ]
  },
  {
   "cell_type": "code",
   "execution_count": null,
   "metadata": {},
   "outputs": [],
   "source": []
  }
 ],
 "metadata": {
  "kernelspec": {
   "display_name": ".venv",
   "language": "python",
   "name": "python3"
  },
  "language_info": {
   "codemirror_mode": {
    "name": "ipython",
    "version": 3
   },
   "file_extension": ".py",
   "mimetype": "text/x-python",
   "name": "python",
   "nbconvert_exporter": "python",
   "pygments_lexer": "ipython3",
   "version": "3.11.4"
  }
 },
 "nbformat": 4,
 "nbformat_minor": 2
}
