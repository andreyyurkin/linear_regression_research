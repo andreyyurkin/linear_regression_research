{
 "cells": [
  {
   "cell_type": "code",
   "execution_count": 1,
   "metadata": {},
   "outputs": [],
   "source": [
    "import pandas as pd\n",
    "import matplotlib.pyplot as plt\n",
    "import seaborn as sns\n",
    "import sklearn\n",
    "import catboost as cat\n",
    "import numpy as np\n",
    "from sklearn.linear_model import LinearRegression\n",
    "import sklearn.metrics as metrics\n",
    "from sklearn.model_selection import train_test_split\n",
    "from sklearn.preprocessing import MinMaxScaler, OneHotEncoder\n",
    "# from sklearn.ensemble import RandomForestClassifier\n",
    "from sklearn.cluster import KMeans"
   ]
  },
  {
   "cell_type": "code",
   "execution_count": 2,
   "metadata": {},
   "outputs": [],
   "source": [
    "df = pd.read_csv(\"../../datasets/insurance_dataset/insurance.csv\")\n",
    "target = \"charges\"\n",
    "\n",
    "num_features = list(df.select_dtypes(exclude='object'))\n",
    "num_features.remove(target)\n",
    "cat_features = list(df.select_dtypes(include='object'))\n",
    "catboost_features = num_features+cat_features"
   ]
  },
  {
   "cell_type": "code",
   "execution_count": 3,
   "metadata": {},
   "outputs": [
    {
     "data": {
      "text/plain": [
       "Index(['age', 'sex', 'bmi', 'children', 'smoker', 'region', 'charges'], dtype='object')"
      ]
     },
     "execution_count": 3,
     "metadata": {},
     "output_type": "execute_result"
    }
   ],
   "source": [
    "df.columns"
   ]
  },
  {
   "cell_type": "markdown",
   "metadata": {},
   "source": [
    "# Dataset preprocessing"
   ]
  },
  {
   "cell_type": "code",
   "execution_count": 4,
   "metadata": {},
   "outputs": [],
   "source": [
    "df.loc[:, num_features] = df.loc[:, num_features].fillna(0)\n",
    "df.loc[:, cat_features] = df.loc[:, cat_features].fillna('Other')"
   ]
  },
  {
   "cell_type": "code",
   "execution_count": 5,
   "metadata": {},
   "outputs": [
    {
     "data": {
      "text/plain": [
       "(1338, 5)"
      ]
     },
     "execution_count": 5,
     "metadata": {},
     "output_type": "execute_result"
    }
   ],
   "source": [
    "enc = OneHotEncoder(sparse_output=False, drop='first')\n",
    "encoded_cat_df = enc.fit_transform(df[cat_features])\n",
    "encoded_cat_df = pd.DataFrame(encoded_cat_df, columns=enc.get_feature_names_out(cat_features)).astype('Int16')\n",
    "encoded_cat_features = list(encoded_cat_df.columns)\n",
    "encoded_cat_df.shape"
   ]
  },
  {
   "cell_type": "code",
   "execution_count": 6,
   "metadata": {},
   "outputs": [],
   "source": [
    "encoded_df = pd.concat([df, encoded_cat_df], axis=1)"
   ]
  },
  {
   "cell_type": "code",
   "execution_count": 7,
   "metadata": {},
   "outputs": [
    {
     "data": {
      "text/plain": [
       "class\n",
       "0    980\n",
       "1    358\n",
       "Name: count, dtype: int64"
      ]
     },
     "execution_count": 7,
     "metadata": {},
     "output_type": "execute_result"
    }
   ],
   "source": [
    "encoded_df['class'] = encoded_df[target].apply(lambda x: 1 if x >= 15_000 else 0)\n",
    "clf_target = 'class'\n",
    "encoded_df['class'].value_counts()"
   ]
  },
  {
   "cell_type": "code",
   "execution_count": 8,
   "metadata": {},
   "outputs": [],
   "source": [
    "X_train, X_test, y_train, y_test = train_test_split(\n",
    "    encoded_df[num_features+cat_features+encoded_cat_features], \n",
    "    encoded_df[[target, clf_target]], \n",
    "    test_size=0.33, random_state=2025)\n",
    "\n",
    "df_train = pd.concat([X_train, y_train], axis=1).reset_index(drop=True)\n",
    "df_test = pd.concat([X_test, y_test], axis=1).reset_index(drop=True)"
   ]
  },
  {
   "cell_type": "code",
   "execution_count": 9,
   "metadata": {},
   "outputs": [
    {
     "data": {
      "text/plain": [
       "(896, 13)"
      ]
     },
     "execution_count": 9,
     "metadata": {},
     "output_type": "execute_result"
    }
   ],
   "source": [
    "df_train.shape"
   ]
  },
  {
   "cell_type": "code",
   "execution_count": 10,
   "metadata": {},
   "outputs": [],
   "source": [
    "linear_features = num_features+encoded_cat_features"
   ]
  },
  {
   "cell_type": "code",
   "execution_count": 11,
   "metadata": {},
   "outputs": [],
   "source": [
    "scaler = MinMaxScaler()\n",
    "scaled_df_train = scaler.fit_transform(df_train[linear_features])\n",
    "scaled_df_train = pd.DataFrame(scaled_df_train, columns=linear_features)\n",
    "scaled_df_train = pd.concat([scaled_df_train, df_train[[target, clf_target]+ cat_features]], axis=1)\n",
    "\n",
    "scaled_df_test = scaler.transform(df_test[linear_features])\n",
    "scaled_df_test = pd.DataFrame(scaled_df_test, columns=linear_features)\n",
    "scaled_df_test = pd.concat([scaled_df_test, df_test[[target, clf_target]+ cat_features]], axis=1)"
   ]
  },
  {
   "cell_type": "markdown",
   "metadata": {},
   "source": [
    "# Simple Linear Regression"
   ]
  },
  {
   "cell_type": "code",
   "execution_count": 12,
   "metadata": {},
   "outputs": [],
   "source": [
    "result_metrics = pd.DataFrame(columns=[\n",
    "     'algorithm',\n",
    "     'dataset_type',\n",
    "     'R2',\n",
    "     'MSE',\n",
    "     'RMSE',\n",
    "     'MAE',\n",
    "     'MAPE'\n",
    "])"
   ]
  },
  {
   "cell_type": "code",
   "execution_count": 13,
   "metadata": {},
   "outputs": [],
   "source": [
    "def get_metrics(y_true, y_pred, algorithm, dataset_type, res_df=None):\n",
    "    res_df = res_df.copy()\n",
    "    \n",
    "    r2 = metrics.r2_score(y_true, y_pred)\n",
    "    mse = metrics.mean_squared_error(y_true, y_pred)\n",
    "    mae = metrics.mean_absolute_error(y_true, y_pred)\n",
    "    mape = metrics.mean_absolute_percentage_error(y_true, y_pred)\n",
    "\n",
    "    print(f\"{algorithm}, -- Type Dataset - {dataset_type}\")\n",
    "    print(f\"R2 = {r2}\")\n",
    "    print(f\"MSE = {mse}\")\n",
    "    print(f\"RMSE = {mse**0.5}\")\n",
    "    print(f\"MAE = {mae}\")\n",
    "    print(f\"MAPE = {mape}\")\n",
    "    \n",
    "    curr_res = [algorithm, dataset_type] + [r2, mse, mse**0.5, mae, mape]\n",
    "    res_df = pd.concat([res_df,\n",
    "                        pd.DataFrame([curr_res], columns=['algorithm',\n",
    "                                                            'dataset_type',\n",
    "                                                            'R2',\n",
    "                                                            'MSE',\n",
    "                                                            'RMSE',\n",
    "                                                            'MAE',\n",
    "                                                            'MAPE'])])\n",
    "    return res_df"
   ]
  },
  {
   "cell_type": "code",
   "execution_count": 14,
   "metadata": {},
   "outputs": [
    {
     "data": {
      "text/html": [
       "<style>#sk-container-id-1 {\n",
       "  /* Definition of color scheme common for light and dark mode */\n",
       "  --sklearn-color-text: #000;\n",
       "  --sklearn-color-text-muted: #666;\n",
       "  --sklearn-color-line: gray;\n",
       "  /* Definition of color scheme for unfitted estimators */\n",
       "  --sklearn-color-unfitted-level-0: #fff5e6;\n",
       "  --sklearn-color-unfitted-level-1: #f6e4d2;\n",
       "  --sklearn-color-unfitted-level-2: #ffe0b3;\n",
       "  --sklearn-color-unfitted-level-3: chocolate;\n",
       "  /* Definition of color scheme for fitted estimators */\n",
       "  --sklearn-color-fitted-level-0: #f0f8ff;\n",
       "  --sklearn-color-fitted-level-1: #d4ebff;\n",
       "  --sklearn-color-fitted-level-2: #b3dbfd;\n",
       "  --sklearn-color-fitted-level-3: cornflowerblue;\n",
       "\n",
       "  /* Specific color for light theme */\n",
       "  --sklearn-color-text-on-default-background: var(--sg-text-color, var(--theme-code-foreground, var(--jp-content-font-color1, black)));\n",
       "  --sklearn-color-background: var(--sg-background-color, var(--theme-background, var(--jp-layout-color0, white)));\n",
       "  --sklearn-color-border-box: var(--sg-text-color, var(--theme-code-foreground, var(--jp-content-font-color1, black)));\n",
       "  --sklearn-color-icon: #696969;\n",
       "\n",
       "  @media (prefers-color-scheme: dark) {\n",
       "    /* Redefinition of color scheme for dark theme */\n",
       "    --sklearn-color-text-on-default-background: var(--sg-text-color, var(--theme-code-foreground, var(--jp-content-font-color1, white)));\n",
       "    --sklearn-color-background: var(--sg-background-color, var(--theme-background, var(--jp-layout-color0, #111)));\n",
       "    --sklearn-color-border-box: var(--sg-text-color, var(--theme-code-foreground, var(--jp-content-font-color1, white)));\n",
       "    --sklearn-color-icon: #878787;\n",
       "  }\n",
       "}\n",
       "\n",
       "#sk-container-id-1 {\n",
       "  color: var(--sklearn-color-text);\n",
       "}\n",
       "\n",
       "#sk-container-id-1 pre {\n",
       "  padding: 0;\n",
       "}\n",
       "\n",
       "#sk-container-id-1 input.sk-hidden--visually {\n",
       "  border: 0;\n",
       "  clip: rect(1px 1px 1px 1px);\n",
       "  clip: rect(1px, 1px, 1px, 1px);\n",
       "  height: 1px;\n",
       "  margin: -1px;\n",
       "  overflow: hidden;\n",
       "  padding: 0;\n",
       "  position: absolute;\n",
       "  width: 1px;\n",
       "}\n",
       "\n",
       "#sk-container-id-1 div.sk-dashed-wrapped {\n",
       "  border: 1px dashed var(--sklearn-color-line);\n",
       "  margin: 0 0.4em 0.5em 0.4em;\n",
       "  box-sizing: border-box;\n",
       "  padding-bottom: 0.4em;\n",
       "  background-color: var(--sklearn-color-background);\n",
       "}\n",
       "\n",
       "#sk-container-id-1 div.sk-container {\n",
       "  /* jupyter's `normalize.less` sets `[hidden] { display: none; }`\n",
       "     but bootstrap.min.css set `[hidden] { display: none !important; }`\n",
       "     so we also need the `!important` here to be able to override the\n",
       "     default hidden behavior on the sphinx rendered scikit-learn.org.\n",
       "     See: https://github.com/scikit-learn/scikit-learn/issues/21755 */\n",
       "  display: inline-block !important;\n",
       "  position: relative;\n",
       "}\n",
       "\n",
       "#sk-container-id-1 div.sk-text-repr-fallback {\n",
       "  display: none;\n",
       "}\n",
       "\n",
       "div.sk-parallel-item,\n",
       "div.sk-serial,\n",
       "div.sk-item {\n",
       "  /* draw centered vertical line to link estimators */\n",
       "  background-image: linear-gradient(var(--sklearn-color-text-on-default-background), var(--sklearn-color-text-on-default-background));\n",
       "  background-size: 2px 100%;\n",
       "  background-repeat: no-repeat;\n",
       "  background-position: center center;\n",
       "}\n",
       "\n",
       "/* Parallel-specific style estimator block */\n",
       "\n",
       "#sk-container-id-1 div.sk-parallel-item::after {\n",
       "  content: \"\";\n",
       "  width: 100%;\n",
       "  border-bottom: 2px solid var(--sklearn-color-text-on-default-background);\n",
       "  flex-grow: 1;\n",
       "}\n",
       "\n",
       "#sk-container-id-1 div.sk-parallel {\n",
       "  display: flex;\n",
       "  align-items: stretch;\n",
       "  justify-content: center;\n",
       "  background-color: var(--sklearn-color-background);\n",
       "  position: relative;\n",
       "}\n",
       "\n",
       "#sk-container-id-1 div.sk-parallel-item {\n",
       "  display: flex;\n",
       "  flex-direction: column;\n",
       "}\n",
       "\n",
       "#sk-container-id-1 div.sk-parallel-item:first-child::after {\n",
       "  align-self: flex-end;\n",
       "  width: 50%;\n",
       "}\n",
       "\n",
       "#sk-container-id-1 div.sk-parallel-item:last-child::after {\n",
       "  align-self: flex-start;\n",
       "  width: 50%;\n",
       "}\n",
       "\n",
       "#sk-container-id-1 div.sk-parallel-item:only-child::after {\n",
       "  width: 0;\n",
       "}\n",
       "\n",
       "/* Serial-specific style estimator block */\n",
       "\n",
       "#sk-container-id-1 div.sk-serial {\n",
       "  display: flex;\n",
       "  flex-direction: column;\n",
       "  align-items: center;\n",
       "  background-color: var(--sklearn-color-background);\n",
       "  padding-right: 1em;\n",
       "  padding-left: 1em;\n",
       "}\n",
       "\n",
       "\n",
       "/* Toggleable style: style used for estimator/Pipeline/ColumnTransformer box that is\n",
       "clickable and can be expanded/collapsed.\n",
       "- Pipeline and ColumnTransformer use this feature and define the default style\n",
       "- Estimators will overwrite some part of the style using the `sk-estimator` class\n",
       "*/\n",
       "\n",
       "/* Pipeline and ColumnTransformer style (default) */\n",
       "\n",
       "#sk-container-id-1 div.sk-toggleable {\n",
       "  /* Default theme specific background. It is overwritten whether we have a\n",
       "  specific estimator or a Pipeline/ColumnTransformer */\n",
       "  background-color: var(--sklearn-color-background);\n",
       "}\n",
       "\n",
       "/* Toggleable label */\n",
       "#sk-container-id-1 label.sk-toggleable__label {\n",
       "  cursor: pointer;\n",
       "  display: flex;\n",
       "  width: 100%;\n",
       "  margin-bottom: 0;\n",
       "  padding: 0.5em;\n",
       "  box-sizing: border-box;\n",
       "  text-align: center;\n",
       "  align-items: start;\n",
       "  justify-content: space-between;\n",
       "  gap: 0.5em;\n",
       "}\n",
       "\n",
       "#sk-container-id-1 label.sk-toggleable__label .caption {\n",
       "  font-size: 0.6rem;\n",
       "  font-weight: lighter;\n",
       "  color: var(--sklearn-color-text-muted);\n",
       "}\n",
       "\n",
       "#sk-container-id-1 label.sk-toggleable__label-arrow:before {\n",
       "  /* Arrow on the left of the label */\n",
       "  content: \"▸\";\n",
       "  float: left;\n",
       "  margin-right: 0.25em;\n",
       "  color: var(--sklearn-color-icon);\n",
       "}\n",
       "\n",
       "#sk-container-id-1 label.sk-toggleable__label-arrow:hover:before {\n",
       "  color: var(--sklearn-color-text);\n",
       "}\n",
       "\n",
       "/* Toggleable content - dropdown */\n",
       "\n",
       "#sk-container-id-1 div.sk-toggleable__content {\n",
       "  max-height: 0;\n",
       "  max-width: 0;\n",
       "  overflow: hidden;\n",
       "  text-align: left;\n",
       "  /* unfitted */\n",
       "  background-color: var(--sklearn-color-unfitted-level-0);\n",
       "}\n",
       "\n",
       "#sk-container-id-1 div.sk-toggleable__content.fitted {\n",
       "  /* fitted */\n",
       "  background-color: var(--sklearn-color-fitted-level-0);\n",
       "}\n",
       "\n",
       "#sk-container-id-1 div.sk-toggleable__content pre {\n",
       "  margin: 0.2em;\n",
       "  border-radius: 0.25em;\n",
       "  color: var(--sklearn-color-text);\n",
       "  /* unfitted */\n",
       "  background-color: var(--sklearn-color-unfitted-level-0);\n",
       "}\n",
       "\n",
       "#sk-container-id-1 div.sk-toggleable__content.fitted pre {\n",
       "  /* unfitted */\n",
       "  background-color: var(--sklearn-color-fitted-level-0);\n",
       "}\n",
       "\n",
       "#sk-container-id-1 input.sk-toggleable__control:checked~div.sk-toggleable__content {\n",
       "  /* Expand drop-down */\n",
       "  max-height: 200px;\n",
       "  max-width: 100%;\n",
       "  overflow: auto;\n",
       "}\n",
       "\n",
       "#sk-container-id-1 input.sk-toggleable__control:checked~label.sk-toggleable__label-arrow:before {\n",
       "  content: \"▾\";\n",
       "}\n",
       "\n",
       "/* Pipeline/ColumnTransformer-specific style */\n",
       "\n",
       "#sk-container-id-1 div.sk-label input.sk-toggleable__control:checked~label.sk-toggleable__label {\n",
       "  color: var(--sklearn-color-text);\n",
       "  background-color: var(--sklearn-color-unfitted-level-2);\n",
       "}\n",
       "\n",
       "#sk-container-id-1 div.sk-label.fitted input.sk-toggleable__control:checked~label.sk-toggleable__label {\n",
       "  background-color: var(--sklearn-color-fitted-level-2);\n",
       "}\n",
       "\n",
       "/* Estimator-specific style */\n",
       "\n",
       "/* Colorize estimator box */\n",
       "#sk-container-id-1 div.sk-estimator input.sk-toggleable__control:checked~label.sk-toggleable__label {\n",
       "  /* unfitted */\n",
       "  background-color: var(--sklearn-color-unfitted-level-2);\n",
       "}\n",
       "\n",
       "#sk-container-id-1 div.sk-estimator.fitted input.sk-toggleable__control:checked~label.sk-toggleable__label {\n",
       "  /* fitted */\n",
       "  background-color: var(--sklearn-color-fitted-level-2);\n",
       "}\n",
       "\n",
       "#sk-container-id-1 div.sk-label label.sk-toggleable__label,\n",
       "#sk-container-id-1 div.sk-label label {\n",
       "  /* The background is the default theme color */\n",
       "  color: var(--sklearn-color-text-on-default-background);\n",
       "}\n",
       "\n",
       "/* On hover, darken the color of the background */\n",
       "#sk-container-id-1 div.sk-label:hover label.sk-toggleable__label {\n",
       "  color: var(--sklearn-color-text);\n",
       "  background-color: var(--sklearn-color-unfitted-level-2);\n",
       "}\n",
       "\n",
       "/* Label box, darken color on hover, fitted */\n",
       "#sk-container-id-1 div.sk-label.fitted:hover label.sk-toggleable__label.fitted {\n",
       "  color: var(--sklearn-color-text);\n",
       "  background-color: var(--sklearn-color-fitted-level-2);\n",
       "}\n",
       "\n",
       "/* Estimator label */\n",
       "\n",
       "#sk-container-id-1 div.sk-label label {\n",
       "  font-family: monospace;\n",
       "  font-weight: bold;\n",
       "  display: inline-block;\n",
       "  line-height: 1.2em;\n",
       "}\n",
       "\n",
       "#sk-container-id-1 div.sk-label-container {\n",
       "  text-align: center;\n",
       "}\n",
       "\n",
       "/* Estimator-specific */\n",
       "#sk-container-id-1 div.sk-estimator {\n",
       "  font-family: monospace;\n",
       "  border: 1px dotted var(--sklearn-color-border-box);\n",
       "  border-radius: 0.25em;\n",
       "  box-sizing: border-box;\n",
       "  margin-bottom: 0.5em;\n",
       "  /* unfitted */\n",
       "  background-color: var(--sklearn-color-unfitted-level-0);\n",
       "}\n",
       "\n",
       "#sk-container-id-1 div.sk-estimator.fitted {\n",
       "  /* fitted */\n",
       "  background-color: var(--sklearn-color-fitted-level-0);\n",
       "}\n",
       "\n",
       "/* on hover */\n",
       "#sk-container-id-1 div.sk-estimator:hover {\n",
       "  /* unfitted */\n",
       "  background-color: var(--sklearn-color-unfitted-level-2);\n",
       "}\n",
       "\n",
       "#sk-container-id-1 div.sk-estimator.fitted:hover {\n",
       "  /* fitted */\n",
       "  background-color: var(--sklearn-color-fitted-level-2);\n",
       "}\n",
       "\n",
       "/* Specification for estimator info (e.g. \"i\" and \"?\") */\n",
       "\n",
       "/* Common style for \"i\" and \"?\" */\n",
       "\n",
       ".sk-estimator-doc-link,\n",
       "a:link.sk-estimator-doc-link,\n",
       "a:visited.sk-estimator-doc-link {\n",
       "  float: right;\n",
       "  font-size: smaller;\n",
       "  line-height: 1em;\n",
       "  font-family: monospace;\n",
       "  background-color: var(--sklearn-color-background);\n",
       "  border-radius: 1em;\n",
       "  height: 1em;\n",
       "  width: 1em;\n",
       "  text-decoration: none !important;\n",
       "  margin-left: 0.5em;\n",
       "  text-align: center;\n",
       "  /* unfitted */\n",
       "  border: var(--sklearn-color-unfitted-level-1) 1pt solid;\n",
       "  color: var(--sklearn-color-unfitted-level-1);\n",
       "}\n",
       "\n",
       ".sk-estimator-doc-link.fitted,\n",
       "a:link.sk-estimator-doc-link.fitted,\n",
       "a:visited.sk-estimator-doc-link.fitted {\n",
       "  /* fitted */\n",
       "  border: var(--sklearn-color-fitted-level-1) 1pt solid;\n",
       "  color: var(--sklearn-color-fitted-level-1);\n",
       "}\n",
       "\n",
       "/* On hover */\n",
       "div.sk-estimator:hover .sk-estimator-doc-link:hover,\n",
       ".sk-estimator-doc-link:hover,\n",
       "div.sk-label-container:hover .sk-estimator-doc-link:hover,\n",
       ".sk-estimator-doc-link:hover {\n",
       "  /* unfitted */\n",
       "  background-color: var(--sklearn-color-unfitted-level-3);\n",
       "  color: var(--sklearn-color-background);\n",
       "  text-decoration: none;\n",
       "}\n",
       "\n",
       "div.sk-estimator.fitted:hover .sk-estimator-doc-link.fitted:hover,\n",
       ".sk-estimator-doc-link.fitted:hover,\n",
       "div.sk-label-container:hover .sk-estimator-doc-link.fitted:hover,\n",
       ".sk-estimator-doc-link.fitted:hover {\n",
       "  /* fitted */\n",
       "  background-color: var(--sklearn-color-fitted-level-3);\n",
       "  color: var(--sklearn-color-background);\n",
       "  text-decoration: none;\n",
       "}\n",
       "\n",
       "/* Span, style for the box shown on hovering the info icon */\n",
       ".sk-estimator-doc-link span {\n",
       "  display: none;\n",
       "  z-index: 9999;\n",
       "  position: relative;\n",
       "  font-weight: normal;\n",
       "  right: .2ex;\n",
       "  padding: .5ex;\n",
       "  margin: .5ex;\n",
       "  width: min-content;\n",
       "  min-width: 20ex;\n",
       "  max-width: 50ex;\n",
       "  color: var(--sklearn-color-text);\n",
       "  box-shadow: 2pt 2pt 4pt #999;\n",
       "  /* unfitted */\n",
       "  background: var(--sklearn-color-unfitted-level-0);\n",
       "  border: .5pt solid var(--sklearn-color-unfitted-level-3);\n",
       "}\n",
       "\n",
       ".sk-estimator-doc-link.fitted span {\n",
       "  /* fitted */\n",
       "  background: var(--sklearn-color-fitted-level-0);\n",
       "  border: var(--sklearn-color-fitted-level-3);\n",
       "}\n",
       "\n",
       ".sk-estimator-doc-link:hover span {\n",
       "  display: block;\n",
       "}\n",
       "\n",
       "/* \"?\"-specific style due to the `<a>` HTML tag */\n",
       "\n",
       "#sk-container-id-1 a.estimator_doc_link {\n",
       "  float: right;\n",
       "  font-size: 1rem;\n",
       "  line-height: 1em;\n",
       "  font-family: monospace;\n",
       "  background-color: var(--sklearn-color-background);\n",
       "  border-radius: 1rem;\n",
       "  height: 1rem;\n",
       "  width: 1rem;\n",
       "  text-decoration: none;\n",
       "  /* unfitted */\n",
       "  color: var(--sklearn-color-unfitted-level-1);\n",
       "  border: var(--sklearn-color-unfitted-level-1) 1pt solid;\n",
       "}\n",
       "\n",
       "#sk-container-id-1 a.estimator_doc_link.fitted {\n",
       "  /* fitted */\n",
       "  border: var(--sklearn-color-fitted-level-1) 1pt solid;\n",
       "  color: var(--sklearn-color-fitted-level-1);\n",
       "}\n",
       "\n",
       "/* On hover */\n",
       "#sk-container-id-1 a.estimator_doc_link:hover {\n",
       "  /* unfitted */\n",
       "  background-color: var(--sklearn-color-unfitted-level-3);\n",
       "  color: var(--sklearn-color-background);\n",
       "  text-decoration: none;\n",
       "}\n",
       "\n",
       "#sk-container-id-1 a.estimator_doc_link.fitted:hover {\n",
       "  /* fitted */\n",
       "  background-color: var(--sklearn-color-fitted-level-3);\n",
       "}\n",
       "</style><div id=\"sk-container-id-1\" class=\"sk-top-container\"><div class=\"sk-text-repr-fallback\"><pre>LinearRegression()</pre><b>In a Jupyter environment, please rerun this cell to show the HTML representation or trust the notebook. <br />On GitHub, the HTML representation is unable to render, please try loading this page with nbviewer.org.</b></div><div class=\"sk-container\" hidden><div class=\"sk-item\"><div class=\"sk-estimator fitted sk-toggleable\"><input class=\"sk-toggleable__control sk-hidden--visually\" id=\"sk-estimator-id-1\" type=\"checkbox\" checked><label for=\"sk-estimator-id-1\" class=\"sk-toggleable__label fitted sk-toggleable__label-arrow\"><div><div>LinearRegression</div></div><div><a class=\"sk-estimator-doc-link fitted\" rel=\"noreferrer\" target=\"_blank\" href=\"https://scikit-learn.org/1.6/modules/generated/sklearn.linear_model.LinearRegression.html\">?<span>Documentation for LinearRegression</span></a><span class=\"sk-estimator-doc-link fitted\">i<span>Fitted</span></span></div></label><div class=\"sk-toggleable__content fitted\"><pre>LinearRegression()</pre></div> </div></div></div></div>"
      ],
      "text/plain": [
       "LinearRegression()"
      ]
     },
     "execution_count": 14,
     "metadata": {},
     "output_type": "execute_result"
    }
   ],
   "source": [
    "simple_model = LinearRegression()\n",
    "simple_model.fit(scaled_df_train[linear_features], scaled_df_train[target])"
   ]
  },
  {
   "cell_type": "code",
   "execution_count": 15,
   "metadata": {},
   "outputs": [],
   "source": [
    "preds_train = simple_model.predict(scaled_df_train[linear_features])\n",
    "preds_test = simple_model.predict(scaled_df_test[linear_features])"
   ]
  },
  {
   "cell_type": "code",
   "execution_count": 16,
   "metadata": {},
   "outputs": [
    {
     "name": "stdout",
     "output_type": "stream",
     "text": [
      "simple_regression, -- Type Dataset - train\n",
      "R2 = 0.7596803105755882\n",
      "MSE = 34809575.141775966\n",
      "RMSE = 5899.963994955899\n",
      "MAE = 4042.614403249624\n",
      "MAPE = 0.397542424375605\n"
     ]
    },
    {
     "name": "stderr",
     "output_type": "stream",
     "text": [
      "/var/folders/dy/q_kmpbjj54q1glfr1wthxzhw0000gn/T/ipykernel_29739/2903524573.py:17: FutureWarning: The behavior of DataFrame concatenation with empty or all-NA entries is deprecated. In a future version, this will no longer exclude empty or all-NA columns when determining the result dtypes. To retain the old behavior, exclude the relevant entries before the concat operation.\n",
      "  res_df = pd.concat([res_df,\n"
     ]
    }
   ],
   "source": [
    "result_metrics = get_metrics(scaled_df_train[target], preds_train, \n",
    "                              algorithm='simple_regression', dataset_type='train', \n",
    "                              res_df=result_metrics)"
   ]
  },
  {
   "cell_type": "code",
   "execution_count": 17,
   "metadata": {},
   "outputs": [
    {
     "name": "stdout",
     "output_type": "stream",
     "text": [
      "simple_regression, -- Type Dataset - test\n",
      "R2 = 0.7309284587016552\n",
      "MSE = 40273908.54301847\n",
      "RMSE = 6346.17274765023\n",
      "MAE = 4365.496446587046\n",
      "MAPE = 0.4161397740861992\n"
     ]
    }
   ],
   "source": [
    "result_metrics = get_metrics(scaled_df_test[target], preds_test, \n",
    "                              algorithm='simple_regression', dataset_type='test', \n",
    "                              res_df=result_metrics)"
   ]
  },
  {
   "cell_type": "code",
   "execution_count": 18,
   "metadata": {},
   "outputs": [
    {
     "data": {
      "text/html": [
       "<div>\n",
       "<style scoped>\n",
       "    .dataframe tbody tr th:only-of-type {\n",
       "        vertical-align: middle;\n",
       "    }\n",
       "\n",
       "    .dataframe tbody tr th {\n",
       "        vertical-align: top;\n",
       "    }\n",
       "\n",
       "    .dataframe thead th {\n",
       "        text-align: right;\n",
       "    }\n",
       "</style>\n",
       "<table border=\"1\" class=\"dataframe\">\n",
       "  <thead>\n",
       "    <tr style=\"text-align: right;\">\n",
       "      <th></th>\n",
       "      <th>algorithm</th>\n",
       "      <th>dataset_type</th>\n",
       "      <th>R2</th>\n",
       "      <th>MSE</th>\n",
       "      <th>RMSE</th>\n",
       "      <th>MAE</th>\n",
       "      <th>MAPE</th>\n",
       "    </tr>\n",
       "  </thead>\n",
       "  <tbody>\n",
       "    <tr>\n",
       "      <th>0</th>\n",
       "      <td>simple_regression</td>\n",
       "      <td>train</td>\n",
       "      <td>0.759680</td>\n",
       "      <td>3.480958e+07</td>\n",
       "      <td>5899.963995</td>\n",
       "      <td>4042.614403</td>\n",
       "      <td>0.397542</td>\n",
       "    </tr>\n",
       "    <tr>\n",
       "      <th>0</th>\n",
       "      <td>simple_regression</td>\n",
       "      <td>test</td>\n",
       "      <td>0.730928</td>\n",
       "      <td>4.027391e+07</td>\n",
       "      <td>6346.172748</td>\n",
       "      <td>4365.496447</td>\n",
       "      <td>0.416140</td>\n",
       "    </tr>\n",
       "  </tbody>\n",
       "</table>\n",
       "</div>"
      ],
      "text/plain": [
       "           algorithm dataset_type        R2           MSE         RMSE  \\\n",
       "0  simple_regression        train  0.759680  3.480958e+07  5899.963995   \n",
       "0  simple_regression         test  0.730928  4.027391e+07  6346.172748   \n",
       "\n",
       "           MAE      MAPE  \n",
       "0  4042.614403  0.397542  \n",
       "0  4365.496447  0.416140  "
      ]
     },
     "execution_count": 18,
     "metadata": {},
     "output_type": "execute_result"
    }
   ],
   "source": [
    "result_metrics"
   ]
  },
  {
   "cell_type": "markdown",
   "metadata": {},
   "source": [
    "# Combine with classifier after k-means"
   ]
  },
  {
   "cell_type": "markdown",
   "metadata": {},
   "source": [
    "## fit k-means 2 clusters on target"
   ]
  },
  {
   "cell_type": "markdown",
   "metadata": {},
   "source": [
    "### clustering"
   ]
  },
  {
   "cell_type": "code",
   "execution_count": 19,
   "metadata": {},
   "outputs": [],
   "source": [
    "kmeans = KMeans(n_clusters=2, random_state=2025)\n",
    "kmeans.fit(scaled_df_train[[target]])\n",
    "clf_target ='kmeans'\n",
    "\n",
    "scaled_df_train['kmeans'] = kmeans.predict(scaled_df_train[[target]])\n",
    "scaled_df_test['kmeans'] = kmeans.predict(scaled_df_test[[target]])\n",
    "\n",
    "kmeans_data = pd.concat([scaled_df_train, scaled_df_test])"
   ]
  },
  {
   "cell_type": "code",
   "execution_count": 20,
   "metadata": {},
   "outputs": [
    {
     "data": {
      "image/png": "[encoded data removed]",
      "text/plain": [
       "<Figure size 640x480 with 1 Axes>"
      ]
     },
     "metadata": {},
     "output_type": "display_data"
    }
   ],
   "source": [
    "plt.title('target dist')\n",
    "plt.grid(which='major')\n",
    "sns.histplot(data = kmeans_data, x=target, kde=True, hue='kmeans')\n",
    "plt.show()"
   ]
  },
  {
   "cell_type": "markdown",
   "metadata": {},
   "source": [
    "### fit clf"
   ]
  },
  {
   "cell_type": "code",
   "execution_count": 21,
   "metadata": {},
   "outputs": [],
   "source": [
    "clf = cat.CatBoostClassifier(random_state=2025, cat_features=cat_features, verbose=False)\n",
    "clf.fit(scaled_df_train[catboost_features], scaled_df_train[clf_target])\n",
    "\n",
    "clf_pred_train = clf.predict(scaled_df_train[catboost_features])\n",
    "clf_pred_test = clf.predict(scaled_df_test[catboost_features])"
   ]
  },
  {
   "cell_type": "code",
   "execution_count": 22,
   "metadata": {},
   "outputs": [
    {
     "name": "stdout",
     "output_type": "stream",
     "text": [
      "              precision    recall  f1-score   support\n",
      "\n",
      "           0       0.96      1.00      0.98       736\n",
      "           1       1.00      0.79      0.88       160\n",
      "\n",
      "    accuracy                           0.96       896\n",
      "   macro avg       0.98      0.89      0.93       896\n",
      "weighted avg       0.96      0.96      0.96       896\n",
      "\n"
     ]
    }
   ],
   "source": [
    "print(metrics.classification_report(scaled_df_train[clf_target], clf_pred_train))"
   ]
  },
  {
   "cell_type": "code",
   "execution_count": 23,
   "metadata": {},
   "outputs": [
    {
     "name": "stdout",
     "output_type": "stream",
     "text": [
      "              precision    recall  f1-score   support\n",
      "\n",
      "           0       0.95      0.99      0.97       360\n",
      "           1       0.97      0.77      0.86        82\n",
      "\n",
      "    accuracy                           0.95       442\n",
      "   macro avg       0.96      0.88      0.91       442\n",
      "weighted avg       0.95      0.95      0.95       442\n",
      "\n"
     ]
    }
   ],
   "source": [
    "print(metrics.classification_report(scaled_df_test[clf_target], clf_pred_test))"
   ]
  },
  {
   "cell_type": "markdown",
   "metadata": {},
   "source": [
    "### fit regression"
   ]
  },
  {
   "cell_type": "code",
   "execution_count": 24,
   "metadata": {},
   "outputs": [],
   "source": [
    "scaled_df_train_0 = scaled_df_train[scaled_df_train[clf_target] == 0]\n",
    "scaled_df_train_1 = scaled_df_train[scaled_df_train[clf_target] == 1]\n",
    "\n",
    "clf_pred_test = clf.predict(scaled_df_test[catboost_features])\n",
    "scaled_df_test['clf_pred'] = clf_pred_test\n",
    "\n",
    "scaled_df_test_0 = scaled_df_test[scaled_df_test['clf_pred'] == 0]\n",
    "scaled_df_test_1 = scaled_df_test[scaled_df_test['clf_pred'] == 1]"
   ]
  },
  {
   "cell_type": "code",
   "execution_count": 25,
   "metadata": {},
   "outputs": [
    {
     "name": "stdout",
     "output_type": "stream",
     "text": [
      "train (736, 14) (160, 14)\n",
      "test (377, 15) (65, 15)\n"
     ]
    }
   ],
   "source": [
    "print(\"train\", scaled_df_train_0.shape, scaled_df_train_1.shape)\n",
    "print(\"test\", scaled_df_test_0.shape, scaled_df_test_1.shape)"
   ]
  },
  {
   "cell_type": "code",
   "execution_count": 26,
   "metadata": {},
   "outputs": [],
   "source": [
    "lr_0 = LinearRegression()\n",
    "lr_0.fit(scaled_df_train_0[linear_features], scaled_df_train_0[target])\n",
    "pred_train_0 = lr_0.predict(scaled_df_train_0[linear_features])\n",
    "pred_test_0 = lr_0.predict(scaled_df_test_0[linear_features])\n",
    "\n",
    "lr_1 = LinearRegression()\n",
    "lr_1.fit(scaled_df_train_1[linear_features], scaled_df_train_1[target])\n",
    "pred_train_1 = lr_1.predict(scaled_df_train_1[linear_features])\n",
    "pred_test_1 = lr_1.predict(scaled_df_test_1[linear_features])"
   ]
  },
  {
   "cell_type": "code",
   "execution_count": 27,
   "metadata": {},
   "outputs": [
    {
     "name": "stdout",
     "output_type": "stream",
     "text": [
      "segm_kmeans2_regression, -- Type Dataset - train\n",
      "R2 = 0.928109991896264\n",
      "MSE = 10413048.739466624\n",
      "RMSE = 3226.925586292102\n",
      "MAE = 1704.805820996213\n",
      "MAPE = 0.15686476300727853\n",
      "segm_kmeans2_regression, -- Type Dataset - test\n",
      "R2 = 0.8386299840068527\n",
      "MSE = 24153432.333772488\n",
      "RMSE = 4914.614159196273\n",
      "MAE = 2412.5804056719257\n",
      "MAPE = 0.17583846906260656\n"
     ]
    }
   ],
   "source": [
    "result_metrics = get_metrics(pd.concat([scaled_df_train_0[target], \n",
    "                                        scaled_df_train_1[target]]),\n",
    "                             np.hstack([pred_train_0, pred_train_1]),\n",
    "                              algorithm='segm_kmeans2_regression', dataset_type='train', \n",
    "                              res_df=result_metrics)\n",
    "\n",
    "result_metrics = get_metrics(pd.concat([scaled_df_test_0[target], \n",
    "                                        scaled_df_test_1[target]]),\n",
    "                             np.hstack([pred_test_0, pred_test_1]),\n",
    "                              algorithm='segm_kmeans2_regression', dataset_type='test', \n",
    "                              res_df=result_metrics)"
   ]
  },
  {
   "cell_type": "markdown",
   "metadata": {},
   "source": [
    "## fit k-means 3  clusters on target"
   ]
  },
  {
   "cell_type": "markdown",
   "metadata": {},
   "source": [
    "### clustering"
   ]
  },
  {
   "cell_type": "code",
   "execution_count": 28,
   "metadata": {},
   "outputs": [],
   "source": [
    "kmeans = KMeans(n_clusters=3, random_state=2025)\n",
    "kmeans.fit(scaled_df_train[[target]])\n",
    "\n",
    "scaled_df_train['kmeans'] = kmeans.predict(scaled_df_train[[target]])\n",
    "scaled_df_test['kmeans'] = kmeans.predict(scaled_df_test[[target]])\n",
    "\n",
    "kmeans_data = pd.concat([scaled_df_train, scaled_df_test])"
   ]
  },
  {
   "cell_type": "code",
   "execution_count": 29,
   "metadata": {},
   "outputs": [
    {
     "data": {
      "image/png": "[encoded data removed]",
      "text/plain": [
       "<Figure size 640x480 with 1 Axes>"
      ]
     },
     "metadata": {},
     "output_type": "display_data"
    }
   ],
   "source": [
    "plt.title('target dist')\n",
    "plt.grid(which='major')\n",
    "sns.histplot(data = kmeans_data, x=target, kde=True, hue='kmeans')\n",
    "plt.show()"
   ]
  },
  {
   "cell_type": "markdown",
   "metadata": {},
   "source": [
    "### fit clf"
   ]
  },
  {
   "cell_type": "code",
   "execution_count": 30,
   "metadata": {},
   "outputs": [],
   "source": [
    "clf = cat.CatBoostClassifier(random_state=2025, cat_features=cat_features, verbose=False)\n",
    "clf.fit(scaled_df_train[catboost_features], scaled_df_train[clf_target])\n",
    "\n",
    "clf_pred_train = clf.predict(scaled_df_train[catboost_features])\n",
    "clf_pred_test = clf.predict(scaled_df_test[catboost_features])"
   ]
  },
  {
   "cell_type": "code",
   "execution_count": 31,
   "metadata": {},
   "outputs": [
    {
     "name": "stdout",
     "output_type": "stream",
     "text": [
      "              precision    recall  f1-score   support\n",
      "\n",
      "           0       0.95      0.99      0.97       517\n",
      "           1       0.99      0.92      0.96       119\n",
      "           2       0.95      0.90      0.93       260\n",
      "\n",
      "    accuracy                           0.96       896\n",
      "   macro avg       0.96      0.94      0.95       896\n",
      "weighted avg       0.96      0.96      0.96       896\n",
      "\n"
     ]
    }
   ],
   "source": [
    "print(metrics.classification_report(scaled_df_train[clf_target], clf_pred_train))"
   ]
  },
  {
   "cell_type": "code",
   "execution_count": 32,
   "metadata": {},
   "outputs": [
    {
     "name": "stdout",
     "output_type": "stream",
     "text": [
      "              precision    recall  f1-score   support\n",
      "\n",
      "           0       0.88      0.96      0.92       238\n",
      "           1       0.95      0.90      0.92        58\n",
      "           2       0.89      0.77      0.82       146\n",
      "\n",
      "    accuracy                           0.89       442\n",
      "   macro avg       0.90      0.88      0.89       442\n",
      "weighted avg       0.89      0.89      0.89       442\n",
      "\n"
     ]
    }
   ],
   "source": [
    "print(metrics.classification_report(scaled_df_test[clf_target], clf_pred_test))"
   ]
  },
  {
   "cell_type": "markdown",
   "metadata": {},
   "source": [
    "### fit regression"
   ]
  },
  {
   "cell_type": "code",
   "execution_count": 33,
   "metadata": {},
   "outputs": [],
   "source": [
    "scaled_df_train_0 = scaled_df_train[scaled_df_train[clf_target] == 0]\n",
    "scaled_df_train_1 = scaled_df_train[scaled_df_train[clf_target] == 1]\n",
    "scaled_df_train_2 = scaled_df_train[scaled_df_train[clf_target] == 2]\n",
    "\n",
    "clf_pred_test = clf.predict(scaled_df_test[catboost_features])\n",
    "scaled_df_test['clf_pred'] = clf_pred_test\n",
    "\n",
    "scaled_df_test_0 = scaled_df_test[scaled_df_test['clf_pred'] == 0]\n",
    "scaled_df_test_1 = scaled_df_test[scaled_df_test['clf_pred'] == 1]\n",
    "scaled_df_test_2 = scaled_df_test[scaled_df_test['clf_pred'] == 2]"
   ]
  },
  {
   "cell_type": "code",
   "execution_count": 34,
   "metadata": {},
   "outputs": [
    {
     "name": "stdout",
     "output_type": "stream",
     "text": [
      "train (517, 14) (119, 14) (260, 14)\n",
      "test (261, 15) (55, 15) (126, 15)\n"
     ]
    }
   ],
   "source": [
    "print(\"train\", scaled_df_train_0.shape, scaled_df_train_1.shape, scaled_df_train_2.shape)\n",
    "print(\"test\", scaled_df_test_0.shape, scaled_df_test_1.shape, scaled_df_test_2.shape)"
   ]
  },
  {
   "cell_type": "code",
   "execution_count": 35,
   "metadata": {},
   "outputs": [],
   "source": [
    "lr_0 = LinearRegression()\n",
    "lr_0.fit(scaled_df_train_0[linear_features], scaled_df_train_0[target])\n",
    "pred_train_0 = lr_0.predict(scaled_df_train_0[linear_features])\n",
    "pred_test_0 = lr_0.predict(scaled_df_test_0[linear_features])\n",
    "\n",
    "lr_1 = LinearRegression()\n",
    "lr_1.fit(scaled_df_train_1[linear_features], scaled_df_train_1[target])\n",
    "pred_train_1 = lr_1.predict(scaled_df_train_1[linear_features])\n",
    "pred_test_1 = lr_1.predict(scaled_df_test_1[linear_features])\n",
    "\n",
    "lr_2 = LinearRegression()\n",
    "lr_2.fit(scaled_df_train_2[linear_features], scaled_df_train_2[target])\n",
    "pred_train_2 = lr_2.predict(scaled_df_train_2[linear_features])\n",
    "pred_test_2 = lr_2.predict(scaled_df_test_2[linear_features])"
   ]
  },
  {
   "cell_type": "code",
   "execution_count": 36,
   "metadata": {},
   "outputs": [
    {
     "name": "stdout",
     "output_type": "stream",
     "text": [
      "segm_kmeans3_regression, -- Type Dataset - train\n",
      "R2 = 0.9494002843285938\n",
      "MSE = 7329214.718256844\n",
      "RMSE = 2707.252245036809\n",
      "MAE = 1396.4967351630876\n",
      "MAPE = 0.10492948443724172\n",
      "segm_kmeans3_regression, -- Type Dataset - test\n",
      "R2 = 0.8297902142181742\n",
      "MSE = 25476545.429615784\n",
      "RMSE = 5047.429586395018\n",
      "MAE = 2495.463647178833\n",
      "MAPE = 0.15929809462319963\n"
     ]
    }
   ],
   "source": [
    "result_metrics = get_metrics(pd.concat([scaled_df_train_0[target], \n",
    "                                        scaled_df_train_1[target],\n",
    "                                        scaled_df_train_2[target]]),\n",
    "                             np.hstack([pred_train_0, pred_train_1, pred_train_2]),\n",
    "                              algorithm='segm_kmeans3_regression', dataset_type='train', \n",
    "                              res_df=result_metrics)\n",
    "\n",
    "result_metrics = get_metrics(pd.concat([scaled_df_test_0[target], \n",
    "                                        scaled_df_test_1[target],\n",
    "                                        scaled_df_test_2[target]]),\n",
    "                             np.hstack([pred_test_0, pred_test_1, pred_test_2]),\n",
    "                              algorithm='segm_kmeans3_regression', dataset_type='test', \n",
    "                              res_df=result_metrics)"
   ]
  },
  {
   "cell_type": "markdown",
   "metadata": {},
   "source": [
    "## fit 2 clusters on features"
   ]
  },
  {
   "cell_type": "markdown",
   "metadata": {},
   "source": [
    "### clustering"
   ]
  },
  {
   "cell_type": "code",
   "execution_count": 37,
   "metadata": {},
   "outputs": [],
   "source": [
    "kmeans = KMeans(n_clusters=2, random_state=2025)\n",
    "kmeans.fit(scaled_df_train[linear_features])\n",
    "\n",
    "scaled_df_train['kmeans'] = kmeans.predict(scaled_df_train[linear_features])\n",
    "scaled_df_test['kmeans'] = kmeans.predict(scaled_df_test[linear_features])\n",
    "\n",
    "kmeans_data = pd.concat([scaled_df_train, scaled_df_test])"
   ]
  },
  {
   "cell_type": "code",
   "execution_count": 38,
   "metadata": {},
   "outputs": [
    {
     "data": {
      "image/png": "[encoded data removed]",
      "text/plain": [
       "<Figure size 640x480 with 1 Axes>"
      ]
     },
     "metadata": {},
     "output_type": "display_data"
    }
   ],
   "source": [
    "plt.title('target dist')\n",
    "plt.grid(which='major')\n",
    "sns.histplot(data = kmeans_data, x=target, kde=True, hue='kmeans')\n",
    "plt.show()"
   ]
  },
  {
   "cell_type": "markdown",
   "metadata": {},
   "source": [
    "### fit clf"
   ]
  },
  {
   "cell_type": "code",
   "execution_count": 39,
   "metadata": {},
   "outputs": [],
   "source": [
    "clf = cat.CatBoostClassifier(random_state=2025, cat_features=cat_features, verbose=False)\n",
    "clf.fit(scaled_df_train[catboost_features], scaled_df_train[clf_target])\n",
    "\n",
    "clf_pred_train = clf.predict(scaled_df_train[catboost_features])\n",
    "clf_pred_test = clf.predict(scaled_df_test[catboost_features])"
   ]
  },
  {
   "cell_type": "code",
   "execution_count": 40,
   "metadata": {},
   "outputs": [
    {
     "name": "stdout",
     "output_type": "stream",
     "text": [
      "              precision    recall  f1-score   support\n",
      "\n",
      "           0       1.00      1.00      1.00       443\n",
      "           1       1.00      1.00      1.00       453\n",
      "\n",
      "    accuracy                           1.00       896\n",
      "   macro avg       1.00      1.00      1.00       896\n",
      "weighted avg       1.00      1.00      1.00       896\n",
      "\n"
     ]
    }
   ],
   "source": [
    "print(metrics.classification_report(scaled_df_train[clf_target], clf_pred_train))"
   ]
  },
  {
   "cell_type": "code",
   "execution_count": 41,
   "metadata": {},
   "outputs": [
    {
     "name": "stdout",
     "output_type": "stream",
     "text": [
      "              precision    recall  f1-score   support\n",
      "\n",
      "           0       1.00      1.00      1.00       247\n",
      "           1       1.00      1.00      1.00       195\n",
      "\n",
      "    accuracy                           1.00       442\n",
      "   macro avg       1.00      1.00      1.00       442\n",
      "weighted avg       1.00      1.00      1.00       442\n",
      "\n"
     ]
    }
   ],
   "source": [
    "print(metrics.classification_report(scaled_df_test[clf_target], clf_pred_test))"
   ]
  },
  {
   "cell_type": "markdown",
   "metadata": {},
   "source": [
    "### fit regression"
   ]
  },
  {
   "cell_type": "code",
   "execution_count": 42,
   "metadata": {},
   "outputs": [],
   "source": [
    "scaled_df_train_0 = scaled_df_train[scaled_df_train[clf_target] == 0]\n",
    "scaled_df_train_1 = scaled_df_train[scaled_df_train[clf_target] == 1]\n",
    "\n",
    "clf_pred_test = clf.predict(scaled_df_test[catboost_features])\n",
    "scaled_df_test['clf_pred'] = clf_pred_test\n",
    "\n",
    "scaled_df_test_0 = scaled_df_test[scaled_df_test['clf_pred'] == 0]\n",
    "scaled_df_test_1 = scaled_df_test[scaled_df_test['clf_pred'] == 1]"
   ]
  },
  {
   "cell_type": "code",
   "execution_count": 43,
   "metadata": {},
   "outputs": [
    {
     "name": "stdout",
     "output_type": "stream",
     "text": [
      "train (443, 14) (453, 14)\n",
      "test (247, 15) (195, 15)\n"
     ]
    }
   ],
   "source": [
    "print(\"train\", scaled_df_train_0.shape, scaled_df_train_1.shape)\n",
    "print(\"test\", scaled_df_test_0.shape, scaled_df_test_1.shape)"
   ]
  },
  {
   "cell_type": "code",
   "execution_count": 44,
   "metadata": {},
   "outputs": [],
   "source": [
    "lr_0 = LinearRegression()\n",
    "lr_0.fit(scaled_df_train_0[linear_features], scaled_df_train_0[target])\n",
    "pred_train_0 = lr_0.predict(scaled_df_train_0[linear_features])\n",
    "pred_test_0 = lr_0.predict(scaled_df_test_0[linear_features])\n",
    "\n",
    "lr_1 = LinearRegression()\n",
    "lr_1.fit(scaled_df_train_1[linear_features], scaled_df_train_1[target])\n",
    "pred_train_1 = lr_1.predict(scaled_df_train_1[linear_features])\n",
    "pred_test_1 = lr_1.predict(scaled_df_test_1[linear_features])"
   ]
  },
  {
   "cell_type": "code",
   "execution_count": 45,
   "metadata": {},
   "outputs": [
    {
     "name": "stdout",
     "output_type": "stream",
     "text": [
      "segm_kmeans2onFeatures_regression, -- Type Dataset - train\n",
      "R2 = 0.7663339937688404\n",
      "MSE = 33845809.39440913\n",
      "RMSE = 5817.715135206357\n",
      "MAE = 3969.705755832347\n",
      "MAPE = 0.392820604875009\n",
      "segm_kmeans2onFeatures_regression, -- Type Dataset - test\n",
      "R2 = 0.7291755953886394\n",
      "MSE = 40536272.434852496\n",
      "RMSE = 6366.8102245043\n",
      "MAE = 4347.166214303949\n",
      "MAPE = 0.4243145087480891\n"
     ]
    }
   ],
   "source": [
    "result_metrics = get_metrics(pd.concat([scaled_df_train_0[target], \n",
    "                                        scaled_df_train_1[target]]),\n",
    "                             np.hstack([pred_train_0, pred_train_1]),\n",
    "                              algorithm='segm_kmeans2onFeatures_regression', \n",
    "                              dataset_type='train', \n",
    "                              res_df=result_metrics)\n",
    "\n",
    "result_metrics = get_metrics(pd.concat([scaled_df_test_0[target], \n",
    "                                        scaled_df_test_1[target]]),\n",
    "                             np.hstack([pred_test_0, pred_test_1]),\n",
    "                              algorithm='segm_kmeans2onFeatures_regression', \n",
    "                              dataset_type='test', \n",
    "                              res_df=result_metrics)"
   ]
  },
  {
   "cell_type": "markdown",
   "metadata": {},
   "source": [
    "## fit 3 clusters on features"
   ]
  },
  {
   "cell_type": "markdown",
   "metadata": {},
   "source": [
    "### clustering"
   ]
  },
  {
   "cell_type": "code",
   "execution_count": 46,
   "metadata": {},
   "outputs": [],
   "source": [
    "kmeans = KMeans(n_clusters=3, random_state=2025)\n",
    "kmeans.fit(scaled_df_train[linear_features])\n",
    "\n",
    "scaled_df_train['kmeans'] = kmeans.predict(scaled_df_train[linear_features])\n",
    "scaled_df_test['kmeans'] = kmeans.predict(scaled_df_test[linear_features])\n",
    "\n",
    "kmeans_data = pd.concat([scaled_df_train, scaled_df_test])"
   ]
  },
  {
   "cell_type": "code",
   "execution_count": 47,
   "metadata": {},
   "outputs": [
    {
     "data": {
      "image/png": "[encoded data removed]",
      "text/plain": [
       "<Figure size 640x480 with 1 Axes>"
      ]
     },
     "metadata": {},
     "output_type": "display_data"
    }
   ],
   "source": [
    "plt.title('target dist')\n",
    "plt.grid(which='major')\n",
    "sns.histplot(data = kmeans_data, x=target, kde=True, hue='kmeans')\n",
    "plt.show()"
   ]
  },
  {
   "cell_type": "markdown",
   "metadata": {},
   "source": [
    "### fit clf"
   ]
  },
  {
   "cell_type": "code",
   "execution_count": 48,
   "metadata": {},
   "outputs": [],
   "source": [
    "clf = cat.CatBoostClassifier(random_state=2025, cat_features=cat_features, verbose=False)\n",
    "clf.fit(scaled_df_train[catboost_features], scaled_df_train[clf_target])\n",
    "\n",
    "clf_pred_train = clf.predict(scaled_df_train[catboost_features])\n",
    "clf_pred_test = clf.predict(scaled_df_test[catboost_features])"
   ]
  },
  {
   "cell_type": "code",
   "execution_count": 49,
   "metadata": {},
   "outputs": [
    {
     "name": "stdout",
     "output_type": "stream",
     "text": [
      "              precision    recall  f1-score   support\n",
      "\n",
      "           0       1.00      1.00      1.00       346\n",
      "           1       1.00      1.00      1.00       336\n",
      "           2       1.00      1.00      1.00       214\n",
      "\n",
      "    accuracy                           1.00       896\n",
      "   macro avg       1.00      1.00      1.00       896\n",
      "weighted avg       1.00      1.00      1.00       896\n",
      "\n"
     ]
    }
   ],
   "source": [
    "print(metrics.classification_report(scaled_df_train[clf_target], clf_pred_train))"
   ]
  },
  {
   "cell_type": "code",
   "execution_count": 50,
   "metadata": {},
   "outputs": [
    {
     "name": "stdout",
     "output_type": "stream",
     "text": [
      "              precision    recall  f1-score   support\n",
      "\n",
      "           0       1.00      1.00      1.00       167\n",
      "           1       1.00      1.00      1.00       164\n",
      "           2       1.00      1.00      1.00       111\n",
      "\n",
      "    accuracy                           1.00       442\n",
      "   macro avg       1.00      1.00      1.00       442\n",
      "weighted avg       1.00      1.00      1.00       442\n",
      "\n"
     ]
    }
   ],
   "source": [
    "print(metrics.classification_report(scaled_df_test[clf_target], clf_pred_test))"
   ]
  },
  {
   "cell_type": "markdown",
   "metadata": {},
   "source": [
    "### fit regression"
   ]
  },
  {
   "cell_type": "code",
   "execution_count": 51,
   "metadata": {},
   "outputs": [],
   "source": [
    "scaled_df_train_0 = scaled_df_train[scaled_df_train[clf_target] == 0]\n",
    "scaled_df_train_1 = scaled_df_train[scaled_df_train[clf_target] == 1]\n",
    "scaled_df_train_2 = scaled_df_train[scaled_df_train[clf_target] == 2]\n",
    "\n",
    "clf_pred_test = clf.predict(scaled_df_test[catboost_features])\n",
    "scaled_df_test['clf_pred'] = clf_pred_test\n",
    "\n",
    "scaled_df_test_0 = scaled_df_test[scaled_df_test['clf_pred'] == 0]\n",
    "scaled_df_test_1 = scaled_df_test[scaled_df_test['clf_pred'] == 1]\n",
    "scaled_df_test_2 = scaled_df_test[scaled_df_test['clf_pred'] == 2]"
   ]
  },
  {
   "cell_type": "code",
   "execution_count": 52,
   "metadata": {},
   "outputs": [
    {
     "name": "stdout",
     "output_type": "stream",
     "text": [
      "train (346, 14) (336, 14) (214, 14)\n",
      "test (167, 15) (164, 15) (111, 15)\n"
     ]
    }
   ],
   "source": [
    "print(\"train\", scaled_df_train_0.shape, scaled_df_train_1.shape, scaled_df_train_2.shape)\n",
    "print(\"test\", scaled_df_test_0.shape, scaled_df_test_1.shape, scaled_df_test_2.shape)"
   ]
  },
  {
   "cell_type": "code",
   "execution_count": 53,
   "metadata": {},
   "outputs": [],
   "source": [
    "lr_0 = LinearRegression()\n",
    "lr_0.fit(scaled_df_train_0[linear_features], scaled_df_train_0[target])\n",
    "pred_train_0 = lr_0.predict(scaled_df_train_0[linear_features])\n",
    "pred_test_0 = lr_0.predict(scaled_df_test_0[linear_features])\n",
    "\n",
    "lr_1 = LinearRegression()\n",
    "lr_1.fit(scaled_df_train_1[linear_features], scaled_df_train_1[target])\n",
    "pred_train_1 = lr_1.predict(scaled_df_train_1[linear_features])\n",
    "pred_test_1 = lr_1.predict(scaled_df_test_1[linear_features])\n",
    "\n",
    "lr_2 = LinearRegression()\n",
    "lr_2.fit(scaled_df_train_2[linear_features], scaled_df_train_2[target])\n",
    "pred_train_2 = lr_2.predict(scaled_df_train_2[linear_features])\n",
    "pred_test_2 = lr_2.predict(scaled_df_test_2[linear_features])"
   ]
  },
  {
   "cell_type": "code",
   "execution_count": 54,
   "metadata": {},
   "outputs": [
    {
     "name": "stdout",
     "output_type": "stream",
     "text": [
      "segm_kmeans3onFeatures_regression, -- Type Dataset - train\n",
      "R2 = 0.7653599681114255\n",
      "MSE = 33986894.044580765\n",
      "RMSE = 5829.827960118614\n",
      "MAE = 3965.3660357367985\n",
      "MAPE = 0.3918969976709327\n",
      "segm_kmeans3onFeatures_regression, -- Type Dataset - test\n",
      "R2 = 0.7248797069179238\n",
      "MSE = 41179269.52977296\n",
      "RMSE = 6417.107567259019\n",
      "MAE = 4400.019037432534\n",
      "MAPE = 0.42949183448747585\n"
     ]
    }
   ],
   "source": [
    "result_metrics = get_metrics(pd.concat([scaled_df_train_0[target], \n",
    "                                        scaled_df_train_1[target],\n",
    "                                        scaled_df_train_2[target]]),\n",
    "                             np.hstack([pred_train_0, pred_train_1, pred_train_2]),\n",
    "                              algorithm='segm_kmeans3onFeatures_regression',\n",
    "                               dataset_type='train', \n",
    "                              res_df=result_metrics)\n",
    "\n",
    "result_metrics = get_metrics(pd.concat([scaled_df_test_0[target], \n",
    "                                        scaled_df_test_1[target],\n",
    "                                        scaled_df_test_2[target]]),\n",
    "                             np.hstack([pred_test_0, pred_test_1, pred_test_2]),\n",
    "                              algorithm='segm_kmeans3onFeatures_regression',\n",
    "                               dataset_type='test', \n",
    "                              res_df=result_metrics)"
   ]
  },
  {
   "cell_type": "markdown",
   "metadata": {},
   "source": [
    "# Catboost"
   ]
  },
  {
   "cell_type": "code",
   "execution_count": 55,
   "metadata": {},
   "outputs": [],
   "source": [
    "catboost_features = num_features+cat_features"
   ]
  },
  {
   "cell_type": "code",
   "execution_count": 56,
   "metadata": {},
   "outputs": [
    {
     "name": "stderr",
     "output_type": "stream",
     "text": [
      "/Users/andrejurkinair/Documents/diploma_practice/.venv/lib/python3.11/site-packages/tqdm/auto.py:21: TqdmWarning: IProgress not found. Please update jupyter and ipywidgets. See https://ipywidgets.readthedocs.io/en/stable/user_install.html\n",
      "  from .autonotebook import tqdm as notebook_tqdm\n",
      "[I 2025-04-23 22:21:15,140] A new study created in memory with name: no-name-d7ab26b7-9a2a-49dc-aa94-ad5507f06b14\n",
      "[I 2025-04-23 22:21:15,311] Trial 0 finished with value: 4723.720948962214 and parameters: {'iterations': 1056, 'learning_rate': 0.013331376108724194, 'l2_leaf_reg': 0.008609186135553015, 'random_strength': 0.012412690119025956, 'bagging_temperature': 5.00502023364409, 'border_count': 157, 'min_data_in_leaf': 74, 'leaf_estimation_iterations': 1, 'grow_policy': 'Depthwise', 'od_type': 'Iter', 'od_wait': 29, 'one_hot_max_size': 211, 'max_depth': 10}. Best is trial 0 with value: 4723.720948962214.\n",
      "[I 2025-04-23 22:21:15,526] Trial 1 finished with value: 5461.984850245045 and parameters: {'iterations': 218, 'learning_rate': 0.006455679047861344, 'l2_leaf_reg': 0.0010073752713156538, 'random_strength': 0.08814027265599036, 'bagging_temperature': 9.21599095540525, 'border_count': 204, 'min_data_in_leaf': 10, 'leaf_estimation_iterations': 6, 'grow_policy': 'Lossguide', 'od_type': 'IncToDec', 'od_wait': 21, 'one_hot_max_size': 121, 'max_leaves': 34}. Best is trial 0 with value: 4723.720948962214.\n",
      "[I 2025-04-23 22:21:15,916] Trial 2 finished with value: 5850.918518432078 and parameters: {'iterations': 1148, 'learning_rate': 0.001000349406034948, 'l2_leaf_reg': 4.665740721230683, 'random_strength': 0.0011986287187092835, 'bagging_temperature': 7.8003877775446036, 'border_count': 51, 'min_data_in_leaf': 10, 'leaf_estimation_iterations': 7, 'grow_policy': 'SymmetricTree', 'od_type': 'IncToDec', 'od_wait': 17, 'one_hot_max_size': 252}. Best is trial 0 with value: 4723.720948962214.\n",
      "[I 2025-04-23 22:21:16,799] Trial 3 finished with value: 4925.793054305903 and parameters: {'iterations': 1296, 'learning_rate': 0.0016512359448906634, 'l2_leaf_reg': 0.1983521182307986, 'random_strength': 0.33728829780979264, 'bagging_temperature': 6.466589005482786, 'border_count': 232, 'min_data_in_leaf': 43, 'leaf_estimation_iterations': 11, 'grow_policy': 'Lossguide', 'od_type': 'Iter', 'od_wait': 24, 'one_hot_max_size': 57, 'max_leaves': 47}. Best is trial 0 with value: 4723.720948962214.\n",
      "[I 2025-04-23 22:21:17,871] Trial 4 finished with value: 4739.607510118524 and parameters: {'iterations': 1819, 'learning_rate': 0.028823807470682875, 'l2_leaf_reg': 2.1301587306217975, 'random_strength': 1.332499120063187, 'bagging_temperature': 8.561904010047346, 'border_count': 200, 'min_data_in_leaf': 35, 'leaf_estimation_iterations': 11, 'grow_policy': 'Lossguide', 'od_type': 'IncToDec', 'od_wait': 48, 'one_hot_max_size': 71, 'max_leaves': 41}. Best is trial 0 with value: 4723.720948962214.\n",
      "[I 2025-04-23 22:21:18,052] Trial 5 finished with value: 4697.360163130611 and parameters: {'iterations': 1511, 'learning_rate': 0.018742939888642576, 'l2_leaf_reg': 5.8980245886078535, 'random_strength': 0.004335054826049169, 'bagging_temperature': 3.807858949719909, 'border_count': 244, 'min_data_in_leaf': 38, 'leaf_estimation_iterations': 12, 'grow_policy': 'Lossguide', 'od_type': 'Iter', 'od_wait': 25, 'one_hot_max_size': 76, 'max_leaves': 14}. Best is trial 5 with value: 4697.360163130611.\n",
      "[I 2025-04-23 22:21:18,166] Trial 6 finished with value: 8932.643308067742 and parameters: {'iterations': 290, 'learning_rate': 0.0011217175210661095, 'l2_leaf_reg': 0.005089457569711353, 'random_strength': 0.06486500337296466, 'bagging_temperature': 2.9581251680896417, 'border_count': 197, 'min_data_in_leaf': 26, 'leaf_estimation_iterations': 5, 'grow_policy': 'SymmetricTree', 'od_type': 'IncToDec', 'od_wait': 18, 'one_hot_max_size': 209}. Best is trial 5 with value: 4697.360163130611.\n",
      "[I 2025-04-23 22:21:18,697] Trial 7 finished with value: 4958.818237731699 and parameters: {'iterations': 1541, 'learning_rate': 0.001820515468737017, 'l2_leaf_reg': 0.9247409366608896, 'random_strength': 0.1517838728096376, 'bagging_temperature': 8.32264834379002, 'border_count': 250, 'min_data_in_leaf': 24, 'leaf_estimation_iterations': 8, 'grow_policy': 'Lossguide', 'od_type': 'Iter', 'od_wait': 50, 'one_hot_max_size': 24, 'max_leaves': 4}. Best is trial 5 with value: 4697.360163130611.\n",
      "[I 2025-04-23 22:21:19,008] Trial 8 finished with value: 4648.8684736656905 and parameters: {'iterations': 887, 'learning_rate': 0.07297946946468514, 'l2_leaf_reg': 0.0025388962546049024, 'random_strength': 0.0038294773313891518, 'bagging_temperature': 3.20910889396105, 'border_count': 147, 'min_data_in_leaf': 17, 'leaf_estimation_iterations': 5, 'grow_policy': 'SymmetricTree', 'od_type': 'IncToDec', 'od_wait': 14, 'one_hot_max_size': 24}. Best is trial 8 with value: 4648.8684736656905.\n",
      "[I 2025-04-23 22:21:19,590] Trial 9 finished with value: 4699.750157355953 and parameters: {'iterations': 1329, 'learning_rate': 0.05904109625095016, 'l2_leaf_reg': 5.851231983002706, 'random_strength': 0.11976744769864966, 'bagging_temperature': 8.986114574583699, 'border_count': 184, 'min_data_in_leaf': 48, 'leaf_estimation_iterations': 10, 'grow_policy': 'SymmetricTree', 'od_type': 'IncToDec', 'od_wait': 31, 'one_hot_max_size': 197}. Best is trial 8 with value: 4648.8684736656905.\n",
      "[I 2025-04-23 22:21:19,823] Trial 10 finished with value: 4450.286906446918 and parameters: {'iterations': 703, 'learning_rate': 0.28652562627577505, 'l2_leaf_reg': 0.03149470222152338, 'random_strength': 4.928440092627996, 'bagging_temperature': 0.024608189351127407, 'border_count': 84, 'min_data_in_leaf': 99, 'leaf_estimation_iterations': 15, 'grow_policy': 'Depthwise', 'od_type': 'IncToDec', 'od_wait': 10, 'one_hot_max_size': 6, 'max_depth': 2}. Best is trial 10 with value: 4450.286906446918.\n",
      "[I 2025-04-23 22:21:20,055] Trial 11 finished with value: 4503.538250608093 and parameters: {'iterations': 722, 'learning_rate': 0.2482428489491846, 'l2_leaf_reg': 0.02557318959825182, 'random_strength': 5.246059711236396, 'bagging_temperature': 0.2686534166257807, 'border_count': 89, 'min_data_in_leaf': 100, 'leaf_estimation_iterations': 15, 'grow_policy': 'Depthwise', 'od_type': 'IncToDec', 'od_wait': 10, 'one_hot_max_size': 5, 'max_depth': 2}. Best is trial 10 with value: 4450.286906446918.\n",
      "[I 2025-04-23 22:21:20,270] Trial 12 finished with value: 4609.558511034602 and parameters: {'iterations': 657, 'learning_rate': 0.24557713484071755, 'l2_leaf_reg': 0.029254471425948152, 'random_strength': 6.974371873248128, 'bagging_temperature': 0.116574609789242, 'border_count': 75, 'min_data_in_leaf': 98, 'leaf_estimation_iterations': 15, 'grow_policy': 'Depthwise', 'od_type': 'IncToDec', 'od_wait': 10, 'one_hot_max_size': 8, 'max_depth': 2}. Best is trial 10 with value: 4450.286906446918.\n",
      "[I 2025-04-23 22:21:20,472] Trial 13 finished with value: 4598.830620479047 and parameters: {'iterations': 610, 'learning_rate': 0.26641387857773274, 'l2_leaf_reg': 0.06945259331580224, 'random_strength': 8.482806514134872, 'bagging_temperature': 0.36905048136508967, 'border_count': 100, 'min_data_in_leaf': 99, 'leaf_estimation_iterations': 15, 'grow_policy': 'Depthwise', 'od_type': 'IncToDec', 'od_wait': 10, 'one_hot_max_size': 115, 'max_depth': 2}. Best is trial 10 with value: 4450.286906446918.\n",
      "[I 2025-04-23 22:21:20,775] Trial 14 finished with value: 4673.592705992501 and parameters: {'iterations': 633, 'learning_rate': 0.15162067645274305, 'l2_leaf_reg': 0.2115301790956991, 'random_strength': 1.7661677657275827, 'bagging_temperature': 1.6605148904981926, 'border_count': 104, 'min_data_in_leaf': 77, 'leaf_estimation_iterations': 14, 'grow_policy': 'Depthwise', 'od_type': 'IncToDec', 'od_wait': 37, 'one_hot_max_size': 46, 'max_depth': 5}. Best is trial 10 with value: 4450.286906446918.\n",
      "[I 2025-04-23 22:21:21,156] Trial 15 finished with value: 4665.818456130134 and parameters: {'iterations': 856, 'learning_rate': 0.09599841869833803, 'l2_leaf_reg': 0.021575709519983746, 'random_strength': 1.529103117815953, 'bagging_temperature': 1.6141003206007851, 'border_count': 34, 'min_data_in_leaf': 80, 'leaf_estimation_iterations': 13, 'grow_policy': 'Depthwise', 'od_type': 'IncToDec', 'od_wait': 39, 'one_hot_max_size': 4, 'max_depth': 5}. Best is trial 10 with value: 4450.286906446918.\n",
      "[I 2025-04-23 22:21:21,290] Trial 16 finished with value: 4696.465110295003 and parameters: {'iterations': 428, 'learning_rate': 0.039383432363983284, 'l2_leaf_reg': 0.0462781746759755, 'random_strength': 3.7062323882765416, 'bagging_temperature': 1.6871477139767053, 'border_count': 111, 'min_data_in_leaf': 64, 'leaf_estimation_iterations': 9, 'grow_policy': 'Depthwise', 'od_type': 'IncToDec', 'od_wait': 14, 'one_hot_max_size': 153, 'max_depth': 2}. Best is trial 10 with value: 4450.286906446918.\n",
      "[I 2025-04-23 22:21:21,681] Trial 17 finished with value: 4620.957423303515 and parameters: {'iterations': 852, 'learning_rate': 0.13128898111960388, 'l2_leaf_reg': 0.3220969160163922, 'random_strength': 0.7189261047609828, 'bagging_temperature': 4.969476951976119, 'border_count': 77, 'min_data_in_leaf': 89, 'leaf_estimation_iterations': 13, 'grow_policy': 'Depthwise', 'od_type': 'IncToDec', 'od_wait': 14, 'one_hot_max_size': 89, 'max_depth': 5}. Best is trial 10 with value: 4450.286906446918.\n",
      "[I 2025-04-23 22:21:21,717] Trial 18 finished with value: 4652.047163078739 and parameters: {'iterations': 105, 'learning_rate': 0.2733217444049099, 'l2_leaf_reg': 0.011998915518466402, 'random_strength': 0.4368284958045935, 'bagging_temperature': 0.7533776425939775, 'border_count': 129, 'min_data_in_leaf': 57, 'leaf_estimation_iterations': 1, 'grow_policy': 'Depthwise', 'od_type': 'Iter', 'od_wait': 10, 'one_hot_max_size': 39, 'max_depth': 9}. Best is trial 10 with value: 4450.286906446918.\n",
      "[I 2025-04-23 22:21:21,926] Trial 19 finished with value: 5857.1154655209875 and parameters: {'iterations': 442, 'learning_rate': 0.003964766087745279, 'l2_leaf_reg': 0.10741380862276925, 'random_strength': 3.9641876325273215, 'bagging_temperature': 2.4459766021457074, 'border_count': 72, 'min_data_in_leaf': 86, 'leaf_estimation_iterations': 15, 'grow_policy': 'Depthwise', 'od_type': 'IncToDec', 'od_wait': 20, 'one_hot_max_size': 159, 'max_depth': 4}. Best is trial 10 with value: 4450.286906446918.\n",
      "[I 2025-04-23 22:21:22,390] Trial 20 finished with value: 4740.559981305174 and parameters: {'iterations': 760, 'learning_rate': 0.15058307804345866, 'l2_leaf_reg': 0.002931681535033056, 'random_strength': 0.035222836419104085, 'bagging_temperature': 4.374291044980959, 'border_count': 55, 'min_data_in_leaf': 66, 'leaf_estimation_iterations': 3, 'grow_policy': 'Depthwise', 'od_type': 'IncToDec', 'od_wait': 35, 'one_hot_max_size': 94, 'max_depth': 12}. Best is trial 10 with value: 4450.286906446918.\n",
      "[I 2025-04-23 22:21:22,580] Trial 21 finished with value: 4651.981847302588 and parameters: {'iterations': 554, 'learning_rate': 0.2904755752958878, 'l2_leaf_reg': 0.05929309118000276, 'random_strength': 9.456715451273272, 'bagging_temperature': 0.05997412824528084, 'border_count': 109, 'min_data_in_leaf': 94, 'leaf_estimation_iterations': 15, 'grow_policy': 'Depthwise', 'od_type': 'IncToDec', 'od_wait': 11, 'one_hot_max_size': 117, 'max_depth': 2}. Best is trial 10 with value: 4450.286906446918.\n",
      "[I 2025-04-23 22:21:22,748] Trial 22 finished with value: 4688.1152094497775 and parameters: {'iterations': 451, 'learning_rate': 0.1645864471240482, 'l2_leaf_reg': 0.019353363086448985, 'random_strength': 3.49968876098773, 'bagging_temperature': 0.8896680278719549, 'border_count': 88, 'min_data_in_leaf': 100, 'leaf_estimation_iterations': 13, 'grow_policy': 'Depthwise', 'od_type': 'IncToDec', 'od_wait': 15, 'one_hot_max_size': 155, 'max_depth': 3}. Best is trial 10 with value: 4450.286906446918.\n",
      "[I 2025-04-23 22:21:23,187] Trial 23 finished with value: 4652.093260966413 and parameters: {'iterations': 1066, 'learning_rate': 0.09077728418260667, 'l2_leaf_reg': 0.0687203852256222, 'random_strength': 9.965263565410005, 'bagging_temperature': 0.9898889216976704, 'border_count': 129, 'min_data_in_leaf': 89, 'leaf_estimation_iterations': 14, 'grow_policy': 'Depthwise', 'od_type': 'IncToDec', 'od_wait': 10, 'one_hot_max_size': 28, 'max_depth': 4}. Best is trial 10 with value: 4450.286906446918.\n",
      "[I 2025-04-23 22:21:23,560] Trial 24 finished with value: 4717.863826412513 and parameters: {'iterations': 701, 'learning_rate': 0.04714724781627118, 'l2_leaf_reg': 0.10568624292466745, 'random_strength': 2.7092580578862315, 'bagging_temperature': 0.01054413154908318, 'border_count': 91, 'min_data_in_leaf': 84, 'leaf_estimation_iterations': 12, 'grow_policy': 'Depthwise', 'od_type': 'IncToDec', 'od_wait': 22, 'one_hot_max_size': 59, 'max_depth': 7}. Best is trial 10 with value: 4450.286906446918.\n",
      "[I 2025-04-23 22:21:23,927] Trial 25 finished with value: 4675.756407440263 and parameters: {'iterations': 944, 'learning_rate': 0.21233343403887187, 'l2_leaf_reg': 0.49232310102807403, 'random_strength': 0.5499087572598047, 'bagging_temperature': 2.367530696045599, 'border_count': 129, 'min_data_in_leaf': 71, 'leaf_estimation_iterations': 14, 'grow_policy': 'Depthwise', 'od_type': 'IncToDec', 'od_wait': 17, 'one_hot_max_size': 7, 'max_depth': 3}. Best is trial 10 with value: 4450.286906446918.\n",
      "[I 2025-04-23 22:21:23,989] Trial 26 finished with value: 4692.101175024735 and parameters: {'iterations': 567, 'learning_rate': 0.11230993058407851, 'l2_leaf_reg': 0.010510109218545656, 'random_strength': 0.9137154993951655, 'bagging_temperature': 6.5294576783911165, 'border_count': 57, 'min_data_in_leaf': 93, 'leaf_estimation_iterations': 15, 'grow_policy': 'Depthwise', 'od_type': 'Iter', 'od_wait': 12, 'one_hot_max_size': 103, 'max_depth': 7}. Best is trial 10 with value: 4450.286906446918.\n",
      "[I 2025-04-23 22:21:24,105] Trial 27 finished with value: 4585.561600485074 and parameters: {'iterations': 284, 'learning_rate': 0.1857522283691042, 'l2_leaf_reg': 0.03274185541425379, 'random_strength': 4.589306151523256, 'bagging_temperature': 0.9185379482009124, 'border_count': 32, 'min_data_in_leaf': 100, 'leaf_estimation_iterations': 12, 'grow_policy': 'Depthwise', 'od_type': 'IncToDec', 'od_wait': 18, 'one_hot_max_size': 182, 'max_depth': 3}. Best is trial 10 with value: 4450.286906446918.\n",
      "[I 2025-04-23 22:21:24,236] Trial 28 finished with value: 4793.130237552126 and parameters: {'iterations': 303, 'learning_rate': 0.031107606890068727, 'l2_leaf_reg': 0.0055920503132915345, 'random_strength': 0.25275207292401647, 'bagging_temperature': 1.3099875309116626, 'border_count': 39, 'min_data_in_leaf': 82, 'leaf_estimation_iterations': 12, 'grow_policy': 'SymmetricTree', 'od_type': 'IncToDec', 'od_wait': 27, 'one_hot_max_size': 176}. Best is trial 10 with value: 4450.286906446918.\n",
      "[I 2025-04-23 22:21:24,301] Trial 29 finished with value: 5609.453172623251 and parameters: {'iterations': 117, 'learning_rate': 0.01102682024072095, 'l2_leaf_reg': 0.03265434842583184, 'random_strength': 0.027774333265057512, 'bagging_temperature': 2.011160754148256, 'border_count': 159, 'min_data_in_leaf': 75, 'leaf_estimation_iterations': 10, 'grow_policy': 'Depthwise', 'od_type': 'Iter', 'od_wait': 19, 'one_hot_max_size': 239, 'max_depth': 3}. Best is trial 10 with value: 4450.286906446918.\n",
      "[I 2025-04-23 22:21:24,715] Trial 30 finished with value: 4629.996877226727 and parameters: {'iterations': 1019, 'learning_rate': 0.186835811020857, 'l2_leaf_reg': 0.014609083098411038, 'random_strength': 2.240892906526907, 'bagging_temperature': 2.9495602881159515, 'border_count': 57, 'min_data_in_leaf': 59, 'leaf_estimation_iterations': 13, 'grow_policy': 'Depthwise', 'od_type': 'IncToDec', 'od_wait': 31, 'one_hot_max_size': 138, 'max_depth': 4}. Best is trial 10 with value: 4450.286906446918.\n",
      "[I 2025-04-23 22:21:24,888] Trial 31 finished with value: 4692.497300081787 and parameters: {'iterations': 509, 'learning_rate': 0.2667121177760398, 'l2_leaf_reg': 0.1382240670041954, 'random_strength': 5.684028923520811, 'bagging_temperature': 0.5675475788397306, 'border_count': 94, 'min_data_in_leaf': 97, 'leaf_estimation_iterations': 14, 'grow_policy': 'Depthwise', 'od_type': 'IncToDec', 'od_wait': 13, 'one_hot_max_size': 193, 'max_depth': 2}. Best is trial 10 with value: 4450.286906446918.\n",
      "[I 2025-04-23 22:21:25,027] Trial 32 finished with value: 4640.725676799896 and parameters: {'iterations': 329, 'learning_rate': 0.18969798501717486, 'l2_leaf_reg': 0.04529114286031499, 'random_strength': 5.238327670383531, 'bagging_temperature': 0.47897776877083803, 'border_count': 67, 'min_data_in_leaf': 100, 'leaf_estimation_iterations': 15, 'grow_policy': 'Depthwise', 'od_type': 'IncToDec', 'od_wait': 16, 'one_hot_max_size': 236, 'max_depth': 3}. Best is trial 10 with value: 4450.286906446918.\n",
      "[I 2025-04-23 22:21:25,284] Trial 33 finished with value: 4670.187288056406 and parameters: {'iterations': 794, 'learning_rate': 0.09286761820300007, 'l2_leaf_reg': 0.0726630104989126, 'random_strength': 1.0687095051721154, 'bagging_temperature': 1.1284954665959257, 'border_count': 119, 'min_data_in_leaf': 91, 'leaf_estimation_iterations': 14, 'grow_policy': 'Depthwise', 'od_type': 'IncToDec', 'od_wait': 12, 'one_hot_max_size': 130, 'max_depth': 2}. Best is trial 10 with value: 4450.286906446918.\n",
      "[I 2025-04-23 22:21:25,382] Trial 34 finished with value: 4603.960305384497 and parameters: {'iterations': 230, 'learning_rate': 0.0636123037391265, 'l2_leaf_reg': 0.008030445039451937, 'random_strength': 2.1550476878996454, 'bagging_temperature': 6.16501889636657, 'border_count': 169, 'min_data_in_leaf': 93, 'leaf_estimation_iterations': 11, 'grow_policy': 'Depthwise', 'od_type': 'IncToDec', 'od_wait': 22, 'one_hot_max_size': 175, 'max_depth': 3}. Best is trial 10 with value: 4450.286906446918.\n",
      "[I 2025-04-23 22:21:25,953] Trial 35 finished with value: 4588.803973140675 and parameters: {'iterations': 1188, 'learning_rate': 0.13568916513876514, 'l2_leaf_reg': 0.03219986339672252, 'random_strength': 5.793920065105259, 'bagging_temperature': 0.5543559576361191, 'border_count': 42, 'min_data_in_leaf': 85, 'leaf_estimation_iterations': 12, 'grow_policy': 'Lossguide', 'od_type': 'IncToDec', 'od_wait': 16, 'one_hot_max_size': 109, 'max_leaves': 63}. Best is trial 10 with value: 4450.286906446918.\n",
      "[I 2025-04-23 22:21:26,515] Trial 36 finished with value: 4801.151595506775 and parameters: {'iterations': 1229, 'learning_rate': 0.12379321026438668, 'l2_leaf_reg': 0.029270764014697213, 'random_strength': 4.013866276001836, 'bagging_temperature': 2.2059001236464812, 'border_count': 33, 'min_data_in_leaf': 83, 'leaf_estimation_iterations': 10, 'grow_policy': 'Lossguide', 'od_type': 'IncToDec', 'od_wait': 17, 'one_hot_max_size': 53, 'max_leaves': 60}. Best is trial 10 with value: 4450.286906446918.\n",
      "[I 2025-04-23 22:21:26,716] Trial 37 finished with value: 4894.882672056049 and parameters: {'iterations': 1119, 'learning_rate': 0.02081681540938841, 'l2_leaf_reg': 0.0020427985913458297, 'random_strength': 0.2729658580347352, 'bagging_temperature': 1.075695753155756, 'border_count': 46, 'min_data_in_leaf': 2, 'leaf_estimation_iterations': 7, 'grow_policy': 'Lossguide', 'od_type': 'Iter', 'od_wait': 24, 'one_hot_max_size': 30, 'max_leaves': 63}. Best is trial 10 with value: 4450.286906446918.\n",
      "[I 2025-04-23 22:21:27,391] Trial 38 finished with value: 4704.492505346174 and parameters: {'iterations': 1468, 'learning_rate': 0.007203162501056965, 'l2_leaf_reg': 0.01858523063152154, 'random_strength': 1.497577662033125, 'bagging_temperature': 3.607207177512686, 'border_count': 46, 'min_data_in_leaf': 87, 'leaf_estimation_iterations': 11, 'grow_policy': 'Lossguide', 'od_type': 'IncToDec', 'od_wait': 20, 'one_hot_max_size': 72, 'max_leaves': 24}. Best is trial 10 with value: 4450.286906446918.\n",
      "[I 2025-04-23 22:21:27,939] Trial 39 finished with value: 4763.350355342461 and parameters: {'iterations': 961, 'learning_rate': 0.2057739169610742, 'l2_leaf_reg': 0.008035690822499697, 'random_strength': 5.8939550488003665, 'bagging_temperature': 9.834462704664402, 'border_count': 84, 'min_data_in_leaf': 71, 'leaf_estimation_iterations': 12, 'grow_policy': 'Lossguide', 'od_type': 'IncToDec', 'od_wait': 16, 'one_hot_max_size': 216, 'max_leaves': 50}. Best is trial 10 with value: 4450.286906446918.\n",
      "[I 2025-04-23 22:21:28,012] Trial 40 finished with value: 4750.961715425859 and parameters: {'iterations': 1414, 'learning_rate': 0.0752037009701504, 'l2_leaf_reg': 0.1771766840436176, 'random_strength': 0.0010273346372361171, 'bagging_temperature': 2.717705670106678, 'border_count': 226, 'min_data_in_leaf': 94, 'leaf_estimation_iterations': 9, 'grow_policy': 'Lossguide', 'od_type': 'Iter', 'od_wait': 27, 'one_hot_max_size': 17, 'max_leaves': 28}. Best is trial 10 with value: 4450.286906446918.\n",
      "[I 2025-04-23 22:21:28,366] Trial 41 finished with value: 4617.74777621096 and parameters: {'iterations': 722, 'learning_rate': 0.2887923122521708, 'l2_leaf_reg': 0.04008528761942325, 'random_strength': 9.897339431988847, 'bagging_temperature': 0.4397206395202466, 'border_count': 68, 'min_data_in_leaf': 99, 'leaf_estimation_iterations': 13, 'grow_policy': 'Lossguide', 'od_type': 'IncToDec', 'od_wait': 12, 'one_hot_max_size': 113, 'max_leaves': 54}. Best is trial 10 with value: 4450.286906446918.\n",
      "[I 2025-04-23 22:21:28,537] Trial 42 finished with value: 5090.368708199449 and parameters: {'iterations': 362, 'learning_rate': 0.2034592141108958, 'l2_leaf_reg': 0.024029416078951257, 'random_strength': 2.7472665040692346, 'bagging_temperature': 0.4678976795520928, 'border_count': 96, 'min_data_in_leaf': 95, 'leaf_estimation_iterations': 15, 'grow_policy': 'SymmetricTree', 'od_type': 'IncToDec', 'od_wait': 43, 'one_hot_max_size': 144}. Best is trial 10 with value: 4450.286906446918.\n",
      "[I 2025-04-23 22:21:29,325] Trial 43 finished with value: 4836.494354076149 and parameters: {'iterations': 1653, 'learning_rate': 0.13759620978746764, 'l2_leaf_reg': 0.07348437365978266, 'random_strength': 6.598528218827354, 'bagging_temperature': 1.3795058061534444, 'border_count': 63, 'min_data_in_leaf': 100, 'leaf_estimation_iterations': 14, 'grow_policy': 'Lossguide', 'od_type': 'IncToDec', 'od_wait': 13, 'one_hot_max_size': 82, 'max_leaves': 39}. Best is trial 10 with value: 4450.286906446918.\n",
      "[I 2025-04-23 22:21:29,852] Trial 44 finished with value: 4604.02054067086 and parameters: {'iterations': 1222, 'learning_rate': 0.21910362952505433, 'l2_leaf_reg': 1.1856518515308525, 'random_strength': 0.0063821386339715114, 'bagging_temperature': 0.09549143974691657, 'border_count': 80, 'min_data_in_leaf': 89, 'leaf_estimation_iterations': 12, 'grow_policy': 'SymmetricTree', 'od_type': 'IncToDec', 'od_wait': 10, 'one_hot_max_size': 64}. Best is trial 10 with value: 4450.286906446918.\n",
      "[I 2025-04-23 22:21:30,776] Trial 45 finished with value: 4853.586033198555 and parameters: {'iterations': 1926, 'learning_rate': 0.10654527398122739, 'l2_leaf_reg': 0.00570660023736858, 'random_strength': 5.214003449578372, 'bagging_temperature': 1.9031557378365753, 'border_count': 44, 'min_data_in_leaf': 80, 'leaf_estimation_iterations': 14, 'grow_policy': 'Depthwise', 'od_type': 'IncToDec', 'od_wait': 18, 'one_hot_max_size': 128, 'max_depth': 6}. Best is trial 10 with value: 4450.286906446918.\n",
      "[I 2025-04-23 22:21:30,958] Trial 46 finished with value: 4779.149998195757 and parameters: {'iterations': 645, 'learning_rate': 0.16245806936553825, 'l2_leaf_reg': 0.04804996041865646, 'random_strength': 2.7132923750818634, 'bagging_temperature': 0.7362196270250837, 'border_count': 120, 'min_data_in_leaf': 37, 'leaf_estimation_iterations': 8, 'grow_policy': 'Depthwise', 'od_type': 'IncToDec', 'od_wait': 13, 'one_hot_max_size': 100, 'max_depth': 2}. Best is trial 10 with value: 4450.286906446918.\n",
      "[I 2025-04-23 22:21:31,074] Trial 47 finished with value: 7897.9264253647025 and parameters: {'iterations': 205, 'learning_rate': 0.002936358471822253, 'l2_leaf_reg': 0.23065903047392267, 'random_strength': 1.2996618771834303, 'bagging_temperature': 1.637589744205766, 'border_count': 101, 'min_data_in_leaf': 95, 'leaf_estimation_iterations': 11, 'grow_policy': 'Lossguide', 'od_type': 'IncToDec', 'od_wait': 15, 'one_hot_max_size': 174, 'max_leaves': 19}. Best is trial 10 with value: 4450.286906446918.\n",
      "[I 2025-04-23 22:21:31,408] Trial 48 finished with value: 4741.382841737008 and parameters: {'iterations': 821, 'learning_rate': 0.22580793696148047, 'l2_leaf_reg': 0.015076259343692139, 'random_strength': 6.964072196407774, 'bagging_temperature': 0.36790496363726266, 'border_count': 146, 'min_data_in_leaf': 78, 'leaf_estimation_iterations': 13, 'grow_policy': 'Depthwise', 'od_type': 'IncToDec', 'od_wait': 15, 'one_hot_max_size': 17, 'max_depth': 4}. Best is trial 10 with value: 4450.286906446918.\n",
      "[I 2025-04-23 22:21:31,638] Trial 49 finished with value: 4711.0137085991355 and parameters: {'iterations': 586, 'learning_rate': 0.05243297780761391, 'l2_leaf_reg': 0.3878889099531264, 'random_strength': 0.7420849959610577, 'bagging_temperature': 1.3725339675276702, 'border_count': 33, 'min_data_in_leaf': 87, 'leaf_estimation_iterations': 15, 'grow_policy': 'Depthwise', 'od_type': 'IncToDec', 'od_wait': 10, 'one_hot_max_size': 108, 'max_depth': 3}. Best is trial 10 with value: 4450.286906446918.\n",
      "[I 2025-04-23 22:21:31,688] Trial 50 finished with value: 4834.0430819104795 and parameters: {'iterations': 904, 'learning_rate': 0.0862186411018677, 'l2_leaf_reg': 3.369971887032113, 'random_strength': 4.037832730682289, 'bagging_temperature': 3.478473885143068, 'border_count': 51, 'min_data_in_leaf': 44, 'leaf_estimation_iterations': 5, 'grow_policy': 'SymmetricTree', 'od_type': 'Iter', 'od_wait': 18, 'one_hot_max_size': 42}. Best is trial 10 with value: 4450.286906446918.\n",
      "[I 2025-04-23 22:21:31,780] Trial 51 finished with value: 4606.314265046522 and parameters: {'iterations': 197, 'learning_rate': 0.07121087117673659, 'l2_leaf_reg': 0.007664351629069534, 'random_strength': 2.331870989881341, 'bagging_temperature': 5.17693235892546, 'border_count': 179, 'min_data_in_leaf': 92, 'leaf_estimation_iterations': 11, 'grow_policy': 'Depthwise', 'od_type': 'IncToDec', 'od_wait': 22, 'one_hot_max_size': 172, 'max_depth': 3}. Best is trial 10 with value: 4450.286906446918.\n",
      "[I 2025-04-23 22:21:31,906] Trial 52 finished with value: 4686.985432514991 and parameters: {'iterations': 387, 'learning_rate': 0.12997587425072724, 'l2_leaf_reg': 0.003251010037141382, 'random_strength': 1.9568321462972618, 'bagging_temperature': 6.803525504404916, 'border_count': 177, 'min_data_in_leaf': 96, 'leaf_estimation_iterations': 10, 'grow_policy': 'Depthwise', 'od_type': 'IncToDec', 'od_wait': 22, 'one_hot_max_size': 186, 'max_depth': 2}. Best is trial 10 with value: 4450.286906446918.\n",
      "[I 2025-04-23 22:21:32,020] Trial 53 finished with value: 4650.6411814783505 and parameters: {'iterations': 243, 'learning_rate': 0.16014981516716514, 'l2_leaf_reg': 0.025149032744615114, 'random_strength': 8.149210575752644, 'bagging_temperature': 7.600131437660491, 'border_count': 161, 'min_data_in_leaf': 30, 'leaf_estimation_iterations': 12, 'grow_policy': 'Depthwise', 'od_type': 'IncToDec', 'od_wait': 20, 'one_hot_max_size': 198, 'max_depth': 3}. Best is trial 10 with value: 4450.286906446918.\n",
      "[I 2025-04-23 22:21:32,137] Trial 54 finished with value: 4670.047103733088 and parameters: {'iterations': 249, 'learning_rate': 0.28847911316140845, 'l2_leaf_reg': 0.0013412098214210628, 'random_strength': 3.474586267686645, 'bagging_temperature': 6.053308066809886, 'border_count': 167, 'min_data_in_leaf': 91, 'leaf_estimation_iterations': 9, 'grow_policy': 'Depthwise', 'od_type': 'IncToDec', 'od_wait': 12, 'one_hot_max_size': 214, 'max_depth': 4}. Best is trial 10 with value: 4450.286906446918.\n",
      "[I 2025-04-23 22:21:32,290] Trial 55 finished with value: 4598.815494170922 and parameters: {'iterations': 450, 'learning_rate': 0.06550791384615963, 'l2_leaf_reg': 0.011330268454687143, 'random_strength': 4.492062831146453, 'bagging_temperature': 5.675835583943947, 'border_count': 193, 'min_data_in_leaf': 97, 'leaf_estimation_iterations': 13, 'grow_policy': 'Depthwise', 'od_type': 'IncToDec', 'od_wait': 25, 'one_hot_max_size': 147, 'max_depth': 2}. Best is trial 10 with value: 4450.286906446918.\n",
      "[I 2025-04-23 22:21:32,452] Trial 56 finished with value: 4611.907382285051 and parameters: {'iterations': 483, 'learning_rate': 0.23654480550738022, 'l2_leaf_reg': 0.036113452622143966, 'random_strength': 0.0018136845219717764, 'bagging_temperature': 5.1417098587593, 'border_count': 137, 'min_data_in_leaf': 97, 'leaf_estimation_iterations': 13, 'grow_policy': 'Depthwise', 'od_type': 'IncToDec', 'od_wait': 24, 'one_hot_max_size': 163, 'max_depth': 2}. Best is trial 10 with value: 4450.286906446918.\n",
      "[I 2025-04-23 22:21:32,850] Trial 57 finished with value: 4766.192021683315 and parameters: {'iterations': 609, 'learning_rate': 0.17276569256396557, 'l2_leaf_reg': 0.016383315631789214, 'random_strength': 4.282159527749659, 'bagging_temperature': 5.742241100451192, 'border_count': 210, 'min_data_in_leaf': 85, 'leaf_estimation_iterations': 14, 'grow_policy': 'Depthwise', 'od_type': 'IncToDec', 'od_wait': 14, 'one_hot_max_size': 145, 'max_depth': 9}. Best is trial 10 with value: 4450.286906446918.\n",
      "[I 2025-04-23 22:21:33,040] Trial 58 finished with value: 4679.818409758005 and parameters: {'iterations': 529, 'learning_rate': 0.04208836690155744, 'l2_leaf_reg': 0.09476476696631611, 'random_strength': 6.601299093001423, 'bagging_temperature': 4.15760574396721, 'border_count': 192, 'min_data_in_leaf': 100, 'leaf_estimation_iterations': 15, 'grow_policy': 'Depthwise', 'od_type': 'IncToDec', 'od_wait': 33, 'one_hot_max_size': 126, 'max_depth': 2}. Best is trial 10 with value: 4450.286906446918.\n",
      "[I 2025-04-23 22:21:33,383] Trial 59 finished with value: 4727.316128005075 and parameters: {'iterations': 735, 'learning_rate': 0.11559032097665238, 'l2_leaf_reg': 0.010475020971399362, 'random_strength': 1.5747184877578735, 'bagging_temperature': 7.438425482765817, 'border_count': 115, 'min_data_in_leaf': 90, 'leaf_estimation_iterations': 14, 'grow_policy': 'Depthwise', 'od_type': 'IncToDec', 'od_wait': 27, 'one_hot_max_size': 87, 'max_depth': 5}. Best is trial 10 with value: 4450.286906446918.\n",
      "[I 2025-04-23 22:21:33,630] Trial 60 finished with value: 4821.45901901896 and parameters: {'iterations': 398, 'learning_rate': 0.24047916153817467, 'l2_leaf_reg': 0.05576448599500624, 'random_strength': 3.054585226630102, 'bagging_temperature': 0.7911342130671384, 'border_count': 212, 'min_data_in_leaf': 52, 'leaf_estimation_iterations': 13, 'grow_policy': 'Lossguide', 'od_type': 'IncToDec', 'od_wait': 11, 'one_hot_max_size': 164, 'max_leaves': 57}. Best is trial 10 with value: 4450.286906446918.\n",
      "[I 2025-04-23 22:21:33,799] Trial 61 finished with value: 4675.96968327319 and parameters: {'iterations': 453, 'learning_rate': 0.06444019349253127, 'l2_leaf_reg': 0.004160855819684953, 'random_strength': 4.671590640356312, 'bagging_temperature': 5.746570228538948, 'border_count': 187, 'min_data_in_leaf': 93, 'leaf_estimation_iterations': 11, 'grow_policy': 'Depthwise', 'od_type': 'IncToDec', 'od_wait': 23, 'one_hot_max_size': 151, 'max_depth': 3}. Best is trial 10 with value: 4450.286906446918.\n",
      "[I 2025-04-23 22:21:33,876] Trial 62 finished with value: 5222.8213169969 and parameters: {'iterations': 168, 'learning_rate': 0.03178207635203357, 'l2_leaf_reg': 0.012331888626227737, 'random_strength': 7.416483112273253, 'bagging_temperature': 4.626530420663681, 'border_count': 172, 'min_data_in_leaf': 97, 'leaf_estimation_iterations': 12, 'grow_policy': 'Depthwise', 'od_type': 'IncToDec', 'od_wait': 26, 'one_hot_max_size': 182, 'max_depth': 2}. Best is trial 10 with value: 4450.286906446918.\n",
      "[I 2025-04-23 22:21:33,993] Trial 63 finished with value: 4632.857109173366 and parameters: {'iterations': 291, 'learning_rate': 0.023936959740326003, 'l2_leaf_reg': 0.024864274246154106, 'random_strength': 0.07938589936514479, 'bagging_temperature': 7.212657309148257, 'border_count': 197, 'min_data_in_leaf': 86, 'leaf_estimation_iterations': 15, 'grow_policy': 'Depthwise', 'od_type': 'IncToDec', 'od_wait': 19, 'one_hot_max_size': 137, 'max_depth': 2}. Best is trial 10 with value: 4450.286906446918.\n",
      "[I 2025-04-23 22:21:34,440] Trial 64 finished with value: 4669.244808183676 and parameters: {'iterations': 1336, 'learning_rate': 0.013702809635310545, 'l2_leaf_reg': 0.008313368489103141, 'random_strength': 1.9347745582364444, 'bagging_temperature': 6.255015199406747, 'border_count': 61, 'min_data_in_leaf': 95, 'leaf_estimation_iterations': 12, 'grow_policy': 'Depthwise', 'od_type': 'IncToDec', 'od_wait': 21, 'one_hot_max_size': 119, 'max_depth': 3}. Best is trial 10 with value: 4450.286906446918.\n",
      "[I 2025-04-23 22:21:34,712] Trial 65 finished with value: 4688.901855635758 and parameters: {'iterations': 653, 'learning_rate': 0.17646648903866152, 'l2_leaf_reg': 0.03408441777565229, 'random_strength': 9.585329550877178, 'bagging_temperature': 5.5898657222828785, 'border_count': 75, 'min_data_in_leaf': 81, 'leaf_estimation_iterations': 13, 'grow_policy': 'Depthwise', 'od_type': 'IncToDec', 'od_wait': 30, 'one_hot_max_size': 4, 'max_depth': 4}. Best is trial 10 with value: 4450.286906446918.\n",
      "[I 2025-04-23 22:21:34,777] Trial 66 finished with value: 4705.129535584952 and parameters: {'iterations': 338, 'learning_rate': 0.13802155978778882, 'l2_leaf_reg': 0.016899646290899552, 'random_strength': 1.022134537352755, 'bagging_temperature': 8.220687006805571, 'border_count': 101, 'min_data_in_leaf': 89, 'leaf_estimation_iterations': 14, 'grow_policy': 'Depthwise', 'od_type': 'Iter', 'od_wait': 16, 'one_hot_max_size': 206, 'max_depth': 2}. Best is trial 10 with value: 4450.286906446918.\n",
      "[I 2025-04-23 22:21:35,459] Trial 67 finished with value: 4706.6842005546805 and parameters: {'iterations': 1017, 'learning_rate': 0.05617238764348786, 'l2_leaf_reg': 9.172817315078914, 'random_strength': 3.309881757342808, 'bagging_temperature': 0.0008384690218538049, 'border_count': 85, 'min_data_in_leaf': 100, 'leaf_estimation_iterations': 15, 'grow_policy': 'Depthwise', 'od_type': 'IncToDec', 'od_wait': 25, 'one_hot_max_size': 20, 'max_depth': 12}. Best is trial 10 with value: 4450.286906446918.\n",
      "[I 2025-04-23 22:21:35,533] Trial 68 finished with value: 4892.60609998814 and parameters: {'iterations': 127, 'learning_rate': 0.10050490909588498, 'l2_leaf_reg': 0.13310247243074338, 'random_strength': 5.013947138986801, 'bagging_temperature': 6.9538737283697705, 'border_count': 49, 'min_data_in_leaf': 18, 'leaf_estimation_iterations': 11, 'grow_policy': 'SymmetricTree', 'od_type': 'IncToDec', 'od_wait': 19, 'one_hot_max_size': 224}. Best is trial 10 with value: 4450.286906446918.\n",
      "[I 2025-04-23 22:21:35,787] Trial 69 finished with value: 4714.982900864612 and parameters: {'iterations': 507, 'learning_rate': 0.24951936565899221, 'l2_leaf_reg': 0.08950339369343119, 'random_strength': 0.03837868964256728, 'bagging_temperature': 0.3177664636967814, 'border_count': 226, 'min_data_in_leaf': 92, 'leaf_estimation_iterations': 13, 'grow_policy': 'Depthwise', 'od_type': 'IncToDec', 'od_wait': 11, 'one_hot_max_size': 167, 'max_depth': 5}. Best is trial 10 with value: 4450.286906446918.\n",
      "[I 2025-04-23 22:21:36,295] Trial 70 finished with value: 4733.570709230026 and parameters: {'iterations': 693, 'learning_rate': 0.14765258086461225, 'l2_leaf_reg': 0.05289781983916708, 'random_strength': 2.201707819459151, 'bagging_temperature': 1.0705505349887279, 'border_count': 150, 'min_data_in_leaf': 72, 'leaf_estimation_iterations': 14, 'grow_policy': 'Depthwise', 'od_type': 'IncToDec', 'od_wait': 17, 'one_hot_max_size': 186, 'max_depth': 11}. Best is trial 10 with value: 4450.286906446918.\n",
      "[I 2025-04-23 22:21:36,811] Trial 71 finished with value: 4673.803384791764 and parameters: {'iterations': 1200, 'learning_rate': 0.21092258456141516, 'l2_leaf_reg': 1.5537465582100205, 'random_strength': 0.008021204430651649, 'bagging_temperature': 0.2017638533061347, 'border_count': 80, 'min_data_in_leaf': 90, 'leaf_estimation_iterations': 12, 'grow_policy': 'SymmetricTree', 'od_type': 'IncToDec', 'od_wait': 10, 'one_hot_max_size': 65}. Best is trial 10 with value: 4450.286906446918.\n",
      "[I 2025-04-23 22:21:37,235] Trial 72 finished with value: 4833.929574135583 and parameters: {'iterations': 1156, 'learning_rate': 0.29903797908713087, 'l2_leaf_reg': 0.011759721333027717, 'random_strength': 0.16926608834440177, 'bagging_temperature': 0.8389305471934183, 'border_count': 41, 'min_data_in_leaf': 97, 'leaf_estimation_iterations': 12, 'grow_policy': 'SymmetricTree', 'od_type': 'IncToDec', 'od_wait': 14, 'one_hot_max_size': 33}. Best is trial 10 with value: 4450.286906446918.\n",
      "[I 2025-04-23 22:21:37,742] Trial 73 finished with value: 4752.63612516788 and parameters: {'iterations': 1292, 'learning_rate': 0.24269650124713113, 'l2_leaf_reg': 0.5994455707931092, 'random_strength': 0.009184252863120313, 'bagging_temperature': 0.6459226836819554, 'border_count': 68, 'min_data_in_leaf': 88, 'leaf_estimation_iterations': 10, 'grow_policy': 'SymmetricTree', 'od_type': 'IncToDec', 'od_wait': 11, 'one_hot_max_size': 12}. Best is trial 10 with value: 4450.286906446918.\n",
      "[I 2025-04-23 22:21:38,345] Trial 74 finished with value: 4658.490926210924 and parameters: {'iterations': 1577, 'learning_rate': 0.19105192274509938, 'l2_leaf_reg': 0.006151311447511632, 'random_strength': 0.02163197100171312, 'bagging_temperature': 0.04157747776952986, 'border_count': 82, 'min_data_in_leaf': 83, 'leaf_estimation_iterations': 11, 'grow_policy': 'SymmetricTree', 'od_type': 'IncToDec', 'od_wait': 13, 'one_hot_max_size': 50}. Best is trial 10 with value: 4450.286906446918.\n",
      "[I 2025-04-23 22:21:38,840] Trial 75 finished with value: 4633.4532203672225 and parameters: {'iterations': 1080, 'learning_rate': 0.08048874460660323, 'l2_leaf_reg': 1.2141165347235459, 'random_strength': 0.004202286067644043, 'bagging_temperature': 1.3247731103467437, 'border_count': 92, 'min_data_in_leaf': 93, 'leaf_estimation_iterations': 13, 'grow_policy': 'SymmetricTree', 'od_type': 'IncToDec', 'od_wait': 10, 'one_hot_max_size': 94}. Best is trial 10 with value: 4450.286906446918.\n",
      "[I 2025-04-23 22:21:38,890] Trial 76 finished with value: 4748.763059703731 and parameters: {'iterations': 1266, 'learning_rate': 0.11573455449598277, 'l2_leaf_reg': 0.030880285072070968, 'random_strength': 0.003006072058753466, 'bagging_temperature': 0.37305923991047785, 'border_count': 139, 'min_data_in_leaf': 76, 'leaf_estimation_iterations': 1, 'grow_policy': 'Lossguide', 'od_type': 'Iter', 'od_wait': 15, 'one_hot_max_size': 61, 'max_leaves': 44}. Best is trial 10 with value: 4450.286906446918.\n",
      "[I 2025-04-23 22:21:39,335] Trial 77 finished with value: 4803.168143594031 and parameters: {'iterations': 783, 'learning_rate': 0.1891646351539115, 'l2_leaf_reg': 0.021146712187577757, 'random_strength': 7.573471134189416, 'bagging_temperature': 0.9377685432480765, 'border_count': 106, 'min_data_in_leaf': 98, 'leaf_estimation_iterations': 15, 'grow_policy': 'Depthwise', 'od_type': 'IncToDec', 'od_wait': 12, 'one_hot_max_size': 37, 'max_depth': 8}. Best is trial 10 with value: 4450.286906446918.\n",
      "[I 2025-04-23 22:21:39,535] Trial 78 finished with value: 4655.259349029145 and parameters: {'iterations': 436, 'learning_rate': 0.15706392327501006, 'l2_leaf_reg': 0.06381773078110804, 'random_strength': 0.4697542871806016, 'bagging_temperature': 5.494211979963955, 'border_count': 57, 'min_data_in_leaf': 67, 'leaf_estimation_iterations': 2, 'grow_policy': 'Lossguide', 'od_type': 'IncToDec', 'od_wait': 11, 'one_hot_max_size': 136, 'max_leaves': 32}. Best is trial 10 with value: 4450.286906446918.\n",
      "[I 2025-04-23 22:21:39,796] Trial 79 finished with value: 4693.828903629515 and parameters: {'iterations': 569, 'learning_rate': 0.21668694302186592, 'l2_leaf_reg': 0.04215139902377029, 'random_strength': 5.801632300938849, 'bagging_temperature': 0.6512961500122675, 'border_count': 74, 'min_data_in_leaf': 95, 'leaf_estimation_iterations': 13, 'grow_policy': 'Depthwise', 'od_type': 'IncToDec', 'od_wait': 28, 'one_hot_max_size': 79, 'max_depth': 3}. Best is trial 10 with value: 4450.286906446918.\n",
      "[I 2025-04-23 22:21:40,264] Trial 80 finished with value: 4727.842792308205 and parameters: {'iterations': 945, 'learning_rate': 0.2720552533255563, 'l2_leaf_reg': 3.1894190044992876, 'random_strength': 4.43517422183542, 'bagging_temperature': 1.6772165592897679, 'border_count': 125, 'min_data_in_leaf': 85, 'leaf_estimation_iterations': 14, 'grow_policy': 'SymmetricTree', 'od_type': 'IncToDec', 'od_wait': 42, 'one_hot_max_size': 150}. Best is trial 10 with value: 4450.286906446918.\n",
      "[I 2025-04-23 22:21:40,349] Trial 81 finished with value: 4680.768425133201 and parameters: {'iterations': 162, 'learning_rate': 0.061156838921757176, 'l2_leaf_reg': 0.0044242415096592365, 'random_strength': 2.448806864564763, 'bagging_temperature': 5.187086886872934, 'border_count': 176, 'min_data_in_leaf': 92, 'leaf_estimation_iterations': 11, 'grow_policy': 'Depthwise', 'od_type': 'IncToDec', 'od_wait': 22, 'one_hot_max_size': 171, 'max_depth': 3}. Best is trial 10 with value: 4450.286906446918.\n",
      "[I 2025-04-23 22:21:40,477] Trial 82 finished with value: 4669.303818893212 and parameters: {'iterations': 268, 'learning_rate': 0.03858258930164143, 'l2_leaf_reg': 0.009772972593894026, 'random_strength': 1.2431556273960682, 'bagging_temperature': 6.484946246986433, 'border_count': 185, 'min_data_in_leaf': 97, 'leaf_estimation_iterations': 11, 'grow_policy': 'Depthwise', 'od_type': 'IncToDec', 'od_wait': 21, 'one_hot_max_size': 156, 'max_depth': 4}. Best is trial 10 with value: 4450.286906446918.\n",
      "[I 2025-04-23 22:21:40,559] Trial 83 finished with value: 4699.719526520997 and parameters: {'iterations': 183, 'learning_rate': 0.06957939875406645, 'l2_leaf_reg': 0.0070966927601059365, 'random_strength': 3.281594178459518, 'bagging_temperature': 4.958250912879369, 'border_count': 205, 'min_data_in_leaf': 89, 'leaf_estimation_iterations': 12, 'grow_policy': 'Depthwise', 'od_type': 'IncToDec', 'od_wait': 24, 'one_hot_max_size': 194, 'max_depth': 2}. Best is trial 10 with value: 4450.286906446918.\n",
      "[I 2025-04-23 22:21:40,998] Trial 84 finished with value: 4637.416709466331 and parameters: {'iterations': 1386, 'learning_rate': 0.04900478096200124, 'l2_leaf_reg': 0.022104812267899596, 'random_strength': 2.589212012743501, 'bagging_temperature': 6.114499106719708, 'border_count': 38, 'min_data_in_leaf': 100, 'leaf_estimation_iterations': 10, 'grow_policy': 'Depthwise', 'od_type': 'IncToDec', 'od_wait': 23, 'one_hot_max_size': 177, 'max_depth': 3}. Best is trial 10 with value: 4450.286906446918.\n",
      "[I 2025-04-23 22:21:41,145] Trial 85 finished with value: 4634.998696663838 and parameters: {'iterations': 363, 'learning_rate': 0.0931370539319467, 'l2_leaf_reg': 0.012958312331738954, 'random_strength': 8.300141512522082, 'bagging_temperature': 4.78073374787069, 'border_count': 152, 'min_data_in_leaf': 93, 'leaf_estimation_iterations': 11, 'grow_policy': 'Depthwise', 'od_type': 'IncToDec', 'od_wait': 20, 'one_hot_max_size': 114, 'max_depth': 3}. Best is trial 10 with value: 4450.286906446918.\n",
      "[I 2025-04-23 22:21:41,408] Trial 86 finished with value: 4643.99887840859 and parameters: {'iterations': 868, 'learning_rate': 0.13251847328574862, 'l2_leaf_reg': 0.0021707557883033743, 'random_strength': 5.658273863987145, 'bagging_temperature': 5.361548661391842, 'border_count': 97, 'min_data_in_leaf': 79, 'leaf_estimation_iterations': 12, 'grow_policy': 'Depthwise', 'od_type': 'IncToDec', 'od_wait': 16, 'one_hot_max_size': 123, 'max_depth': 2}. Best is trial 10 with value: 4450.286906446918.\n",
      "[I 2025-04-23 22:21:41,520] Trial 87 finished with value: 4777.463526365675 and parameters: {'iterations': 220, 'learning_rate': 0.07913886524801694, 'l2_leaf_reg': 0.007181388745469236, 'random_strength': 3.6993820536964526, 'bagging_temperature': 3.9990815728464897, 'border_count': 164, 'min_data_in_leaf': 95, 'leaf_estimation_iterations': 12, 'grow_policy': 'Lossguide', 'od_type': 'IncToDec', 'od_wait': 18, 'one_hot_max_size': 25, 'max_leaves': 5}. Best is trial 10 with value: 4450.286906446918.\n",
      "[I 2025-04-23 22:21:41,999] Trial 88 finished with value: 4586.173248285953 and parameters: {'iterations': 1164, 'learning_rate': 0.2531763804539598, 'l2_leaf_reg': 0.02825730057408393, 'random_strength': 2.059223352872416, 'bagging_temperature': 0.27387713483034654, 'border_count': 180, 'min_data_in_leaf': 87, 'leaf_estimation_iterations': 8, 'grow_policy': 'Depthwise', 'od_type': 'IncToDec', 'od_wait': 13, 'one_hot_max_size': 105, 'max_depth': 5}. Best is trial 10 with value: 4450.286906446918.\n",
      "[I 2025-04-23 22:21:42,052] Trial 89 finished with value: 4526.394232574681 and parameters: {'iterations': 1172, 'learning_rate': 0.2637960295135862, 'l2_leaf_reg': 0.07499948346297594, 'random_strength': 1.6376453114117453, 'bagging_temperature': 0.26877462266657925, 'border_count': 89, 'min_data_in_leaf': 83, 'leaf_estimation_iterations': 8, 'grow_policy': 'Depthwise', 'od_type': 'Iter', 'od_wait': 14, 'one_hot_max_size': 104, 'max_depth': 6}. Best is trial 10 with value: 4450.286906446918.\n",
      "[I 2025-04-23 22:21:42,111] Trial 90 finished with value: 4625.63233495389 and parameters: {'iterations': 1098, 'learning_rate': 0.2589955476504539, 'l2_leaf_reg': 0.08236227966347962, 'random_strength': 1.775204278173872, 'bagging_temperature': 1.9125792858565493, 'border_count': 89, 'min_data_in_leaf': 83, 'leaf_estimation_iterations': 8, 'grow_policy': 'Depthwise', 'od_type': 'Iter', 'od_wait': 14, 'one_hot_max_size': 108, 'max_depth': 6}. Best is trial 10 with value: 4450.286906446918.\n",
      "[I 2025-04-23 22:21:42,163] Trial 91 finished with value: 4802.216997008875 and parameters: {'iterations': 1198, 'learning_rate': 0.29884676264405186, 'l2_leaf_reg': 0.11467090842395154, 'random_strength': 4.076419656139001, 'bagging_temperature': 0.5156138444729207, 'border_count': 110, 'min_data_in_leaf': 87, 'leaf_estimation_iterations': 7, 'grow_policy': 'Depthwise', 'od_type': 'Iter', 'od_wait': 13, 'one_hot_max_size': 91, 'max_depth': 5}. Best is trial 10 with value: 4450.286906446918.\n",
      "[I 2025-04-23 22:21:42,219] Trial 92 finished with value: 4744.506469806001 and parameters: {'iterations': 1160, 'learning_rate': 0.22817045240295072, 'l2_leaf_reg': 0.03792790298581123, 'random_strength': 0.676344634266459, 'bagging_temperature': 0.32931243049061487, 'border_count': 192, 'min_data_in_leaf': 98, 'leaf_estimation_iterations': 6, 'grow_policy': 'Depthwise', 'od_type': 'Iter', 'od_wait': 12, 'one_hot_max_size': 102, 'max_depth': 6}. Best is trial 10 with value: 4450.286906446918.\n",
      "[I 2025-04-23 22:21:42,269] Trial 93 finished with value: 4722.756766064745 and parameters: {'iterations': 1254, 'learning_rate': 0.1792624435085147, 'l2_leaf_reg': 0.028651505871158917, 'random_strength': 2.8596630407390693, 'bagging_temperature': 0.1955787474167291, 'border_count': 64, 'min_data_in_leaf': 89, 'leaf_estimation_iterations': 8, 'grow_policy': 'Depthwise', 'od_type': 'Iter', 'od_wait': 10, 'one_hot_max_size': 109, 'max_depth': 6}. Best is trial 10 with value: 4450.286906446918.\n",
      "[I 2025-04-23 22:21:42,336] Trial 94 finished with value: 4861.806124153598 and parameters: {'iterations': 989, 'learning_rate': 0.20714746809032586, 'l2_leaf_reg': 0.06936517591687862, 'random_strength': 6.505675617255864, 'bagging_temperature': 1.1815509292072115, 'border_count': 99, 'min_data_in_leaf': 91, 'leaf_estimation_iterations': 9, 'grow_policy': 'Depthwise', 'od_type': 'Iter', 'od_wait': 14, 'one_hot_max_size': 83, 'max_depth': 5}. Best is trial 10 with value: 4450.286906446918.\n",
      "[I 2025-04-23 22:21:42,986] Trial 95 finished with value: 4659.668441803673 and parameters: {'iterations': 1327, 'learning_rate': 0.15778823801160724, 'l2_leaf_reg': 0.0186102228524106, 'random_strength': 1.3652023260702952, 'bagging_temperature': 0.609409763731368, 'border_count': 79, 'min_data_in_leaf': 85, 'leaf_estimation_iterations': 7, 'grow_policy': 'Depthwise', 'od_type': 'IncToDec', 'od_wait': 17, 'one_hot_max_size': 98, 'max_depth': 7}. Best is trial 10 with value: 4450.286906446918.\n",
      "[I 2025-04-23 22:21:43,378] Trial 96 finished with value: 4698.000968080332 and parameters: {'iterations': 1053, 'learning_rate': 0.25959838129381024, 'l2_leaf_reg': 0.17324873986493572, 'random_strength': 0.054166808065589774, 'bagging_temperature': 0.15301744265190237, 'border_count': 87, 'min_data_in_leaf': 95, 'leaf_estimation_iterations': 9, 'grow_policy': 'Depthwise', 'od_type': 'IncToDec', 'od_wait': 11, 'one_hot_max_size': 132, 'max_depth': 4}. Best is trial 10 with value: 4450.286906446918.\n",
      "[I 2025-04-23 22:21:43,432] Trial 97 finished with value: 4619.868289550218 and parameters: {'iterations': 1126, 'learning_rate': 0.22916229327613263, 'l2_leaf_reg': 0.050358966302069395, 'random_strength': 4.619227423590625, 'bagging_temperature': 0.8933439292436842, 'border_count': 171, 'min_data_in_leaf': 81, 'leaf_estimation_iterations': 7, 'grow_policy': 'Lossguide', 'od_type': 'Iter', 'od_wait': 13, 'one_hot_max_size': 11, 'max_leaves': 53}. Best is trial 10 with value: 4450.286906446918.\n",
      "[I 2025-04-23 22:21:43,967] Trial 98 finished with value: 4880.254562838695 and parameters: {'iterations': 1191, 'learning_rate': 0.19633393872908422, 'l2_leaf_reg': 0.2617953393890151, 'random_strength': 8.257100136785926, 'bagging_temperature': 1.4791682593614346, 'border_count': 53, 'min_data_in_leaf': 98, 'leaf_estimation_iterations': 6, 'grow_policy': 'Depthwise', 'od_type': 'IncToDec', 'od_wait': 15, 'one_hot_max_size': 73, 'max_depth': 7}. Best is trial 10 with value: 4450.286906446918.\n",
      "[I 2025-04-23 22:21:44,161] Trial 99 finished with value: 4565.980174987946 and parameters: {'iterations': 677, 'learning_rate': 0.14565736387600428, 'l2_leaf_reg': 0.026487713943106523, 'random_strength': 2.2113544627275665, 'bagging_temperature': 0.016346654662156623, 'border_count': 72, 'min_data_in_leaf': 60, 'leaf_estimation_iterations': 8, 'grow_policy': 'Depthwise', 'od_type': 'IncToDec', 'od_wait': 12, 'one_hot_max_size': 116, 'max_depth': 2}. Best is trial 10 with value: 4450.286906446918.\n"
     ]
    }
   ],
   "source": [
    "import optuna\n",
    "from catboost import CatBoostRegressor\n",
    "from sklearn.metrics import mean_squared_error, r2_score\n",
    "\n",
    "def objective(trial, X, y):\n",
    "    # Разделение данных на train и validation\n",
    "    X_train, X_val, y_train, y_val = train_test_split(X, y, test_size=0.2, random_state=2025)\n",
    "    \n",
    "    # Параметры для перебора\n",
    "    params = {\n",
    "        'iterations': trial.suggest_int('iterations', 100, 2000),\n",
    "        'learning_rate': trial.suggest_float('learning_rate', 1e-3, 0.3, log=True),\n",
    "        'l2_leaf_reg': trial.suggest_float('l2_leaf_reg', 1e-3, 10.0, log=True),\n",
    "        'random_strength': trial.suggest_float('random_strength', 1e-3, 10, log=True),\n",
    "        'bagging_temperature': trial.suggest_float('bagging_temperature', 0.0, 10.0),\n",
    "        'border_count': trial.suggest_int('border_count', 32, 255),\n",
    "        'min_data_in_leaf': trial.suggest_int('min_data_in_leaf', 1, 100),\n",
    "        'leaf_estimation_iterations': trial.suggest_int('leaf_estimation_iterations', 1, 15),\n",
    "        'grow_policy': trial.suggest_categorical('grow_policy', ['SymmetricTree', 'Depthwise', 'Lossguide']),\n",
    "        'boosting_type': 'Plain',\n",
    "        'od_type': trial.suggest_categorical('od_type', ['IncToDec', 'Iter']),\n",
    "        'od_wait': trial.suggest_int('od_wait', 10, 50),\n",
    "        'one_hot_max_size': trial.suggest_int('one_hot_max_size', 2, 255),\n",
    "        'verbose': False,\n",
    "        'random_state': 2025,\n",
    "    }\n",
    "    \n",
    "    # Параметры глубины\n",
    "    if params['grow_policy'] == 'Lossguide':\n",
    "        params['max_leaves'] = trial.suggest_int('max_leaves', 4, 64)\n",
    "    elif params['grow_policy'] == 'Depthwise':\n",
    "        params['max_depth'] = trial.suggest_int('max_depth', 2, 12)\n",
    "    \n",
    "    # Указание категориальных признаков (если есть)\n",
    "    if cat_features:\n",
    "        params['cat_features'] = cat_features\n",
    "    \n",
    "    # Создание и обучение модели\n",
    "    model = CatBoostRegressor(**params)\n",
    "    model.fit(\n",
    "        X_train, y_train,\n",
    "        eval_set=(X_val, y_val),\n",
    "        verbose=0\n",
    "    )\n",
    "    \n",
    "    # Предсказание на валидации\n",
    "    y_pred = model.predict(X_val)\n",
    "    \n",
    "    # Метрика качества (можно выбрать другую)\n",
    "    rmse = metrics.mean_squared_error(y_val, y_pred)**0.5\n",
    "    # Или можно использовать R2: return r2_score(y_val, y_pred)\n",
    "    return rmse\n",
    "\n",
    "# Пример использования:\n",
    "study = optuna.create_study(direction='minimize')  # Для RMSE минимизируем\n",
    "study.optimize(lambda trial: objective(trial, \n",
    "                                     scaled_df_train[catboost_features], \n",
    "                                     scaled_df_train[target]), \n",
    "                                     n_trials=100)\n",
    "best_params = study.best_params"
   ]
  },
  {
   "cell_type": "code",
   "execution_count": 57,
   "metadata": {},
   "outputs": [
    {
     "data": {
      "text/plain": [
       "<catboost.core.CatBoostRegressor at 0x17ad73610>"
      ]
     },
     "execution_count": 57,
     "metadata": {},
     "output_type": "execute_result"
    }
   ],
   "source": [
    "cat_model = cat.CatBoostRegressor(**best_params, cat_features = cat_features, verbose = False,\n",
    "        random_state= 2025, boosting_type='Plain')\n",
    "cat_model.fit(df_train[catboost_features], df_train[target])"
   ]
  },
  {
   "cell_type": "code",
   "execution_count": 58,
   "metadata": {},
   "outputs": [
    {
     "data": {
      "text/plain": [
       "<catboost.core.CatBoostRegressor at 0x1731afc90>"
      ]
     },
     "execution_count": 58,
     "metadata": {},
     "output_type": "execute_result"
    }
   ],
   "source": [
    "cat_model = cat.CatBoostRegressor(cat_features = cat_features, verbose = False,\n",
    "        random_state= 2025)\n",
    "cat_model.fit(df_train[catboost_features], df_train[target])"
   ]
  },
  {
   "cell_type": "code",
   "execution_count": 59,
   "metadata": {},
   "outputs": [],
   "source": [
    "y_train_pred = cat_model.predict(df_train[catboost_features])\n",
    "y_test_pred = cat_model.predict(df_test[catboost_features])"
   ]
  },
  {
   "cell_type": "code",
   "execution_count": 60,
   "metadata": {},
   "outputs": [
    {
     "name": "stdout",
     "output_type": "stream",
     "text": [
      "catboost_regression, -- Type Dataset - train\n",
      "R2 = 0.9272280238678487\n",
      "MSE = 10540799.122430652\n",
      "RMSE = 3246.659686882913\n",
      "MAE = 1773.7608811388407\n",
      "MAPE = 0.21184293095322945\n"
     ]
    }
   ],
   "source": [
    "result_metrics = get_metrics(df_train[target], y_train_pred,\n",
    "                              algorithm='catboost_regression', dataset_type='train', \n",
    "                              res_df=result_metrics)"
   ]
  },
  {
   "cell_type": "code",
   "execution_count": 61,
   "metadata": {},
   "outputs": [
    {
     "name": "stdout",
     "output_type": "stream",
     "text": [
      "catboost_regression, -- Type Dataset - test\n",
      "R2 = 0.8437469040628056\n",
      "MSE = 23387545.427409224\n",
      "RMSE = 4836.06714463408\n",
      "MAE = 2644.622447903881\n",
      "MAPE = 0.2698564811376259\n"
     ]
    }
   ],
   "source": [
    "result_metrics = get_metrics(df_test[target], y_test_pred,\n",
    "                              algorithm='catboost_regression', dataset_type='test', \n",
    "                              res_df=result_metrics)"
   ]
  },
  {
   "cell_type": "code",
   "execution_count": 62,
   "metadata": {},
   "outputs": [
    {
     "data": {
      "text/html": [
       "<div>\n",
       "<style scoped>\n",
       "    .dataframe tbody tr th:only-of-type {\n",
       "        vertical-align: middle;\n",
       "    }\n",
       "\n",
       "    .dataframe tbody tr th {\n",
       "        vertical-align: top;\n",
       "    }\n",
       "\n",
       "    .dataframe thead th {\n",
       "        text-align: right;\n",
       "    }\n",
       "</style>\n",
       "<table border=\"1\" class=\"dataframe\">\n",
       "  <thead>\n",
       "    <tr style=\"text-align: right;\">\n",
       "      <th></th>\n",
       "      <th>algorithm</th>\n",
       "      <th>dataset_type</th>\n",
       "      <th>R2</th>\n",
       "      <th>MSE</th>\n",
       "      <th>RMSE</th>\n",
       "      <th>MAE</th>\n",
       "      <th>MAPE</th>\n",
       "    </tr>\n",
       "  </thead>\n",
       "  <tbody>\n",
       "    <tr>\n",
       "      <th>0</th>\n",
       "      <td>simple_regression</td>\n",
       "      <td>train</td>\n",
       "      <td>0.759680</td>\n",
       "      <td>3.480958e+07</td>\n",
       "      <td>5899.963995</td>\n",
       "      <td>4042.614403</td>\n",
       "      <td>0.397542</td>\n",
       "    </tr>\n",
       "    <tr>\n",
       "      <th>0</th>\n",
       "      <td>segm_kmeans2_regression</td>\n",
       "      <td>train</td>\n",
       "      <td>0.928110</td>\n",
       "      <td>1.041305e+07</td>\n",
       "      <td>3226.925586</td>\n",
       "      <td>1704.805821</td>\n",
       "      <td>0.156865</td>\n",
       "    </tr>\n",
       "    <tr>\n",
       "      <th>0</th>\n",
       "      <td>segm_kmeans3_regression</td>\n",
       "      <td>train</td>\n",
       "      <td>0.949400</td>\n",
       "      <td>7.329215e+06</td>\n",
       "      <td>2707.252245</td>\n",
       "      <td>1396.496735</td>\n",
       "      <td>0.104929</td>\n",
       "    </tr>\n",
       "    <tr>\n",
       "      <th>0</th>\n",
       "      <td>segm_kmeans2onFeatures_regression</td>\n",
       "      <td>train</td>\n",
       "      <td>0.766334</td>\n",
       "      <td>3.384581e+07</td>\n",
       "      <td>5817.715135</td>\n",
       "      <td>3969.705756</td>\n",
       "      <td>0.392821</td>\n",
       "    </tr>\n",
       "    <tr>\n",
       "      <th>0</th>\n",
       "      <td>segm_kmeans3onFeatures_regression</td>\n",
       "      <td>train</td>\n",
       "      <td>0.765360</td>\n",
       "      <td>3.398689e+07</td>\n",
       "      <td>5829.827960</td>\n",
       "      <td>3965.366036</td>\n",
       "      <td>0.391897</td>\n",
       "    </tr>\n",
       "    <tr>\n",
       "      <th>0</th>\n",
       "      <td>catboost_regression</td>\n",
       "      <td>train</td>\n",
       "      <td>0.927228</td>\n",
       "      <td>1.054080e+07</td>\n",
       "      <td>3246.659687</td>\n",
       "      <td>1773.760881</td>\n",
       "      <td>0.211843</td>\n",
       "    </tr>\n",
       "  </tbody>\n",
       "</table>\n",
       "</div>"
      ],
      "text/plain": [
       "                           algorithm dataset_type        R2           MSE  \\\n",
       "0                  simple_regression        train  0.759680  3.480958e+07   \n",
       "0            segm_kmeans2_regression        train  0.928110  1.041305e+07   \n",
       "0            segm_kmeans3_regression        train  0.949400  7.329215e+06   \n",
       "0  segm_kmeans2onFeatures_regression        train  0.766334  3.384581e+07   \n",
       "0  segm_kmeans3onFeatures_regression        train  0.765360  3.398689e+07   \n",
       "0                catboost_regression        train  0.927228  1.054080e+07   \n",
       "\n",
       "          RMSE          MAE      MAPE  \n",
       "0  5899.963995  4042.614403  0.397542  \n",
       "0  3226.925586  1704.805821  0.156865  \n",
       "0  2707.252245  1396.496735  0.104929  \n",
       "0  5817.715135  3969.705756  0.392821  \n",
       "0  5829.827960  3965.366036  0.391897  \n",
       "0  3246.659687  1773.760881  0.211843  "
      ]
     },
     "execution_count": 62,
     "metadata": {},
     "output_type": "execute_result"
    }
   ],
   "source": [
    "result_metrics.query('dataset_type == \"train\"')"
   ]
  },
  {
   "cell_type": "code",
   "execution_count": 63,
   "metadata": {},
   "outputs": [
    {
     "data": {
      "text/html": [
       "<div>\n",
       "<style scoped>\n",
       "    .dataframe tbody tr th:only-of-type {\n",
       "        vertical-align: middle;\n",
       "    }\n",
       "\n",
       "    .dataframe tbody tr th {\n",
       "        vertical-align: top;\n",
       "    }\n",
       "\n",
       "    .dataframe thead th {\n",
       "        text-align: right;\n",
       "    }\n",
       "</style>\n",
       "<table border=\"1\" class=\"dataframe\">\n",
       "  <thead>\n",
       "    <tr style=\"text-align: right;\">\n",
       "      <th></th>\n",
       "      <th>algorithm</th>\n",
       "      <th>dataset_type</th>\n",
       "      <th>R2</th>\n",
       "      <th>MSE</th>\n",
       "      <th>RMSE</th>\n",
       "      <th>MAE</th>\n",
       "      <th>MAPE</th>\n",
       "    </tr>\n",
       "  </thead>\n",
       "  <tbody>\n",
       "    <tr>\n",
       "      <th>0</th>\n",
       "      <td>simple_regression</td>\n",
       "      <td>test</td>\n",
       "      <td>0.730928</td>\n",
       "      <td>4.027391e+07</td>\n",
       "      <td>6346.172748</td>\n",
       "      <td>4365.496447</td>\n",
       "      <td>0.416140</td>\n",
       "    </tr>\n",
       "    <tr>\n",
       "      <th>0</th>\n",
       "      <td>segm_kmeans2_regression</td>\n",
       "      <td>test</td>\n",
       "      <td>0.838630</td>\n",
       "      <td>2.415343e+07</td>\n",
       "      <td>4914.614159</td>\n",
       "      <td>2412.580406</td>\n",
       "      <td>0.175838</td>\n",
       "    </tr>\n",
       "    <tr>\n",
       "      <th>0</th>\n",
       "      <td>segm_kmeans3_regression</td>\n",
       "      <td>test</td>\n",
       "      <td>0.829790</td>\n",
       "      <td>2.547655e+07</td>\n",
       "      <td>5047.429586</td>\n",
       "      <td>2495.463647</td>\n",
       "      <td>0.159298</td>\n",
       "    </tr>\n",
       "    <tr>\n",
       "      <th>0</th>\n",
       "      <td>segm_kmeans2onFeatures_regression</td>\n",
       "      <td>test</td>\n",
       "      <td>0.729176</td>\n",
       "      <td>4.053627e+07</td>\n",
       "      <td>6366.810225</td>\n",
       "      <td>4347.166214</td>\n",
       "      <td>0.424315</td>\n",
       "    </tr>\n",
       "    <tr>\n",
       "      <th>0</th>\n",
       "      <td>segm_kmeans3onFeatures_regression</td>\n",
       "      <td>test</td>\n",
       "      <td>0.724880</td>\n",
       "      <td>4.117927e+07</td>\n",
       "      <td>6417.107567</td>\n",
       "      <td>4400.019037</td>\n",
       "      <td>0.429492</td>\n",
       "    </tr>\n",
       "    <tr>\n",
       "      <th>0</th>\n",
       "      <td>catboost_regression</td>\n",
       "      <td>test</td>\n",
       "      <td>0.843747</td>\n",
       "      <td>2.338755e+07</td>\n",
       "      <td>4836.067145</td>\n",
       "      <td>2644.622448</td>\n",
       "      <td>0.269856</td>\n",
       "    </tr>\n",
       "  </tbody>\n",
       "</table>\n",
       "</div>"
      ],
      "text/plain": [
       "                           algorithm dataset_type        R2           MSE  \\\n",
       "0                  simple_regression         test  0.730928  4.027391e+07   \n",
       "0            segm_kmeans2_regression         test  0.838630  2.415343e+07   \n",
       "0            segm_kmeans3_regression         test  0.829790  2.547655e+07   \n",
       "0  segm_kmeans2onFeatures_regression         test  0.729176  4.053627e+07   \n",
       "0  segm_kmeans3onFeatures_regression         test  0.724880  4.117927e+07   \n",
       "0                catboost_regression         test  0.843747  2.338755e+07   \n",
       "\n",
       "          RMSE          MAE      MAPE  \n",
       "0  6346.172748  4365.496447  0.416140  \n",
       "0  4914.614159  2412.580406  0.175838  \n",
       "0  5047.429586  2495.463647  0.159298  \n",
       "0  6366.810225  4347.166214  0.424315  \n",
       "0  6417.107567  4400.019037  0.429492  \n",
       "0  4836.067145  2644.622448  0.269856  "
      ]
     },
     "execution_count": 63,
     "metadata": {},
     "output_type": "execute_result"
    }
   ],
   "source": [
    "result_metrics.query('dataset_type == \"test\"')"
   ]
  },
  {
   "cell_type": "code",
   "execution_count": null,
   "metadata": {},
   "outputs": [],
   "source": []
  }
 ],
 "metadata": {
  "kernelspec": {
   "display_name": ".venv",
   "language": "python",
   "name": "python3"
  },
  "language_info": {
   "codemirror_mode": {
    "name": "ipython",
    "version": 3
   },
   "file_extension": ".py",
   "mimetype": "text/x-python",
   "name": "python",
   "nbconvert_exporter": "python",
   "pygments_lexer": "ipython3",
   "version": "3.11.4"
  }
 },
 "nbformat": 4,
 "nbformat_minor": 2
}
