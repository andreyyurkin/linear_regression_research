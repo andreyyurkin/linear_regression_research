{
 "cells": [
  {
   "cell_type": "code",
   "execution_count": 1,
   "metadata": {},
   "outputs": [],
   "source": [
    "import pandas as pd\n",
    "import matplotlib.pyplot as plt\n",
    "import seaborn as sns\n",
    "import sklearn\n",
    "import catboost as cat\n",
    "import numpy as np\n",
    "from sklearn.linear_model import LinearRegression\n",
    "import sklearn.metrics as metrics\n",
    "from sklearn.model_selection import train_test_split\n",
    "from sklearn.preprocessing import MinMaxScaler, OneHotEncoder\n",
    "# from sklearn.ensemble import RandomForestClassifier\n",
    "from sklearn.cluster import KMeans"
   ]
  },
  {
   "cell_type": "code",
   "execution_count": 2,
   "metadata": {},
   "outputs": [],
   "source": [
    "df = pd.read_csv(\"../../datasets/house_prices_dataset/house_prices_train.csv\")\n",
    "del df['Id']\n",
    "\n",
    "target = \"SalePrice\"\n",
    "num_features = list(df.select_dtypes(exclude='object'))\n",
    "num_features.remove(target)\n",
    "cat_features = list(df.select_dtypes(include='object'))\n",
    "catboost_features = num_features+cat_features"
   ]
  },
  {
   "cell_type": "code",
   "execution_count": 3,
   "metadata": {},
   "outputs": [
    {
     "data": {
      "text/plain": [
       "Index(['MSSubClass', 'MSZoning', 'LotFrontage', 'LotArea', 'Street', 'Alley',\n",
       "       'LotShape', 'LandContour', 'Utilities', 'LotConfig', 'LandSlope',\n",
       "       'Neighborhood', 'Condition1', 'Condition2', 'BldgType', 'HouseStyle',\n",
       "       'OverallQual', 'OverallCond', 'YearBuilt', 'YearRemodAdd', 'RoofStyle',\n",
       "       'RoofMatl', 'Exterior1st', 'Exterior2nd', 'MasVnrType', 'MasVnrArea',\n",
       "       'ExterQual', 'ExterCond', 'Foundation', 'BsmtQual', 'BsmtCond',\n",
       "       'BsmtExposure', 'BsmtFinType1', 'BsmtFinSF1', 'BsmtFinType2',\n",
       "       'BsmtFinSF2', 'BsmtUnfSF', 'TotalBsmtSF', 'Heating', 'HeatingQC',\n",
       "       'CentralAir', 'Electrical', '1stFlrSF', '2ndFlrSF', 'LowQualFinSF',\n",
       "       'GrLivArea', 'BsmtFullBath', 'BsmtHalfBath', 'FullBath', 'HalfBath',\n",
       "       'BedroomAbvGr', 'KitchenAbvGr', 'KitchenQual', 'TotRmsAbvGrd',\n",
       "       'Functional', 'Fireplaces', 'FireplaceQu', 'GarageType', 'GarageYrBlt',\n",
       "       'GarageFinish', 'GarageCars', 'GarageArea', 'GarageQual', 'GarageCond',\n",
       "       'PavedDrive', 'WoodDeckSF', 'OpenPorchSF', 'EnclosedPorch', '3SsnPorch',\n",
       "       'ScreenPorch', 'PoolArea', 'PoolQC', 'Fence', 'MiscFeature', 'MiscVal',\n",
       "       'MoSold', 'YrSold', 'SaleType', 'SaleCondition', 'SalePrice'],\n",
       "      dtype='object')"
      ]
     },
     "execution_count": 3,
     "metadata": {},
     "output_type": "execute_result"
    }
   ],
   "source": [
    "df.columns"
   ]
  },
  {
   "cell_type": "markdown",
   "metadata": {},
   "source": [
    "# Dataset preprocessing"
   ]
  },
  {
   "cell_type": "code",
   "execution_count": 4,
   "metadata": {},
   "outputs": [],
   "source": [
    "df.loc[:, num_features] = df.loc[:, num_features].fillna(0)\n",
    "df.loc[:, cat_features] = df.loc[:, cat_features].fillna('Other')"
   ]
  },
  {
   "cell_type": "code",
   "execution_count": 5,
   "metadata": {},
   "outputs": [
    {
     "data": {
      "text/plain": [
       "(1460, 224)"
      ]
     },
     "execution_count": 5,
     "metadata": {},
     "output_type": "execute_result"
    }
   ],
   "source": [
    "enc = OneHotEncoder(sparse_output=False, drop='first')\n",
    "encoded_cat_df = enc.fit_transform(df[cat_features])\n",
    "encoded_cat_df = pd.DataFrame(encoded_cat_df, columns=enc.get_feature_names_out(cat_features)).astype('Int16')\n",
    "encoded_cat_features = list(encoded_cat_df.columns)\n",
    "encoded_cat_df.shape"
   ]
  },
  {
   "cell_type": "code",
   "execution_count": 6,
   "metadata": {},
   "outputs": [],
   "source": [
    "encoded_df = pd.concat([df, encoded_cat_df], axis=1)"
   ]
  },
  {
   "cell_type": "code",
   "execution_count": 7,
   "metadata": {},
   "outputs": [
    {
     "data": {
      "text/plain": [
       "class\n",
       "0    1235\n",
       "1     225\n",
       "Name: count, dtype: int64"
      ]
     },
     "execution_count": 7,
     "metadata": {},
     "output_type": "execute_result"
    }
   ],
   "source": [
    "encoded_df['class'] = encoded_df[target].apply(lambda x: 1 if x >= 250_000 else 0)\n",
    "clf_target = 'class'\n",
    "encoded_df['class'].value_counts()"
   ]
  },
  {
   "cell_type": "code",
   "execution_count": 8,
   "metadata": {},
   "outputs": [],
   "source": [
    "X_train, X_test, y_train, y_test = train_test_split(\n",
    "    encoded_df[num_features+cat_features+encoded_cat_features], \n",
    "    encoded_df[[target, clf_target]], \n",
    "    test_size=0.33, random_state=2025)\n",
    "\n",
    "df_train = pd.concat([X_train, y_train], axis=1).reset_index(drop=True)\n",
    "df_test = pd.concat([X_test, y_test], axis=1).reset_index(drop=True)"
   ]
  },
  {
   "cell_type": "code",
   "execution_count": 9,
   "metadata": {},
   "outputs": [],
   "source": [
    "linear_features = num_features+encoded_cat_features"
   ]
  },
  {
   "cell_type": "code",
   "execution_count": 10,
   "metadata": {},
   "outputs": [],
   "source": [
    "scaler = MinMaxScaler()\n",
    "scaled_df_train = scaler.fit_transform(df_train[linear_features])\n",
    "scaled_df_train = pd.DataFrame(scaled_df_train, columns=linear_features)\n",
    "scaled_df_train = pd.concat([scaled_df_train, df_train[[target, clf_target]+ cat_features]], axis=1)\n",
    "\n",
    "scaled_df_test = scaler.transform(df_test[linear_features])\n",
    "scaled_df_test = pd.DataFrame(scaled_df_test, columns=linear_features)\n",
    "scaled_df_test = pd.concat([scaled_df_test, df_test[[target, clf_target]+ cat_features]], axis=1)"
   ]
  },
  {
   "cell_type": "markdown",
   "metadata": {},
   "source": [
    "# Simple Linear Regression"
   ]
  },
  {
   "cell_type": "code",
   "execution_count": 11,
   "metadata": {},
   "outputs": [],
   "source": [
    "result_metrics = pd.DataFrame(columns=[\n",
    "     'algorithm',\n",
    "     'dataset_type',\n",
    "     'R2',\n",
    "     'MSE',\n",
    "     'RMSE',\n",
    "     'MAE',\n",
    "     'MAPE'\n",
    "])"
   ]
  },
  {
   "cell_type": "code",
   "execution_count": 12,
   "metadata": {},
   "outputs": [],
   "source": [
    "def get_metrics(y_true, y_pred, algorithm, dataset_type, res_df=None):\n",
    "    res_df = res_df.copy()\n",
    "    \n",
    "    r2 = metrics.r2_score(y_true, y_pred)\n",
    "    mse = metrics.mean_squared_error(y_true, y_pred)\n",
    "    mae = metrics.mean_absolute_error(y_true, y_pred)\n",
    "    mape = metrics.mean_absolute_percentage_error(y_true, y_pred)\n",
    "\n",
    "    print(f\"{algorithm}, -- Type Dataset - {dataset_type}\")\n",
    "    print(f\"R2 = {r2}\")\n",
    "    print(f\"MSE = {mse}\")\n",
    "    print(f\"RMSE = {mse**0.5}\")\n",
    "    print(f\"MAE = {mae}\")\n",
    "    print(f\"MAPE = {mape}\")\n",
    "    \n",
    "    curr_res = [algorithm, dataset_type] + [r2, mse, mse**0.5, mae, mape]\n",
    "    res_df = pd.concat([res_df,\n",
    "                        pd.DataFrame([curr_res], columns=['algorithm',\n",
    "                                                            'dataset_type',\n",
    "                                                            'R2',\n",
    "                                                            'MSE',\n",
    "                                                            'RMSE',\n",
    "                                                            'MAE',\n",
    "                                                            'MAPE'])])\n",
    "    return res_df"
   ]
  },
  {
   "cell_type": "code",
   "execution_count": 13,
   "metadata": {},
   "outputs": [
    {
     "data": {
      "text/html": [
       "<style>#sk-container-id-1 {\n",
       "  /* Definition of color scheme common for light and dark mode */\n",
       "  --sklearn-color-text: #000;\n",
       "  --sklearn-color-text-muted: #666;\n",
       "  --sklearn-color-line: gray;\n",
       "  /* Definition of color scheme for unfitted estimators */\n",
       "  --sklearn-color-unfitted-level-0: #fff5e6;\n",
       "  --sklearn-color-unfitted-level-1: #f6e4d2;\n",
       "  --sklearn-color-unfitted-level-2: #ffe0b3;\n",
       "  --sklearn-color-unfitted-level-3: chocolate;\n",
       "  /* Definition of color scheme for fitted estimators */\n",
       "  --sklearn-color-fitted-level-0: #f0f8ff;\n",
       "  --sklearn-color-fitted-level-1: #d4ebff;\n",
       "  --sklearn-color-fitted-level-2: #b3dbfd;\n",
       "  --sklearn-color-fitted-level-3: cornflowerblue;\n",
       "\n",
       "  /* Specific color for light theme */\n",
       "  --sklearn-color-text-on-default-background: var(--sg-text-color, var(--theme-code-foreground, var(--jp-content-font-color1, black)));\n",
       "  --sklearn-color-background: var(--sg-background-color, var(--theme-background, var(--jp-layout-color0, white)));\n",
       "  --sklearn-color-border-box: var(--sg-text-color, var(--theme-code-foreground, var(--jp-content-font-color1, black)));\n",
       "  --sklearn-color-icon: #696969;\n",
       "\n",
       "  @media (prefers-color-scheme: dark) {\n",
       "    /* Redefinition of color scheme for dark theme */\n",
       "    --sklearn-color-text-on-default-background: var(--sg-text-color, var(--theme-code-foreground, var(--jp-content-font-color1, white)));\n",
       "    --sklearn-color-background: var(--sg-background-color, var(--theme-background, var(--jp-layout-color0, #111)));\n",
       "    --sklearn-color-border-box: var(--sg-text-color, var(--theme-code-foreground, var(--jp-content-font-color1, white)));\n",
       "    --sklearn-color-icon: #878787;\n",
       "  }\n",
       "}\n",
       "\n",
       "#sk-container-id-1 {\n",
       "  color: var(--sklearn-color-text);\n",
       "}\n",
       "\n",
       "#sk-container-id-1 pre {\n",
       "  padding: 0;\n",
       "}\n",
       "\n",
       "#sk-container-id-1 input.sk-hidden--visually {\n",
       "  border: 0;\n",
       "  clip: rect(1px 1px 1px 1px);\n",
       "  clip: rect(1px, 1px, 1px, 1px);\n",
       "  height: 1px;\n",
       "  margin: -1px;\n",
       "  overflow: hidden;\n",
       "  padding: 0;\n",
       "  position: absolute;\n",
       "  width: 1px;\n",
       "}\n",
       "\n",
       "#sk-container-id-1 div.sk-dashed-wrapped {\n",
       "  border: 1px dashed var(--sklearn-color-line);\n",
       "  margin: 0 0.4em 0.5em 0.4em;\n",
       "  box-sizing: border-box;\n",
       "  padding-bottom: 0.4em;\n",
       "  background-color: var(--sklearn-color-background);\n",
       "}\n",
       "\n",
       "#sk-container-id-1 div.sk-container {\n",
       "  /* jupyter's `normalize.less` sets `[hidden] { display: none; }`\n",
       "     but bootstrap.min.css set `[hidden] { display: none !important; }`\n",
       "     so we also need the `!important` here to be able to override the\n",
       "     default hidden behavior on the sphinx rendered scikit-learn.org.\n",
       "     See: https://github.com/scikit-learn/scikit-learn/issues/21755 */\n",
       "  display: inline-block !important;\n",
       "  position: relative;\n",
       "}\n",
       "\n",
       "#sk-container-id-1 div.sk-text-repr-fallback {\n",
       "  display: none;\n",
       "}\n",
       "\n",
       "div.sk-parallel-item,\n",
       "div.sk-serial,\n",
       "div.sk-item {\n",
       "  /* draw centered vertical line to link estimators */\n",
       "  background-image: linear-gradient(var(--sklearn-color-text-on-default-background), var(--sklearn-color-text-on-default-background));\n",
       "  background-size: 2px 100%;\n",
       "  background-repeat: no-repeat;\n",
       "  background-position: center center;\n",
       "}\n",
       "\n",
       "/* Parallel-specific style estimator block */\n",
       "\n",
       "#sk-container-id-1 div.sk-parallel-item::after {\n",
       "  content: \"\";\n",
       "  width: 100%;\n",
       "  border-bottom: 2px solid var(--sklearn-color-text-on-default-background);\n",
       "  flex-grow: 1;\n",
       "}\n",
       "\n",
       "#sk-container-id-1 div.sk-parallel {\n",
       "  display: flex;\n",
       "  align-items: stretch;\n",
       "  justify-content: center;\n",
       "  background-color: var(--sklearn-color-background);\n",
       "  position: relative;\n",
       "}\n",
       "\n",
       "#sk-container-id-1 div.sk-parallel-item {\n",
       "  display: flex;\n",
       "  flex-direction: column;\n",
       "}\n",
       "\n",
       "#sk-container-id-1 div.sk-parallel-item:first-child::after {\n",
       "  align-self: flex-end;\n",
       "  width: 50%;\n",
       "}\n",
       "\n",
       "#sk-container-id-1 div.sk-parallel-item:last-child::after {\n",
       "  align-self: flex-start;\n",
       "  width: 50%;\n",
       "}\n",
       "\n",
       "#sk-container-id-1 div.sk-parallel-item:only-child::after {\n",
       "  width: 0;\n",
       "}\n",
       "\n",
       "/* Serial-specific style estimator block */\n",
       "\n",
       "#sk-container-id-1 div.sk-serial {\n",
       "  display: flex;\n",
       "  flex-direction: column;\n",
       "  align-items: center;\n",
       "  background-color: var(--sklearn-color-background);\n",
       "  padding-right: 1em;\n",
       "  padding-left: 1em;\n",
       "}\n",
       "\n",
       "\n",
       "/* Toggleable style: style used for estimator/Pipeline/ColumnTransformer box that is\n",
       "clickable and can be expanded/collapsed.\n",
       "- Pipeline and ColumnTransformer use this feature and define the default style\n",
       "- Estimators will overwrite some part of the style using the `sk-estimator` class\n",
       "*/\n",
       "\n",
       "/* Pipeline and ColumnTransformer style (default) */\n",
       "\n",
       "#sk-container-id-1 div.sk-toggleable {\n",
       "  /* Default theme specific background. It is overwritten whether we have a\n",
       "  specific estimator or a Pipeline/ColumnTransformer */\n",
       "  background-color: var(--sklearn-color-background);\n",
       "}\n",
       "\n",
       "/* Toggleable label */\n",
       "#sk-container-id-1 label.sk-toggleable__label {\n",
       "  cursor: pointer;\n",
       "  display: flex;\n",
       "  width: 100%;\n",
       "  margin-bottom: 0;\n",
       "  padding: 0.5em;\n",
       "  box-sizing: border-box;\n",
       "  text-align: center;\n",
       "  align-items: start;\n",
       "  justify-content: space-between;\n",
       "  gap: 0.5em;\n",
       "}\n",
       "\n",
       "#sk-container-id-1 label.sk-toggleable__label .caption {\n",
       "  font-size: 0.6rem;\n",
       "  font-weight: lighter;\n",
       "  color: var(--sklearn-color-text-muted);\n",
       "}\n",
       "\n",
       "#sk-container-id-1 label.sk-toggleable__label-arrow:before {\n",
       "  /* Arrow on the left of the label */\n",
       "  content: \"▸\";\n",
       "  float: left;\n",
       "  margin-right: 0.25em;\n",
       "  color: var(--sklearn-color-icon);\n",
       "}\n",
       "\n",
       "#sk-container-id-1 label.sk-toggleable__label-arrow:hover:before {\n",
       "  color: var(--sklearn-color-text);\n",
       "}\n",
       "\n",
       "/* Toggleable content - dropdown */\n",
       "\n",
       "#sk-container-id-1 div.sk-toggleable__content {\n",
       "  max-height: 0;\n",
       "  max-width: 0;\n",
       "  overflow: hidden;\n",
       "  text-align: left;\n",
       "  /* unfitted */\n",
       "  background-color: var(--sklearn-color-unfitted-level-0);\n",
       "}\n",
       "\n",
       "#sk-container-id-1 div.sk-toggleable__content.fitted {\n",
       "  /* fitted */\n",
       "  background-color: var(--sklearn-color-fitted-level-0);\n",
       "}\n",
       "\n",
       "#sk-container-id-1 div.sk-toggleable__content pre {\n",
       "  margin: 0.2em;\n",
       "  border-radius: 0.25em;\n",
       "  color: var(--sklearn-color-text);\n",
       "  /* unfitted */\n",
       "  background-color: var(--sklearn-color-unfitted-level-0);\n",
       "}\n",
       "\n",
       "#sk-container-id-1 div.sk-toggleable__content.fitted pre {\n",
       "  /* unfitted */\n",
       "  background-color: var(--sklearn-color-fitted-level-0);\n",
       "}\n",
       "\n",
       "#sk-container-id-1 input.sk-toggleable__control:checked~div.sk-toggleable__content {\n",
       "  /* Expand drop-down */\n",
       "  max-height: 200px;\n",
       "  max-width: 100%;\n",
       "  overflow: auto;\n",
       "}\n",
       "\n",
       "#sk-container-id-1 input.sk-toggleable__control:checked~label.sk-toggleable__label-arrow:before {\n",
       "  content: \"▾\";\n",
       "}\n",
       "\n",
       "/* Pipeline/ColumnTransformer-specific style */\n",
       "\n",
       "#sk-container-id-1 div.sk-label input.sk-toggleable__control:checked~label.sk-toggleable__label {\n",
       "  color: var(--sklearn-color-text);\n",
       "  background-color: var(--sklearn-color-unfitted-level-2);\n",
       "}\n",
       "\n",
       "#sk-container-id-1 div.sk-label.fitted input.sk-toggleable__control:checked~label.sk-toggleable__label {\n",
       "  background-color: var(--sklearn-color-fitted-level-2);\n",
       "}\n",
       "\n",
       "/* Estimator-specific style */\n",
       "\n",
       "/* Colorize estimator box */\n",
       "#sk-container-id-1 div.sk-estimator input.sk-toggleable__control:checked~label.sk-toggleable__label {\n",
       "  /* unfitted */\n",
       "  background-color: var(--sklearn-color-unfitted-level-2);\n",
       "}\n",
       "\n",
       "#sk-container-id-1 div.sk-estimator.fitted input.sk-toggleable__control:checked~label.sk-toggleable__label {\n",
       "  /* fitted */\n",
       "  background-color: var(--sklearn-color-fitted-level-2);\n",
       "}\n",
       "\n",
       "#sk-container-id-1 div.sk-label label.sk-toggleable__label,\n",
       "#sk-container-id-1 div.sk-label label {\n",
       "  /* The background is the default theme color */\n",
       "  color: var(--sklearn-color-text-on-default-background);\n",
       "}\n",
       "\n",
       "/* On hover, darken the color of the background */\n",
       "#sk-container-id-1 div.sk-label:hover label.sk-toggleable__label {\n",
       "  color: var(--sklearn-color-text);\n",
       "  background-color: var(--sklearn-color-unfitted-level-2);\n",
       "}\n",
       "\n",
       "/* Label box, darken color on hover, fitted */\n",
       "#sk-container-id-1 div.sk-label.fitted:hover label.sk-toggleable__label.fitted {\n",
       "  color: var(--sklearn-color-text);\n",
       "  background-color: var(--sklearn-color-fitted-level-2);\n",
       "}\n",
       "\n",
       "/* Estimator label */\n",
       "\n",
       "#sk-container-id-1 div.sk-label label {\n",
       "  font-family: monospace;\n",
       "  font-weight: bold;\n",
       "  display: inline-block;\n",
       "  line-height: 1.2em;\n",
       "}\n",
       "\n",
       "#sk-container-id-1 div.sk-label-container {\n",
       "  text-align: center;\n",
       "}\n",
       "\n",
       "/* Estimator-specific */\n",
       "#sk-container-id-1 div.sk-estimator {\n",
       "  font-family: monospace;\n",
       "  border: 1px dotted var(--sklearn-color-border-box);\n",
       "  border-radius: 0.25em;\n",
       "  box-sizing: border-box;\n",
       "  margin-bottom: 0.5em;\n",
       "  /* unfitted */\n",
       "  background-color: var(--sklearn-color-unfitted-level-0);\n",
       "}\n",
       "\n",
       "#sk-container-id-1 div.sk-estimator.fitted {\n",
       "  /* fitted */\n",
       "  background-color: var(--sklearn-color-fitted-level-0);\n",
       "}\n",
       "\n",
       "/* on hover */\n",
       "#sk-container-id-1 div.sk-estimator:hover {\n",
       "  /* unfitted */\n",
       "  background-color: var(--sklearn-color-unfitted-level-2);\n",
       "}\n",
       "\n",
       "#sk-container-id-1 div.sk-estimator.fitted:hover {\n",
       "  /* fitted */\n",
       "  background-color: var(--sklearn-color-fitted-level-2);\n",
       "}\n",
       "\n",
       "/* Specification for estimator info (e.g. \"i\" and \"?\") */\n",
       "\n",
       "/* Common style for \"i\" and \"?\" */\n",
       "\n",
       ".sk-estimator-doc-link,\n",
       "a:link.sk-estimator-doc-link,\n",
       "a:visited.sk-estimator-doc-link {\n",
       "  float: right;\n",
       "  font-size: smaller;\n",
       "  line-height: 1em;\n",
       "  font-family: monospace;\n",
       "  background-color: var(--sklearn-color-background);\n",
       "  border-radius: 1em;\n",
       "  height: 1em;\n",
       "  width: 1em;\n",
       "  text-decoration: none !important;\n",
       "  margin-left: 0.5em;\n",
       "  text-align: center;\n",
       "  /* unfitted */\n",
       "  border: var(--sklearn-color-unfitted-level-1) 1pt solid;\n",
       "  color: var(--sklearn-color-unfitted-level-1);\n",
       "}\n",
       "\n",
       ".sk-estimator-doc-link.fitted,\n",
       "a:link.sk-estimator-doc-link.fitted,\n",
       "a:visited.sk-estimator-doc-link.fitted {\n",
       "  /* fitted */\n",
       "  border: var(--sklearn-color-fitted-level-1) 1pt solid;\n",
       "  color: var(--sklearn-color-fitted-level-1);\n",
       "}\n",
       "\n",
       "/* On hover */\n",
       "div.sk-estimator:hover .sk-estimator-doc-link:hover,\n",
       ".sk-estimator-doc-link:hover,\n",
       "div.sk-label-container:hover .sk-estimator-doc-link:hover,\n",
       ".sk-estimator-doc-link:hover {\n",
       "  /* unfitted */\n",
       "  background-color: var(--sklearn-color-unfitted-level-3);\n",
       "  color: var(--sklearn-color-background);\n",
       "  text-decoration: none;\n",
       "}\n",
       "\n",
       "div.sk-estimator.fitted:hover .sk-estimator-doc-link.fitted:hover,\n",
       ".sk-estimator-doc-link.fitted:hover,\n",
       "div.sk-label-container:hover .sk-estimator-doc-link.fitted:hover,\n",
       ".sk-estimator-doc-link.fitted:hover {\n",
       "  /* fitted */\n",
       "  background-color: var(--sklearn-color-fitted-level-3);\n",
       "  color: var(--sklearn-color-background);\n",
       "  text-decoration: none;\n",
       "}\n",
       "\n",
       "/* Span, style for the box shown on hovering the info icon */\n",
       ".sk-estimator-doc-link span {\n",
       "  display: none;\n",
       "  z-index: 9999;\n",
       "  position: relative;\n",
       "  font-weight: normal;\n",
       "  right: .2ex;\n",
       "  padding: .5ex;\n",
       "  margin: .5ex;\n",
       "  width: min-content;\n",
       "  min-width: 20ex;\n",
       "  max-width: 50ex;\n",
       "  color: var(--sklearn-color-text);\n",
       "  box-shadow: 2pt 2pt 4pt #999;\n",
       "  /* unfitted */\n",
       "  background: var(--sklearn-color-unfitted-level-0);\n",
       "  border: .5pt solid var(--sklearn-color-unfitted-level-3);\n",
       "}\n",
       "\n",
       ".sk-estimator-doc-link.fitted span {\n",
       "  /* fitted */\n",
       "  background: var(--sklearn-color-fitted-level-0);\n",
       "  border: var(--sklearn-color-fitted-level-3);\n",
       "}\n",
       "\n",
       ".sk-estimator-doc-link:hover span {\n",
       "  display: block;\n",
       "}\n",
       "\n",
       "/* \"?\"-specific style due to the `<a>` HTML tag */\n",
       "\n",
       "#sk-container-id-1 a.estimator_doc_link {\n",
       "  float: right;\n",
       "  font-size: 1rem;\n",
       "  line-height: 1em;\n",
       "  font-family: monospace;\n",
       "  background-color: var(--sklearn-color-background);\n",
       "  border-radius: 1rem;\n",
       "  height: 1rem;\n",
       "  width: 1rem;\n",
       "  text-decoration: none;\n",
       "  /* unfitted */\n",
       "  color: var(--sklearn-color-unfitted-level-1);\n",
       "  border: var(--sklearn-color-unfitted-level-1) 1pt solid;\n",
       "}\n",
       "\n",
       "#sk-container-id-1 a.estimator_doc_link.fitted {\n",
       "  /* fitted */\n",
       "  border: var(--sklearn-color-fitted-level-1) 1pt solid;\n",
       "  color: var(--sklearn-color-fitted-level-1);\n",
       "}\n",
       "\n",
       "/* On hover */\n",
       "#sk-container-id-1 a.estimator_doc_link:hover {\n",
       "  /* unfitted */\n",
       "  background-color: var(--sklearn-color-unfitted-level-3);\n",
       "  color: var(--sklearn-color-background);\n",
       "  text-decoration: none;\n",
       "}\n",
       "\n",
       "#sk-container-id-1 a.estimator_doc_link.fitted:hover {\n",
       "  /* fitted */\n",
       "  background-color: var(--sklearn-color-fitted-level-3);\n",
       "}\n",
       "</style><div id=\"sk-container-id-1\" class=\"sk-top-container\"><div class=\"sk-text-repr-fallback\"><pre>LinearRegression()</pre><b>In a Jupyter environment, please rerun this cell to show the HTML representation or trust the notebook. <br />On GitHub, the HTML representation is unable to render, please try loading this page with nbviewer.org.</b></div><div class=\"sk-container\" hidden><div class=\"sk-item\"><div class=\"sk-estimator fitted sk-toggleable\"><input class=\"sk-toggleable__control sk-hidden--visually\" id=\"sk-estimator-id-1\" type=\"checkbox\" checked><label for=\"sk-estimator-id-1\" class=\"sk-toggleable__label fitted sk-toggleable__label-arrow\"><div><div>LinearRegression</div></div><div><a class=\"sk-estimator-doc-link fitted\" rel=\"noreferrer\" target=\"_blank\" href=\"https://scikit-learn.org/1.6/modules/generated/sklearn.linear_model.LinearRegression.html\">?<span>Documentation for LinearRegression</span></a><span class=\"sk-estimator-doc-link fitted\">i<span>Fitted</span></span></div></label><div class=\"sk-toggleable__content fitted\"><pre>LinearRegression()</pre></div> </div></div></div></div>"
      ],
      "text/plain": [
       "LinearRegression()"
      ]
     },
     "execution_count": 13,
     "metadata": {},
     "output_type": "execute_result"
    }
   ],
   "source": [
    "simple_model = LinearRegression()\n",
    "simple_model.fit(scaled_df_train[linear_features], scaled_df_train[target])"
   ]
  },
  {
   "cell_type": "code",
   "execution_count": 14,
   "metadata": {},
   "outputs": [],
   "source": [
    "preds_train = simple_model.predict(scaled_df_train[linear_features])\n",
    "preds_test = simple_model.predict(scaled_df_test[linear_features])"
   ]
  },
  {
   "cell_type": "code",
   "execution_count": 15,
   "metadata": {},
   "outputs": [
    {
     "name": "stdout",
     "output_type": "stream",
     "text": [
      "simple_regression, -- Type Dataset - train\n",
      "R2 = 0.9342844366357325\n",
      "MSE = 397886427.41475236\n",
      "RMSE = 19947.090700519522\n",
      "MAE = 12432.844048246428\n",
      "MAPE = 0.07180052924794227\n"
     ]
    },
    {
     "name": "stderr",
     "output_type": "stream",
     "text": [
      "/var/folders/dy/q_kmpbjj54q1glfr1wthxzhw0000gn/T/ipykernel_18256/2903524573.py:17: FutureWarning: The behavior of DataFrame concatenation with empty or all-NA entries is deprecated. In a future version, this will no longer exclude empty or all-NA columns when determining the result dtypes. To retain the old behavior, exclude the relevant entries before the concat operation.\n",
      "  res_df = pd.concat([res_df,\n"
     ]
    }
   ],
   "source": [
    "result_metrics = get_metrics(scaled_df_train[target], preds_train, \n",
    "                              algorithm='simple_regression', dataset_type='train', \n",
    "                              res_df=result_metrics)"
   ]
  },
  {
   "cell_type": "code",
   "execution_count": 16,
   "metadata": {},
   "outputs": [
    {
     "name": "stdout",
     "output_type": "stream",
     "text": [
      "simple_regression, -- Type Dataset - test\n",
      "R2 = 0.7636131923354911\n",
      "MSE = 1611764410.0001333\n",
      "RMSE = 40146.78579911639\n",
      "MAE = 19483.623690172844\n",
      "MAPE = 0.11750337980686873\n"
     ]
    }
   ],
   "source": [
    "result_metrics = get_metrics(scaled_df_test[target], preds_test, \n",
    "                              algorithm='simple_regression', dataset_type='test', \n",
    "                              res_df=result_metrics)"
   ]
  },
  {
   "cell_type": "code",
   "execution_count": 17,
   "metadata": {},
   "outputs": [
    {
     "data": {
      "text/html": [
       "<div>\n",
       "<style scoped>\n",
       "    .dataframe tbody tr th:only-of-type {\n",
       "        vertical-align: middle;\n",
       "    }\n",
       "\n",
       "    .dataframe tbody tr th {\n",
       "        vertical-align: top;\n",
       "    }\n",
       "\n",
       "    .dataframe thead th {\n",
       "        text-align: right;\n",
       "    }\n",
       "</style>\n",
       "<table border=\"1\" class=\"dataframe\">\n",
       "  <thead>\n",
       "    <tr style=\"text-align: right;\">\n",
       "      <th></th>\n",
       "      <th>algorithm</th>\n",
       "      <th>dataset_type</th>\n",
       "      <th>R2</th>\n",
       "      <th>MSE</th>\n",
       "      <th>RMSE</th>\n",
       "      <th>MAE</th>\n",
       "      <th>MAPE</th>\n",
       "    </tr>\n",
       "  </thead>\n",
       "  <tbody>\n",
       "    <tr>\n",
       "      <th>0</th>\n",
       "      <td>simple_regression</td>\n",
       "      <td>train</td>\n",
       "      <td>0.934284</td>\n",
       "      <td>3.978864e+08</td>\n",
       "      <td>19947.090701</td>\n",
       "      <td>12432.844048</td>\n",
       "      <td>0.071801</td>\n",
       "    </tr>\n",
       "    <tr>\n",
       "      <th>0</th>\n",
       "      <td>simple_regression</td>\n",
       "      <td>test</td>\n",
       "      <td>0.763613</td>\n",
       "      <td>1.611764e+09</td>\n",
       "      <td>40146.785799</td>\n",
       "      <td>19483.623690</td>\n",
       "      <td>0.117503</td>\n",
       "    </tr>\n",
       "  </tbody>\n",
       "</table>\n",
       "</div>"
      ],
      "text/plain": [
       "           algorithm dataset_type        R2           MSE          RMSE  \\\n",
       "0  simple_regression        train  0.934284  3.978864e+08  19947.090701   \n",
       "0  simple_regression         test  0.763613  1.611764e+09  40146.785799   \n",
       "\n",
       "            MAE      MAPE  \n",
       "0  12432.844048  0.071801  \n",
       "0  19483.623690  0.117503  "
      ]
     },
     "execution_count": 17,
     "metadata": {},
     "output_type": "execute_result"
    }
   ],
   "source": [
    "result_metrics"
   ]
  },
  {
   "cell_type": "markdown",
   "metadata": {},
   "source": [
    "# Combine with classifier after k-means"
   ]
  },
  {
   "cell_type": "markdown",
   "metadata": {},
   "source": [
    "## fit k-means 2 clusters on target"
   ]
  },
  {
   "cell_type": "markdown",
   "metadata": {},
   "source": [
    "### clustering"
   ]
  },
  {
   "cell_type": "code",
   "execution_count": 18,
   "metadata": {},
   "outputs": [],
   "source": [
    "kmeans = KMeans(n_clusters=2, random_state=2025)\n",
    "kmeans.fit(scaled_df_train[[target]])\n",
    "clf_target ='kmeans'\n",
    "\n",
    "scaled_df_train['kmeans'] = kmeans.predict(scaled_df_train[[target]])\n",
    "scaled_df_test['kmeans'] = kmeans.predict(scaled_df_test[[target]])\n",
    "\n",
    "kmeans_data = pd.concat([scaled_df_train, scaled_df_test])"
   ]
  },
  {
   "cell_type": "code",
   "execution_count": 19,
   "metadata": {},
   "outputs": [
    {
     "data": {
      "image/png": "[encoded data removed]",
      "text/plain": [
       "<Figure size 640x480 with 1 Axes>"
      ]
     },
     "metadata": {},
     "output_type": "display_data"
    }
   ],
   "source": [
    "plt.title('target dist')\n",
    "plt.grid(which='major')\n",
    "sns.histplot(data = kmeans_data, x=target, kde=True, hue='kmeans')\n",
    "plt.show()"
   ]
  },
  {
   "cell_type": "markdown",
   "metadata": {},
   "source": [
    "### fit clf"
   ]
  },
  {
   "cell_type": "code",
   "execution_count": 20,
   "metadata": {},
   "outputs": [],
   "source": [
    "clf = cat.CatBoostClassifier(random_state=2025, cat_features=cat_features, verbose=False)\n",
    "clf.fit(scaled_df_train[catboost_features], scaled_df_train[clf_target])\n",
    "\n",
    "clf_pred_train = clf.predict(scaled_df_train[catboost_features])\n",
    "clf_pred_test = clf.predict(scaled_df_test[catboost_features])"
   ]
  },
  {
   "cell_type": "code",
   "execution_count": 21,
   "metadata": {},
   "outputs": [
    {
     "name": "stdout",
     "output_type": "stream",
     "text": [
      "              precision    recall  f1-score   support\n",
      "\n",
      "           0       0.99      1.00      0.99       234\n",
      "           1       1.00      1.00      1.00       744\n",
      "\n",
      "    accuracy                           1.00       978\n",
      "   macro avg       0.99      1.00      1.00       978\n",
      "weighted avg       1.00      1.00      1.00       978\n",
      "\n"
     ]
    }
   ],
   "source": [
    "print(metrics.classification_report(scaled_df_train[clf_target], clf_pred_train))"
   ]
  },
  {
   "cell_type": "code",
   "execution_count": 22,
   "metadata": {},
   "outputs": [
    {
     "name": "stdout",
     "output_type": "stream",
     "text": [
      "              precision    recall  f1-score   support\n",
      "\n",
      "           0       0.91      0.90      0.90       110\n",
      "           1       0.97      0.97      0.97       372\n",
      "\n",
      "    accuracy                           0.96       482\n",
      "   macro avg       0.94      0.94      0.94       482\n",
      "weighted avg       0.96      0.96      0.96       482\n",
      "\n"
     ]
    }
   ],
   "source": [
    "print(metrics.classification_report(scaled_df_test[clf_target], clf_pred_test))"
   ]
  },
  {
   "cell_type": "markdown",
   "metadata": {},
   "source": [
    "### fit regression"
   ]
  },
  {
   "cell_type": "code",
   "execution_count": 23,
   "metadata": {},
   "outputs": [],
   "source": [
    "scaled_df_train_0 = scaled_df_train[scaled_df_train[clf_target] == 0]\n",
    "scaled_df_train_1 = scaled_df_train[scaled_df_train[clf_target] == 1]\n",
    "\n",
    "clf_pred_test = clf.predict(scaled_df_test[catboost_features])\n",
    "scaled_df_test['clf_pred'] = clf_pred_test\n",
    "\n",
    "scaled_df_test_0 = scaled_df_test[scaled_df_test['clf_pred'] == 0]\n",
    "scaled_df_test_1 = scaled_df_test[scaled_df_test['clf_pred'] == 1]"
   ]
  },
  {
   "cell_type": "code",
   "execution_count": 24,
   "metadata": {},
   "outputs": [
    {
     "name": "stdout",
     "output_type": "stream",
     "text": [
      "train (234, 306) (744, 306)\n",
      "test (109, 307) (373, 307)\n"
     ]
    }
   ],
   "source": [
    "print(\"train\", scaled_df_train_0.shape, scaled_df_train_1.shape)\n",
    "print(\"test\", scaled_df_test_0.shape, scaled_df_test_1.shape)"
   ]
  },
  {
   "cell_type": "code",
   "execution_count": 25,
   "metadata": {},
   "outputs": [],
   "source": [
    "lr_0 = LinearRegression()\n",
    "lr_0.fit(scaled_df_train_0[linear_features], scaled_df_train_0[target])\n",
    "pred_train_0 = lr_0.predict(scaled_df_train_0[linear_features])\n",
    "pred_test_0 = lr_0.predict(scaled_df_test_0[linear_features])\n",
    "\n",
    "lr_1 = LinearRegression()\n",
    "lr_1.fit(scaled_df_train_1[linear_features], scaled_df_train_1[target])\n",
    "pred_train_1 = lr_1.predict(scaled_df_train_1[linear_features])\n",
    "pred_test_1 = lr_1.predict(scaled_df_test_1[linear_features])"
   ]
  },
  {
   "cell_type": "code",
   "execution_count": 26,
   "metadata": {},
   "outputs": [
    {
     "name": "stdout",
     "output_type": "stream",
     "text": [
      "segm_kmeans2_regression, -- Type Dataset - train\n",
      "R2 = 0.9786156445534678\n",
      "MSE = 129475338.19384952\n",
      "RMSE = 11378.723047594116\n",
      "MAE = 7933.004708253685\n",
      "MAPE = 0.04922101912852102\n",
      "segm_kmeans2_regression, -- Type Dataset - test\n",
      "R2 = -0.18701140974826247\n",
      "MSE = 8093441268.565257\n",
      "RMSE = 89963.55522413093\n",
      "MAE = 31624.31954051486\n",
      "MAPE = 0.16013594827858232\n"
     ]
    }
   ],
   "source": [
    "result_metrics = get_metrics(pd.concat([scaled_df_train_0[target], \n",
    "                                        scaled_df_train_1[target]]),\n",
    "                             np.hstack([pred_train_0, pred_train_1]),\n",
    "                              algorithm='segm_kmeans2_regression', dataset_type='train', \n",
    "                              res_df=result_metrics)\n",
    "\n",
    "result_metrics = get_metrics(pd.concat([scaled_df_test_0[target], \n",
    "                                        scaled_df_test_1[target]]),\n",
    "                             np.hstack([pred_test_0, pred_test_1]),\n",
    "                              algorithm='segm_kmeans2_regression', dataset_type='test', \n",
    "                              res_df=result_metrics)"
   ]
  },
  {
   "cell_type": "markdown",
   "metadata": {},
   "source": [
    "## fit k-means 3  clusters on target"
   ]
  },
  {
   "cell_type": "markdown",
   "metadata": {},
   "source": [
    "### clustering"
   ]
  },
  {
   "cell_type": "code",
   "execution_count": 27,
   "metadata": {},
   "outputs": [],
   "source": [
    "kmeans = KMeans(n_clusters=3, random_state=2025)\n",
    "kmeans.fit(scaled_df_train[[target]])\n",
    "\n",
    "scaled_df_train['kmeans'] = kmeans.predict(scaled_df_train[[target]])\n",
    "scaled_df_test['kmeans'] = kmeans.predict(scaled_df_test[[target]])\n",
    "\n",
    "kmeans_data = pd.concat([scaled_df_train, scaled_df_test])"
   ]
  },
  {
   "cell_type": "code",
   "execution_count": 28,
   "metadata": {},
   "outputs": [
    {
     "data": {
      "image/png": "[encoded data removed]",
      "text/plain": [
       "<Figure size 640x480 with 1 Axes>"
      ]
     },
     "metadata": {},
     "output_type": "display_data"
    }
   ],
   "source": [
    "plt.title('target dist')\n",
    "plt.grid(which='major')\n",
    "sns.histplot(data = kmeans_data, x=target, kde=True, hue='kmeans')\n",
    "plt.show()"
   ]
  },
  {
   "cell_type": "markdown",
   "metadata": {},
   "source": [
    "### fit clf"
   ]
  },
  {
   "cell_type": "code",
   "execution_count": 29,
   "metadata": {},
   "outputs": [],
   "source": [
    "clf = cat.CatBoostClassifier(random_state=2025, cat_features=cat_features, verbose=False)\n",
    "clf.fit(scaled_df_train[catboost_features], scaled_df_train[clf_target])\n",
    "\n",
    "clf_pred_train = clf.predict(scaled_df_train[catboost_features])\n",
    "clf_pred_test = clf.predict(scaled_df_test[catboost_features])"
   ]
  },
  {
   "cell_type": "code",
   "execution_count": 30,
   "metadata": {},
   "outputs": [
    {
     "name": "stdout",
     "output_type": "stream",
     "text": [
      "              precision    recall  f1-score   support\n",
      "\n",
      "           0       0.97      0.98      0.98       353\n",
      "           1       0.99      0.98      0.99       529\n",
      "           2       0.96      0.98      0.97        96\n",
      "\n",
      "    accuracy                           0.98       978\n",
      "   macro avg       0.97      0.98      0.98       978\n",
      "weighted avg       0.98      0.98      0.98       978\n",
      "\n"
     ]
    }
   ],
   "source": [
    "print(metrics.classification_report(scaled_df_train[clf_target], clf_pred_train))"
   ]
  },
  {
   "cell_type": "code",
   "execution_count": 31,
   "metadata": {},
   "outputs": [
    {
     "name": "stdout",
     "output_type": "stream",
     "text": [
      "              precision    recall  f1-score   support\n",
      "\n",
      "           0       0.84      0.89      0.86       178\n",
      "           1       0.95      0.92      0.93       263\n",
      "           2       0.81      0.73      0.77        41\n",
      "\n",
      "    accuracy                           0.89       482\n",
      "   macro avg       0.87      0.85      0.86       482\n",
      "weighted avg       0.90      0.89      0.89       482\n",
      "\n"
     ]
    }
   ],
   "source": [
    "print(metrics.classification_report(scaled_df_test[clf_target], clf_pred_test))"
   ]
  },
  {
   "cell_type": "markdown",
   "metadata": {},
   "source": [
    "### fit regression"
   ]
  },
  {
   "cell_type": "code",
   "execution_count": 32,
   "metadata": {},
   "outputs": [],
   "source": [
    "scaled_df_train_0 = scaled_df_train[scaled_df_train[clf_target] == 0]\n",
    "scaled_df_train_1 = scaled_df_train[scaled_df_train[clf_target] == 1]\n",
    "scaled_df_train_2 = scaled_df_train[scaled_df_train[clf_target] == 2]\n",
    "\n",
    "clf_pred_test = clf.predict(scaled_df_test[catboost_features])\n",
    "scaled_df_test['clf_pred'] = clf_pred_test\n",
    "\n",
    "scaled_df_test_0 = scaled_df_test[scaled_df_test['clf_pred'] == 0]\n",
    "scaled_df_test_1 = scaled_df_test[scaled_df_test['clf_pred'] == 1]\n",
    "scaled_df_test_2 = scaled_df_test[scaled_df_test['clf_pred'] == 2]"
   ]
  },
  {
   "cell_type": "code",
   "execution_count": 33,
   "metadata": {},
   "outputs": [
    {
     "name": "stdout",
     "output_type": "stream",
     "text": [
      "train (353, 306) (529, 306) (96, 306)\n",
      "test (188, 307) (257, 307) (37, 307)\n"
     ]
    }
   ],
   "source": [
    "print(\"train\", scaled_df_train_0.shape, scaled_df_train_1.shape, scaled_df_train_2.shape)\n",
    "print(\"test\", scaled_df_test_0.shape, scaled_df_test_1.shape, scaled_df_test_2.shape)"
   ]
  },
  {
   "cell_type": "code",
   "execution_count": 34,
   "metadata": {},
   "outputs": [],
   "source": [
    "lr_0 = LinearRegression()\n",
    "lr_0.fit(scaled_df_train_0[linear_features], scaled_df_train_0[target])\n",
    "pred_train_0 = lr_0.predict(scaled_df_train_0[linear_features])\n",
    "pred_test_0 = lr_0.predict(scaled_df_test_0[linear_features])\n",
    "\n",
    "lr_1 = LinearRegression()\n",
    "lr_1.fit(scaled_df_train_1[linear_features], scaled_df_train_1[target])\n",
    "pred_train_1 = lr_1.predict(scaled_df_train_1[linear_features])\n",
    "pred_test_1 = lr_1.predict(scaled_df_test_1[linear_features])\n",
    "\n",
    "lr_2 = LinearRegression()\n",
    "lr_2.fit(scaled_df_train_2[linear_features], scaled_df_train_2[target])\n",
    "pred_train_2 = lr_2.predict(scaled_df_train_2[linear_features])\n",
    "pred_test_2 = lr_2.predict(scaled_df_test_2[linear_features])"
   ]
  },
  {
   "cell_type": "code",
   "execution_count": 35,
   "metadata": {},
   "outputs": [
    {
     "name": "stdout",
     "output_type": "stream",
     "text": [
      "segm_kmeans3_regression, -- Type Dataset - train\n",
      "R2 = 0.9882945567395156\n",
      "MSE = 70872663.36596134\n",
      "RMSE = 8418.590343160864\n",
      "MAE = 5650.373919201057\n",
      "MAPE = 0.03891827949408407\n",
      "segm_kmeans3_regression, -- Type Dataset - test\n",
      "R2 = 0.08366325088517035\n",
      "MSE = 6247890795.558334\n",
      "RMSE = 79043.60059839339\n",
      "MAE = 27132.398580505214\n",
      "MAPE = 0.14797421650507572\n"
     ]
    }
   ],
   "source": [
    "result_metrics = get_metrics(pd.concat([scaled_df_train_0[target], \n",
    "                                        scaled_df_train_1[target],\n",
    "                                        scaled_df_train_2[target]]),\n",
    "                             np.hstack([pred_train_0, pred_train_1, pred_train_2]),\n",
    "                              algorithm='segm_kmeans3_regression', dataset_type='train', \n",
    "                              res_df=result_metrics)\n",
    "\n",
    "result_metrics = get_metrics(pd.concat([scaled_df_test_0[target], \n",
    "                                        scaled_df_test_1[target],\n",
    "                                        scaled_df_test_2[target]]),\n",
    "                             np.hstack([pred_test_0, pred_test_1, pred_test_2]),\n",
    "                              algorithm='segm_kmeans3_regression', dataset_type='test', \n",
    "                              res_df=result_metrics)"
   ]
  },
  {
   "cell_type": "markdown",
   "metadata": {},
   "source": [
    "## fit 2 clusters on features"
   ]
  },
  {
   "cell_type": "markdown",
   "metadata": {},
   "source": [
    "### clustering"
   ]
  },
  {
   "cell_type": "code",
   "execution_count": 36,
   "metadata": {},
   "outputs": [],
   "source": [
    "kmeans = KMeans(n_clusters=2, random_state=2025)\n",
    "kmeans.fit(scaled_df_train[linear_features])\n",
    "\n",
    "scaled_df_train['kmeans'] = kmeans.predict(scaled_df_train[linear_features])\n",
    "scaled_df_test['kmeans'] = kmeans.predict(scaled_df_test[linear_features])\n",
    "\n",
    "kmeans_data = pd.concat([scaled_df_train, scaled_df_test])"
   ]
  },
  {
   "cell_type": "code",
   "execution_count": 37,
   "metadata": {},
   "outputs": [
    {
     "data": {
      "image/png": "[encoded data removed]",
      "text/plain": [
       "<Figure size 640x480 with 1 Axes>"
      ]
     },
     "metadata": {},
     "output_type": "display_data"
    }
   ],
   "source": [
    "plt.title('target dist')\n",
    "plt.grid(which='major')\n",
    "sns.histplot(data = kmeans_data, x=target, kde=True, hue='kmeans')\n",
    "plt.show()"
   ]
  },
  {
   "cell_type": "markdown",
   "metadata": {},
   "source": [
    "### fit clf"
   ]
  },
  {
   "cell_type": "code",
   "execution_count": 38,
   "metadata": {},
   "outputs": [],
   "source": [
    "clf = cat.CatBoostClassifier(random_state=2025, cat_features=cat_features, verbose=False)\n",
    "clf.fit(scaled_df_train[catboost_features], scaled_df_train[clf_target])\n",
    "\n",
    "clf_pred_train = clf.predict(scaled_df_train[catboost_features])\n",
    "clf_pred_test = clf.predict(scaled_df_test[catboost_features])"
   ]
  },
  {
   "cell_type": "code",
   "execution_count": 39,
   "metadata": {},
   "outputs": [
    {
     "name": "stdout",
     "output_type": "stream",
     "text": [
      "              precision    recall  f1-score   support\n",
      "\n",
      "           0       1.00      1.00      1.00       405\n",
      "           1       1.00      1.00      1.00       573\n",
      "\n",
      "    accuracy                           1.00       978\n",
      "   macro avg       1.00      1.00      1.00       978\n",
      "weighted avg       1.00      1.00      1.00       978\n",
      "\n"
     ]
    }
   ],
   "source": [
    "print(metrics.classification_report(scaled_df_train[clf_target], clf_pred_train))"
   ]
  },
  {
   "cell_type": "code",
   "execution_count": 40,
   "metadata": {},
   "outputs": [
    {
     "name": "stdout",
     "output_type": "stream",
     "text": [
      "              precision    recall  f1-score   support\n",
      "\n",
      "           0       0.97      0.97      0.97       186\n",
      "           1       0.98      0.98      0.98       296\n",
      "\n",
      "    accuracy                           0.98       482\n",
      "   macro avg       0.97      0.97      0.97       482\n",
      "weighted avg       0.98      0.98      0.98       482\n",
      "\n"
     ]
    }
   ],
   "source": [
    "print(metrics.classification_report(scaled_df_test[clf_target], clf_pred_test))"
   ]
  },
  {
   "cell_type": "markdown",
   "metadata": {},
   "source": [
    "### fit regression"
   ]
  },
  {
   "cell_type": "code",
   "execution_count": 41,
   "metadata": {},
   "outputs": [],
   "source": [
    "scaled_df_train_0 = scaled_df_train[scaled_df_train[clf_target] == 0]\n",
    "scaled_df_train_1 = scaled_df_train[scaled_df_train[clf_target] == 1]\n",
    "\n",
    "clf_pred_test = clf.predict(scaled_df_test[catboost_features])\n",
    "scaled_df_test['clf_pred'] = clf_pred_test\n",
    "\n",
    "scaled_df_test_0 = scaled_df_test[scaled_df_test['clf_pred'] == 0]\n",
    "scaled_df_test_1 = scaled_df_test[scaled_df_test['clf_pred'] == 1]"
   ]
  },
  {
   "cell_type": "code",
   "execution_count": 42,
   "metadata": {},
   "outputs": [
    {
     "name": "stdout",
     "output_type": "stream",
     "text": [
      "train (405, 306) (573, 306)\n",
      "test (186, 307) (296, 307)\n"
     ]
    }
   ],
   "source": [
    "print(\"train\", scaled_df_train_0.shape, scaled_df_train_1.shape)\n",
    "print(\"test\", scaled_df_test_0.shape, scaled_df_test_1.shape)"
   ]
  },
  {
   "cell_type": "code",
   "execution_count": 43,
   "metadata": {},
   "outputs": [],
   "source": [
    "lr_0 = LinearRegression()\n",
    "lr_0.fit(scaled_df_train_0[linear_features], scaled_df_train_0[target])\n",
    "pred_train_0 = lr_0.predict(scaled_df_train_0[linear_features])\n",
    "pred_test_0 = lr_0.predict(scaled_df_test_0[linear_features])\n",
    "\n",
    "lr_1 = LinearRegression()\n",
    "lr_1.fit(scaled_df_train_1[linear_features], scaled_df_train_1[target])\n",
    "pred_train_1 = lr_1.predict(scaled_df_train_1[linear_features])\n",
    "pred_test_1 = lr_1.predict(scaled_df_test_1[linear_features])"
   ]
  },
  {
   "cell_type": "code",
   "execution_count": 44,
   "metadata": {},
   "outputs": [
    {
     "name": "stdout",
     "output_type": "stream",
     "text": [
      "segm_kmeans2onFeatures_regression, -- Type Dataset - train\n",
      "R2 = 0.9655360808489799\n",
      "MSE = 208667855.27956793\n",
      "RMSE = 14445.340261813424\n",
      "MAE = 9554.335720901561\n",
      "MAPE = 0.05633651355504194\n",
      "segm_kmeans2onFeatures_regression, -- Type Dataset - test\n",
      "R2 = 0.6248617506403875\n",
      "MSE = 2557818201.1142673\n",
      "RMSE = 50574.8771734966\n",
      "MAE = 22861.41735881895\n",
      "MAPE = 0.13798211984938602\n"
     ]
    }
   ],
   "source": [
    "result_metrics = get_metrics(pd.concat([scaled_df_train_0[target], \n",
    "                                        scaled_df_train_1[target]]),\n",
    "                             np.hstack([pred_train_0, pred_train_1]),\n",
    "                              algorithm='segm_kmeans2onFeatures_regression', \n",
    "                              dataset_type='train', \n",
    "                              res_df=result_metrics)\n",
    "\n",
    "result_metrics = get_metrics(pd.concat([scaled_df_test_0[target], \n",
    "                                        scaled_df_test_1[target]]),\n",
    "                             np.hstack([pred_test_0, pred_test_1]),\n",
    "                              algorithm='segm_kmeans2onFeatures_regression', \n",
    "                              dataset_type='test', \n",
    "                              res_df=result_metrics)"
   ]
  },
  {
   "cell_type": "markdown",
   "metadata": {},
   "source": [
    "## fit 3 clusters on features"
   ]
  },
  {
   "cell_type": "markdown",
   "metadata": {},
   "source": [
    "### clustering"
   ]
  },
  {
   "cell_type": "code",
   "execution_count": 45,
   "metadata": {},
   "outputs": [],
   "source": [
    "kmeans = KMeans(n_clusters=3, random_state=2025)\n",
    "kmeans.fit(scaled_df_train[linear_features])\n",
    "\n",
    "scaled_df_train['kmeans'] = kmeans.predict(scaled_df_train[linear_features])\n",
    "scaled_df_test['kmeans'] = kmeans.predict(scaled_df_test[linear_features])\n",
    "\n",
    "kmeans_data = pd.concat([scaled_df_train, scaled_df_test])"
   ]
  },
  {
   "cell_type": "code",
   "execution_count": 46,
   "metadata": {},
   "outputs": [
    {
     "data": {
      "image/png": "[encoded data removed]",
      "text/plain": [
       "<Figure size 640x480 with 1 Axes>"
      ]
     },
     "metadata": {},
     "output_type": "display_data"
    }
   ],
   "source": [
    "plt.title('target dist')\n",
    "plt.grid(which='major')\n",
    "sns.histplot(data = kmeans_data, x=target, kde=True, hue='kmeans')\n",
    "plt.show()"
   ]
  },
  {
   "cell_type": "markdown",
   "metadata": {},
   "source": [
    "### fit clf"
   ]
  },
  {
   "cell_type": "code",
   "execution_count": 47,
   "metadata": {},
   "outputs": [],
   "source": [
    "clf = cat.CatBoostClassifier(random_state=2025, cat_features=cat_features, verbose=False)\n",
    "clf.fit(scaled_df_train[catboost_features], scaled_df_train[clf_target])\n",
    "\n",
    "clf_pred_train = clf.predict(scaled_df_train[catboost_features])\n",
    "clf_pred_test = clf.predict(scaled_df_test[catboost_features])"
   ]
  },
  {
   "cell_type": "code",
   "execution_count": 48,
   "metadata": {},
   "outputs": [
    {
     "name": "stdout",
     "output_type": "stream",
     "text": [
      "              precision    recall  f1-score   support\n",
      "\n",
      "           0       0.99      1.00      1.00       391\n",
      "           1       1.00      0.99      1.00       241\n",
      "           2       0.99      1.00      1.00       346\n",
      "\n",
      "    accuracy                           1.00       978\n",
      "   macro avg       1.00      1.00      1.00       978\n",
      "weighted avg       1.00      1.00      1.00       978\n",
      "\n"
     ]
    }
   ],
   "source": [
    "print(metrics.classification_report(scaled_df_train[clf_target], clf_pred_train))"
   ]
  },
  {
   "cell_type": "code",
   "execution_count": 49,
   "metadata": {},
   "outputs": [
    {
     "name": "stdout",
     "output_type": "stream",
     "text": [
      "              precision    recall  f1-score   support\n",
      "\n",
      "           0       0.98      0.99      0.99       180\n",
      "           1       0.95      0.90      0.92       134\n",
      "           2       0.93      0.95      0.94       168\n",
      "\n",
      "    accuracy                           0.95       482\n",
      "   macro avg       0.95      0.95      0.95       482\n",
      "weighted avg       0.95      0.95      0.95       482\n",
      "\n"
     ]
    }
   ],
   "source": [
    "print(metrics.classification_report(scaled_df_test[clf_target], clf_pred_test))"
   ]
  },
  {
   "cell_type": "markdown",
   "metadata": {},
   "source": [
    "### fit regression"
   ]
  },
  {
   "cell_type": "code",
   "execution_count": 50,
   "metadata": {},
   "outputs": [],
   "source": [
    "scaled_df_train_0 = scaled_df_train[scaled_df_train[clf_target] == 0]\n",
    "scaled_df_train_1 = scaled_df_train[scaled_df_train[clf_target] == 1]\n",
    "scaled_df_train_2 = scaled_df_train[scaled_df_train[clf_target] == 2]\n",
    "\n",
    "clf_pred_test = clf.predict(scaled_df_test[catboost_features])\n",
    "scaled_df_test['clf_pred'] = clf_pred_test\n",
    "\n",
    "scaled_df_test_0 = scaled_df_test[scaled_df_test['clf_pred'] == 0]\n",
    "scaled_df_test_1 = scaled_df_test[scaled_df_test['clf_pred'] == 1]\n",
    "scaled_df_test_2 = scaled_df_test[scaled_df_test['clf_pred'] == 2]"
   ]
  },
  {
   "cell_type": "code",
   "execution_count": 51,
   "metadata": {},
   "outputs": [
    {
     "name": "stdout",
     "output_type": "stream",
     "text": [
      "train (391, 306) (241, 306) (346, 306)\n",
      "test (182, 307) (128, 307) (172, 307)\n"
     ]
    }
   ],
   "source": [
    "print(\"train\", scaled_df_train_0.shape, scaled_df_train_1.shape, scaled_df_train_2.shape)\n",
    "print(\"test\", scaled_df_test_0.shape, scaled_df_test_1.shape, scaled_df_test_2.shape)"
   ]
  },
  {
   "cell_type": "code",
   "execution_count": 52,
   "metadata": {},
   "outputs": [],
   "source": [
    "lr_0 = LinearRegression()\n",
    "lr_0.fit(scaled_df_train_0[linear_features], scaled_df_train_0[target])\n",
    "pred_train_0 = lr_0.predict(scaled_df_train_0[linear_features])\n",
    "pred_test_0 = lr_0.predict(scaled_df_test_0[linear_features])\n",
    "\n",
    "lr_1 = LinearRegression()\n",
    "lr_1.fit(scaled_df_train_1[linear_features], scaled_df_train_1[target])\n",
    "pred_train_1 = lr_1.predict(scaled_df_train_1[linear_features])\n",
    "pred_test_1 = lr_1.predict(scaled_df_test_1[linear_features])\n",
    "\n",
    "lr_2 = LinearRegression()\n",
    "lr_2.fit(scaled_df_train_2[linear_features], scaled_df_train_2[target])\n",
    "pred_train_2 = lr_2.predict(scaled_df_train_2[linear_features])\n",
    "pred_test_2 = lr_2.predict(scaled_df_test_2[linear_features])"
   ]
  },
  {
   "cell_type": "code",
   "execution_count": 53,
   "metadata": {},
   "outputs": [
    {
     "name": "stdout",
     "output_type": "stream",
     "text": [
      "segm_kmeans3onFeatures_regression, -- Type Dataset - train\n",
      "R2 = 0.97162745257806\n",
      "MSE = 171786574.63217717\n",
      "RMSE = 13106.737757053705\n",
      "MAE = 8019.019145406313\n",
      "MAPE = 0.04436813812435566\n",
      "segm_kmeans3onFeatures_regression, -- Type Dataset - test\n",
      "R2 = 0.6385079249326119\n",
      "MSE = 2464774015.297936\n",
      "RMSE = 49646.49046305223\n",
      "MAE = 25150.366187210504\n",
      "MAPE = 0.1550000322973212\n"
     ]
    }
   ],
   "source": [
    "result_metrics = get_metrics(pd.concat([scaled_df_train_0[target], \n",
    "                                        scaled_df_train_1[target],\n",
    "                                        scaled_df_train_2[target]]),\n",
    "                             np.hstack([pred_train_0, pred_train_1, pred_train_2]),\n",
    "                              algorithm='segm_kmeans3onFeatures_regression',\n",
    "                               dataset_type='train', \n",
    "                              res_df=result_metrics)\n",
    "\n",
    "result_metrics = get_metrics(pd.concat([scaled_df_test_0[target], \n",
    "                                        scaled_df_test_1[target],\n",
    "                                        scaled_df_test_2[target]]),\n",
    "                             np.hstack([pred_test_0, pred_test_1, pred_test_2]),\n",
    "                              algorithm='segm_kmeans3onFeatures_regression',\n",
    "                               dataset_type='test', \n",
    "                              res_df=result_metrics)"
   ]
  },
  {
   "cell_type": "markdown",
   "metadata": {},
   "source": [
    "# Catboost"
   ]
  },
  {
   "cell_type": "code",
   "execution_count": 54,
   "metadata": {},
   "outputs": [],
   "source": [
    "catboost_features = num_features+cat_features"
   ]
  },
  {
   "cell_type": "code",
   "execution_count": 55,
   "metadata": {},
   "outputs": [
    {
     "data": {
      "text/plain": [
       "<catboost.core.CatBoostRegressor at 0x14b405a10>"
      ]
     },
     "execution_count": 55,
     "metadata": {},
     "output_type": "execute_result"
    }
   ],
   "source": [
    "cat_model = cat.CatBoostRegressor(random_seed = 2025, cat_features=cat_features, verbose=False)\n",
    "cat_model.fit(df_train[catboost_features], df_train[target])"
   ]
  },
  {
   "cell_type": "code",
   "execution_count": 56,
   "metadata": {},
   "outputs": [],
   "source": [
    "y_train_pred = cat_model.predict(df_train[catboost_features])\n",
    "y_test_pred = cat_model.predict(df_test[catboost_features])"
   ]
  },
  {
   "cell_type": "code",
   "execution_count": 57,
   "metadata": {},
   "outputs": [
    {
     "name": "stdout",
     "output_type": "stream",
     "text": [
      "catboost_regression, -- Type Dataset - train\n",
      "R2 = 0.9826189666310685\n",
      "MSE = 105236521.12067415\n",
      "RMSE = 10258.485322925317\n",
      "MAE = 7074.099107043198\n",
      "MAPE = 0.04287479062542724\n"
     ]
    }
   ],
   "source": [
    "result_metrics = get_metrics(df_train[target], y_train_pred,\n",
    "                              algorithm='catboost_regression', dataset_type='train', \n",
    "                              res_df=result_metrics)"
   ]
  },
  {
   "cell_type": "code",
   "execution_count": 58,
   "metadata": {},
   "outputs": [
    {
     "name": "stdout",
     "output_type": "stream",
     "text": [
      "catboost_regression, -- Type Dataset - test\n",
      "R2 = 0.8925282018563128\n",
      "MSE = 732778707.230372\n",
      "RMSE = 27069.88561539136\n",
      "MAE = 15651.013002386228\n",
      "MAPE = 0.09401566317537778\n"
     ]
    }
   ],
   "source": [
    "result_metrics = get_metrics(df_test[target], y_test_pred,\n",
    "                              algorithm='catboost_regression', dataset_type='test', \n",
    "                              res_df=result_metrics)"
   ]
  },
  {
   "cell_type": "code",
   "execution_count": 59,
   "metadata": {},
   "outputs": [
    {
     "data": {
      "text/html": [
       "<div>\n",
       "<style scoped>\n",
       "    .dataframe tbody tr th:only-of-type {\n",
       "        vertical-align: middle;\n",
       "    }\n",
       "\n",
       "    .dataframe tbody tr th {\n",
       "        vertical-align: top;\n",
       "    }\n",
       "\n",
       "    .dataframe thead th {\n",
       "        text-align: right;\n",
       "    }\n",
       "</style>\n",
       "<table border=\"1\" class=\"dataframe\">\n",
       "  <thead>\n",
       "    <tr style=\"text-align: right;\">\n",
       "      <th></th>\n",
       "      <th>algorithm</th>\n",
       "      <th>dataset_type</th>\n",
       "      <th>R2</th>\n",
       "      <th>MSE</th>\n",
       "      <th>RMSE</th>\n",
       "      <th>MAE</th>\n",
       "      <th>MAPE</th>\n",
       "    </tr>\n",
       "  </thead>\n",
       "  <tbody>\n",
       "    <tr>\n",
       "      <th>0</th>\n",
       "      <td>simple_regression</td>\n",
       "      <td>train</td>\n",
       "      <td>0.934284</td>\n",
       "      <td>3.978864e+08</td>\n",
       "      <td>19947.090701</td>\n",
       "      <td>12432.844048</td>\n",
       "      <td>0.071801</td>\n",
       "    </tr>\n",
       "    <tr>\n",
       "      <th>0</th>\n",
       "      <td>segm_kmeans2_regression</td>\n",
       "      <td>train</td>\n",
       "      <td>0.978616</td>\n",
       "      <td>1.294753e+08</td>\n",
       "      <td>11378.723048</td>\n",
       "      <td>7933.004708</td>\n",
       "      <td>0.049221</td>\n",
       "    </tr>\n",
       "    <tr>\n",
       "      <th>0</th>\n",
       "      <td>segm_kmeans3_regression</td>\n",
       "      <td>train</td>\n",
       "      <td>0.988295</td>\n",
       "      <td>7.087266e+07</td>\n",
       "      <td>8418.590343</td>\n",
       "      <td>5650.373919</td>\n",
       "      <td>0.038918</td>\n",
       "    </tr>\n",
       "    <tr>\n",
       "      <th>0</th>\n",
       "      <td>segm_kmeans2onFeatures_regression</td>\n",
       "      <td>train</td>\n",
       "      <td>0.965536</td>\n",
       "      <td>2.086679e+08</td>\n",
       "      <td>14445.340262</td>\n",
       "      <td>9554.335721</td>\n",
       "      <td>0.056337</td>\n",
       "    </tr>\n",
       "    <tr>\n",
       "      <th>0</th>\n",
       "      <td>segm_kmeans3onFeatures_regression</td>\n",
       "      <td>train</td>\n",
       "      <td>0.971627</td>\n",
       "      <td>1.717866e+08</td>\n",
       "      <td>13106.737757</td>\n",
       "      <td>8019.019145</td>\n",
       "      <td>0.044368</td>\n",
       "    </tr>\n",
       "    <tr>\n",
       "      <th>0</th>\n",
       "      <td>catboost_regression</td>\n",
       "      <td>train</td>\n",
       "      <td>0.982619</td>\n",
       "      <td>1.052365e+08</td>\n",
       "      <td>10258.485323</td>\n",
       "      <td>7074.099107</td>\n",
       "      <td>0.042875</td>\n",
       "    </tr>\n",
       "  </tbody>\n",
       "</table>\n",
       "</div>"
      ],
      "text/plain": [
       "                           algorithm dataset_type        R2           MSE  \\\n",
       "0                  simple_regression        train  0.934284  3.978864e+08   \n",
       "0            segm_kmeans2_regression        train  0.978616  1.294753e+08   \n",
       "0            segm_kmeans3_regression        train  0.988295  7.087266e+07   \n",
       "0  segm_kmeans2onFeatures_regression        train  0.965536  2.086679e+08   \n",
       "0  segm_kmeans3onFeatures_regression        train  0.971627  1.717866e+08   \n",
       "0                catboost_regression        train  0.982619  1.052365e+08   \n",
       "\n",
       "           RMSE           MAE      MAPE  \n",
       "0  19947.090701  12432.844048  0.071801  \n",
       "0  11378.723048   7933.004708  0.049221  \n",
       "0   8418.590343   5650.373919  0.038918  \n",
       "0  14445.340262   9554.335721  0.056337  \n",
       "0  13106.737757   8019.019145  0.044368  \n",
       "0  10258.485323   7074.099107  0.042875  "
      ]
     },
     "execution_count": 59,
     "metadata": {},
     "output_type": "execute_result"
    }
   ],
   "source": [
    "result_metrics.query('dataset_type == \"train\"')"
   ]
  },
  {
   "cell_type": "code",
   "execution_count": 60,
   "metadata": {},
   "outputs": [
    {
     "data": {
      "text/html": [
       "<div>\n",
       "<style scoped>\n",
       "    .dataframe tbody tr th:only-of-type {\n",
       "        vertical-align: middle;\n",
       "    }\n",
       "\n",
       "    .dataframe tbody tr th {\n",
       "        vertical-align: top;\n",
       "    }\n",
       "\n",
       "    .dataframe thead th {\n",
       "        text-align: right;\n",
       "    }\n",
       "</style>\n",
       "<table border=\"1\" class=\"dataframe\">\n",
       "  <thead>\n",
       "    <tr style=\"text-align: right;\">\n",
       "      <th></th>\n",
       "      <th>algorithm</th>\n",
       "      <th>dataset_type</th>\n",
       "      <th>R2</th>\n",
       "      <th>MSE</th>\n",
       "      <th>RMSE</th>\n",
       "      <th>MAE</th>\n",
       "      <th>MAPE</th>\n",
       "    </tr>\n",
       "  </thead>\n",
       "  <tbody>\n",
       "    <tr>\n",
       "      <th>0</th>\n",
       "      <td>simple_regression</td>\n",
       "      <td>test</td>\n",
       "      <td>0.763613</td>\n",
       "      <td>1.611764e+09</td>\n",
       "      <td>40146.785799</td>\n",
       "      <td>19483.623690</td>\n",
       "      <td>0.117503</td>\n",
       "    </tr>\n",
       "    <tr>\n",
       "      <th>0</th>\n",
       "      <td>segm_kmeans2_regression</td>\n",
       "      <td>test</td>\n",
       "      <td>-0.187011</td>\n",
       "      <td>8.093441e+09</td>\n",
       "      <td>89963.555224</td>\n",
       "      <td>31624.319541</td>\n",
       "      <td>0.160136</td>\n",
       "    </tr>\n",
       "    <tr>\n",
       "      <th>0</th>\n",
       "      <td>segm_kmeans3_regression</td>\n",
       "      <td>test</td>\n",
       "      <td>0.083663</td>\n",
       "      <td>6.247891e+09</td>\n",
       "      <td>79043.600598</td>\n",
       "      <td>27132.398581</td>\n",
       "      <td>0.147974</td>\n",
       "    </tr>\n",
       "    <tr>\n",
       "      <th>0</th>\n",
       "      <td>segm_kmeans2onFeatures_regression</td>\n",
       "      <td>test</td>\n",
       "      <td>0.624862</td>\n",
       "      <td>2.557818e+09</td>\n",
       "      <td>50574.877173</td>\n",
       "      <td>22861.417359</td>\n",
       "      <td>0.137982</td>\n",
       "    </tr>\n",
       "    <tr>\n",
       "      <th>0</th>\n",
       "      <td>segm_kmeans3onFeatures_regression</td>\n",
       "      <td>test</td>\n",
       "      <td>0.638508</td>\n",
       "      <td>2.464774e+09</td>\n",
       "      <td>49646.490463</td>\n",
       "      <td>25150.366187</td>\n",
       "      <td>0.155000</td>\n",
       "    </tr>\n",
       "    <tr>\n",
       "      <th>0</th>\n",
       "      <td>catboost_regression</td>\n",
       "      <td>test</td>\n",
       "      <td>0.892528</td>\n",
       "      <td>7.327787e+08</td>\n",
       "      <td>27069.885615</td>\n",
       "      <td>15651.013002</td>\n",
       "      <td>0.094016</td>\n",
       "    </tr>\n",
       "  </tbody>\n",
       "</table>\n",
       "</div>"
      ],
      "text/plain": [
       "                           algorithm dataset_type        R2           MSE  \\\n",
       "0                  simple_regression         test  0.763613  1.611764e+09   \n",
       "0            segm_kmeans2_regression         test -0.187011  8.093441e+09   \n",
       "0            segm_kmeans3_regression         test  0.083663  6.247891e+09   \n",
       "0  segm_kmeans2onFeatures_regression         test  0.624862  2.557818e+09   \n",
       "0  segm_kmeans3onFeatures_regression         test  0.638508  2.464774e+09   \n",
       "0                catboost_regression         test  0.892528  7.327787e+08   \n",
       "\n",
       "           RMSE           MAE      MAPE  \n",
       "0  40146.785799  19483.623690  0.117503  \n",
       "0  89963.555224  31624.319541  0.160136  \n",
       "0  79043.600598  27132.398581  0.147974  \n",
       "0  50574.877173  22861.417359  0.137982  \n",
       "0  49646.490463  25150.366187  0.155000  \n",
       "0  27069.885615  15651.013002  0.094016  "
      ]
     },
     "execution_count": 60,
     "metadata": {},
     "output_type": "execute_result"
    }
   ],
   "source": [
    "result_metrics.query('dataset_type == \"test\"')"
   ]
  },
  {
   "cell_type": "code",
   "execution_count": null,
   "metadata": {},
   "outputs": [],
   "source": []
  }
 ],
 "metadata": {
  "kernelspec": {
   "display_name": ".venv",
   "language": "python",
   "name": "python3"
  },
  "language_info": {
   "codemirror_mode": {
    "name": "ipython",
    "version": 3
   },
   "file_extension": ".py",
   "mimetype": "text/x-python",
   "name": "python",
   "nbconvert_exporter": "python",
   "pygments_lexer": "ipython3",
   "version": "3.11.4"
  }
 },
 "nbformat": 4,
 "nbformat_minor": 2
}
