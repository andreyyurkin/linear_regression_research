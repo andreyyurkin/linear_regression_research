{
 "cells": [
  {
   "cell_type": "code",
   "execution_count": 1,
   "metadata": {},
   "outputs": [],
   "source": [
    "import numpy as np\n",
    "import pandas as pd\n",
    "from catboost import CatBoostRegressor, Pool\n",
    "from sklearn.linear_model import LinearRegression\n",
    "from sklearn.cluster import KMeans\n",
    "from sklearn import metrics as metrics\n",
    "from sklearn.preprocessing import MinMaxScaler\n",
    "from category_encoders import TargetEncoder  # Другие варианты: CatBoostEncoder, WOEEncoder\n",
    "from sklearn.model_selection import train_test_split"
   ]
  },
  {
   "cell_type": "code",
   "execution_count": 4,
   "metadata": {},
   "outputs": [],
   "source": [
    "df = pd.read_csv(\"../../datasets/coffee_shop_dataset/coffee_shop_revenue.csv\")\n",
    "target = \"Daily_Revenue\"\n",
    "\n",
    "num_features = list(df.select_dtypes(exclude='object'))\n",
    "num_features.remove(target)\n",
    "cat_features = list(df.select_dtypes(include='object'))\n",
    "catboost_features = num_features+cat_features"
   ]
  },
  {
   "cell_type": "code",
   "execution_count": 5,
   "metadata": {},
   "outputs": [],
   "source": [
    "X_train, X_test, y_train, y_test = train_test_split(\n",
    "    df[catboost_features], \n",
    "    df[target], \n",
    "    test_size=0.33, random_state=2025)\n",
    "X_train, X_test, y_train, y_test = X_train.reset_index(drop=True), X_test.reset_index(drop=True), y_train.reset_index(drop=True), y_test.reset_index(drop=True)\n",
    "\n",
    "# 3. Кодирование категориальных признаков\n",
    "encoder = TargetEncoder(cols=cat_features)\n",
    "X_train_encoded = encoder.fit_transform(X_train, y_train)\n",
    "X_test_encoded = encoder.transform(X_test)\n",
    "\n",
    "scaler = MinMaxScaler()\n",
    "scaled_X_train_encoded = scaler.fit_transform(X_train_encoded)\n",
    "scaled_X_train_encoded = pd.DataFrame(scaled_X_train_encoded , columns=catboost_features)\n",
    "df_train = pd.concat([scaled_X_train_encoded, y_train], axis=1)\n",
    "\n",
    "scaled_X_test_encoded = scaler.transform(X_test_encoded[catboost_features])\n",
    "scaled_X_test_encoded = pd.DataFrame(scaled_X_test_encoded , columns=catboost_features)\n",
    "df_test = pd.concat([scaled_X_test_encoded, y_test], axis=1)\n"
   ]
  },
  {
   "cell_type": "code",
   "execution_count": 6,
   "metadata": {},
   "outputs": [
    {
     "data": {
      "text/plain": [
       "<catboost.core.CatBoostRegressor at 0x14aef1210>"
      ]
     },
     "execution_count": 6,
     "metadata": {},
     "output_type": "execute_result"
    }
   ],
   "source": [
    "cat_model = CatBoostRegressor(\n",
    "    num_trees=1,\n",
    "    depth=3,\n",
    "    cat_features=cat_features,  # Указываем индексы категориальных признаков\n",
    "    verbose=0\n",
    ")\n",
    "cat_model.fit(X_train, y_train)  # Оригинальные данные (CatBoost сам обрабатывает категории)"
   ]
  },
  {
   "cell_type": "code",
   "execution_count": 7,
   "metadata": {},
   "outputs": [],
   "source": [
    "# 5. Получение индексов листьев (на закодированных данных)\n",
    "train_leaf_indices = cat_model.calc_leaf_indexes(Pool(X_train, y_train, cat_features=cat_features)).flatten()\n",
    "test_leaf_indices = cat_model.calc_leaf_indexes(Pool(X_test, cat_features=cat_features)).flatten()"
   ]
  },
  {
   "cell_type": "code",
   "execution_count": 8,
   "metadata": {},
   "outputs": [],
   "source": [
    "def get_leaf_stats(leaf_indices, X, y):\n",
    "    stats_list = []\n",
    "    for leaf in np.unique(leaf_indices):\n",
    "        mask = leaf_indices == leaf\n",
    "        stat = {\n",
    "            'leaf': leaf,\n",
    "            'n_samples': np.sum(mask),\n",
    "            'target_mean': np.mean(y[mask]),\n",
    "            'target_std': np.std(y[mask])\n",
    "        }\n",
    "        \n",
    "        for col in X.columns:\n",
    "            stat[f'{col}_mean'] = np.mean(X.loc[mask, col])\n",
    "            stat[f'{col}_std'] = np.std(X.loc[mask, col])\n",
    "        \n",
    "        stats_list.append(stat)\n",
    "    \n",
    "    return pd.DataFrame(stats_list)\n",
    "\n",
    "leaf_stats_df = get_leaf_stats(train_leaf_indices, df_train[catboost_features], df_train[target])"
   ]
  },
  {
   "cell_type": "code",
   "execution_count": 9,
   "metadata": {},
   "outputs": [],
   "source": [
    "# 7. Кластеризация листьев\n",
    "cluster_ids = ['leaf', 'n_samples']\n",
    "cluster_features = [col for col in leaf_stats_df.columns \n",
    "                   if not col in cluster_ids]\n",
    "\n",
    "leaf_scaler = MinMaxScaler()\n",
    "scaled_leaf_stats_df = leaf_scaler.fit_transform(leaf_stats_df[cluster_features])\n",
    "scaled_leaf_stats_df = pd.DataFrame(scaled_leaf_stats_df, columns=cluster_features)\n",
    "scaled_leaf_stats_df = pd.concat([leaf_stats_df[cluster_ids], scaled_leaf_stats_df], axis=1)\n",
    "\n",
    "scaled_leaf_stats_df\n",
    "\n",
    "kmeans = KMeans(n_clusters=3, random_state=2025)\n",
    "scaled_leaf_stats_df['cluster'] = kmeans.fit_predict(scaled_leaf_stats_df[cluster_features])"
   ]
  },
  {
   "cell_type": "code",
   "execution_count": 10,
   "metadata": {},
   "outputs": [],
   "source": [
    "# 8. Сопоставление кластеров\n",
    "df_train['leaf'] = train_leaf_indices\n",
    "df_train = df_train.merge(scaled_leaf_stats_df[['leaf', 'cluster']], on='leaf')"
   ]
  },
  {
   "cell_type": "code",
   "execution_count": 11,
   "metadata": {},
   "outputs": [
    {
     "data": {
      "text/html": [
       "<div>\n",
       "<style scoped>\n",
       "    .dataframe tbody tr th:only-of-type {\n",
       "        vertical-align: middle;\n",
       "    }\n",
       "\n",
       "    .dataframe tbody tr th {\n",
       "        vertical-align: top;\n",
       "    }\n",
       "\n",
       "    .dataframe thead th {\n",
       "        text-align: right;\n",
       "    }\n",
       "</style>\n",
       "<table border=\"1\" class=\"dataframe\">\n",
       "  <thead>\n",
       "    <tr style=\"text-align: right;\">\n",
       "      <th></th>\n",
       "      <th>Number_of_Customers_Per_Day</th>\n",
       "      <th>Average_Order_Value</th>\n",
       "      <th>Operating_Hours_Per_Day</th>\n",
       "      <th>Number_of_Employees</th>\n",
       "      <th>Marketing_Spend_Per_Day</th>\n",
       "      <th>Location_Foot_Traffic</th>\n",
       "      <th>Daily_Revenue</th>\n",
       "      <th>leaf</th>\n",
       "      <th>cluster</th>\n",
       "    </tr>\n",
       "  </thead>\n",
       "  <tbody>\n",
       "    <tr>\n",
       "      <th>0</th>\n",
       "      <td>0.389755</td>\n",
       "      <td>0.226667</td>\n",
       "      <td>0.545455</td>\n",
       "      <td>0.750000</td>\n",
       "      <td>0.803072</td>\n",
       "      <td>0.569020</td>\n",
       "      <td>1433.99</td>\n",
       "      <td>4</td>\n",
       "      <td>0</td>\n",
       "    </tr>\n",
       "    <tr>\n",
       "      <th>1</th>\n",
       "      <td>0.193764</td>\n",
       "      <td>0.120000</td>\n",
       "      <td>0.636364</td>\n",
       "      <td>0.333333</td>\n",
       "      <td>0.842878</td>\n",
       "      <td>0.554268</td>\n",
       "      <td>1053.07</td>\n",
       "      <td>0</td>\n",
       "      <td>0</td>\n",
       "    </tr>\n",
       "    <tr>\n",
       "      <th>2</th>\n",
       "      <td>0.481069</td>\n",
       "      <td>0.892000</td>\n",
       "      <td>0.272727</td>\n",
       "      <td>0.500000</td>\n",
       "      <td>0.999428</td>\n",
       "      <td>0.102213</td>\n",
       "      <td>2742.44</td>\n",
       "      <td>6</td>\n",
       "      <td>2</td>\n",
       "    </tr>\n",
       "    <tr>\n",
       "      <th>3</th>\n",
       "      <td>0.841871</td>\n",
       "      <td>0.797333</td>\n",
       "      <td>0.636364</td>\n",
       "      <td>0.583333</td>\n",
       "      <td>0.233120</td>\n",
       "      <td>0.126449</td>\n",
       "      <td>3418.71</td>\n",
       "      <td>7</td>\n",
       "      <td>1</td>\n",
       "    </tr>\n",
       "    <tr>\n",
       "      <th>4</th>\n",
       "      <td>0.416481</td>\n",
       "      <td>0.962667</td>\n",
       "      <td>0.454545</td>\n",
       "      <td>0.916667</td>\n",
       "      <td>0.174666</td>\n",
       "      <td>0.986301</td>\n",
       "      <td>2441.69</td>\n",
       "      <td>6</td>\n",
       "      <td>2</td>\n",
       "    </tr>\n",
       "    <tr>\n",
       "      <th>...</th>\n",
       "      <td>...</td>\n",
       "      <td>...</td>\n",
       "      <td>...</td>\n",
       "      <td>...</td>\n",
       "      <td>...</td>\n",
       "      <td>...</td>\n",
       "      <td>...</td>\n",
       "      <td>...</td>\n",
       "      <td>...</td>\n",
       "    </tr>\n",
       "    <tr>\n",
       "      <th>1335</th>\n",
       "      <td>0.917595</td>\n",
       "      <td>0.394667</td>\n",
       "      <td>0.272727</td>\n",
       "      <td>0.750000</td>\n",
       "      <td>0.320657</td>\n",
       "      <td>0.340358</td>\n",
       "      <td>2609.64</td>\n",
       "      <td>5</td>\n",
       "      <td>0</td>\n",
       "    </tr>\n",
       "    <tr>\n",
       "      <th>1336</th>\n",
       "      <td>0.808463</td>\n",
       "      <td>0.290667</td>\n",
       "      <td>1.000000</td>\n",
       "      <td>1.000000</td>\n",
       "      <td>0.654508</td>\n",
       "      <td>0.268704</td>\n",
       "      <td>2339.46</td>\n",
       "      <td>5</td>\n",
       "      <td>0</td>\n",
       "    </tr>\n",
       "    <tr>\n",
       "      <th>1337</th>\n",
       "      <td>0.487751</td>\n",
       "      <td>0.760000</td>\n",
       "      <td>0.636364</td>\n",
       "      <td>0.083333</td>\n",
       "      <td>0.190964</td>\n",
       "      <td>0.414120</td>\n",
       "      <td>2183.37</td>\n",
       "      <td>6</td>\n",
       "      <td>2</td>\n",
       "    </tr>\n",
       "    <tr>\n",
       "      <th>1338</th>\n",
       "      <td>0.175947</td>\n",
       "      <td>0.765333</td>\n",
       "      <td>0.454545</td>\n",
       "      <td>0.833333</td>\n",
       "      <td>0.403721</td>\n",
       "      <td>0.742887</td>\n",
       "      <td>989.97</td>\n",
       "      <td>2</td>\n",
       "      <td>2</td>\n",
       "    </tr>\n",
       "    <tr>\n",
       "      <th>1339</th>\n",
       "      <td>0.151448</td>\n",
       "      <td>0.694667</td>\n",
       "      <td>0.272727</td>\n",
       "      <td>0.666667</td>\n",
       "      <td>0.783281</td>\n",
       "      <td>0.073762</td>\n",
       "      <td>1229.96</td>\n",
       "      <td>2</td>\n",
       "      <td>2</td>\n",
       "    </tr>\n",
       "  </tbody>\n",
       "</table>\n",
       "<p>1340 rows × 9 columns</p>\n",
       "</div>"
      ],
      "text/plain": [
       "      Number_of_Customers_Per_Day  Average_Order_Value  \\\n",
       "0                        0.389755             0.226667   \n",
       "1                        0.193764             0.120000   \n",
       "2                        0.481069             0.892000   \n",
       "3                        0.841871             0.797333   \n",
       "4                        0.416481             0.962667   \n",
       "...                           ...                  ...   \n",
       "1335                     0.917595             0.394667   \n",
       "1336                     0.808463             0.290667   \n",
       "1337                     0.487751             0.760000   \n",
       "1338                     0.175947             0.765333   \n",
       "1339                     0.151448             0.694667   \n",
       "\n",
       "      Operating_Hours_Per_Day  Number_of_Employees  Marketing_Spend_Per_Day  \\\n",
       "0                    0.545455             0.750000                 0.803072   \n",
       "1                    0.636364             0.333333                 0.842878   \n",
       "2                    0.272727             0.500000                 0.999428   \n",
       "3                    0.636364             0.583333                 0.233120   \n",
       "4                    0.454545             0.916667                 0.174666   \n",
       "...                       ...                  ...                      ...   \n",
       "1335                 0.272727             0.750000                 0.320657   \n",
       "1336                 1.000000             1.000000                 0.654508   \n",
       "1337                 0.636364             0.083333                 0.190964   \n",
       "1338                 0.454545             0.833333                 0.403721   \n",
       "1339                 0.272727             0.666667                 0.783281   \n",
       "\n",
       "      Location_Foot_Traffic  Daily_Revenue  leaf  cluster  \n",
       "0                  0.569020        1433.99     4        0  \n",
       "1                  0.554268        1053.07     0        0  \n",
       "2                  0.102213        2742.44     6        2  \n",
       "3                  0.126449        3418.71     7        1  \n",
       "4                  0.986301        2441.69     6        2  \n",
       "...                     ...            ...   ...      ...  \n",
       "1335               0.340358        2609.64     5        0  \n",
       "1336               0.268704        2339.46     5        0  \n",
       "1337               0.414120        2183.37     6        2  \n",
       "1338               0.742887         989.97     2        2  \n",
       "1339               0.073762        1229.96     2        2  \n",
       "\n",
       "[1340 rows x 9 columns]"
      ]
     },
     "execution_count": 11,
     "metadata": {},
     "output_type": "execute_result"
    }
   ],
   "source": [
    "df_train "
   ]
  },
  {
   "cell_type": "code",
   "execution_count": 12,
   "metadata": {},
   "outputs": [
    {
     "name": "stdout",
     "output_type": "stream",
     "text": [
      "(670, 6)\n",
      "(297, 6)\n",
      "(373, 6)\n"
     ]
    }
   ],
   "source": [
    "# 9. Обучение линейных моделей\n",
    "linear_models = {}\n",
    "for cluster in sorted(scaled_leaf_stats_df['cluster'].unique()):\n",
    "    cluster_data = df_train[df_train['cluster'] == cluster]\n",
    "    X_cluster = cluster_data.drop([target, 'leaf', 'cluster'], axis=1)\n",
    "    print(X_cluster.shape)\n",
    "    y_cluster = cluster_data[target]\n",
    "    \n",
    "    lr = LinearRegression()\n",
    "    lr.fit(X_cluster, y_cluster)\n",
    "    linear_models[cluster] = lr"
   ]
  },
  {
   "cell_type": "code",
   "execution_count": 13,
   "metadata": {},
   "outputs": [
    {
     "data": {
      "text/plain": [
       "cluster\n",
       "0    670\n",
       "2    373\n",
       "1    297\n",
       "Name: count, dtype: int64"
      ]
     },
     "execution_count": 13,
     "metadata": {},
     "output_type": "execute_result"
    }
   ],
   "source": [
    "df_train.cluster.value_counts()"
   ]
  },
  {
   "cell_type": "code",
   "execution_count": 15,
   "metadata": {},
   "outputs": [],
   "source": [
    "# 10. Предсказание на тесте\n",
    "df_test['leaf'] = test_leaf_indices\n",
    "df_test = df_test.merge(scaled_leaf_stats_df[['leaf', 'cluster']], on='leaf', how='left')\n",
    "df_test['cluster'] = df_test['cluster'].fillna(-1)  # Новые листья\n",
    "\n",
    "test_predictions = np.zeros(len(X_test))\n",
    "for cluster, model in linear_models.items():\n",
    "    mask = df_test['cluster'] == cluster\n",
    "    if mask.sum() > 0:\n",
    "        test_predictions[mask] = model.predict(df_test.loc[mask, X_test_encoded.columns])"
   ]
  },
  {
   "cell_type": "code",
   "execution_count": 16,
   "metadata": {},
   "outputs": [
    {
     "data": {
      "text/plain": [
       "cluster\n",
       "0    336\n",
       "2    177\n",
       "1    147\n",
       "Name: count, dtype: int64"
      ]
     },
     "execution_count": 16,
     "metadata": {},
     "output_type": "execute_result"
    }
   ],
   "source": [
    "df_test.cluster.value_counts()"
   ]
  },
  {
   "cell_type": "code",
   "execution_count": 17,
   "metadata": {},
   "outputs": [
    {
     "name": "stdout",
     "output_type": "stream",
     "text": [
      "Test R2: 0.9448021555748747\n",
      "Test MSE: 51765.67945594959\n",
      "Test RMSE: 227.5207231351676\n",
      "Test MAE: 182.70935572043405\n",
      "Test MAPE: 0.1345230356182867\n"
     ]
    }
   ],
   "source": [
    "print(f\"Test R2: {metrics.r2_score(y_test, test_predictions)}\")\n",
    "print(f\"Test MSE: {metrics.mean_squared_error(y_test, test_predictions)}\")\n",
    "print(f\"Test RMSE: {np.sqrt(metrics.mean_squared_error(y_test, test_predictions))}\")\n",
    "print(f\"Test MAE: {metrics.mean_absolute_error(y_test, test_predictions)}\")\n",
    "print(f\"Test MAPE: {metrics.mean_absolute_percentage_error(y_test, test_predictions)}\")"
   ]
  },
  {
   "cell_type": "code",
   "execution_count": 18,
   "metadata": {},
   "outputs": [],
   "source": [
    "train_predictions = np.zeros(len(X_train))\n",
    "for cluster, model in linear_models.items():\n",
    "    mask = df_train['cluster'] == cluster\n",
    "    if mask.sum() > 0:\n",
    "        train_predictions[mask] = model.predict(df_train.loc[mask, X_train_encoded.columns])"
   ]
  },
  {
   "cell_type": "code",
   "execution_count": 19,
   "metadata": {},
   "outputs": [
    {
     "name": "stdout",
     "output_type": "stream",
     "text": [
      "Train R2: 0.9477790126492928\n",
      "Train MSE: 50117.0708541751\n",
      "Train RMSE: 223.86842308413017\n",
      "Train MAE: 178.96426926026137\n",
      "Train MAPE: 0.14558621978771116\n"
     ]
    }
   ],
   "source": [
    "print(f\"Train R2: {metrics.r2_score(y_train, train_predictions)}\")\n",
    "print(f\"Train MSE: {metrics.mean_squared_error(y_train, train_predictions)}\")\n",
    "print(f\"Train RMSE: {np.sqrt(metrics.mean_squared_error(y_train, train_predictions))}\")\n",
    "print(f\"Train MAE: {metrics.mean_absolute_error(y_train, train_predictions)}\")\n",
    "print(f\"Train MAPE: {metrics.mean_absolute_percentage_error(y_train, train_predictions)}\")"
   ]
  }
 ],
 "metadata": {
  "kernelspec": {
   "display_name": ".venv",
   "language": "python",
   "name": "python3"
  },
  "language_info": {
   "codemirror_mode": {
    "name": "ipython",
    "version": 3
   },
   "file_extension": ".py",
   "mimetype": "text/x-python",
   "name": "python",
   "nbconvert_exporter": "python",
   "pygments_lexer": "ipython3",
   "version": "3.11.4"
  }
 },
 "nbformat": 4,
 "nbformat_minor": 2
}
