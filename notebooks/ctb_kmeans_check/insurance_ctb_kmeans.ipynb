{
 "cells": [
  {
   "cell_type": "code",
   "execution_count": 1,
   "metadata": {},
   "outputs": [],
   "source": [
    "import numpy as np\n",
    "import pandas as pd\n",
    "from catboost import CatBoostRegressor, Pool\n",
    "from sklearn.linear_model import LinearRegression\n",
    "from sklearn.cluster import KMeans\n",
    "from sklearn import metrics as metrics\n",
    "from sklearn.preprocessing import MinMaxScaler\n",
    "from category_encoders import TargetEncoder  # Другие варианты: CatBoostEncoder, WOEEncoder\n",
    "from sklearn.model_selection import train_test_split"
   ]
  },
  {
   "cell_type": "code",
   "execution_count": 2,
   "metadata": {},
   "outputs": [],
   "source": [
    "df = pd.read_csv(\"../../datasets/insurance_dataset/insurance.csv\")\n",
    "target = \"charges\"\n",
    "\n",
    "num_features = list(df.select_dtypes(exclude='object'))\n",
    "num_features.remove(target)\n",
    "cat_features = list(df.select_dtypes(include='object'))\n",
    "catboost_features = num_features+cat_features"
   ]
  },
  {
   "cell_type": "code",
   "execution_count": 3,
   "metadata": {},
   "outputs": [],
   "source": [
    "X_train, X_test, y_train, y_test = train_test_split(\n",
    "    df[catboost_features], \n",
    "    df[target], \n",
    "    test_size=0.33, random_state=2025)\n",
    "X_train, X_test, y_train, y_test = X_train.reset_index(drop=True), X_test.reset_index(drop=True), y_train.reset_index(drop=True), y_test.reset_index(drop=True)\n",
    "\n",
    "# 3. Кодирование категориальных признаков\n",
    "encoder = TargetEncoder(cols=cat_features)\n",
    "X_train_encoded = encoder.fit_transform(X_train, y_train)\n",
    "X_test_encoded = encoder.transform(X_test)\n",
    "\n",
    "scaler = MinMaxScaler()\n",
    "scaled_X_train_encoded = scaler.fit_transform(X_train_encoded)\n",
    "scaled_X_train_encoded = pd.DataFrame(scaled_X_train_encoded , columns=catboost_features)\n",
    "df_train = pd.concat([scaled_X_train_encoded, y_train], axis=1)\n",
    "\n",
    "scaled_X_test_encoded = scaler.transform(X_test_encoded[catboost_features])\n",
    "scaled_X_test_encoded = pd.DataFrame(scaled_X_test_encoded , columns=catboost_features)\n",
    "df_test = pd.concat([scaled_X_test_encoded, y_test], axis=1)\n"
   ]
  },
  {
   "cell_type": "code",
   "execution_count": 4,
   "metadata": {},
   "outputs": [
    {
     "data": {
      "text/plain": [
       "<catboost.core.CatBoostRegressor at 0x143965a50>"
      ]
     },
     "execution_count": 4,
     "metadata": {},
     "output_type": "execute_result"
    }
   ],
   "source": [
    "cat_model = CatBoostRegressor(\n",
    "    num_trees=1,\n",
    "    depth=3,\n",
    "    cat_features=cat_features,  # Указываем индексы категориальных признаков\n",
    "    verbose=0\n",
    ")\n",
    "cat_model.fit(X_train, y_train)  # Оригинальные данные (CatBoost сам обрабатывает категории)"
   ]
  },
  {
   "cell_type": "code",
   "execution_count": 5,
   "metadata": {},
   "outputs": [],
   "source": [
    "# 5. Получение индексов листьев (на закодированных данных)\n",
    "train_leaf_indices = cat_model.calc_leaf_indexes(Pool(X_train, y_train, cat_features=cat_features)).flatten()\n",
    "test_leaf_indices = cat_model.calc_leaf_indexes(Pool(X_test, cat_features=cat_features)).flatten()"
   ]
  },
  {
   "cell_type": "code",
   "execution_count": 6,
   "metadata": {},
   "outputs": [],
   "source": [
    "def get_leaf_stats(leaf_indices, X, y):\n",
    "    stats_list = []\n",
    "    for leaf in np.unique(leaf_indices):\n",
    "        mask = leaf_indices == leaf\n",
    "        stat = {\n",
    "            'leaf': leaf,\n",
    "            'n_samples': np.sum(mask),\n",
    "            'target_mean': np.mean(y[mask]),\n",
    "            'target_std': np.std(y[mask])\n",
    "        }\n",
    "        \n",
    "        for col in X.columns:\n",
    "            stat[f'{col}_mean'] = np.mean(X.loc[mask, col])\n",
    "            stat[f'{col}_std'] = np.std(X.loc[mask, col])\n",
    "        \n",
    "        stats_list.append(stat)\n",
    "    \n",
    "    return pd.DataFrame(stats_list)\n",
    "\n",
    "leaf_stats_df = get_leaf_stats(train_leaf_indices, df_train[catboost_features], df_train[target])"
   ]
  },
  {
   "cell_type": "code",
   "execution_count": 7,
   "metadata": {},
   "outputs": [],
   "source": [
    "# 7. Кластеризация листьев\n",
    "cluster_ids = ['leaf', 'n_samples']\n",
    "cluster_features = [col for col in leaf_stats_df.columns \n",
    "                   if not col in cluster_ids]\n",
    "\n",
    "leaf_scaler = MinMaxScaler()\n",
    "scaled_leaf_stats_df = leaf_scaler.fit_transform(leaf_stats_df[cluster_features])\n",
    "scaled_leaf_stats_df = pd.DataFrame(scaled_leaf_stats_df, columns=cluster_features)\n",
    "scaled_leaf_stats_df = pd.concat([leaf_stats_df[cluster_ids], scaled_leaf_stats_df], axis=1)\n",
    "\n",
    "scaled_leaf_stats_df\n",
    "\n",
    "kmeans = KMeans(n_clusters=3, random_state=2025)\n",
    "scaled_leaf_stats_df['cluster'] = kmeans.fit_predict(scaled_leaf_stats_df[cluster_features])"
   ]
  },
  {
   "cell_type": "code",
   "execution_count": 8,
   "metadata": {},
   "outputs": [],
   "source": [
    "# 8. Сопоставление кластеров\n",
    "df_train['leaf'] = train_leaf_indices\n",
    "df_train = df_train.merge(scaled_leaf_stats_df[['leaf', 'cluster']], on='leaf')"
   ]
  },
  {
   "cell_type": "code",
   "execution_count": 9,
   "metadata": {},
   "outputs": [
    {
     "data": {
      "text/html": [
       "<div>\n",
       "<style scoped>\n",
       "    .dataframe tbody tr th:only-of-type {\n",
       "        vertical-align: middle;\n",
       "    }\n",
       "\n",
       "    .dataframe tbody tr th {\n",
       "        vertical-align: top;\n",
       "    }\n",
       "\n",
       "    .dataframe thead th {\n",
       "        text-align: right;\n",
       "    }\n",
       "</style>\n",
       "<table border=\"1\" class=\"dataframe\">\n",
       "  <thead>\n",
       "    <tr style=\"text-align: right;\">\n",
       "      <th></th>\n",
       "      <th>age</th>\n",
       "      <th>bmi</th>\n",
       "      <th>children</th>\n",
       "      <th>sex</th>\n",
       "      <th>smoker</th>\n",
       "      <th>region</th>\n",
       "      <th>charges</th>\n",
       "      <th>leaf</th>\n",
       "      <th>cluster</th>\n",
       "    </tr>\n",
       "  </thead>\n",
       "  <tbody>\n",
       "    <tr>\n",
       "      <th>0</th>\n",
       "      <td>0.130435</td>\n",
       "      <td>0.220766</td>\n",
       "      <td>0.0</td>\n",
       "      <td>0.0</td>\n",
       "      <td>0.0</td>\n",
       "      <td>0.000000</td>\n",
       "      <td>2842.76075</td>\n",
       "      <td>0</td>\n",
       "      <td>0</td>\n",
       "    </tr>\n",
       "    <tr>\n",
       "      <th>1</th>\n",
       "      <td>0.521739</td>\n",
       "      <td>0.277372</td>\n",
       "      <td>0.4</td>\n",
       "      <td>1.0</td>\n",
       "      <td>0.0</td>\n",
       "      <td>0.209375</td>\n",
       "      <td>7729.64575</td>\n",
       "      <td>0</td>\n",
       "      <td>0</td>\n",
       "    </tr>\n",
       "    <tr>\n",
       "      <th>2</th>\n",
       "      <td>0.173913</td>\n",
       "      <td>0.305229</td>\n",
       "      <td>0.0</td>\n",
       "      <td>1.0</td>\n",
       "      <td>1.0</td>\n",
       "      <td>1.000000</td>\n",
       "      <td>17043.34140</td>\n",
       "      <td>1</td>\n",
       "      <td>0</td>\n",
       "    </tr>\n",
       "    <tr>\n",
       "      <th>3</th>\n",
       "      <td>0.108696</td>\n",
       "      <td>0.288843</td>\n",
       "      <td>0.0</td>\n",
       "      <td>1.0</td>\n",
       "      <td>0.0</td>\n",
       "      <td>1.000000</td>\n",
       "      <td>1815.87590</td>\n",
       "      <td>0</td>\n",
       "      <td>0</td>\n",
       "    </tr>\n",
       "    <tr>\n",
       "      <th>4</th>\n",
       "      <td>0.717391</td>\n",
       "      <td>0.517950</td>\n",
       "      <td>0.2</td>\n",
       "      <td>0.0</td>\n",
       "      <td>0.0</td>\n",
       "      <td>0.301857</td>\n",
       "      <td>9872.70100</td>\n",
       "      <td>6</td>\n",
       "      <td>0</td>\n",
       "    </tr>\n",
       "    <tr>\n",
       "      <th>...</th>\n",
       "      <td>...</td>\n",
       "      <td>...</td>\n",
       "      <td>...</td>\n",
       "      <td>...</td>\n",
       "      <td>...</td>\n",
       "      <td>...</td>\n",
       "      <td>...</td>\n",
       "      <td>...</td>\n",
       "      <td>...</td>\n",
       "    </tr>\n",
       "    <tr>\n",
       "      <th>891</th>\n",
       "      <td>0.521739</td>\n",
       "      <td>0.291524</td>\n",
       "      <td>0.0</td>\n",
       "      <td>0.0</td>\n",
       "      <td>1.0</td>\n",
       "      <td>0.000000</td>\n",
       "      <td>21348.70600</td>\n",
       "      <td>1</td>\n",
       "      <td>0</td>\n",
       "    </tr>\n",
       "    <tr>\n",
       "      <th>892</th>\n",
       "      <td>0.173913</td>\n",
       "      <td>0.424549</td>\n",
       "      <td>0.0</td>\n",
       "      <td>1.0</td>\n",
       "      <td>0.0</td>\n",
       "      <td>0.000000</td>\n",
       "      <td>2699.56835</td>\n",
       "      <td>6</td>\n",
       "      <td>0</td>\n",
       "    </tr>\n",
       "    <tr>\n",
       "      <th>893</th>\n",
       "      <td>0.847826</td>\n",
       "      <td>0.718904</td>\n",
       "      <td>0.0</td>\n",
       "      <td>1.0</td>\n",
       "      <td>0.0</td>\n",
       "      <td>0.209375</td>\n",
       "      <td>11566.30055</td>\n",
       "      <td>6</td>\n",
       "      <td>0</td>\n",
       "    </tr>\n",
       "    <tr>\n",
       "      <th>894</th>\n",
       "      <td>0.804348</td>\n",
       "      <td>0.498138</td>\n",
       "      <td>0.4</td>\n",
       "      <td>0.0</td>\n",
       "      <td>0.0</td>\n",
       "      <td>0.000000</td>\n",
       "      <td>12269.68865</td>\n",
       "      <td>6</td>\n",
       "      <td>0</td>\n",
       "    </tr>\n",
       "    <tr>\n",
       "      <th>895</th>\n",
       "      <td>0.847826</td>\n",
       "      <td>0.520781</td>\n",
       "      <td>0.4</td>\n",
       "      <td>0.0</td>\n",
       "      <td>0.0</td>\n",
       "      <td>0.209375</td>\n",
       "      <td>13224.05705</td>\n",
       "      <td>6</td>\n",
       "      <td>0</td>\n",
       "    </tr>\n",
       "  </tbody>\n",
       "</table>\n",
       "<p>896 rows × 9 columns</p>\n",
       "</div>"
      ],
      "text/plain": [
       "          age       bmi  children  sex  smoker    region      charges  leaf  \\\n",
       "0    0.130435  0.220766       0.0  0.0     0.0  0.000000   2842.76075     0   \n",
       "1    0.521739  0.277372       0.4  1.0     0.0  0.209375   7729.64575     0   \n",
       "2    0.173913  0.305229       0.0  1.0     1.0  1.000000  17043.34140     1   \n",
       "3    0.108696  0.288843       0.0  1.0     0.0  1.000000   1815.87590     0   \n",
       "4    0.717391  0.517950       0.2  0.0     0.0  0.301857   9872.70100     6   \n",
       "..        ...       ...       ...  ...     ...       ...          ...   ...   \n",
       "891  0.521739  0.291524       0.0  0.0     1.0  0.000000  21348.70600     1   \n",
       "892  0.173913  0.424549       0.0  1.0     0.0  0.000000   2699.56835     6   \n",
       "893  0.847826  0.718904       0.0  1.0     0.0  0.209375  11566.30055     6   \n",
       "894  0.804348  0.498138       0.4  0.0     0.0  0.000000  12269.68865     6   \n",
       "895  0.847826  0.520781       0.4  0.0     0.0  0.209375  13224.05705     6   \n",
       "\n",
       "     cluster  \n",
       "0          0  \n",
       "1          0  \n",
       "2          0  \n",
       "3          0  \n",
       "4          0  \n",
       "..       ...  \n",
       "891        0  \n",
       "892        0  \n",
       "893        0  \n",
       "894        0  \n",
       "895        0  \n",
       "\n",
       "[896 rows x 9 columns]"
      ]
     },
     "execution_count": 9,
     "metadata": {},
     "output_type": "execute_result"
    }
   ],
   "source": [
    "df_train "
   ]
  },
  {
   "cell_type": "code",
   "execution_count": 10,
   "metadata": {},
   "outputs": [
    {
     "name": "stdout",
     "output_type": "stream",
     "text": [
      "(794, 6)\n",
      "(99, 6)\n",
      "(3, 6)\n"
     ]
    }
   ],
   "source": [
    "# 9. Обучение линейных моделей\n",
    "linear_models = {}\n",
    "for cluster in sorted(scaled_leaf_stats_df['cluster'].unique()):\n",
    "    cluster_data = df_train[df_train['cluster'] == cluster]\n",
    "    X_cluster = cluster_data.drop([target, 'leaf', 'cluster'], axis=1)\n",
    "    print(X_cluster.shape)\n",
    "    y_cluster = cluster_data[target]\n",
    "    \n",
    "    lr = LinearRegression()\n",
    "    lr.fit(X_cluster, y_cluster)\n",
    "    linear_models[cluster] = lr"
   ]
  },
  {
   "cell_type": "code",
   "execution_count": 17,
   "metadata": {},
   "outputs": [
    {
     "data": {
      "text/plain": [
       "cluster\n",
       "0    794\n",
       "1     99\n",
       "2      3\n",
       "Name: count, dtype: int64"
      ]
     },
     "execution_count": 17,
     "metadata": {},
     "output_type": "execute_result"
    }
   ],
   "source": [
    "df_train.cluster.value_counts()"
   ]
  },
  {
   "cell_type": "code",
   "execution_count": 18,
   "metadata": {},
   "outputs": [
    {
     "data": {
      "text/plain": [
       "cluster\n",
       "0    388\n",
       "1     53\n",
       "2      1\n",
       "Name: count, dtype: int64"
      ]
     },
     "execution_count": 18,
     "metadata": {},
     "output_type": "execute_result"
    }
   ],
   "source": [
    "df_test.cluster.value_counts()"
   ]
  },
  {
   "cell_type": "code",
   "execution_count": 12,
   "metadata": {},
   "outputs": [],
   "source": [
    "# 10. Предсказание на тесте\n",
    "df_test['leaf'] = test_leaf_indices\n",
    "df_test = df_test.merge(scaled_leaf_stats_df[['leaf', 'cluster']], on='leaf', how='left')\n",
    "df_test['cluster'] = df_test['cluster'].fillna(-1)  # Новые листья\n",
    "\n",
    "test_predictions = np.zeros(len(X_test))\n",
    "for cluster, model in linear_models.items():\n",
    "    mask = df_test['cluster'] == cluster\n",
    "    if mask.sum() > 0:\n",
    "        test_predictions[mask] = model.predict(df_test.loc[mask, X_test_encoded.columns])"
   ]
  },
  {
   "cell_type": "code",
   "execution_count": 13,
   "metadata": {},
   "outputs": [
    {
     "name": "stdout",
     "output_type": "stream",
     "text": [
      "Test R2: 0.8517629026483037\n",
      "Test MSE: 22187732.201694086\n",
      "Test RMSE: 4710.385568262335\n",
      "Test MAE: 2585.090583981729\n",
      "Test MAPE: 0.23793470331109223\n"
     ]
    }
   ],
   "source": [
    "print(f\"Test R2: {metrics.r2_score(y_test, test_predictions)}\")\n",
    "print(f\"Test MSE: {metrics.mean_squared_error(y_test, test_predictions)}\")\n",
    "print(f\"Test RMSE: {np.sqrt(metrics.mean_squared_error(y_test, test_predictions))}\")\n",
    "print(f\"Test MAE: {metrics.mean_absolute_error(y_test, test_predictions)}\")\n",
    "print(f\"Test MAPE: {metrics.mean_absolute_percentage_error(y_test, test_predictions)}\")"
   ]
  },
  {
   "cell_type": "code",
   "execution_count": 14,
   "metadata": {},
   "outputs": [],
   "source": [
    "train_predictions = np.zeros(len(X_train))\n",
    "for cluster, model in linear_models.items():\n",
    "    mask = df_train['cluster'] == cluster\n",
    "    if mask.sum() > 0:\n",
    "        train_predictions[mask] = model.predict(df_train.loc[mask, X_train_encoded.columns])"
   ]
  },
  {
   "cell_type": "code",
   "execution_count": 15,
   "metadata": {},
   "outputs": [
    {
     "name": "stdout",
     "output_type": "stream",
     "text": [
      "Train R2: 0.8611226527781969\n",
      "Train MSE: 20115960.8069833\n",
      "Train RMSE: 4485.0820290138845\n",
      "Train MAE: 2357.2248588203397\n",
      "Train MAPE: 0.23732949232528186\n"
     ]
    }
   ],
   "source": [
    "print(f\"Train R2: {metrics.r2_score(y_train, train_predictions)}\")\n",
    "print(f\"Train MSE: {metrics.mean_squared_error(y_train, train_predictions)}\")\n",
    "print(f\"Train RMSE: {np.sqrt(metrics.mean_squared_error(y_train, train_predictions))}\")\n",
    "print(f\"Train MAE: {metrics.mean_absolute_error(y_train, train_predictions)}\")\n",
    "print(f\"Train MAPE: {metrics.mean_absolute_percentage_error(y_train, train_predictions)}\")"
   ]
  }
 ],
 "metadata": {
  "kernelspec": {
   "display_name": ".venv",
   "language": "python",
   "name": "python3"
  },
  "language_info": {
   "codemirror_mode": {
    "name": "ipython",
    "version": 3
   },
   "file_extension": ".py",
   "mimetype": "text/x-python",
   "name": "python",
   "nbconvert_exporter": "python",
   "pygments_lexer": "ipython3",
   "version": "3.11.4"
  }
 },
 "nbformat": 4,
 "nbformat_minor": 2
}
