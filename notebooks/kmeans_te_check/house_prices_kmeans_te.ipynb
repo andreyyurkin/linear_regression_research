{
 "cells": [
  {
   "cell_type": "code",
   "execution_count": 1,
   "metadata": {},
   "outputs": [],
   "source": [
    "import pandas as pd\n",
    "import matplotlib.pyplot as plt\n",
    "import seaborn as sns\n",
    "import sklearn\n",
    "import catboost as cat\n",
    "import numpy as np\n",
    "from sklearn.linear_model import LinearRegression\n",
    "import sklearn.metrics as metrics\n",
    "from sklearn.model_selection import train_test_split\n",
    "from sklearn.preprocessing import MinMaxScaler, OneHotEncoder\n",
    "from category_encoders import TargetEncoder \n",
    "# from sklearn.ensemble import RandomForestClassifier\n",
    "from sklearn.cluster import KMeans"
   ]
  },
  {
   "cell_type": "code",
   "execution_count": 2,
   "metadata": {},
   "outputs": [],
   "source": [
    "df = pd.read_csv(\"../../datasets/house_prices_dataset/house_prices_train.csv\")\n",
    "del df['Id']\n",
    "\n",
    "target = \"SalePrice\"\n",
    "num_features = list(df.select_dtypes(exclude='object'))\n",
    "num_features.remove(target)\n",
    "cat_features = list(df.select_dtypes(include='object'))\n",
    "catboost_features = num_features+cat_features"
   ]
  },
  {
   "cell_type": "code",
   "execution_count": 3,
   "metadata": {},
   "outputs": [
    {
     "data": {
      "text/plain": [
       "79"
      ]
     },
     "execution_count": 3,
     "metadata": {},
     "output_type": "execute_result"
    }
   ],
   "source": [
    "len(catboost_features)"
   ]
  },
  {
   "cell_type": "markdown",
   "metadata": {},
   "source": [
    "# Dataset preprocessing"
   ]
  },
  {
   "cell_type": "code",
   "execution_count": 4,
   "metadata": {},
   "outputs": [],
   "source": [
    "df.loc[:, num_features] = df.loc[:, num_features].fillna(0)\n",
    "df.loc[:, cat_features] = df.loc[:, cat_features].fillna('Other')"
   ]
  },
  {
   "cell_type": "code",
   "execution_count": 9,
   "metadata": {},
   "outputs": [],
   "source": [
    "X_train, X_test, y_train, y_test = train_test_split(\n",
    "    df[num_features+cat_features], \n",
    "    df[[target]], \n",
    "    test_size=0.33, random_state=2025)\n",
    "\n",
    "# 3. Кодирование категориальных признаков\n",
    "encoder = TargetEncoder(cols=cat_features)\n",
    "X_train_encoded = encoder.fit_transform(X_train, y_train)\n",
    "X_test_encoded = encoder.transform(X_test)\n",
    "\n",
    "scaler = MinMaxScaler()\n",
    "scaled_X_train_encoded = scaler.fit_transform(X_train_encoded)\n",
    "scaled_X_train_encoded = pd.DataFrame(scaled_X_train_encoded , columns=catboost_features)\n",
    "df_train = pd.concat([scaled_X_train_encoded.reset_index(drop=True), \n",
    "                      y_train.reset_index(drop=True)], axis=1)\n",
    "\n",
    "scaled_X_test_encoded = scaler.transform(X_test_encoded[catboost_features])\n",
    "scaled_X_test_encoded = pd.DataFrame(scaled_X_test_encoded , columns=catboost_features)\n",
    "df_test = pd.concat([scaled_X_test_encoded.reset_index(drop=True), \n",
    "                     y_test.reset_index(drop=True)], axis=1)"
   ]
  },
  {
   "cell_type": "code",
   "execution_count": 5,
   "metadata": {},
   "outputs": [],
   "source": [
    "linear_features = catboost_features"
   ]
  },
  {
   "cell_type": "code",
   "execution_count": 7,
   "metadata": {},
   "outputs": [
    {
     "data": {
      "text/plain": [
       "79"
      ]
     },
     "execution_count": 7,
     "metadata": {},
     "output_type": "execute_result"
    }
   ],
   "source": [
    "len(linear_features)"
   ]
  },
  {
   "cell_type": "code",
   "execution_count": 10,
   "metadata": {},
   "outputs": [],
   "source": [
    "scaler = MinMaxScaler()\n",
    "scaled_df_train = scaler.fit_transform(df_train[linear_features])\n",
    "scaled_df_train = pd.DataFrame(scaled_df_train, columns=linear_features)\n",
    "scaled_df_train = pd.concat([scaled_df_train, df_train[[target]]], axis=1)\n",
    "\n",
    "scaled_df_test = scaler.transform(df_test[linear_features])\n",
    "scaled_df_test = pd.DataFrame(scaled_df_test, columns=linear_features)\n",
    "scaled_df_test = pd.concat([scaled_df_test, df_test[[target]]], axis=1)"
   ]
  },
  {
   "cell_type": "markdown",
   "metadata": {},
   "source": [
    "# Simple Linear Regression"
   ]
  },
  {
   "cell_type": "code",
   "execution_count": 11,
   "metadata": {},
   "outputs": [],
   "source": [
    "result_metrics = pd.DataFrame(columns=[\n",
    "     'algorithm',\n",
    "     'dataset_type',\n",
    "     'R2',\n",
    "     'MSE',\n",
    "     'RMSE',\n",
    "     'MAE',\n",
    "     'MAPE'\n",
    "])"
   ]
  },
  {
   "cell_type": "code",
   "execution_count": 12,
   "metadata": {},
   "outputs": [],
   "source": [
    "def get_metrics(y_true, y_pred, algorithm, dataset_type, res_df=None):\n",
    "    res_df = res_df.copy()\n",
    "    \n",
    "    r2 = metrics.r2_score(y_true, y_pred)\n",
    "    mse = metrics.mean_squared_error(y_true, y_pred)\n",
    "    mae = metrics.mean_absolute_error(y_true, y_pred)\n",
    "    mape = metrics.mean_absolute_percentage_error(y_true, y_pred)\n",
    "\n",
    "    print(f\"{algorithm}, -- Type Dataset - {dataset_type}\")\n",
    "    print(f\"R2 = {r2}\")\n",
    "    print(f\"MSE = {mse}\")\n",
    "    print(f\"RMSE = {mse**0.5}\")\n",
    "    print(f\"MAE = {mae}\")\n",
    "    print(f\"MAPE = {mape}\")\n",
    "    \n",
    "    curr_res = [algorithm, dataset_type] + [r2, mse, mse**0.5, mae, mape]\n",
    "    res_df = pd.concat([res_df,\n",
    "                        pd.DataFrame([curr_res], columns=['algorithm',\n",
    "                                                            'dataset_type',\n",
    "                                                            'R2',\n",
    "                                                            'MSE',\n",
    "                                                            'RMSE',\n",
    "                                                            'MAE',\n",
    "                                                            'MAPE'])])\n",
    "    return res_df"
   ]
  },
  {
   "cell_type": "code",
   "execution_count": 13,
   "metadata": {},
   "outputs": [
    {
     "data": {
      "text/html": [
       "<style>#sk-container-id-1 {\n",
       "  /* Definition of color scheme common for light and dark mode */\n",
       "  --sklearn-color-text: #000;\n",
       "  --sklearn-color-text-muted: #666;\n",
       "  --sklearn-color-line: gray;\n",
       "  /* Definition of color scheme for unfitted estimators */\n",
       "  --sklearn-color-unfitted-level-0: #fff5e6;\n",
       "  --sklearn-color-unfitted-level-1: #f6e4d2;\n",
       "  --sklearn-color-unfitted-level-2: #ffe0b3;\n",
       "  --sklearn-color-unfitted-level-3: chocolate;\n",
       "  /* Definition of color scheme for fitted estimators */\n",
       "  --sklearn-color-fitted-level-0: #f0f8ff;\n",
       "  --sklearn-color-fitted-level-1: #d4ebff;\n",
       "  --sklearn-color-fitted-level-2: #b3dbfd;\n",
       "  --sklearn-color-fitted-level-3: cornflowerblue;\n",
       "\n",
       "  /* Specific color for light theme */\n",
       "  --sklearn-color-text-on-default-background: var(--sg-text-color, var(--theme-code-foreground, var(--jp-content-font-color1, black)));\n",
       "  --sklearn-color-background: var(--sg-background-color, var(--theme-background, var(--jp-layout-color0, white)));\n",
       "  --sklearn-color-border-box: var(--sg-text-color, var(--theme-code-foreground, var(--jp-content-font-color1, black)));\n",
       "  --sklearn-color-icon: #696969;\n",
       "\n",
       "  @media (prefers-color-scheme: dark) {\n",
       "    /* Redefinition of color scheme for dark theme */\n",
       "    --sklearn-color-text-on-default-background: var(--sg-text-color, var(--theme-code-foreground, var(--jp-content-font-color1, white)));\n",
       "    --sklearn-color-background: var(--sg-background-color, var(--theme-background, var(--jp-layout-color0, #111)));\n",
       "    --sklearn-color-border-box: var(--sg-text-color, var(--theme-code-foreground, var(--jp-content-font-color1, white)));\n",
       "    --sklearn-color-icon: #878787;\n",
       "  }\n",
       "}\n",
       "\n",
       "#sk-container-id-1 {\n",
       "  color: var(--sklearn-color-text);\n",
       "}\n",
       "\n",
       "#sk-container-id-1 pre {\n",
       "  padding: 0;\n",
       "}\n",
       "\n",
       "#sk-container-id-1 input.sk-hidden--visually {\n",
       "  border: 0;\n",
       "  clip: rect(1px 1px 1px 1px);\n",
       "  clip: rect(1px, 1px, 1px, 1px);\n",
       "  height: 1px;\n",
       "  margin: -1px;\n",
       "  overflow: hidden;\n",
       "  padding: 0;\n",
       "  position: absolute;\n",
       "  width: 1px;\n",
       "}\n",
       "\n",
       "#sk-container-id-1 div.sk-dashed-wrapped {\n",
       "  border: 1px dashed var(--sklearn-color-line);\n",
       "  margin: 0 0.4em 0.5em 0.4em;\n",
       "  box-sizing: border-box;\n",
       "  padding-bottom: 0.4em;\n",
       "  background-color: var(--sklearn-color-background);\n",
       "}\n",
       "\n",
       "#sk-container-id-1 div.sk-container {\n",
       "  /* jupyter's `normalize.less` sets `[hidden] { display: none; }`\n",
       "     but bootstrap.min.css set `[hidden] { display: none !important; }`\n",
       "     so we also need the `!important` here to be able to override the\n",
       "     default hidden behavior on the sphinx rendered scikit-learn.org.\n",
       "     See: https://github.com/scikit-learn/scikit-learn/issues/21755 */\n",
       "  display: inline-block !important;\n",
       "  position: relative;\n",
       "}\n",
       "\n",
       "#sk-container-id-1 div.sk-text-repr-fallback {\n",
       "  display: none;\n",
       "}\n",
       "\n",
       "div.sk-parallel-item,\n",
       "div.sk-serial,\n",
       "div.sk-item {\n",
       "  /* draw centered vertical line to link estimators */\n",
       "  background-image: linear-gradient(var(--sklearn-color-text-on-default-background), var(--sklearn-color-text-on-default-background));\n",
       "  background-size: 2px 100%;\n",
       "  background-repeat: no-repeat;\n",
       "  background-position: center center;\n",
       "}\n",
       "\n",
       "/* Parallel-specific style estimator block */\n",
       "\n",
       "#sk-container-id-1 div.sk-parallel-item::after {\n",
       "  content: \"\";\n",
       "  width: 100%;\n",
       "  border-bottom: 2px solid var(--sklearn-color-text-on-default-background);\n",
       "  flex-grow: 1;\n",
       "}\n",
       "\n",
       "#sk-container-id-1 div.sk-parallel {\n",
       "  display: flex;\n",
       "  align-items: stretch;\n",
       "  justify-content: center;\n",
       "  background-color: var(--sklearn-color-background);\n",
       "  position: relative;\n",
       "}\n",
       "\n",
       "#sk-container-id-1 div.sk-parallel-item {\n",
       "  display: flex;\n",
       "  flex-direction: column;\n",
       "}\n",
       "\n",
       "#sk-container-id-1 div.sk-parallel-item:first-child::after {\n",
       "  align-self: flex-end;\n",
       "  width: 50%;\n",
       "}\n",
       "\n",
       "#sk-container-id-1 div.sk-parallel-item:last-child::after {\n",
       "  align-self: flex-start;\n",
       "  width: 50%;\n",
       "}\n",
       "\n",
       "#sk-container-id-1 div.sk-parallel-item:only-child::after {\n",
       "  width: 0;\n",
       "}\n",
       "\n",
       "/* Serial-specific style estimator block */\n",
       "\n",
       "#sk-container-id-1 div.sk-serial {\n",
       "  display: flex;\n",
       "  flex-direction: column;\n",
       "  align-items: center;\n",
       "  background-color: var(--sklearn-color-background);\n",
       "  padding-right: 1em;\n",
       "  padding-left: 1em;\n",
       "}\n",
       "\n",
       "\n",
       "/* Toggleable style: style used for estimator/Pipeline/ColumnTransformer box that is\n",
       "clickable and can be expanded/collapsed.\n",
       "- Pipeline and ColumnTransformer use this feature and define the default style\n",
       "- Estimators will overwrite some part of the style using the `sk-estimator` class\n",
       "*/\n",
       "\n",
       "/* Pipeline and ColumnTransformer style (default) */\n",
       "\n",
       "#sk-container-id-1 div.sk-toggleable {\n",
       "  /* Default theme specific background. It is overwritten whether we have a\n",
       "  specific estimator or a Pipeline/ColumnTransformer */\n",
       "  background-color: var(--sklearn-color-background);\n",
       "}\n",
       "\n",
       "/* Toggleable label */\n",
       "#sk-container-id-1 label.sk-toggleable__label {\n",
       "  cursor: pointer;\n",
       "  display: flex;\n",
       "  width: 100%;\n",
       "  margin-bottom: 0;\n",
       "  padding: 0.5em;\n",
       "  box-sizing: border-box;\n",
       "  text-align: center;\n",
       "  align-items: start;\n",
       "  justify-content: space-between;\n",
       "  gap: 0.5em;\n",
       "}\n",
       "\n",
       "#sk-container-id-1 label.sk-toggleable__label .caption {\n",
       "  font-size: 0.6rem;\n",
       "  font-weight: lighter;\n",
       "  color: var(--sklearn-color-text-muted);\n",
       "}\n",
       "\n",
       "#sk-container-id-1 label.sk-toggleable__label-arrow:before {\n",
       "  /* Arrow on the left of the label */\n",
       "  content: \"▸\";\n",
       "  float: left;\n",
       "  margin-right: 0.25em;\n",
       "  color: var(--sklearn-color-icon);\n",
       "}\n",
       "\n",
       "#sk-container-id-1 label.sk-toggleable__label-arrow:hover:before {\n",
       "  color: var(--sklearn-color-text);\n",
       "}\n",
       "\n",
       "/* Toggleable content - dropdown */\n",
       "\n",
       "#sk-container-id-1 div.sk-toggleable__content {\n",
       "  max-height: 0;\n",
       "  max-width: 0;\n",
       "  overflow: hidden;\n",
       "  text-align: left;\n",
       "  /* unfitted */\n",
       "  background-color: var(--sklearn-color-unfitted-level-0);\n",
       "}\n",
       "\n",
       "#sk-container-id-1 div.sk-toggleable__content.fitted {\n",
       "  /* fitted */\n",
       "  background-color: var(--sklearn-color-fitted-level-0);\n",
       "}\n",
       "\n",
       "#sk-container-id-1 div.sk-toggleable__content pre {\n",
       "  margin: 0.2em;\n",
       "  border-radius: 0.25em;\n",
       "  color: var(--sklearn-color-text);\n",
       "  /* unfitted */\n",
       "  background-color: var(--sklearn-color-unfitted-level-0);\n",
       "}\n",
       "\n",
       "#sk-container-id-1 div.sk-toggleable__content.fitted pre {\n",
       "  /* unfitted */\n",
       "  background-color: var(--sklearn-color-fitted-level-0);\n",
       "}\n",
       "\n",
       "#sk-container-id-1 input.sk-toggleable__control:checked~div.sk-toggleable__content {\n",
       "  /* Expand drop-down */\n",
       "  max-height: 200px;\n",
       "  max-width: 100%;\n",
       "  overflow: auto;\n",
       "}\n",
       "\n",
       "#sk-container-id-1 input.sk-toggleable__control:checked~label.sk-toggleable__label-arrow:before {\n",
       "  content: \"▾\";\n",
       "}\n",
       "\n",
       "/* Pipeline/ColumnTransformer-specific style */\n",
       "\n",
       "#sk-container-id-1 div.sk-label input.sk-toggleable__control:checked~label.sk-toggleable__label {\n",
       "  color: var(--sklearn-color-text);\n",
       "  background-color: var(--sklearn-color-unfitted-level-2);\n",
       "}\n",
       "\n",
       "#sk-container-id-1 div.sk-label.fitted input.sk-toggleable__control:checked~label.sk-toggleable__label {\n",
       "  background-color: var(--sklearn-color-fitted-level-2);\n",
       "}\n",
       "\n",
       "/* Estimator-specific style */\n",
       "\n",
       "/* Colorize estimator box */\n",
       "#sk-container-id-1 div.sk-estimator input.sk-toggleable__control:checked~label.sk-toggleable__label {\n",
       "  /* unfitted */\n",
       "  background-color: var(--sklearn-color-unfitted-level-2);\n",
       "}\n",
       "\n",
       "#sk-container-id-1 div.sk-estimator.fitted input.sk-toggleable__control:checked~label.sk-toggleable__label {\n",
       "  /* fitted */\n",
       "  background-color: var(--sklearn-color-fitted-level-2);\n",
       "}\n",
       "\n",
       "#sk-container-id-1 div.sk-label label.sk-toggleable__label,\n",
       "#sk-container-id-1 div.sk-label label {\n",
       "  /* The background is the default theme color */\n",
       "  color: var(--sklearn-color-text-on-default-background);\n",
       "}\n",
       "\n",
       "/* On hover, darken the color of the background */\n",
       "#sk-container-id-1 div.sk-label:hover label.sk-toggleable__label {\n",
       "  color: var(--sklearn-color-text);\n",
       "  background-color: var(--sklearn-color-unfitted-level-2);\n",
       "}\n",
       "\n",
       "/* Label box, darken color on hover, fitted */\n",
       "#sk-container-id-1 div.sk-label.fitted:hover label.sk-toggleable__label.fitted {\n",
       "  color: var(--sklearn-color-text);\n",
       "  background-color: var(--sklearn-color-fitted-level-2);\n",
       "}\n",
       "\n",
       "/* Estimator label */\n",
       "\n",
       "#sk-container-id-1 div.sk-label label {\n",
       "  font-family: monospace;\n",
       "  font-weight: bold;\n",
       "  display: inline-block;\n",
       "  line-height: 1.2em;\n",
       "}\n",
       "\n",
       "#sk-container-id-1 div.sk-label-container {\n",
       "  text-align: center;\n",
       "}\n",
       "\n",
       "/* Estimator-specific */\n",
       "#sk-container-id-1 div.sk-estimator {\n",
       "  font-family: monospace;\n",
       "  border: 1px dotted var(--sklearn-color-border-box);\n",
       "  border-radius: 0.25em;\n",
       "  box-sizing: border-box;\n",
       "  margin-bottom: 0.5em;\n",
       "  /* unfitted */\n",
       "  background-color: var(--sklearn-color-unfitted-level-0);\n",
       "}\n",
       "\n",
       "#sk-container-id-1 div.sk-estimator.fitted {\n",
       "  /* fitted */\n",
       "  background-color: var(--sklearn-color-fitted-level-0);\n",
       "}\n",
       "\n",
       "/* on hover */\n",
       "#sk-container-id-1 div.sk-estimator:hover {\n",
       "  /* unfitted */\n",
       "  background-color: var(--sklearn-color-unfitted-level-2);\n",
       "}\n",
       "\n",
       "#sk-container-id-1 div.sk-estimator.fitted:hover {\n",
       "  /* fitted */\n",
       "  background-color: var(--sklearn-color-fitted-level-2);\n",
       "}\n",
       "\n",
       "/* Specification for estimator info (e.g. \"i\" and \"?\") */\n",
       "\n",
       "/* Common style for \"i\" and \"?\" */\n",
       "\n",
       ".sk-estimator-doc-link,\n",
       "a:link.sk-estimator-doc-link,\n",
       "a:visited.sk-estimator-doc-link {\n",
       "  float: right;\n",
       "  font-size: smaller;\n",
       "  line-height: 1em;\n",
       "  font-family: monospace;\n",
       "  background-color: var(--sklearn-color-background);\n",
       "  border-radius: 1em;\n",
       "  height: 1em;\n",
       "  width: 1em;\n",
       "  text-decoration: none !important;\n",
       "  margin-left: 0.5em;\n",
       "  text-align: center;\n",
       "  /* unfitted */\n",
       "  border: var(--sklearn-color-unfitted-level-1) 1pt solid;\n",
       "  color: var(--sklearn-color-unfitted-level-1);\n",
       "}\n",
       "\n",
       ".sk-estimator-doc-link.fitted,\n",
       "a:link.sk-estimator-doc-link.fitted,\n",
       "a:visited.sk-estimator-doc-link.fitted {\n",
       "  /* fitted */\n",
       "  border: var(--sklearn-color-fitted-level-1) 1pt solid;\n",
       "  color: var(--sklearn-color-fitted-level-1);\n",
       "}\n",
       "\n",
       "/* On hover */\n",
       "div.sk-estimator:hover .sk-estimator-doc-link:hover,\n",
       ".sk-estimator-doc-link:hover,\n",
       "div.sk-label-container:hover .sk-estimator-doc-link:hover,\n",
       ".sk-estimator-doc-link:hover {\n",
       "  /* unfitted */\n",
       "  background-color: var(--sklearn-color-unfitted-level-3);\n",
       "  color: var(--sklearn-color-background);\n",
       "  text-decoration: none;\n",
       "}\n",
       "\n",
       "div.sk-estimator.fitted:hover .sk-estimator-doc-link.fitted:hover,\n",
       ".sk-estimator-doc-link.fitted:hover,\n",
       "div.sk-label-container:hover .sk-estimator-doc-link.fitted:hover,\n",
       ".sk-estimator-doc-link.fitted:hover {\n",
       "  /* fitted */\n",
       "  background-color: var(--sklearn-color-fitted-level-3);\n",
       "  color: var(--sklearn-color-background);\n",
       "  text-decoration: none;\n",
       "}\n",
       "\n",
       "/* Span, style for the box shown on hovering the info icon */\n",
       ".sk-estimator-doc-link span {\n",
       "  display: none;\n",
       "  z-index: 9999;\n",
       "  position: relative;\n",
       "  font-weight: normal;\n",
       "  right: .2ex;\n",
       "  padding: .5ex;\n",
       "  margin: .5ex;\n",
       "  width: min-content;\n",
       "  min-width: 20ex;\n",
       "  max-width: 50ex;\n",
       "  color: var(--sklearn-color-text);\n",
       "  box-shadow: 2pt 2pt 4pt #999;\n",
       "  /* unfitted */\n",
       "  background: var(--sklearn-color-unfitted-level-0);\n",
       "  border: .5pt solid var(--sklearn-color-unfitted-level-3);\n",
       "}\n",
       "\n",
       ".sk-estimator-doc-link.fitted span {\n",
       "  /* fitted */\n",
       "  background: var(--sklearn-color-fitted-level-0);\n",
       "  border: var(--sklearn-color-fitted-level-3);\n",
       "}\n",
       "\n",
       ".sk-estimator-doc-link:hover span {\n",
       "  display: block;\n",
       "}\n",
       "\n",
       "/* \"?\"-specific style due to the `<a>` HTML tag */\n",
       "\n",
       "#sk-container-id-1 a.estimator_doc_link {\n",
       "  float: right;\n",
       "  font-size: 1rem;\n",
       "  line-height: 1em;\n",
       "  font-family: monospace;\n",
       "  background-color: var(--sklearn-color-background);\n",
       "  border-radius: 1rem;\n",
       "  height: 1rem;\n",
       "  width: 1rem;\n",
       "  text-decoration: none;\n",
       "  /* unfitted */\n",
       "  color: var(--sklearn-color-unfitted-level-1);\n",
       "  border: var(--sklearn-color-unfitted-level-1) 1pt solid;\n",
       "}\n",
       "\n",
       "#sk-container-id-1 a.estimator_doc_link.fitted {\n",
       "  /* fitted */\n",
       "  border: var(--sklearn-color-fitted-level-1) 1pt solid;\n",
       "  color: var(--sklearn-color-fitted-level-1);\n",
       "}\n",
       "\n",
       "/* On hover */\n",
       "#sk-container-id-1 a.estimator_doc_link:hover {\n",
       "  /* unfitted */\n",
       "  background-color: var(--sklearn-color-unfitted-level-3);\n",
       "  color: var(--sklearn-color-background);\n",
       "  text-decoration: none;\n",
       "}\n",
       "\n",
       "#sk-container-id-1 a.estimator_doc_link.fitted:hover {\n",
       "  /* fitted */\n",
       "  background-color: var(--sklearn-color-fitted-level-3);\n",
       "}\n",
       "</style><div id=\"sk-container-id-1\" class=\"sk-top-container\"><div class=\"sk-text-repr-fallback\"><pre>LinearRegression()</pre><b>In a Jupyter environment, please rerun this cell to show the HTML representation or trust the notebook. <br />On GitHub, the HTML representation is unable to render, please try loading this page with nbviewer.org.</b></div><div class=\"sk-container\" hidden><div class=\"sk-item\"><div class=\"sk-estimator fitted sk-toggleable\"><input class=\"sk-toggleable__control sk-hidden--visually\" id=\"sk-estimator-id-1\" type=\"checkbox\" checked><label for=\"sk-estimator-id-1\" class=\"sk-toggleable__label fitted sk-toggleable__label-arrow\"><div><div>LinearRegression</div></div><div><a class=\"sk-estimator-doc-link fitted\" rel=\"noreferrer\" target=\"_blank\" href=\"https://scikit-learn.org/1.6/modules/generated/sklearn.linear_model.LinearRegression.html\">?<span>Documentation for LinearRegression</span></a><span class=\"sk-estimator-doc-link fitted\">i<span>Fitted</span></span></div></label><div class=\"sk-toggleable__content fitted\"><pre>LinearRegression()</pre></div> </div></div></div></div>"
      ],
      "text/plain": [
       "LinearRegression()"
      ]
     },
     "execution_count": 13,
     "metadata": {},
     "output_type": "execute_result"
    }
   ],
   "source": [
    "simple_model = LinearRegression()\n",
    "simple_model.fit(scaled_df_train[linear_features], scaled_df_train[target])"
   ]
  },
  {
   "cell_type": "code",
   "execution_count": 14,
   "metadata": {},
   "outputs": [],
   "source": [
    "preds_train = simple_model.predict(scaled_df_train[linear_features])\n",
    "preds_test = simple_model.predict(scaled_df_test[linear_features])"
   ]
  },
  {
   "cell_type": "code",
   "execution_count": 15,
   "metadata": {},
   "outputs": [
    {
     "name": "stdout",
     "output_type": "stream",
     "text": [
      "simple_regression, -- Type Dataset - train\n",
      "R2 = 0.8967464062385334\n",
      "MSE = 625167029.4866993\n",
      "RMSE = 25003.34036657301\n",
      "MAE = 16433.80971513067\n",
      "MAPE = 0.09775345943453069\n"
     ]
    },
    {
     "name": "stderr",
     "output_type": "stream",
     "text": [
      "/var/folders/dy/q_kmpbjj54q1glfr1wthxzhw0000gn/T/ipykernel_9088/2903524573.py:17: FutureWarning: The behavior of DataFrame concatenation with empty or all-NA entries is deprecated. In a future version, this will no longer exclude empty or all-NA columns when determining the result dtypes. To retain the old behavior, exclude the relevant entries before the concat operation.\n",
      "  res_df = pd.concat([res_df,\n"
     ]
    }
   ],
   "source": [
    "result_metrics = get_metrics(scaled_df_train[target], preds_train, \n",
    "                              algorithm='simple_regression', dataset_type='train', \n",
    "                              res_df=result_metrics)"
   ]
  },
  {
   "cell_type": "code",
   "execution_count": 16,
   "metadata": {},
   "outputs": [
    {
     "name": "stdout",
     "output_type": "stream",
     "text": [
      "simple_regression, -- Type Dataset - test\n",
      "R2 = 0.7738179018807397\n",
      "MSE = 1542185283.220928\n",
      "RMSE = 39270.66695666026\n",
      "MAE = 20354.338666524374\n",
      "MAPE = 0.12121311501409486\n"
     ]
    }
   ],
   "source": [
    "result_metrics = get_metrics(scaled_df_test[target], preds_test, \n",
    "                              algorithm='simple_regression', dataset_type='test', \n",
    "                              res_df=result_metrics)"
   ]
  },
  {
   "cell_type": "code",
   "execution_count": 17,
   "metadata": {},
   "outputs": [
    {
     "data": {
      "text/html": [
       "<div>\n",
       "<style scoped>\n",
       "    .dataframe tbody tr th:only-of-type {\n",
       "        vertical-align: middle;\n",
       "    }\n",
       "\n",
       "    .dataframe tbody tr th {\n",
       "        vertical-align: top;\n",
       "    }\n",
       "\n",
       "    .dataframe thead th {\n",
       "        text-align: right;\n",
       "    }\n",
       "</style>\n",
       "<table border=\"1\" class=\"dataframe\">\n",
       "  <thead>\n",
       "    <tr style=\"text-align: right;\">\n",
       "      <th></th>\n",
       "      <th>algorithm</th>\n",
       "      <th>dataset_type</th>\n",
       "      <th>R2</th>\n",
       "      <th>MSE</th>\n",
       "      <th>RMSE</th>\n",
       "      <th>MAE</th>\n",
       "      <th>MAPE</th>\n",
       "    </tr>\n",
       "  </thead>\n",
       "  <tbody>\n",
       "    <tr>\n",
       "      <th>0</th>\n",
       "      <td>simple_regression</td>\n",
       "      <td>train</td>\n",
       "      <td>0.896746</td>\n",
       "      <td>6.251670e+08</td>\n",
       "      <td>25003.340367</td>\n",
       "      <td>16433.809715</td>\n",
       "      <td>0.097753</td>\n",
       "    </tr>\n",
       "    <tr>\n",
       "      <th>0</th>\n",
       "      <td>simple_regression</td>\n",
       "      <td>test</td>\n",
       "      <td>0.773818</td>\n",
       "      <td>1.542185e+09</td>\n",
       "      <td>39270.666957</td>\n",
       "      <td>20354.338667</td>\n",
       "      <td>0.121213</td>\n",
       "    </tr>\n",
       "  </tbody>\n",
       "</table>\n",
       "</div>"
      ],
      "text/plain": [
       "           algorithm dataset_type        R2           MSE          RMSE  \\\n",
       "0  simple_regression        train  0.896746  6.251670e+08  25003.340367   \n",
       "0  simple_regression         test  0.773818  1.542185e+09  39270.666957   \n",
       "\n",
       "            MAE      MAPE  \n",
       "0  16433.809715  0.097753  \n",
       "0  20354.338667  0.121213  "
      ]
     },
     "execution_count": 17,
     "metadata": {},
     "output_type": "execute_result"
    }
   ],
   "source": [
    "result_metrics"
   ]
  },
  {
   "cell_type": "markdown",
   "metadata": {},
   "source": [
    "# Combine with classifier after k-means"
   ]
  },
  {
   "cell_type": "markdown",
   "metadata": {},
   "source": [
    "## fit k-means 2 clusters on target"
   ]
  },
  {
   "cell_type": "markdown",
   "metadata": {},
   "source": [
    "### clustering"
   ]
  },
  {
   "cell_type": "code",
   "execution_count": 18,
   "metadata": {},
   "outputs": [],
   "source": [
    "kmeans = KMeans(n_clusters=2, random_state=2025)\n",
    "kmeans.fit(scaled_df_train[[target]])\n",
    "clf_target ='kmeans'\n",
    "\n",
    "scaled_df_train['kmeans'] = kmeans.predict(scaled_df_train[[target]])\n",
    "scaled_df_test['kmeans'] = kmeans.predict(scaled_df_test[[target]])\n",
    "\n",
    "kmeans_data = pd.concat([scaled_df_train, scaled_df_test])"
   ]
  },
  {
   "cell_type": "code",
   "execution_count": 19,
   "metadata": {},
   "outputs": [
    {
     "data": {
      "image/png": "[encoded data removed]",
      "text/plain": [
       "<Figure size 640x480 with 1 Axes>"
      ]
     },
     "metadata": {},
     "output_type": "display_data"
    }
   ],
   "source": [
    "plt.title('target dist')\n",
    "plt.grid(which='major')\n",
    "sns.histplot(data = kmeans_data, x=target, kde=True, hue='kmeans')\n",
    "plt.show()"
   ]
  },
  {
   "cell_type": "markdown",
   "metadata": {},
   "source": [
    "### fit clf"
   ]
  },
  {
   "cell_type": "code",
   "execution_count": 21,
   "metadata": {},
   "outputs": [
    {
     "data": {
      "text/html": [
       "<div>\n",
       "<style scoped>\n",
       "    .dataframe tbody tr th:only-of-type {\n",
       "        vertical-align: middle;\n",
       "    }\n",
       "\n",
       "    .dataframe tbody tr th {\n",
       "        vertical-align: top;\n",
       "    }\n",
       "\n",
       "    .dataframe thead th {\n",
       "        text-align: right;\n",
       "    }\n",
       "</style>\n",
       "<table border=\"1\" class=\"dataframe\">\n",
       "  <thead>\n",
       "    <tr style=\"text-align: right;\">\n",
       "      <th></th>\n",
       "      <th>MSSubClass</th>\n",
       "      <th>LotFrontage</th>\n",
       "      <th>LotArea</th>\n",
       "      <th>OverallQual</th>\n",
       "      <th>OverallCond</th>\n",
       "      <th>YearBuilt</th>\n",
       "      <th>YearRemodAdd</th>\n",
       "      <th>MasVnrArea</th>\n",
       "      <th>BsmtFinSF1</th>\n",
       "      <th>BsmtFinSF2</th>\n",
       "      <th>...</th>\n",
       "      <th>GarageType</th>\n",
       "      <th>GarageFinish</th>\n",
       "      <th>GarageQual</th>\n",
       "      <th>GarageCond</th>\n",
       "      <th>PavedDrive</th>\n",
       "      <th>PoolQC</th>\n",
       "      <th>Fence</th>\n",
       "      <th>MiscFeature</th>\n",
       "      <th>SaleType</th>\n",
       "      <th>SaleCondition</th>\n",
       "    </tr>\n",
       "  </thead>\n",
       "  <tbody>\n",
       "    <tr>\n",
       "      <th>0</th>\n",
       "      <td>0.058824</td>\n",
       "      <td>0.285714</td>\n",
       "      <td>0.048966</td>\n",
       "      <td>0.444444</td>\n",
       "      <td>0.875</td>\n",
       "      <td>0.379562</td>\n",
       "      <td>0.933333</td>\n",
       "      <td>0.000000</td>\n",
       "      <td>0.000000</td>\n",
       "      <td>0.000000</td>\n",
       "      <td>...</td>\n",
       "      <td>0.206447</td>\n",
       "      <td>0.279674</td>\n",
       "      <td>0.335273</td>\n",
       "      <td>0.400593</td>\n",
       "      <td>0.0</td>\n",
       "      <td>0.0</td>\n",
       "      <td>1.000000</td>\n",
       "      <td>1.0</td>\n",
       "      <td>0.126092</td>\n",
       "      <td>0.173698</td>\n",
       "    </tr>\n",
       "    <tr>\n",
       "      <th>1</th>\n",
       "      <td>0.000000</td>\n",
       "      <td>0.357143</td>\n",
       "      <td>0.056671</td>\n",
       "      <td>0.555556</td>\n",
       "      <td>0.500</td>\n",
       "      <td>0.970803</td>\n",
       "      <td>0.933333</td>\n",
       "      <td>0.000000</td>\n",
       "      <td>0.012389</td>\n",
       "      <td>0.000000</td>\n",
       "      <td>...</td>\n",
       "      <td>0.704248</td>\n",
       "      <td>1.000000</td>\n",
       "      <td>1.000000</td>\n",
       "      <td>1.000000</td>\n",
       "      <td>1.0</td>\n",
       "      <td>0.0</td>\n",
       "      <td>1.000000</td>\n",
       "      <td>1.0</td>\n",
       "      <td>1.000000</td>\n",
       "      <td>1.000000</td>\n",
       "    </tr>\n",
       "    <tr>\n",
       "      <th>2</th>\n",
       "      <td>0.176471</td>\n",
       "      <td>0.434066</td>\n",
       "      <td>0.051947</td>\n",
       "      <td>0.444444</td>\n",
       "      <td>0.500</td>\n",
       "      <td>0.503650</td>\n",
       "      <td>0.000000</td>\n",
       "      <td>0.000000</td>\n",
       "      <td>0.162832</td>\n",
       "      <td>0.027815</td>\n",
       "      <td>...</td>\n",
       "      <td>0.704248</td>\n",
       "      <td>0.279674</td>\n",
       "      <td>1.000000</td>\n",
       "      <td>1.000000</td>\n",
       "      <td>1.0</td>\n",
       "      <td>0.0</td>\n",
       "      <td>1.000000</td>\n",
       "      <td>1.0</td>\n",
       "      <td>0.126092</td>\n",
       "      <td>0.173698</td>\n",
       "    </tr>\n",
       "    <tr>\n",
       "      <th>3</th>\n",
       "      <td>0.176471</td>\n",
       "      <td>0.329670</td>\n",
       "      <td>0.060241</td>\n",
       "      <td>0.333333</td>\n",
       "      <td>0.375</td>\n",
       "      <td>0.562044</td>\n",
       "      <td>0.000000</td>\n",
       "      <td>0.000000</td>\n",
       "      <td>0.000000</td>\n",
       "      <td>0.000000</td>\n",
       "      <td>...</td>\n",
       "      <td>0.000000</td>\n",
       "      <td>0.000000</td>\n",
       "      <td>0.000000</td>\n",
       "      <td>0.000000</td>\n",
       "      <td>1.0</td>\n",
       "      <td>0.0</td>\n",
       "      <td>1.000000</td>\n",
       "      <td>1.0</td>\n",
       "      <td>0.126092</td>\n",
       "      <td>0.000000</td>\n",
       "    </tr>\n",
       "    <tr>\n",
       "      <th>4</th>\n",
       "      <td>0.058824</td>\n",
       "      <td>0.329670</td>\n",
       "      <td>0.031858</td>\n",
       "      <td>0.333333</td>\n",
       "      <td>0.625</td>\n",
       "      <td>0.401460</td>\n",
       "      <td>0.000000</td>\n",
       "      <td>0.000000</td>\n",
       "      <td>0.000000</td>\n",
       "      <td>0.000000</td>\n",
       "      <td>...</td>\n",
       "      <td>0.206447</td>\n",
       "      <td>0.279674</td>\n",
       "      <td>0.335273</td>\n",
       "      <td>1.000000</td>\n",
       "      <td>1.0</td>\n",
       "      <td>0.0</td>\n",
       "      <td>1.000000</td>\n",
       "      <td>1.0</td>\n",
       "      <td>0.126092</td>\n",
       "      <td>0.173698</td>\n",
       "    </tr>\n",
       "    <tr>\n",
       "      <th>...</th>\n",
       "      <td>...</td>\n",
       "      <td>...</td>\n",
       "      <td>...</td>\n",
       "      <td>...</td>\n",
       "      <td>...</td>\n",
       "      <td>...</td>\n",
       "      <td>...</td>\n",
       "      <td>...</td>\n",
       "      <td>...</td>\n",
       "      <td>...</td>\n",
       "      <td>...</td>\n",
       "      <td>...</td>\n",
       "      <td>...</td>\n",
       "      <td>...</td>\n",
       "      <td>...</td>\n",
       "      <td>...</td>\n",
       "      <td>...</td>\n",
       "      <td>...</td>\n",
       "      <td>...</td>\n",
       "      <td>...</td>\n",
       "      <td>...</td>\n",
       "    </tr>\n",
       "    <tr>\n",
       "      <th>973</th>\n",
       "      <td>0.000000</td>\n",
       "      <td>0.000000</td>\n",
       "      <td>0.062270</td>\n",
       "      <td>0.555556</td>\n",
       "      <td>0.625</td>\n",
       "      <td>0.817518</td>\n",
       "      <td>0.566667</td>\n",
       "      <td>0.000000</td>\n",
       "      <td>0.292035</td>\n",
       "      <td>0.000000</td>\n",
       "      <td>...</td>\n",
       "      <td>0.704248</td>\n",
       "      <td>0.279674</td>\n",
       "      <td>1.000000</td>\n",
       "      <td>1.000000</td>\n",
       "      <td>1.0</td>\n",
       "      <td>0.0</td>\n",
       "      <td>1.000000</td>\n",
       "      <td>1.0</td>\n",
       "      <td>0.126092</td>\n",
       "      <td>0.173698</td>\n",
       "    </tr>\n",
       "    <tr>\n",
       "      <th>974</th>\n",
       "      <td>0.294118</td>\n",
       "      <td>0.527473</td>\n",
       "      <td>0.075029</td>\n",
       "      <td>0.444444</td>\n",
       "      <td>0.500</td>\n",
       "      <td>0.306569</td>\n",
       "      <td>0.000000</td>\n",
       "      <td>0.000000</td>\n",
       "      <td>0.000000</td>\n",
       "      <td>0.000000</td>\n",
       "      <td>...</td>\n",
       "      <td>0.206447</td>\n",
       "      <td>0.279674</td>\n",
       "      <td>0.335273</td>\n",
       "      <td>0.400593</td>\n",
       "      <td>0.0</td>\n",
       "      <td>0.0</td>\n",
       "      <td>1.000000</td>\n",
       "      <td>1.0</td>\n",
       "      <td>0.126092</td>\n",
       "      <td>0.173698</td>\n",
       "    </tr>\n",
       "    <tr>\n",
       "      <th>975</th>\n",
       "      <td>0.000000</td>\n",
       "      <td>0.269231</td>\n",
       "      <td>0.028662</td>\n",
       "      <td>0.222222</td>\n",
       "      <td>0.875</td>\n",
       "      <td>0.605839</td>\n",
       "      <td>0.916667</td>\n",
       "      <td>0.000000</td>\n",
       "      <td>0.113274</td>\n",
       "      <td>0.000000</td>\n",
       "      <td>...</td>\n",
       "      <td>0.704248</td>\n",
       "      <td>0.279674</td>\n",
       "      <td>0.335273</td>\n",
       "      <td>1.000000</td>\n",
       "      <td>1.0</td>\n",
       "      <td>0.0</td>\n",
       "      <td>1.000000</td>\n",
       "      <td>1.0</td>\n",
       "      <td>0.126092</td>\n",
       "      <td>0.173698</td>\n",
       "    </tr>\n",
       "    <tr>\n",
       "      <th>976</th>\n",
       "      <td>0.000000</td>\n",
       "      <td>0.445055</td>\n",
       "      <td>0.053088</td>\n",
       "      <td>0.555556</td>\n",
       "      <td>0.500</td>\n",
       "      <td>0.817518</td>\n",
       "      <td>0.583333</td>\n",
       "      <td>0.000000</td>\n",
       "      <td>0.149558</td>\n",
       "      <td>0.000000</td>\n",
       "      <td>...</td>\n",
       "      <td>0.704248</td>\n",
       "      <td>0.279674</td>\n",
       "      <td>1.000000</td>\n",
       "      <td>1.000000</td>\n",
       "      <td>1.0</td>\n",
       "      <td>0.0</td>\n",
       "      <td>0.716823</td>\n",
       "      <td>1.0</td>\n",
       "      <td>0.126092</td>\n",
       "      <td>0.173698</td>\n",
       "    </tr>\n",
       "    <tr>\n",
       "      <th>977</th>\n",
       "      <td>0.352941</td>\n",
       "      <td>0.384615</td>\n",
       "      <td>0.058339</td>\n",
       "      <td>0.444444</td>\n",
       "      <td>0.750</td>\n",
       "      <td>0.722628</td>\n",
       "      <td>0.916667</td>\n",
       "      <td>0.059507</td>\n",
       "      <td>0.154425</td>\n",
       "      <td>0.000000</td>\n",
       "      <td>...</td>\n",
       "      <td>1.000000</td>\n",
       "      <td>0.279674</td>\n",
       "      <td>1.000000</td>\n",
       "      <td>1.000000</td>\n",
       "      <td>1.0</td>\n",
       "      <td>0.0</td>\n",
       "      <td>0.000000</td>\n",
       "      <td>1.0</td>\n",
       "      <td>0.126092</td>\n",
       "      <td>0.173698</td>\n",
       "    </tr>\n",
       "  </tbody>\n",
       "</table>\n",
       "<p>978 rows × 79 columns</p>\n",
       "</div>"
      ],
      "text/plain": [
       "     MSSubClass  LotFrontage   LotArea  OverallQual  OverallCond  YearBuilt  \\\n",
       "0      0.058824     0.285714  0.048966     0.444444        0.875   0.379562   \n",
       "1      0.000000     0.357143  0.056671     0.555556        0.500   0.970803   \n",
       "2      0.176471     0.434066  0.051947     0.444444        0.500   0.503650   \n",
       "3      0.176471     0.329670  0.060241     0.333333        0.375   0.562044   \n",
       "4      0.058824     0.329670  0.031858     0.333333        0.625   0.401460   \n",
       "..          ...          ...       ...          ...          ...        ...   \n",
       "973    0.000000     0.000000  0.062270     0.555556        0.625   0.817518   \n",
       "974    0.294118     0.527473  0.075029     0.444444        0.500   0.306569   \n",
       "975    0.000000     0.269231  0.028662     0.222222        0.875   0.605839   \n",
       "976    0.000000     0.445055  0.053088     0.555556        0.500   0.817518   \n",
       "977    0.352941     0.384615  0.058339     0.444444        0.750   0.722628   \n",
       "\n",
       "     YearRemodAdd  MasVnrArea  BsmtFinSF1  BsmtFinSF2  ...  GarageType  \\\n",
       "0        0.933333    0.000000    0.000000    0.000000  ...    0.206447   \n",
       "1        0.933333    0.000000    0.012389    0.000000  ...    0.704248   \n",
       "2        0.000000    0.000000    0.162832    0.027815  ...    0.704248   \n",
       "3        0.000000    0.000000    0.000000    0.000000  ...    0.000000   \n",
       "4        0.000000    0.000000    0.000000    0.000000  ...    0.206447   \n",
       "..            ...         ...         ...         ...  ...         ...   \n",
       "973      0.566667    0.000000    0.292035    0.000000  ...    0.704248   \n",
       "974      0.000000    0.000000    0.000000    0.000000  ...    0.206447   \n",
       "975      0.916667    0.000000    0.113274    0.000000  ...    0.704248   \n",
       "976      0.583333    0.000000    0.149558    0.000000  ...    0.704248   \n",
       "977      0.916667    0.059507    0.154425    0.000000  ...    1.000000   \n",
       "\n",
       "     GarageFinish  GarageQual  GarageCond  PavedDrive  PoolQC     Fence  \\\n",
       "0        0.279674    0.335273    0.400593         0.0     0.0  1.000000   \n",
       "1        1.000000    1.000000    1.000000         1.0     0.0  1.000000   \n",
       "2        0.279674    1.000000    1.000000         1.0     0.0  1.000000   \n",
       "3        0.000000    0.000000    0.000000         1.0     0.0  1.000000   \n",
       "4        0.279674    0.335273    1.000000         1.0     0.0  1.000000   \n",
       "..            ...         ...         ...         ...     ...       ...   \n",
       "973      0.279674    1.000000    1.000000         1.0     0.0  1.000000   \n",
       "974      0.279674    0.335273    0.400593         0.0     0.0  1.000000   \n",
       "975      0.279674    0.335273    1.000000         1.0     0.0  1.000000   \n",
       "976      0.279674    1.000000    1.000000         1.0     0.0  0.716823   \n",
       "977      0.279674    1.000000    1.000000         1.0     0.0  0.000000   \n",
       "\n",
       "     MiscFeature  SaleType  SaleCondition  \n",
       "0            1.0  0.126092       0.173698  \n",
       "1            1.0  1.000000       1.000000  \n",
       "2            1.0  0.126092       0.173698  \n",
       "3            1.0  0.126092       0.000000  \n",
       "4            1.0  0.126092       0.173698  \n",
       "..           ...       ...            ...  \n",
       "973          1.0  0.126092       0.173698  \n",
       "974          1.0  0.126092       0.173698  \n",
       "975          1.0  0.126092       0.173698  \n",
       "976          1.0  0.126092       0.173698  \n",
       "977          1.0  0.126092       0.173698  \n",
       "\n",
       "[978 rows x 79 columns]"
      ]
     },
     "execution_count": 21,
     "metadata": {},
     "output_type": "execute_result"
    }
   ],
   "source": [
    "scaled_df_train[catboost_features]"
   ]
  },
  {
   "cell_type": "code",
   "execution_count": 22,
   "metadata": {},
   "outputs": [],
   "source": [
    "clf_target = 'kmeans'\n",
    "\n",
    "clf = cat.CatBoostClassifier(random_state=2025, verbose=False)\n",
    "clf.fit(scaled_df_train[catboost_features], scaled_df_train[clf_target])\n",
    "\n",
    "clf_pred_train = clf.predict(scaled_df_train[catboost_features])\n",
    "clf_pred_test = clf.predict(scaled_df_test[catboost_features])"
   ]
  },
  {
   "cell_type": "code",
   "execution_count": 23,
   "metadata": {},
   "outputs": [
    {
     "name": "stdout",
     "output_type": "stream",
     "text": [
      "              precision    recall  f1-score   support\n",
      "\n",
      "           0       1.00      1.00      1.00       234\n",
      "           1       1.00      1.00      1.00       744\n",
      "\n",
      "    accuracy                           1.00       978\n",
      "   macro avg       1.00      1.00      1.00       978\n",
      "weighted avg       1.00      1.00      1.00       978\n",
      "\n"
     ]
    }
   ],
   "source": [
    "print(metrics.classification_report(scaled_df_train[clf_target], clf_pred_train))"
   ]
  },
  {
   "cell_type": "code",
   "execution_count": 24,
   "metadata": {},
   "outputs": [
    {
     "name": "stdout",
     "output_type": "stream",
     "text": [
      "              precision    recall  f1-score   support\n",
      "\n",
      "           0       0.91      0.88      0.89       110\n",
      "           1       0.97      0.97      0.97       372\n",
      "\n",
      "    accuracy                           0.95       482\n",
      "   macro avg       0.94      0.93      0.93       482\n",
      "weighted avg       0.95      0.95      0.95       482\n",
      "\n"
     ]
    }
   ],
   "source": [
    "print(metrics.classification_report(scaled_df_test[clf_target], clf_pred_test))"
   ]
  },
  {
   "cell_type": "markdown",
   "metadata": {},
   "source": [
    "### fit regression"
   ]
  },
  {
   "cell_type": "code",
   "execution_count": 25,
   "metadata": {},
   "outputs": [],
   "source": [
    "scaled_df_train_0 = scaled_df_train[scaled_df_train[clf_target] == 0]\n",
    "scaled_df_train_1 = scaled_df_train[scaled_df_train[clf_target] == 1]\n",
    "\n",
    "clf_pred_test = clf.predict(scaled_df_test[catboost_features])\n",
    "scaled_df_test['clf_pred'] = clf_pred_test\n",
    "\n",
    "scaled_df_test_0 = scaled_df_test[scaled_df_test['clf_pred'] == 0]\n",
    "scaled_df_test_1 = scaled_df_test[scaled_df_test['clf_pred'] == 1]"
   ]
  },
  {
   "cell_type": "code",
   "execution_count": 26,
   "metadata": {},
   "outputs": [
    {
     "name": "stdout",
     "output_type": "stream",
     "text": [
      "train (234, 81) (744, 81)\n",
      "test (107, 82) (375, 82)\n"
     ]
    }
   ],
   "source": [
    "print(\"train\", scaled_df_train_0.shape, scaled_df_train_1.shape)\n",
    "print(\"test\", scaled_df_test_0.shape, scaled_df_test_1.shape)"
   ]
  },
  {
   "cell_type": "code",
   "execution_count": 27,
   "metadata": {},
   "outputs": [],
   "source": [
    "lr_0 = LinearRegression()\n",
    "lr_0.fit(scaled_df_train_0[linear_features], scaled_df_train_0[target])\n",
    "pred_train_0 = lr_0.predict(scaled_df_train_0[linear_features])\n",
    "pred_test_0 = lr_0.predict(scaled_df_test_0[linear_features])\n",
    "\n",
    "lr_1 = LinearRegression()\n",
    "lr_1.fit(scaled_df_train_1[linear_features], scaled_df_train_1[target])\n",
    "pred_train_1 = lr_1.predict(scaled_df_train_1[linear_features])\n",
    "pred_test_1 = lr_1.predict(scaled_df_test_1[linear_features])"
   ]
  },
  {
   "cell_type": "code",
   "execution_count": 28,
   "metadata": {},
   "outputs": [
    {
     "name": "stdout",
     "output_type": "stream",
     "text": [
      "segm_kmeans2_regression, -- Type Dataset - train\n",
      "R2 = 0.9509832536607408\n",
      "MSE = 296780505.0428542\n",
      "RMSE = 17227.31856798539\n",
      "MAE = 11952.573040269997\n",
      "MAPE = 0.0719617986417889\n",
      "segm_kmeans2_regression, -- Type Dataset - test\n",
      "R2 = 0.5537895653915883\n",
      "MSE = 3042412159.028908\n",
      "RMSE = 55158.06522195016\n",
      "MAE = 21401.074464344147\n",
      "MAPE = 0.12213480362514915\n"
     ]
    }
   ],
   "source": [
    "result_metrics = get_metrics(pd.concat([scaled_df_train_0[target], \n",
    "                                        scaled_df_train_1[target]]),\n",
    "                             np.hstack([pred_train_0, pred_train_1]),\n",
    "                              algorithm='segm_kmeans2_regression', dataset_type='train', \n",
    "                              res_df=result_metrics)\n",
    "\n",
    "result_metrics = get_metrics(pd.concat([scaled_df_test_0[target], \n",
    "                                        scaled_df_test_1[target]]),\n",
    "                             np.hstack([pred_test_0, pred_test_1]),\n",
    "                              algorithm='segm_kmeans2_regression', dataset_type='test', \n",
    "                              res_df=result_metrics)"
   ]
  },
  {
   "cell_type": "markdown",
   "metadata": {},
   "source": [
    "## fit k-means 3  clusters on target"
   ]
  },
  {
   "cell_type": "markdown",
   "metadata": {},
   "source": [
    "### clustering"
   ]
  },
  {
   "cell_type": "code",
   "execution_count": 29,
   "metadata": {},
   "outputs": [],
   "source": [
    "kmeans = KMeans(n_clusters=3, random_state=2025)\n",
    "kmeans.fit(scaled_df_train[[target]])\n",
    "\n",
    "scaled_df_train['kmeans'] = kmeans.predict(scaled_df_train[[target]])\n",
    "scaled_df_test['kmeans'] = kmeans.predict(scaled_df_test[[target]])\n",
    "\n",
    "kmeans_data = pd.concat([scaled_df_train, scaled_df_test])"
   ]
  },
  {
   "cell_type": "code",
   "execution_count": 30,
   "metadata": {},
   "outputs": [
    {
     "data": {
      "image/png": "[encoded data removed]",
      "text/plain": [
       "<Figure size 640x480 with 1 Axes>"
      ]
     },
     "metadata": {},
     "output_type": "display_data"
    }
   ],
   "source": [
    "plt.title('target dist')\n",
    "plt.grid(which='major')\n",
    "sns.histplot(data = kmeans_data, x=target, kde=True, hue='kmeans')\n",
    "plt.show()"
   ]
  },
  {
   "cell_type": "markdown",
   "metadata": {},
   "source": [
    "### fit clf"
   ]
  },
  {
   "cell_type": "code",
   "execution_count": 31,
   "metadata": {},
   "outputs": [],
   "source": [
    "clf = cat.CatBoostClassifier(random_state=2025, verbose=False)\n",
    "clf.fit(scaled_df_train[catboost_features], scaled_df_train[clf_target])\n",
    "\n",
    "clf_pred_train = clf.predict(scaled_df_train[catboost_features])\n",
    "clf_pred_test = clf.predict(scaled_df_test[catboost_features])"
   ]
  },
  {
   "cell_type": "code",
   "execution_count": 32,
   "metadata": {},
   "outputs": [
    {
     "name": "stdout",
     "output_type": "stream",
     "text": [
      "              precision    recall  f1-score   support\n",
      "\n",
      "           0       1.00      1.00      1.00       353\n",
      "           1       1.00      1.00      1.00       529\n",
      "           2       1.00      1.00      1.00        96\n",
      "\n",
      "    accuracy                           1.00       978\n",
      "   macro avg       1.00      1.00      1.00       978\n",
      "weighted avg       1.00      1.00      1.00       978\n",
      "\n"
     ]
    }
   ],
   "source": [
    "print(metrics.classification_report(scaled_df_train[clf_target], clf_pred_train))"
   ]
  },
  {
   "cell_type": "code",
   "execution_count": 33,
   "metadata": {},
   "outputs": [
    {
     "name": "stdout",
     "output_type": "stream",
     "text": [
      "              precision    recall  f1-score   support\n",
      "\n",
      "           0       0.85      0.87      0.86       178\n",
      "           1       0.93      0.94      0.94       263\n",
      "           2       0.82      0.68      0.75        41\n",
      "\n",
      "    accuracy                           0.89       482\n",
      "   macro avg       0.87      0.83      0.85       482\n",
      "weighted avg       0.89      0.89      0.89       482\n",
      "\n"
     ]
    }
   ],
   "source": [
    "print(metrics.classification_report(scaled_df_test[clf_target], clf_pred_test))"
   ]
  },
  {
   "cell_type": "markdown",
   "metadata": {},
   "source": [
    "### fit regression"
   ]
  },
  {
   "cell_type": "code",
   "execution_count": 34,
   "metadata": {},
   "outputs": [],
   "source": [
    "scaled_df_train_0 = scaled_df_train[scaled_df_train[clf_target] == 0]\n",
    "scaled_df_train_1 = scaled_df_train[scaled_df_train[clf_target] == 1]\n",
    "scaled_df_train_2 = scaled_df_train[scaled_df_train[clf_target] == 2]\n",
    "\n",
    "clf_pred_test = clf.predict(scaled_df_test[catboost_features])\n",
    "scaled_df_test['clf_pred'] = clf_pred_test\n",
    "\n",
    "scaled_df_test_0 = scaled_df_test[scaled_df_test['clf_pred'] == 0]\n",
    "scaled_df_test_1 = scaled_df_test[scaled_df_test['clf_pred'] == 1]\n",
    "scaled_df_test_2 = scaled_df_test[scaled_df_test['clf_pred'] == 2]"
   ]
  },
  {
   "cell_type": "code",
   "execution_count": 35,
   "metadata": {},
   "outputs": [
    {
     "name": "stdout",
     "output_type": "stream",
     "text": [
      "train (353, 81) (529, 81) (96, 81)\n",
      "test (182, 82) (266, 82) (34, 82)\n"
     ]
    }
   ],
   "source": [
    "print(\"train\", scaled_df_train_0.shape, scaled_df_train_1.shape, scaled_df_train_2.shape)\n",
    "print(\"test\", scaled_df_test_0.shape, scaled_df_test_1.shape, scaled_df_test_2.shape)"
   ]
  },
  {
   "cell_type": "code",
   "execution_count": 36,
   "metadata": {},
   "outputs": [],
   "source": [
    "lr_0 = LinearRegression()\n",
    "lr_0.fit(scaled_df_train_0[linear_features], scaled_df_train_0[target])\n",
    "pred_train_0 = lr_0.predict(scaled_df_train_0[linear_features])\n",
    "pred_test_0 = lr_0.predict(scaled_df_test_0[linear_features])\n",
    "\n",
    "lr_1 = LinearRegression()\n",
    "lr_1.fit(scaled_df_train_1[linear_features], scaled_df_train_1[target])\n",
    "pred_train_1 = lr_1.predict(scaled_df_train_1[linear_features])\n",
    "pred_test_1 = lr_1.predict(scaled_df_test_1[linear_features])\n",
    "\n",
    "lr_2 = LinearRegression()\n",
    "lr_2.fit(scaled_df_train_2[linear_features], scaled_df_train_2[target])\n",
    "pred_train_2 = lr_2.predict(scaled_df_train_2[linear_features])\n",
    "pred_test_2 = lr_2.predict(scaled_df_test_2[linear_features])"
   ]
  },
  {
   "cell_type": "code",
   "execution_count": 37,
   "metadata": {},
   "outputs": [
    {
     "name": "stdout",
     "output_type": "stream",
     "text": [
      "segm_kmeans3_regression, -- Type Dataset - train\n",
      "R2 = 0.9704650683156639\n",
      "MSE = 178824434.42931974\n",
      "RMSE = 13372.525357213563\n",
      "MAE = 9835.128432519276\n",
      "MAPE = 0.06145104886867666\n",
      "segm_kmeans3_regression, -- Type Dataset - test\n",
      "R2 = 0.424664449794687\n",
      "MSE = 3922830435.3804846\n",
      "RMSE = 62632.50302662735\n",
      "MAE = 21591.480881456773\n",
      "MAPE = 0.12372019094435982\n"
     ]
    }
   ],
   "source": [
    "result_metrics = get_metrics(pd.concat([scaled_df_train_0[target], \n",
    "                                        scaled_df_train_1[target],\n",
    "                                        scaled_df_train_2[target]]),\n",
    "                             np.hstack([pred_train_0, pred_train_1, pred_train_2]),\n",
    "                              algorithm='segm_kmeans3_regression', dataset_type='train', \n",
    "                              res_df=result_metrics)\n",
    "\n",
    "result_metrics = get_metrics(pd.concat([scaled_df_test_0[target], \n",
    "                                        scaled_df_test_1[target],\n",
    "                                        scaled_df_test_2[target]]),\n",
    "                             np.hstack([pred_test_0, pred_test_1, pred_test_2]),\n",
    "                              algorithm='segm_kmeans3_regression', dataset_type='test', \n",
    "                              res_df=result_metrics)"
   ]
  },
  {
   "cell_type": "markdown",
   "metadata": {},
   "source": [
    "## fit 2 clusters on features"
   ]
  },
  {
   "cell_type": "markdown",
   "metadata": {},
   "source": [
    "### clustering"
   ]
  },
  {
   "cell_type": "code",
   "execution_count": 38,
   "metadata": {},
   "outputs": [],
   "source": [
    "kmeans = KMeans(n_clusters=2, random_state=2025)\n",
    "kmeans.fit(scaled_df_train[linear_features])\n",
    "\n",
    "scaled_df_train['kmeans'] = kmeans.predict(scaled_df_train[linear_features])\n",
    "scaled_df_test['kmeans'] = kmeans.predict(scaled_df_test[linear_features])\n",
    "\n",
    "kmeans_data = pd.concat([scaled_df_train, scaled_df_test])"
   ]
  },
  {
   "cell_type": "code",
   "execution_count": 39,
   "metadata": {},
   "outputs": [
    {
     "data": {
      "image/png": "[encoded data removed]",
      "text/plain": [
       "<Figure size 640x480 with 1 Axes>"
      ]
     },
     "metadata": {},
     "output_type": "display_data"
    }
   ],
   "source": [
    "plt.title('target dist')\n",
    "plt.grid(which='major')\n",
    "sns.histplot(data = kmeans_data, x=target, kde=True, hue='kmeans')\n",
    "plt.show()"
   ]
  },
  {
   "cell_type": "markdown",
   "metadata": {},
   "source": [
    "### fit clf"
   ]
  },
  {
   "cell_type": "code",
   "execution_count": 40,
   "metadata": {},
   "outputs": [],
   "source": [
    "clf = cat.CatBoostClassifier(random_state=2025, verbose=False)\n",
    "clf.fit(scaled_df_train[catboost_features], scaled_df_train[clf_target])\n",
    "\n",
    "clf_pred_train = clf.predict(scaled_df_train[catboost_features])\n",
    "clf_pred_test = clf.predict(scaled_df_test[catboost_features])"
   ]
  },
  {
   "cell_type": "code",
   "execution_count": 41,
   "metadata": {},
   "outputs": [
    {
     "name": "stdout",
     "output_type": "stream",
     "text": [
      "              precision    recall  f1-score   support\n",
      "\n",
      "           0       1.00      1.00      1.00       403\n",
      "           1       1.00      1.00      1.00       575\n",
      "\n",
      "    accuracy                           1.00       978\n",
      "   macro avg       1.00      1.00      1.00       978\n",
      "weighted avg       1.00      1.00      1.00       978\n",
      "\n"
     ]
    }
   ],
   "source": [
    "print(metrics.classification_report(scaled_df_train[clf_target], clf_pred_train))"
   ]
  },
  {
   "cell_type": "code",
   "execution_count": 42,
   "metadata": {},
   "outputs": [
    {
     "name": "stdout",
     "output_type": "stream",
     "text": [
      "              precision    recall  f1-score   support\n",
      "\n",
      "           0       0.97      0.95      0.96       190\n",
      "           1       0.97      0.98      0.97       292\n",
      "\n",
      "    accuracy                           0.97       482\n",
      "   macro avg       0.97      0.97      0.97       482\n",
      "weighted avg       0.97      0.97      0.97       482\n",
      "\n"
     ]
    }
   ],
   "source": [
    "print(metrics.classification_report(scaled_df_test[clf_target], clf_pred_test))"
   ]
  },
  {
   "cell_type": "markdown",
   "metadata": {},
   "source": [
    "### fit regression"
   ]
  },
  {
   "cell_type": "code",
   "execution_count": 43,
   "metadata": {},
   "outputs": [],
   "source": [
    "scaled_df_train_0 = scaled_df_train[scaled_df_train[clf_target] == 0]\n",
    "scaled_df_train_1 = scaled_df_train[scaled_df_train[clf_target] == 1]\n",
    "\n",
    "clf_pred_test = clf.predict(scaled_df_test[catboost_features])\n",
    "scaled_df_test['clf_pred'] = clf_pred_test\n",
    "\n",
    "scaled_df_test_0 = scaled_df_test[scaled_df_test['clf_pred'] == 0]\n",
    "scaled_df_test_1 = scaled_df_test[scaled_df_test['clf_pred'] == 1]"
   ]
  },
  {
   "cell_type": "code",
   "execution_count": 44,
   "metadata": {},
   "outputs": [
    {
     "name": "stdout",
     "output_type": "stream",
     "text": [
      "train (403, 81) (575, 81)\n",
      "test (185, 82) (297, 82)\n"
     ]
    }
   ],
   "source": [
    "print(\"train\", scaled_df_train_0.shape, scaled_df_train_1.shape)\n",
    "print(\"test\", scaled_df_test_0.shape, scaled_df_test_1.shape)"
   ]
  },
  {
   "cell_type": "code",
   "execution_count": 45,
   "metadata": {},
   "outputs": [],
   "source": [
    "lr_0 = LinearRegression()\n",
    "lr_0.fit(scaled_df_train_0[linear_features], scaled_df_train_0[target])\n",
    "pred_train_0 = lr_0.predict(scaled_df_train_0[linear_features])\n",
    "pred_test_0 = lr_0.predict(scaled_df_test_0[linear_features])\n",
    "\n",
    "lr_1 = LinearRegression()\n",
    "lr_1.fit(scaled_df_train_1[linear_features], scaled_df_train_1[target])\n",
    "pred_train_1 = lr_1.predict(scaled_df_train_1[linear_features])\n",
    "pred_test_1 = lr_1.predict(scaled_df_test_1[linear_features])"
   ]
  },
  {
   "cell_type": "code",
   "execution_count": 46,
   "metadata": {},
   "outputs": [
    {
     "name": "stdout",
     "output_type": "stream",
     "text": [
      "segm_kmeans2onFeatures_regression, -- Type Dataset - train\n",
      "R2 = 0.9275724418801174\n",
      "MSE = 438525379.2462195\n",
      "RMSE = 20940.997570464962\n",
      "MAE = 13481.471593760714\n",
      "MAPE = 0.07780029797350903\n",
      "segm_kmeans2onFeatures_regression, -- Type Dataset - test\n",
      "R2 = 0.7233752469289515\n",
      "MSE = 1886120195.6657732\n",
      "RMSE = 43429.48532582182\n",
      "MAE = 18805.716071667193\n",
      "MAPE = 0.11088689391514674\n"
     ]
    }
   ],
   "source": [
    "result_metrics = get_metrics(pd.concat([scaled_df_train_0[target], \n",
    "                                        scaled_df_train_1[target]]),\n",
    "                             np.hstack([pred_train_0, pred_train_1]),\n",
    "                              algorithm='segm_kmeans2onFeatures_regression', \n",
    "                              dataset_type='train', \n",
    "                              res_df=result_metrics)\n",
    "\n",
    "result_metrics = get_metrics(pd.concat([scaled_df_test_0[target], \n",
    "                                        scaled_df_test_1[target]]),\n",
    "                             np.hstack([pred_test_0, pred_test_1]),\n",
    "                              algorithm='segm_kmeans2onFeatures_regression', \n",
    "                              dataset_type='test', \n",
    "                              res_df=result_metrics)"
   ]
  },
  {
   "cell_type": "markdown",
   "metadata": {},
   "source": [
    "## fit 3 clusters on features"
   ]
  },
  {
   "cell_type": "markdown",
   "metadata": {},
   "source": [
    "### clustering"
   ]
  },
  {
   "cell_type": "code",
   "execution_count": 47,
   "metadata": {},
   "outputs": [],
   "source": [
    "kmeans = KMeans(n_clusters=3, random_state=2025)\n",
    "kmeans.fit(scaled_df_train[linear_features])\n",
    "\n",
    "scaled_df_train['kmeans'] = kmeans.predict(scaled_df_train[linear_features])\n",
    "scaled_df_test['kmeans'] = kmeans.predict(scaled_df_test[linear_features])\n",
    "\n",
    "kmeans_data = pd.concat([scaled_df_train, scaled_df_test])"
   ]
  },
  {
   "cell_type": "code",
   "execution_count": 48,
   "metadata": {},
   "outputs": [
    {
     "data": {
      "image/png": "[encoded data removed]",
      "text/plain": [
       "<Figure size 640x480 with 1 Axes>"
      ]
     },
     "metadata": {},
     "output_type": "display_data"
    }
   ],
   "source": [
    "plt.title('target dist')\n",
    "plt.grid(which='major')\n",
    "sns.histplot(data = kmeans_data, x=target, kde=True, hue='kmeans')\n",
    "plt.show()"
   ]
  },
  {
   "cell_type": "markdown",
   "metadata": {},
   "source": [
    "### fit clf"
   ]
  },
  {
   "cell_type": "code",
   "execution_count": 49,
   "metadata": {},
   "outputs": [],
   "source": [
    "clf = cat.CatBoostClassifier(random_state=2025, verbose=False)\n",
    "clf.fit(scaled_df_train[catboost_features], scaled_df_train[clf_target])\n",
    "\n",
    "clf_pred_train = clf.predict(scaled_df_train[catboost_features])\n",
    "clf_pred_test = clf.predict(scaled_df_test[catboost_features])"
   ]
  },
  {
   "cell_type": "code",
   "execution_count": 50,
   "metadata": {},
   "outputs": [
    {
     "name": "stdout",
     "output_type": "stream",
     "text": [
      "              precision    recall  f1-score   support\n",
      "\n",
      "           0       1.00      1.00      1.00       373\n",
      "           1       1.00      1.00      1.00       427\n",
      "           2       1.00      1.00      1.00       178\n",
      "\n",
      "    accuracy                           1.00       978\n",
      "   macro avg       1.00      1.00      1.00       978\n",
      "weighted avg       1.00      1.00      1.00       978\n",
      "\n"
     ]
    }
   ],
   "source": [
    "print(metrics.classification_report(scaled_df_train[clf_target], clf_pred_train))"
   ]
  },
  {
   "cell_type": "code",
   "execution_count": 51,
   "metadata": {},
   "outputs": [
    {
     "name": "stdout",
     "output_type": "stream",
     "text": [
      "              precision    recall  f1-score   support\n",
      "\n",
      "           0       0.98      0.98      0.98       177\n",
      "           1       0.97      0.92      0.94       218\n",
      "           2       0.87      0.97      0.91        87\n",
      "\n",
      "    accuracy                           0.95       482\n",
      "   macro avg       0.94      0.95      0.94       482\n",
      "weighted avg       0.95      0.95      0.95       482\n",
      "\n"
     ]
    }
   ],
   "source": [
    "print(metrics.classification_report(scaled_df_test[clf_target], clf_pred_test))"
   ]
  },
  {
   "cell_type": "markdown",
   "metadata": {},
   "source": [
    "### fit regression"
   ]
  },
  {
   "cell_type": "code",
   "execution_count": 52,
   "metadata": {},
   "outputs": [],
   "source": [
    "scaled_df_train_0 = scaled_df_train[scaled_df_train[clf_target] == 0]\n",
    "scaled_df_train_1 = scaled_df_train[scaled_df_train[clf_target] == 1]\n",
    "scaled_df_train_2 = scaled_df_train[scaled_df_train[clf_target] == 2]\n",
    "\n",
    "clf_pred_test = clf.predict(scaled_df_test[catboost_features])\n",
    "scaled_df_test['clf_pred'] = clf_pred_test\n",
    "\n",
    "scaled_df_test_0 = scaled_df_test[scaled_df_test['clf_pred'] == 0]\n",
    "scaled_df_test_1 = scaled_df_test[scaled_df_test['clf_pred'] == 1]\n",
    "scaled_df_test_2 = scaled_df_test[scaled_df_test['clf_pred'] == 2]"
   ]
  },
  {
   "cell_type": "code",
   "execution_count": 53,
   "metadata": {},
   "outputs": [
    {
     "name": "stdout",
     "output_type": "stream",
     "text": [
      "train (373, 81) (427, 81) (178, 81)\n",
      "test (177, 82) (208, 82) (97, 82)\n"
     ]
    }
   ],
   "source": [
    "print(\"train\", scaled_df_train_0.shape, scaled_df_train_1.shape, scaled_df_train_2.shape)\n",
    "print(\"test\", scaled_df_test_0.shape, scaled_df_test_1.shape, scaled_df_test_2.shape)"
   ]
  },
  {
   "cell_type": "code",
   "execution_count": 54,
   "metadata": {},
   "outputs": [],
   "source": [
    "lr_0 = LinearRegression()\n",
    "lr_0.fit(scaled_df_train_0[linear_features], scaled_df_train_0[target])\n",
    "pred_train_0 = lr_0.predict(scaled_df_train_0[linear_features])\n",
    "pred_test_0 = lr_0.predict(scaled_df_test_0[linear_features])\n",
    "\n",
    "lr_1 = LinearRegression()\n",
    "lr_1.fit(scaled_df_train_1[linear_features], scaled_df_train_1[target])\n",
    "pred_train_1 = lr_1.predict(scaled_df_train_1[linear_features])\n",
    "pred_test_1 = lr_1.predict(scaled_df_test_1[linear_features])\n",
    "\n",
    "lr_2 = LinearRegression()\n",
    "lr_2.fit(scaled_df_train_2[linear_features], scaled_df_train_2[target])\n",
    "pred_train_2 = lr_2.predict(scaled_df_train_2[linear_features])\n",
    "pred_test_2 = lr_2.predict(scaled_df_test_2[linear_features])"
   ]
  },
  {
   "cell_type": "code",
   "execution_count": 55,
   "metadata": {},
   "outputs": [
    {
     "name": "stdout",
     "output_type": "stream",
     "text": [
      "segm_kmeans3onFeatures_regression, -- Type Dataset - train\n",
      "R2 = 0.9313830711717795\n",
      "MSE = 415453254.50984615\n",
      "RMSE = 20382.670445990294\n",
      "MAE = 13045.146758151712\n",
      "MAPE = 0.074072209730578\n",
      "segm_kmeans3onFeatures_regression, -- Type Dataset - test\n",
      "R2 = 0.6996447036949175\n",
      "MSE = 2047922985.7303898\n",
      "RMSE = 45253.983092434966\n",
      "MAE = 19518.449245079086\n",
      "MAPE = 0.1161370948945208\n"
     ]
    }
   ],
   "source": [
    "result_metrics = get_metrics(pd.concat([scaled_df_train_0[target], \n",
    "                                        scaled_df_train_1[target],\n",
    "                                        scaled_df_train_2[target]]),\n",
    "                             np.hstack([pred_train_0, pred_train_1, pred_train_2]),\n",
    "                              algorithm='segm_kmeans3onFeatures_regression',\n",
    "                               dataset_type='train', \n",
    "                              res_df=result_metrics)\n",
    "\n",
    "result_metrics = get_metrics(pd.concat([scaled_df_test_0[target], \n",
    "                                        scaled_df_test_1[target],\n",
    "                                        scaled_df_test_2[target]]),\n",
    "                             np.hstack([pred_test_0, pred_test_1, pred_test_2]),\n",
    "                              algorithm='segm_kmeans3onFeatures_regression',\n",
    "                               dataset_type='test', \n",
    "                              res_df=result_metrics)"
   ]
  },
  {
   "cell_type": "markdown",
   "metadata": {},
   "source": [
    "# Catboost"
   ]
  },
  {
   "cell_type": "code",
   "execution_count": 56,
   "metadata": {},
   "outputs": [],
   "source": [
    "catboost_features = num_features+cat_features"
   ]
  },
  {
   "cell_type": "code",
   "execution_count": 58,
   "metadata": {},
   "outputs": [
    {
     "data": {
      "text/plain": [
       "<catboost.core.CatBoostRegressor at 0x14c6d7e90>"
      ]
     },
     "execution_count": 58,
     "metadata": {},
     "output_type": "execute_result"
    }
   ],
   "source": [
    "cat_model = cat.CatBoostRegressor(random_seed = 2025, verbose=False)\n",
    "cat_model.fit(df_train[catboost_features], df_train[target])"
   ]
  },
  {
   "cell_type": "code",
   "execution_count": 59,
   "metadata": {},
   "outputs": [],
   "source": [
    "y_train_pred = cat_model.predict(df_train[catboost_features])\n",
    "y_test_pred = cat_model.predict(df_test[catboost_features])"
   ]
  },
  {
   "cell_type": "code",
   "execution_count": 60,
   "metadata": {},
   "outputs": [
    {
     "name": "stdout",
     "output_type": "stream",
     "text": [
      "catboost_regression, -- Type Dataset - train\n",
      "R2 = 0.9960985416106938\n",
      "MSE = 23622065.470604163\n",
      "RMSE = 4860.253642620328\n",
      "MAE = 3750.7653330531743\n",
      "MAPE = 0.023868522673982484\n"
     ]
    }
   ],
   "source": [
    "result_metrics = get_metrics(df_train[target], y_train_pred,\n",
    "                              algorithm='catboost_regression', dataset_type='train', \n",
    "                              res_df=result_metrics)"
   ]
  },
  {
   "cell_type": "code",
   "execution_count": 61,
   "metadata": {},
   "outputs": [
    {
     "name": "stdout",
     "output_type": "stream",
     "text": [
      "catboost_regression, -- Type Dataset - test\n",
      "R2 = 0.894464334978547\n",
      "MSE = 719577503.2788028\n",
      "RMSE = 26824.9418131485\n",
      "MAE = 15294.219810183215\n",
      "MAPE = 0.09035107270043484\n"
     ]
    }
   ],
   "source": [
    "result_metrics = get_metrics(df_test[target], y_test_pred,\n",
    "                              algorithm='catboost_regression', dataset_type='test', \n",
    "                              res_df=result_metrics)"
   ]
  },
  {
   "cell_type": "code",
   "execution_count": 62,
   "metadata": {},
   "outputs": [
    {
     "data": {
      "text/html": [
       "<div>\n",
       "<style scoped>\n",
       "    .dataframe tbody tr th:only-of-type {\n",
       "        vertical-align: middle;\n",
       "    }\n",
       "\n",
       "    .dataframe tbody tr th {\n",
       "        vertical-align: top;\n",
       "    }\n",
       "\n",
       "    .dataframe thead th {\n",
       "        text-align: right;\n",
       "    }\n",
       "</style>\n",
       "<table border=\"1\" class=\"dataframe\">\n",
       "  <thead>\n",
       "    <tr style=\"text-align: right;\">\n",
       "      <th></th>\n",
       "      <th>algorithm</th>\n",
       "      <th>dataset_type</th>\n",
       "      <th>R2</th>\n",
       "      <th>MSE</th>\n",
       "      <th>RMSE</th>\n",
       "      <th>MAE</th>\n",
       "      <th>MAPE</th>\n",
       "    </tr>\n",
       "  </thead>\n",
       "  <tbody>\n",
       "    <tr>\n",
       "      <th>0</th>\n",
       "      <td>simple_regression</td>\n",
       "      <td>train</td>\n",
       "      <td>0.896746</td>\n",
       "      <td>6.251670e+08</td>\n",
       "      <td>25003.340367</td>\n",
       "      <td>16433.809715</td>\n",
       "      <td>0.097753</td>\n",
       "    </tr>\n",
       "    <tr>\n",
       "      <th>0</th>\n",
       "      <td>segm_kmeans2_regression</td>\n",
       "      <td>train</td>\n",
       "      <td>0.950983</td>\n",
       "      <td>2.967805e+08</td>\n",
       "      <td>17227.318568</td>\n",
       "      <td>11952.573040</td>\n",
       "      <td>0.071962</td>\n",
       "    </tr>\n",
       "    <tr>\n",
       "      <th>0</th>\n",
       "      <td>segm_kmeans3_regression</td>\n",
       "      <td>train</td>\n",
       "      <td>0.970465</td>\n",
       "      <td>1.788244e+08</td>\n",
       "      <td>13372.525357</td>\n",
       "      <td>9835.128433</td>\n",
       "      <td>0.061451</td>\n",
       "    </tr>\n",
       "    <tr>\n",
       "      <th>0</th>\n",
       "      <td>segm_kmeans2onFeatures_regression</td>\n",
       "      <td>train</td>\n",
       "      <td>0.927572</td>\n",
       "      <td>4.385254e+08</td>\n",
       "      <td>20940.997570</td>\n",
       "      <td>13481.471594</td>\n",
       "      <td>0.077800</td>\n",
       "    </tr>\n",
       "    <tr>\n",
       "      <th>0</th>\n",
       "      <td>segm_kmeans3onFeatures_regression</td>\n",
       "      <td>train</td>\n",
       "      <td>0.931383</td>\n",
       "      <td>4.154533e+08</td>\n",
       "      <td>20382.670446</td>\n",
       "      <td>13045.146758</td>\n",
       "      <td>0.074072</td>\n",
       "    </tr>\n",
       "    <tr>\n",
       "      <th>0</th>\n",
       "      <td>catboost_regression</td>\n",
       "      <td>train</td>\n",
       "      <td>0.996099</td>\n",
       "      <td>2.362207e+07</td>\n",
       "      <td>4860.253643</td>\n",
       "      <td>3750.765333</td>\n",
       "      <td>0.023869</td>\n",
       "    </tr>\n",
       "  </tbody>\n",
       "</table>\n",
       "</div>"
      ],
      "text/plain": [
       "                           algorithm dataset_type        R2           MSE  \\\n",
       "0                  simple_regression        train  0.896746  6.251670e+08   \n",
       "0            segm_kmeans2_regression        train  0.950983  2.967805e+08   \n",
       "0            segm_kmeans3_regression        train  0.970465  1.788244e+08   \n",
       "0  segm_kmeans2onFeatures_regression        train  0.927572  4.385254e+08   \n",
       "0  segm_kmeans3onFeatures_regression        train  0.931383  4.154533e+08   \n",
       "0                catboost_regression        train  0.996099  2.362207e+07   \n",
       "\n",
       "           RMSE           MAE      MAPE  \n",
       "0  25003.340367  16433.809715  0.097753  \n",
       "0  17227.318568  11952.573040  0.071962  \n",
       "0  13372.525357   9835.128433  0.061451  \n",
       "0  20940.997570  13481.471594  0.077800  \n",
       "0  20382.670446  13045.146758  0.074072  \n",
       "0   4860.253643   3750.765333  0.023869  "
      ]
     },
     "execution_count": 62,
     "metadata": {},
     "output_type": "execute_result"
    }
   ],
   "source": [
    "result_metrics.query('dataset_type == \"train\"')"
   ]
  },
  {
   "cell_type": "code",
   "execution_count": 63,
   "metadata": {},
   "outputs": [
    {
     "data": {
      "text/html": [
       "<div>\n",
       "<style scoped>\n",
       "    .dataframe tbody tr th:only-of-type {\n",
       "        vertical-align: middle;\n",
       "    }\n",
       "\n",
       "    .dataframe tbody tr th {\n",
       "        vertical-align: top;\n",
       "    }\n",
       "\n",
       "    .dataframe thead th {\n",
       "        text-align: right;\n",
       "    }\n",
       "</style>\n",
       "<table border=\"1\" class=\"dataframe\">\n",
       "  <thead>\n",
       "    <tr style=\"text-align: right;\">\n",
       "      <th></th>\n",
       "      <th>algorithm</th>\n",
       "      <th>dataset_type</th>\n",
       "      <th>R2</th>\n",
       "      <th>MSE</th>\n",
       "      <th>RMSE</th>\n",
       "      <th>MAE</th>\n",
       "      <th>MAPE</th>\n",
       "    </tr>\n",
       "  </thead>\n",
       "  <tbody>\n",
       "    <tr>\n",
       "      <th>0</th>\n",
       "      <td>simple_regression</td>\n",
       "      <td>test</td>\n",
       "      <td>0.773818</td>\n",
       "      <td>1.542185e+09</td>\n",
       "      <td>39270.666957</td>\n",
       "      <td>20354.338667</td>\n",
       "      <td>0.121213</td>\n",
       "    </tr>\n",
       "    <tr>\n",
       "      <th>0</th>\n",
       "      <td>segm_kmeans2_regression</td>\n",
       "      <td>test</td>\n",
       "      <td>0.553790</td>\n",
       "      <td>3.042412e+09</td>\n",
       "      <td>55158.065222</td>\n",
       "      <td>21401.074464</td>\n",
       "      <td>0.122135</td>\n",
       "    </tr>\n",
       "    <tr>\n",
       "      <th>0</th>\n",
       "      <td>segm_kmeans3_regression</td>\n",
       "      <td>test</td>\n",
       "      <td>0.424664</td>\n",
       "      <td>3.922830e+09</td>\n",
       "      <td>62632.503027</td>\n",
       "      <td>21591.480881</td>\n",
       "      <td>0.123720</td>\n",
       "    </tr>\n",
       "    <tr>\n",
       "      <th>0</th>\n",
       "      <td>segm_kmeans2onFeatures_regression</td>\n",
       "      <td>test</td>\n",
       "      <td>0.723375</td>\n",
       "      <td>1.886120e+09</td>\n",
       "      <td>43429.485326</td>\n",
       "      <td>18805.716072</td>\n",
       "      <td>0.110887</td>\n",
       "    </tr>\n",
       "    <tr>\n",
       "      <th>0</th>\n",
       "      <td>segm_kmeans3onFeatures_regression</td>\n",
       "      <td>test</td>\n",
       "      <td>0.699645</td>\n",
       "      <td>2.047923e+09</td>\n",
       "      <td>45253.983092</td>\n",
       "      <td>19518.449245</td>\n",
       "      <td>0.116137</td>\n",
       "    </tr>\n",
       "    <tr>\n",
       "      <th>0</th>\n",
       "      <td>catboost_regression</td>\n",
       "      <td>test</td>\n",
       "      <td>0.894464</td>\n",
       "      <td>7.195775e+08</td>\n",
       "      <td>26824.941813</td>\n",
       "      <td>15294.219810</td>\n",
       "      <td>0.090351</td>\n",
       "    </tr>\n",
       "  </tbody>\n",
       "</table>\n",
       "</div>"
      ],
      "text/plain": [
       "                           algorithm dataset_type        R2           MSE  \\\n",
       "0                  simple_regression         test  0.773818  1.542185e+09   \n",
       "0            segm_kmeans2_regression         test  0.553790  3.042412e+09   \n",
       "0            segm_kmeans3_regression         test  0.424664  3.922830e+09   \n",
       "0  segm_kmeans2onFeatures_regression         test  0.723375  1.886120e+09   \n",
       "0  segm_kmeans3onFeatures_regression         test  0.699645  2.047923e+09   \n",
       "0                catboost_regression         test  0.894464  7.195775e+08   \n",
       "\n",
       "           RMSE           MAE      MAPE  \n",
       "0  39270.666957  20354.338667  0.121213  \n",
       "0  55158.065222  21401.074464  0.122135  \n",
       "0  62632.503027  21591.480881  0.123720  \n",
       "0  43429.485326  18805.716072  0.110887  \n",
       "0  45253.983092  19518.449245  0.116137  \n",
       "0  26824.941813  15294.219810  0.090351  "
      ]
     },
     "execution_count": 63,
     "metadata": {},
     "output_type": "execute_result"
    }
   ],
   "source": [
    "result_metrics.query('dataset_type == \"test\"')"
   ]
  },
  {
   "cell_type": "code",
   "execution_count": null,
   "metadata": {},
   "outputs": [],
   "source": []
  }
 ],
 "metadata": {
  "kernelspec": {
   "display_name": ".venv",
   "language": "python",
   "name": "python3"
  },
  "language_info": {
   "codemirror_mode": {
    "name": "ipython",
    "version": 3
   },
   "file_extension": ".py",
   "mimetype": "text/x-python",
   "name": "python",
   "nbconvert_exporter": "python",
   "pygments_lexer": "ipython3",
   "version": "3.11.4"
  }
 },
 "nbformat": 4,
 "nbformat_minor": 2
}
