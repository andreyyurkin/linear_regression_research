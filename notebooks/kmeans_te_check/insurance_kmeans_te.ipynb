{
 "cells": [
  {
   "cell_type": "code",
   "execution_count": 1,
   "metadata": {},
   "outputs": [],
   "source": [
    "import pandas as pd\n",
    "import matplotlib.pyplot as plt\n",
    "import seaborn as sns\n",
    "import sklearn\n",
    "import catboost as cat\n",
    "import numpy as np\n",
    "from sklearn.linear_model import LinearRegression\n",
    "import sklearn.metrics as metrics\n",
    "from sklearn.model_selection import train_test_split\n",
    "from sklearn.preprocessing import MinMaxScaler, OneHotEncoder\n",
    "from category_encoders import TargetEncoder \n",
    "# from sklearn.ensemble import RandomForestClassifier\n",
    "from sklearn.cluster import KMeans"
   ]
  },
  {
   "cell_type": "code",
   "execution_count": 3,
   "metadata": {},
   "outputs": [],
   "source": [
    "df = pd.read_csv(\"../../datasets/insurance_dataset/insurance.csv\")\n",
    "target = \"charges\"\n",
    "\n",
    "num_features = list(df.select_dtypes(exclude='object'))\n",
    "num_features.remove(target)\n",
    "cat_features = list(df.select_dtypes(include='object'))\n",
    "catboost_features = num_features+cat_features"
   ]
  },
  {
   "cell_type": "code",
   "execution_count": 4,
   "metadata": {},
   "outputs": [
    {
     "data": {
      "text/plain": [
       "Index(['age', 'sex', 'bmi', 'children', 'smoker', 'region', 'charges'], dtype='object')"
      ]
     },
     "execution_count": 4,
     "metadata": {},
     "output_type": "execute_result"
    }
   ],
   "source": [
    "df.columns"
   ]
  },
  {
   "cell_type": "markdown",
   "metadata": {},
   "source": [
    "# Dataset preprocessing"
   ]
  },
  {
   "cell_type": "code",
   "execution_count": 5,
   "metadata": {},
   "outputs": [],
   "source": [
    "df.loc[:, num_features] = df.loc[:, num_features].fillna(0)\n",
    "df.loc[:, cat_features] = df.loc[:, cat_features].fillna('Other')"
   ]
  },
  {
   "cell_type": "code",
   "execution_count": 7,
   "metadata": {},
   "outputs": [],
   "source": [
    "X_train, X_test, y_train, y_test = train_test_split(\n",
    "    df[num_features+cat_features], \n",
    "    df[[target]], \n",
    "    test_size=0.33, random_state=2025)\n",
    "\n",
    "# 3. Кодирование категориальных признаков\n",
    "encoder = TargetEncoder(cols=cat_features)\n",
    "X_train_encoded = encoder.fit_transform(X_train, y_train)\n",
    "X_test_encoded = encoder.transform(X_test)\n",
    "\n",
    "scaler = MinMaxScaler()\n",
    "scaled_X_train_encoded = scaler.fit_transform(X_train_encoded)\n",
    "scaled_X_train_encoded = pd.DataFrame(scaled_X_train_encoded , columns=catboost_features)\n",
    "df_train = pd.concat([scaled_X_train_encoded.reset_index(drop=True), \n",
    "                      y_train.reset_index(drop=True)], axis=1)\n",
    "\n",
    "scaled_X_test_encoded = scaler.transform(X_test_encoded[catboost_features])\n",
    "scaled_X_test_encoded = pd.DataFrame(scaled_X_test_encoded , columns=catboost_features)\n",
    "df_test = pd.concat([scaled_X_test_encoded.reset_index(drop=True), \n",
    "                     y_test.reset_index(drop=True)], axis=1)"
   ]
  },
  {
   "cell_type": "code",
   "execution_count": 9,
   "metadata": {},
   "outputs": [],
   "source": [
    "linear_features = catboost_features"
   ]
  },
  {
   "cell_type": "code",
   "execution_count": 10,
   "metadata": {},
   "outputs": [],
   "source": [
    "scaler = MinMaxScaler()\n",
    "scaled_df_train = scaler.fit_transform(df_train[linear_features])\n",
    "scaled_df_train = pd.DataFrame(scaled_df_train, columns=linear_features)\n",
    "scaled_df_train = pd.concat([scaled_df_train, df_train[[target]]], axis=1)\n",
    "\n",
    "scaled_df_test = scaler.transform(df_test[linear_features])\n",
    "scaled_df_test = pd.DataFrame(scaled_df_test, columns=linear_features)\n",
    "scaled_df_test = pd.concat([scaled_df_test, df_test[[target]]], axis=1)"
   ]
  },
  {
   "cell_type": "markdown",
   "metadata": {},
   "source": [
    "# Simple Linear Regression"
   ]
  },
  {
   "cell_type": "code",
   "execution_count": 11,
   "metadata": {},
   "outputs": [],
   "source": [
    "result_metrics = pd.DataFrame(columns=[\n",
    "     'algorithm',\n",
    "     'dataset_type',\n",
    "     'R2',\n",
    "     'MSE',\n",
    "     'RMSE',\n",
    "     'MAE',\n",
    "     'MAPE'\n",
    "])"
   ]
  },
  {
   "cell_type": "code",
   "execution_count": 12,
   "metadata": {},
   "outputs": [],
   "source": [
    "def get_metrics(y_true, y_pred, algorithm, dataset_type, res_df=None):\n",
    "    res_df = res_df.copy()\n",
    "    \n",
    "    r2 = metrics.r2_score(y_true, y_pred)\n",
    "    mse = metrics.mean_squared_error(y_true, y_pred)\n",
    "    mae = metrics.mean_absolute_error(y_true, y_pred)\n",
    "    mape = metrics.mean_absolute_percentage_error(y_true, y_pred)\n",
    "\n",
    "    print(f\"{algorithm}, -- Type Dataset - {dataset_type}\")\n",
    "    print(f\"R2 = {r2}\")\n",
    "    print(f\"MSE = {mse}\")\n",
    "    print(f\"RMSE = {mse**0.5}\")\n",
    "    print(f\"MAE = {mae}\")\n",
    "    print(f\"MAPE = {mape}\")\n",
    "    \n",
    "    curr_res = [algorithm, dataset_type] + [r2, mse, mse**0.5, mae, mape]\n",
    "    res_df = pd.concat([res_df,\n",
    "                        pd.DataFrame([curr_res], columns=['algorithm',\n",
    "                                                            'dataset_type',\n",
    "                                                            'R2',\n",
    "                                                            'MSE',\n",
    "                                                            'RMSE',\n",
    "                                                            'MAE',\n",
    "                                                            'MAPE'])])\n",
    "    return res_df"
   ]
  },
  {
   "cell_type": "code",
   "execution_count": 13,
   "metadata": {},
   "outputs": [
    {
     "data": {
      "text/html": [
       "<style>#sk-container-id-1 {\n",
       "  /* Definition of color scheme common for light and dark mode */\n",
       "  --sklearn-color-text: #000;\n",
       "  --sklearn-color-text-muted: #666;\n",
       "  --sklearn-color-line: gray;\n",
       "  /* Definition of color scheme for unfitted estimators */\n",
       "  --sklearn-color-unfitted-level-0: #fff5e6;\n",
       "  --sklearn-color-unfitted-level-1: #f6e4d2;\n",
       "  --sklearn-color-unfitted-level-2: #ffe0b3;\n",
       "  --sklearn-color-unfitted-level-3: chocolate;\n",
       "  /* Definition of color scheme for fitted estimators */\n",
       "  --sklearn-color-fitted-level-0: #f0f8ff;\n",
       "  --sklearn-color-fitted-level-1: #d4ebff;\n",
       "  --sklearn-color-fitted-level-2: #b3dbfd;\n",
       "  --sklearn-color-fitted-level-3: cornflowerblue;\n",
       "\n",
       "  /* Specific color for light theme */\n",
       "  --sklearn-color-text-on-default-background: var(--sg-text-color, var(--theme-code-foreground, var(--jp-content-font-color1, black)));\n",
       "  --sklearn-color-background: var(--sg-background-color, var(--theme-background, var(--jp-layout-color0, white)));\n",
       "  --sklearn-color-border-box: var(--sg-text-color, var(--theme-code-foreground, var(--jp-content-font-color1, black)));\n",
       "  --sklearn-color-icon: #696969;\n",
       "\n",
       "  @media (prefers-color-scheme: dark) {\n",
       "    /* Redefinition of color scheme for dark theme */\n",
       "    --sklearn-color-text-on-default-background: var(--sg-text-color, var(--theme-code-foreground, var(--jp-content-font-color1, white)));\n",
       "    --sklearn-color-background: var(--sg-background-color, var(--theme-background, var(--jp-layout-color0, #111)));\n",
       "    --sklearn-color-border-box: var(--sg-text-color, var(--theme-code-foreground, var(--jp-content-font-color1, white)));\n",
       "    --sklearn-color-icon: #878787;\n",
       "  }\n",
       "}\n",
       "\n",
       "#sk-container-id-1 {\n",
       "  color: var(--sklearn-color-text);\n",
       "}\n",
       "\n",
       "#sk-container-id-1 pre {\n",
       "  padding: 0;\n",
       "}\n",
       "\n",
       "#sk-container-id-1 input.sk-hidden--visually {\n",
       "  border: 0;\n",
       "  clip: rect(1px 1px 1px 1px);\n",
       "  clip: rect(1px, 1px, 1px, 1px);\n",
       "  height: 1px;\n",
       "  margin: -1px;\n",
       "  overflow: hidden;\n",
       "  padding: 0;\n",
       "  position: absolute;\n",
       "  width: 1px;\n",
       "}\n",
       "\n",
       "#sk-container-id-1 div.sk-dashed-wrapped {\n",
       "  border: 1px dashed var(--sklearn-color-line);\n",
       "  margin: 0 0.4em 0.5em 0.4em;\n",
       "  box-sizing: border-box;\n",
       "  padding-bottom: 0.4em;\n",
       "  background-color: var(--sklearn-color-background);\n",
       "}\n",
       "\n",
       "#sk-container-id-1 div.sk-container {\n",
       "  /* jupyter's `normalize.less` sets `[hidden] { display: none; }`\n",
       "     but bootstrap.min.css set `[hidden] { display: none !important; }`\n",
       "     so we also need the `!important` here to be able to override the\n",
       "     default hidden behavior on the sphinx rendered scikit-learn.org.\n",
       "     See: https://github.com/scikit-learn/scikit-learn/issues/21755 */\n",
       "  display: inline-block !important;\n",
       "  position: relative;\n",
       "}\n",
       "\n",
       "#sk-container-id-1 div.sk-text-repr-fallback {\n",
       "  display: none;\n",
       "}\n",
       "\n",
       "div.sk-parallel-item,\n",
       "div.sk-serial,\n",
       "div.sk-item {\n",
       "  /* draw centered vertical line to link estimators */\n",
       "  background-image: linear-gradient(var(--sklearn-color-text-on-default-background), var(--sklearn-color-text-on-default-background));\n",
       "  background-size: 2px 100%;\n",
       "  background-repeat: no-repeat;\n",
       "  background-position: center center;\n",
       "}\n",
       "\n",
       "/* Parallel-specific style estimator block */\n",
       "\n",
       "#sk-container-id-1 div.sk-parallel-item::after {\n",
       "  content: \"\";\n",
       "  width: 100%;\n",
       "  border-bottom: 2px solid var(--sklearn-color-text-on-default-background);\n",
       "  flex-grow: 1;\n",
       "}\n",
       "\n",
       "#sk-container-id-1 div.sk-parallel {\n",
       "  display: flex;\n",
       "  align-items: stretch;\n",
       "  justify-content: center;\n",
       "  background-color: var(--sklearn-color-background);\n",
       "  position: relative;\n",
       "}\n",
       "\n",
       "#sk-container-id-1 div.sk-parallel-item {\n",
       "  display: flex;\n",
       "  flex-direction: column;\n",
       "}\n",
       "\n",
       "#sk-container-id-1 div.sk-parallel-item:first-child::after {\n",
       "  align-self: flex-end;\n",
       "  width: 50%;\n",
       "}\n",
       "\n",
       "#sk-container-id-1 div.sk-parallel-item:last-child::after {\n",
       "  align-self: flex-start;\n",
       "  width: 50%;\n",
       "}\n",
       "\n",
       "#sk-container-id-1 div.sk-parallel-item:only-child::after {\n",
       "  width: 0;\n",
       "}\n",
       "\n",
       "/* Serial-specific style estimator block */\n",
       "\n",
       "#sk-container-id-1 div.sk-serial {\n",
       "  display: flex;\n",
       "  flex-direction: column;\n",
       "  align-items: center;\n",
       "  background-color: var(--sklearn-color-background);\n",
       "  padding-right: 1em;\n",
       "  padding-left: 1em;\n",
       "}\n",
       "\n",
       "\n",
       "/* Toggleable style: style used for estimator/Pipeline/ColumnTransformer box that is\n",
       "clickable and can be expanded/collapsed.\n",
       "- Pipeline and ColumnTransformer use this feature and define the default style\n",
       "- Estimators will overwrite some part of the style using the `sk-estimator` class\n",
       "*/\n",
       "\n",
       "/* Pipeline and ColumnTransformer style (default) */\n",
       "\n",
       "#sk-container-id-1 div.sk-toggleable {\n",
       "  /* Default theme specific background. It is overwritten whether we have a\n",
       "  specific estimator or a Pipeline/ColumnTransformer */\n",
       "  background-color: var(--sklearn-color-background);\n",
       "}\n",
       "\n",
       "/* Toggleable label */\n",
       "#sk-container-id-1 label.sk-toggleable__label {\n",
       "  cursor: pointer;\n",
       "  display: flex;\n",
       "  width: 100%;\n",
       "  margin-bottom: 0;\n",
       "  padding: 0.5em;\n",
       "  box-sizing: border-box;\n",
       "  text-align: center;\n",
       "  align-items: start;\n",
       "  justify-content: space-between;\n",
       "  gap: 0.5em;\n",
       "}\n",
       "\n",
       "#sk-container-id-1 label.sk-toggleable__label .caption {\n",
       "  font-size: 0.6rem;\n",
       "  font-weight: lighter;\n",
       "  color: var(--sklearn-color-text-muted);\n",
       "}\n",
       "\n",
       "#sk-container-id-1 label.sk-toggleable__label-arrow:before {\n",
       "  /* Arrow on the left of the label */\n",
       "  content: \"▸\";\n",
       "  float: left;\n",
       "  margin-right: 0.25em;\n",
       "  color: var(--sklearn-color-icon);\n",
       "}\n",
       "\n",
       "#sk-container-id-1 label.sk-toggleable__label-arrow:hover:before {\n",
       "  color: var(--sklearn-color-text);\n",
       "}\n",
       "\n",
       "/* Toggleable content - dropdown */\n",
       "\n",
       "#sk-container-id-1 div.sk-toggleable__content {\n",
       "  max-height: 0;\n",
       "  max-width: 0;\n",
       "  overflow: hidden;\n",
       "  text-align: left;\n",
       "  /* unfitted */\n",
       "  background-color: var(--sklearn-color-unfitted-level-0);\n",
       "}\n",
       "\n",
       "#sk-container-id-1 div.sk-toggleable__content.fitted {\n",
       "  /* fitted */\n",
       "  background-color: var(--sklearn-color-fitted-level-0);\n",
       "}\n",
       "\n",
       "#sk-container-id-1 div.sk-toggleable__content pre {\n",
       "  margin: 0.2em;\n",
       "  border-radius: 0.25em;\n",
       "  color: var(--sklearn-color-text);\n",
       "  /* unfitted */\n",
       "  background-color: var(--sklearn-color-unfitted-level-0);\n",
       "}\n",
       "\n",
       "#sk-container-id-1 div.sk-toggleable__content.fitted pre {\n",
       "  /* unfitted */\n",
       "  background-color: var(--sklearn-color-fitted-level-0);\n",
       "}\n",
       "\n",
       "#sk-container-id-1 input.sk-toggleable__control:checked~div.sk-toggleable__content {\n",
       "  /* Expand drop-down */\n",
       "  max-height: 200px;\n",
       "  max-width: 100%;\n",
       "  overflow: auto;\n",
       "}\n",
       "\n",
       "#sk-container-id-1 input.sk-toggleable__control:checked~label.sk-toggleable__label-arrow:before {\n",
       "  content: \"▾\";\n",
       "}\n",
       "\n",
       "/* Pipeline/ColumnTransformer-specific style */\n",
       "\n",
       "#sk-container-id-1 div.sk-label input.sk-toggleable__control:checked~label.sk-toggleable__label {\n",
       "  color: var(--sklearn-color-text);\n",
       "  background-color: var(--sklearn-color-unfitted-level-2);\n",
       "}\n",
       "\n",
       "#sk-container-id-1 div.sk-label.fitted input.sk-toggleable__control:checked~label.sk-toggleable__label {\n",
       "  background-color: var(--sklearn-color-fitted-level-2);\n",
       "}\n",
       "\n",
       "/* Estimator-specific style */\n",
       "\n",
       "/* Colorize estimator box */\n",
       "#sk-container-id-1 div.sk-estimator input.sk-toggleable__control:checked~label.sk-toggleable__label {\n",
       "  /* unfitted */\n",
       "  background-color: var(--sklearn-color-unfitted-level-2);\n",
       "}\n",
       "\n",
       "#sk-container-id-1 div.sk-estimator.fitted input.sk-toggleable__control:checked~label.sk-toggleable__label {\n",
       "  /* fitted */\n",
       "  background-color: var(--sklearn-color-fitted-level-2);\n",
       "}\n",
       "\n",
       "#sk-container-id-1 div.sk-label label.sk-toggleable__label,\n",
       "#sk-container-id-1 div.sk-label label {\n",
       "  /* The background is the default theme color */\n",
       "  color: var(--sklearn-color-text-on-default-background);\n",
       "}\n",
       "\n",
       "/* On hover, darken the color of the background */\n",
       "#sk-container-id-1 div.sk-label:hover label.sk-toggleable__label {\n",
       "  color: var(--sklearn-color-text);\n",
       "  background-color: var(--sklearn-color-unfitted-level-2);\n",
       "}\n",
       "\n",
       "/* Label box, darken color on hover, fitted */\n",
       "#sk-container-id-1 div.sk-label.fitted:hover label.sk-toggleable__label.fitted {\n",
       "  color: var(--sklearn-color-text);\n",
       "  background-color: var(--sklearn-color-fitted-level-2);\n",
       "}\n",
       "\n",
       "/* Estimator label */\n",
       "\n",
       "#sk-container-id-1 div.sk-label label {\n",
       "  font-family: monospace;\n",
       "  font-weight: bold;\n",
       "  display: inline-block;\n",
       "  line-height: 1.2em;\n",
       "}\n",
       "\n",
       "#sk-container-id-1 div.sk-label-container {\n",
       "  text-align: center;\n",
       "}\n",
       "\n",
       "/* Estimator-specific */\n",
       "#sk-container-id-1 div.sk-estimator {\n",
       "  font-family: monospace;\n",
       "  border: 1px dotted var(--sklearn-color-border-box);\n",
       "  border-radius: 0.25em;\n",
       "  box-sizing: border-box;\n",
       "  margin-bottom: 0.5em;\n",
       "  /* unfitted */\n",
       "  background-color: var(--sklearn-color-unfitted-level-0);\n",
       "}\n",
       "\n",
       "#sk-container-id-1 div.sk-estimator.fitted {\n",
       "  /* fitted */\n",
       "  background-color: var(--sklearn-color-fitted-level-0);\n",
       "}\n",
       "\n",
       "/* on hover */\n",
       "#sk-container-id-1 div.sk-estimator:hover {\n",
       "  /* unfitted */\n",
       "  background-color: var(--sklearn-color-unfitted-level-2);\n",
       "}\n",
       "\n",
       "#sk-container-id-1 div.sk-estimator.fitted:hover {\n",
       "  /* fitted */\n",
       "  background-color: var(--sklearn-color-fitted-level-2);\n",
       "}\n",
       "\n",
       "/* Specification for estimator info (e.g. \"i\" and \"?\") */\n",
       "\n",
       "/* Common style for \"i\" and \"?\" */\n",
       "\n",
       ".sk-estimator-doc-link,\n",
       "a:link.sk-estimator-doc-link,\n",
       "a:visited.sk-estimator-doc-link {\n",
       "  float: right;\n",
       "  font-size: smaller;\n",
       "  line-height: 1em;\n",
       "  font-family: monospace;\n",
       "  background-color: var(--sklearn-color-background);\n",
       "  border-radius: 1em;\n",
       "  height: 1em;\n",
       "  width: 1em;\n",
       "  text-decoration: none !important;\n",
       "  margin-left: 0.5em;\n",
       "  text-align: center;\n",
       "  /* unfitted */\n",
       "  border: var(--sklearn-color-unfitted-level-1) 1pt solid;\n",
       "  color: var(--sklearn-color-unfitted-level-1);\n",
       "}\n",
       "\n",
       ".sk-estimator-doc-link.fitted,\n",
       "a:link.sk-estimator-doc-link.fitted,\n",
       "a:visited.sk-estimator-doc-link.fitted {\n",
       "  /* fitted */\n",
       "  border: var(--sklearn-color-fitted-level-1) 1pt solid;\n",
       "  color: var(--sklearn-color-fitted-level-1);\n",
       "}\n",
       "\n",
       "/* On hover */\n",
       "div.sk-estimator:hover .sk-estimator-doc-link:hover,\n",
       ".sk-estimator-doc-link:hover,\n",
       "div.sk-label-container:hover .sk-estimator-doc-link:hover,\n",
       ".sk-estimator-doc-link:hover {\n",
       "  /* unfitted */\n",
       "  background-color: var(--sklearn-color-unfitted-level-3);\n",
       "  color: var(--sklearn-color-background);\n",
       "  text-decoration: none;\n",
       "}\n",
       "\n",
       "div.sk-estimator.fitted:hover .sk-estimator-doc-link.fitted:hover,\n",
       ".sk-estimator-doc-link.fitted:hover,\n",
       "div.sk-label-container:hover .sk-estimator-doc-link.fitted:hover,\n",
       ".sk-estimator-doc-link.fitted:hover {\n",
       "  /* fitted */\n",
       "  background-color: var(--sklearn-color-fitted-level-3);\n",
       "  color: var(--sklearn-color-background);\n",
       "  text-decoration: none;\n",
       "}\n",
       "\n",
       "/* Span, style for the box shown on hovering the info icon */\n",
       ".sk-estimator-doc-link span {\n",
       "  display: none;\n",
       "  z-index: 9999;\n",
       "  position: relative;\n",
       "  font-weight: normal;\n",
       "  right: .2ex;\n",
       "  padding: .5ex;\n",
       "  margin: .5ex;\n",
       "  width: min-content;\n",
       "  min-width: 20ex;\n",
       "  max-width: 50ex;\n",
       "  color: var(--sklearn-color-text);\n",
       "  box-shadow: 2pt 2pt 4pt #999;\n",
       "  /* unfitted */\n",
       "  background: var(--sklearn-color-unfitted-level-0);\n",
       "  border: .5pt solid var(--sklearn-color-unfitted-level-3);\n",
       "}\n",
       "\n",
       ".sk-estimator-doc-link.fitted span {\n",
       "  /* fitted */\n",
       "  background: var(--sklearn-color-fitted-level-0);\n",
       "  border: var(--sklearn-color-fitted-level-3);\n",
       "}\n",
       "\n",
       ".sk-estimator-doc-link:hover span {\n",
       "  display: block;\n",
       "}\n",
       "\n",
       "/* \"?\"-specific style due to the `<a>` HTML tag */\n",
       "\n",
       "#sk-container-id-1 a.estimator_doc_link {\n",
       "  float: right;\n",
       "  font-size: 1rem;\n",
       "  line-height: 1em;\n",
       "  font-family: monospace;\n",
       "  background-color: var(--sklearn-color-background);\n",
       "  border-radius: 1rem;\n",
       "  height: 1rem;\n",
       "  width: 1rem;\n",
       "  text-decoration: none;\n",
       "  /* unfitted */\n",
       "  color: var(--sklearn-color-unfitted-level-1);\n",
       "  border: var(--sklearn-color-unfitted-level-1) 1pt solid;\n",
       "}\n",
       "\n",
       "#sk-container-id-1 a.estimator_doc_link.fitted {\n",
       "  /* fitted */\n",
       "  border: var(--sklearn-color-fitted-level-1) 1pt solid;\n",
       "  color: var(--sklearn-color-fitted-level-1);\n",
       "}\n",
       "\n",
       "/* On hover */\n",
       "#sk-container-id-1 a.estimator_doc_link:hover {\n",
       "  /* unfitted */\n",
       "  background-color: var(--sklearn-color-unfitted-level-3);\n",
       "  color: var(--sklearn-color-background);\n",
       "  text-decoration: none;\n",
       "}\n",
       "\n",
       "#sk-container-id-1 a.estimator_doc_link.fitted:hover {\n",
       "  /* fitted */\n",
       "  background-color: var(--sklearn-color-fitted-level-3);\n",
       "}\n",
       "</style><div id=\"sk-container-id-1\" class=\"sk-top-container\"><div class=\"sk-text-repr-fallback\"><pre>LinearRegression()</pre><b>In a Jupyter environment, please rerun this cell to show the HTML representation or trust the notebook. <br />On GitHub, the HTML representation is unable to render, please try loading this page with nbviewer.org.</b></div><div class=\"sk-container\" hidden><div class=\"sk-item\"><div class=\"sk-estimator fitted sk-toggleable\"><input class=\"sk-toggleable__control sk-hidden--visually\" id=\"sk-estimator-id-1\" type=\"checkbox\" checked><label for=\"sk-estimator-id-1\" class=\"sk-toggleable__label fitted sk-toggleable__label-arrow\"><div><div>LinearRegression</div></div><div><a class=\"sk-estimator-doc-link fitted\" rel=\"noreferrer\" target=\"_blank\" href=\"https://scikit-learn.org/1.6/modules/generated/sklearn.linear_model.LinearRegression.html\">?<span>Documentation for LinearRegression</span></a><span class=\"sk-estimator-doc-link fitted\">i<span>Fitted</span></span></div></label><div class=\"sk-toggleable__content fitted\"><pre>LinearRegression()</pre></div> </div></div></div></div>"
      ],
      "text/plain": [
       "LinearRegression()"
      ]
     },
     "execution_count": 13,
     "metadata": {},
     "output_type": "execute_result"
    }
   ],
   "source": [
    "simple_model = LinearRegression()\n",
    "simple_model.fit(scaled_df_train[linear_features], scaled_df_train[target])"
   ]
  },
  {
   "cell_type": "code",
   "execution_count": 14,
   "metadata": {},
   "outputs": [],
   "source": [
    "preds_train = simple_model.predict(scaled_df_train[linear_features])\n",
    "preds_test = simple_model.predict(scaled_df_test[linear_features])"
   ]
  },
  {
   "cell_type": "code",
   "execution_count": 15,
   "metadata": {},
   "outputs": [
    {
     "name": "stdout",
     "output_type": "stream",
     "text": [
      "simple_regression, -- Type Dataset - train\n",
      "R2 = 0.7593755691031159\n",
      "MSE = 34853716.01600166\n",
      "RMSE = 5903.703584700172\n",
      "MAE = 4046.188582614292\n",
      "MAPE = 0.3979386697850503\n"
     ]
    },
    {
     "name": "stderr",
     "output_type": "stream",
     "text": [
      "/var/folders/dy/q_kmpbjj54q1glfr1wthxzhw0000gn/T/ipykernel_10613/2903524573.py:17: FutureWarning: The behavior of DataFrame concatenation with empty or all-NA entries is deprecated. In a future version, this will no longer exclude empty or all-NA columns when determining the result dtypes. To retain the old behavior, exclude the relevant entries before the concat operation.\n",
      "  res_df = pd.concat([res_df,\n"
     ]
    }
   ],
   "source": [
    "result_metrics = get_metrics(scaled_df_train[target], preds_train, \n",
    "                              algorithm='simple_regression', dataset_type='train', \n",
    "                              res_df=result_metrics)"
   ]
  },
  {
   "cell_type": "code",
   "execution_count": 16,
   "metadata": {},
   "outputs": [
    {
     "name": "stdout",
     "output_type": "stream",
     "text": [
      "simple_regression, -- Type Dataset - test\n",
      "R2 = 0.7300822087293477\n",
      "MSE = 40400572.9751795\n",
      "RMSE = 6356.144505530023\n",
      "MAE = 4362.732313749529\n",
      "MAPE = 0.41156728286886124\n"
     ]
    }
   ],
   "source": [
    "result_metrics = get_metrics(scaled_df_test[target], preds_test, \n",
    "                              algorithm='simple_regression', dataset_type='test', \n",
    "                              res_df=result_metrics)"
   ]
  },
  {
   "cell_type": "code",
   "execution_count": 17,
   "metadata": {},
   "outputs": [
    {
     "data": {
      "text/html": [
       "<div>\n",
       "<style scoped>\n",
       "    .dataframe tbody tr th:only-of-type {\n",
       "        vertical-align: middle;\n",
       "    }\n",
       "\n",
       "    .dataframe tbody tr th {\n",
       "        vertical-align: top;\n",
       "    }\n",
       "\n",
       "    .dataframe thead th {\n",
       "        text-align: right;\n",
       "    }\n",
       "</style>\n",
       "<table border=\"1\" class=\"dataframe\">\n",
       "  <thead>\n",
       "    <tr style=\"text-align: right;\">\n",
       "      <th></th>\n",
       "      <th>algorithm</th>\n",
       "      <th>dataset_type</th>\n",
       "      <th>R2</th>\n",
       "      <th>MSE</th>\n",
       "      <th>RMSE</th>\n",
       "      <th>MAE</th>\n",
       "      <th>MAPE</th>\n",
       "    </tr>\n",
       "  </thead>\n",
       "  <tbody>\n",
       "    <tr>\n",
       "      <th>0</th>\n",
       "      <td>simple_regression</td>\n",
       "      <td>train</td>\n",
       "      <td>0.759376</td>\n",
       "      <td>3.485372e+07</td>\n",
       "      <td>5903.703585</td>\n",
       "      <td>4046.188583</td>\n",
       "      <td>0.397939</td>\n",
       "    </tr>\n",
       "    <tr>\n",
       "      <th>0</th>\n",
       "      <td>simple_regression</td>\n",
       "      <td>test</td>\n",
       "      <td>0.730082</td>\n",
       "      <td>4.040057e+07</td>\n",
       "      <td>6356.144506</td>\n",
       "      <td>4362.732314</td>\n",
       "      <td>0.411567</td>\n",
       "    </tr>\n",
       "  </tbody>\n",
       "</table>\n",
       "</div>"
      ],
      "text/plain": [
       "           algorithm dataset_type        R2           MSE         RMSE  \\\n",
       "0  simple_regression        train  0.759376  3.485372e+07  5903.703585   \n",
       "0  simple_regression         test  0.730082  4.040057e+07  6356.144506   \n",
       "\n",
       "           MAE      MAPE  \n",
       "0  4046.188583  0.397939  \n",
       "0  4362.732314  0.411567  "
      ]
     },
     "execution_count": 17,
     "metadata": {},
     "output_type": "execute_result"
    }
   ],
   "source": [
    "result_metrics"
   ]
  },
  {
   "cell_type": "markdown",
   "metadata": {},
   "source": [
    "# Combine with classifier after k-means"
   ]
  },
  {
   "cell_type": "markdown",
   "metadata": {},
   "source": [
    "## fit k-means 2 clusters on target"
   ]
  },
  {
   "cell_type": "markdown",
   "metadata": {},
   "source": [
    "### clustering"
   ]
  },
  {
   "cell_type": "code",
   "execution_count": 18,
   "metadata": {},
   "outputs": [],
   "source": [
    "kmeans = KMeans(n_clusters=2, random_state=2025)\n",
    "kmeans.fit(scaled_df_train[[target]])\n",
    "clf_target ='kmeans'\n",
    "\n",
    "scaled_df_train['kmeans'] = kmeans.predict(scaled_df_train[[target]])\n",
    "scaled_df_test['kmeans'] = kmeans.predict(scaled_df_test[[target]])\n",
    "\n",
    "kmeans_data = pd.concat([scaled_df_train, scaled_df_test])"
   ]
  },
  {
   "cell_type": "code",
   "execution_count": 19,
   "metadata": {},
   "outputs": [
    {
     "data": {
      "image/png": "[encoded data removed]",
      "text/plain": [
       "<Figure size 640x480 with 1 Axes>"
      ]
     },
     "metadata": {},
     "output_type": "display_data"
    }
   ],
   "source": [
    "plt.title('target dist')\n",
    "plt.grid(which='major')\n",
    "sns.histplot(data = kmeans_data, x=target, kde=True, hue='kmeans')\n",
    "plt.show()"
   ]
  },
  {
   "cell_type": "markdown",
   "metadata": {},
   "source": [
    "### fit clf"
   ]
  },
  {
   "cell_type": "code",
   "execution_count": 20,
   "metadata": {},
   "outputs": [],
   "source": [
    "clf = cat.CatBoostClassifier(random_state=2025, verbose=False)\n",
    "clf.fit(scaled_df_train[catboost_features], scaled_df_train[clf_target])\n",
    "\n",
    "clf_pred_train = clf.predict(scaled_df_train[catboost_features])\n",
    "clf_pred_test = clf.predict(scaled_df_test[catboost_features])"
   ]
  },
  {
   "cell_type": "code",
   "execution_count": 21,
   "metadata": {},
   "outputs": [
    {
     "name": "stdout",
     "output_type": "stream",
     "text": [
      "              precision    recall  f1-score   support\n",
      "\n",
      "           0       0.97      1.00      0.98       736\n",
      "           1       1.00      0.84      0.91       160\n",
      "\n",
      "    accuracy                           0.97       896\n",
      "   macro avg       0.98      0.92      0.95       896\n",
      "weighted avg       0.97      0.97      0.97       896\n",
      "\n"
     ]
    }
   ],
   "source": [
    "print(metrics.classification_report(scaled_df_train[clf_target], clf_pred_train))"
   ]
  },
  {
   "cell_type": "code",
   "execution_count": 22,
   "metadata": {},
   "outputs": [
    {
     "name": "stdout",
     "output_type": "stream",
     "text": [
      "              precision    recall  f1-score   support\n",
      "\n",
      "           0       0.95      0.99      0.97       360\n",
      "           1       0.97      0.76      0.85        82\n",
      "\n",
      "    accuracy                           0.95       442\n",
      "   macro avg       0.96      0.88      0.91       442\n",
      "weighted avg       0.95      0.95      0.95       442\n",
      "\n"
     ]
    }
   ],
   "source": [
    "print(metrics.classification_report(scaled_df_test[clf_target], clf_pred_test))"
   ]
  },
  {
   "cell_type": "markdown",
   "metadata": {},
   "source": [
    "### fit regression"
   ]
  },
  {
   "cell_type": "code",
   "execution_count": 23,
   "metadata": {},
   "outputs": [],
   "source": [
    "scaled_df_train_0 = scaled_df_train[scaled_df_train[clf_target] == 0]\n",
    "scaled_df_train_1 = scaled_df_train[scaled_df_train[clf_target] == 1]\n",
    "\n",
    "clf_pred_test = clf.predict(scaled_df_test[catboost_features])\n",
    "scaled_df_test['clf_pred'] = clf_pred_test\n",
    "\n",
    "scaled_df_test_0 = scaled_df_test[scaled_df_test['clf_pred'] == 0]\n",
    "scaled_df_test_1 = scaled_df_test[scaled_df_test['clf_pred'] == 1]"
   ]
  },
  {
   "cell_type": "code",
   "execution_count": 24,
   "metadata": {},
   "outputs": [
    {
     "name": "stdout",
     "output_type": "stream",
     "text": [
      "train (736, 8) (160, 8)\n",
      "test (378, 9) (64, 9)\n"
     ]
    }
   ],
   "source": [
    "print(\"train\", scaled_df_train_0.shape, scaled_df_train_1.shape)\n",
    "print(\"test\", scaled_df_test_0.shape, scaled_df_test_1.shape)"
   ]
  },
  {
   "cell_type": "code",
   "execution_count": 25,
   "metadata": {},
   "outputs": [],
   "source": [
    "lr_0 = LinearRegression()\n",
    "lr_0.fit(scaled_df_train_0[linear_features], scaled_df_train_0[target])\n",
    "pred_train_0 = lr_0.predict(scaled_df_train_0[linear_features])\n",
    "pred_test_0 = lr_0.predict(scaled_df_test_0[linear_features])\n",
    "\n",
    "lr_1 = LinearRegression()\n",
    "lr_1.fit(scaled_df_train_1[linear_features], scaled_df_train_1[target])\n",
    "pred_train_1 = lr_1.predict(scaled_df_train_1[linear_features])\n",
    "pred_test_1 = lr_1.predict(scaled_df_test_1[linear_features])"
   ]
  },
  {
   "cell_type": "code",
   "execution_count": 26,
   "metadata": {},
   "outputs": [
    {
     "name": "stdout",
     "output_type": "stream",
     "text": [
      "segm_kmeans2_regression, -- Type Dataset - train\n",
      "R2 = 0.927425012084914\n",
      "MSE = 10512265.979098108\n",
      "RMSE = 3242.262478439725\n",
      "MAE = 1716.2608142413867\n",
      "MAPE = 0.16170030521393894\n",
      "segm_kmeans2_regression, -- Type Dataset - test\n",
      "R2 = 0.8362767736495849\n",
      "MSE = 24505654.565279335\n",
      "RMSE = 4950.318632702277\n",
      "MAE = 2430.668465861961\n",
      "MAPE = 0.18164862074080995\n"
     ]
    }
   ],
   "source": [
    "result_metrics = get_metrics(pd.concat([scaled_df_train_0[target], \n",
    "                                        scaled_df_train_1[target]]),\n",
    "                             np.hstack([pred_train_0, pred_train_1]),\n",
    "                              algorithm='segm_kmeans2_regression', dataset_type='train', \n",
    "                              res_df=result_metrics)\n",
    "\n",
    "result_metrics = get_metrics(pd.concat([scaled_df_test_0[target], \n",
    "                                        scaled_df_test_1[target]]),\n",
    "                             np.hstack([pred_test_0, pred_test_1]),\n",
    "                              algorithm='segm_kmeans2_regression', dataset_type='test', \n",
    "                              res_df=result_metrics)"
   ]
  },
  {
   "cell_type": "markdown",
   "metadata": {},
   "source": [
    "## fit k-means 3  clusters on target"
   ]
  },
  {
   "cell_type": "markdown",
   "metadata": {},
   "source": [
    "### clustering"
   ]
  },
  {
   "cell_type": "code",
   "execution_count": 27,
   "metadata": {},
   "outputs": [],
   "source": [
    "kmeans = KMeans(n_clusters=3, random_state=2025)\n",
    "kmeans.fit(scaled_df_train[[target]])\n",
    "\n",
    "scaled_df_train['kmeans'] = kmeans.predict(scaled_df_train[[target]])\n",
    "scaled_df_test['kmeans'] = kmeans.predict(scaled_df_test[[target]])\n",
    "\n",
    "kmeans_data = pd.concat([scaled_df_train, scaled_df_test])"
   ]
  },
  {
   "cell_type": "code",
   "execution_count": 28,
   "metadata": {},
   "outputs": [
    {
     "data": {
      "image/png": "[encoded data removed]",
      "text/plain": [
       "<Figure size 640x480 with 1 Axes>"
      ]
     },
     "metadata": {},
     "output_type": "display_data"
    }
   ],
   "source": [
    "plt.title('target dist')\n",
    "plt.grid(which='major')\n",
    "sns.histplot(data = kmeans_data, x=target, kde=True, hue='kmeans')\n",
    "plt.show()"
   ]
  },
  {
   "cell_type": "markdown",
   "metadata": {},
   "source": [
    "### fit clf"
   ]
  },
  {
   "cell_type": "code",
   "execution_count": 29,
   "metadata": {},
   "outputs": [],
   "source": [
    "clf = cat.CatBoostClassifier(random_state=2025, verbose=False)\n",
    "clf.fit(scaled_df_train[catboost_features], scaled_df_train[clf_target])\n",
    "\n",
    "clf_pred_train = clf.predict(scaled_df_train[catboost_features])\n",
    "clf_pred_test = clf.predict(scaled_df_test[catboost_features])"
   ]
  },
  {
   "cell_type": "code",
   "execution_count": 30,
   "metadata": {},
   "outputs": [
    {
     "name": "stdout",
     "output_type": "stream",
     "text": [
      "              precision    recall  f1-score   support\n",
      "\n",
      "           0       1.00      1.00      1.00       517\n",
      "           1       1.00      1.00      1.00       119\n",
      "           2       1.00      0.99      1.00       260\n",
      "\n",
      "    accuracy                           1.00       896\n",
      "   macro avg       1.00      1.00      1.00       896\n",
      "weighted avg       1.00      1.00      1.00       896\n",
      "\n"
     ]
    }
   ],
   "source": [
    "print(metrics.classification_report(scaled_df_train[clf_target], clf_pred_train))"
   ]
  },
  {
   "cell_type": "code",
   "execution_count": 31,
   "metadata": {},
   "outputs": [
    {
     "name": "stdout",
     "output_type": "stream",
     "text": [
      "              precision    recall  f1-score   support\n",
      "\n",
      "           0       0.88      0.97      0.92       238\n",
      "           1       0.95      0.90      0.92        58\n",
      "           2       0.90      0.77      0.83       146\n",
      "\n",
      "    accuracy                           0.89       442\n",
      "   macro avg       0.91      0.88      0.89       442\n",
      "weighted avg       0.89      0.89      0.89       442\n",
      "\n"
     ]
    }
   ],
   "source": [
    "print(metrics.classification_report(scaled_df_test[clf_target], clf_pred_test))"
   ]
  },
  {
   "cell_type": "markdown",
   "metadata": {},
   "source": [
    "### fit regression"
   ]
  },
  {
   "cell_type": "code",
   "execution_count": 32,
   "metadata": {},
   "outputs": [],
   "source": [
    "scaled_df_train_0 = scaled_df_train[scaled_df_train[clf_target] == 0]\n",
    "scaled_df_train_1 = scaled_df_train[scaled_df_train[clf_target] == 1]\n",
    "scaled_df_train_2 = scaled_df_train[scaled_df_train[clf_target] == 2]\n",
    "\n",
    "clf_pred_test = clf.predict(scaled_df_test[catboost_features])\n",
    "scaled_df_test['clf_pred'] = clf_pred_test\n",
    "\n",
    "scaled_df_test_0 = scaled_df_test[scaled_df_test['clf_pred'] == 0]\n",
    "scaled_df_test_1 = scaled_df_test[scaled_df_test['clf_pred'] == 1]\n",
    "scaled_df_test_2 = scaled_df_test[scaled_df_test['clf_pred'] == 2]"
   ]
  },
  {
   "cell_type": "code",
   "execution_count": 33,
   "metadata": {},
   "outputs": [
    {
     "name": "stdout",
     "output_type": "stream",
     "text": [
      "train (517, 8) (119, 8) (260, 8)\n",
      "test (261, 9) (55, 9) (126, 9)\n"
     ]
    }
   ],
   "source": [
    "print(\"train\", scaled_df_train_0.shape, scaled_df_train_1.shape, scaled_df_train_2.shape)\n",
    "print(\"test\", scaled_df_test_0.shape, scaled_df_test_1.shape, scaled_df_test_2.shape)"
   ]
  },
  {
   "cell_type": "code",
   "execution_count": 34,
   "metadata": {},
   "outputs": [],
   "source": [
    "lr_0 = LinearRegression()\n",
    "lr_0.fit(scaled_df_train_0[linear_features], scaled_df_train_0[target])\n",
    "pred_train_0 = lr_0.predict(scaled_df_train_0[linear_features])\n",
    "pred_test_0 = lr_0.predict(scaled_df_test_0[linear_features])\n",
    "\n",
    "lr_1 = LinearRegression()\n",
    "lr_1.fit(scaled_df_train_1[linear_features], scaled_df_train_1[target])\n",
    "pred_train_1 = lr_1.predict(scaled_df_train_1[linear_features])\n",
    "pred_test_1 = lr_1.predict(scaled_df_test_1[linear_features])\n",
    "\n",
    "lr_2 = LinearRegression()\n",
    "lr_2.fit(scaled_df_train_2[linear_features], scaled_df_train_2[target])\n",
    "pred_train_2 = lr_2.predict(scaled_df_train_2[linear_features])\n",
    "pred_test_2 = lr_2.predict(scaled_df_test_2[linear_features])"
   ]
  },
  {
   "cell_type": "code",
   "execution_count": 35,
   "metadata": {},
   "outputs": [
    {
     "name": "stdout",
     "output_type": "stream",
     "text": [
      "segm_kmeans3_regression, -- Type Dataset - train\n",
      "R2 = 0.9487550437892068\n",
      "MSE = 7422675.845366763\n",
      "RMSE = 2724.458816970219\n",
      "MAE = 1411.1623658129508\n",
      "MAPE = 0.10851412481911729\n",
      "segm_kmeans3_regression, -- Type Dataset - test\n",
      "R2 = 0.8322594857113568\n",
      "MSE = 25106951.477745365\n",
      "RMSE = 5010.683733558262\n",
      "MAE = 2449.860534294695\n",
      "MAPE = 0.15792363196760908\n"
     ]
    }
   ],
   "source": [
    "result_metrics = get_metrics(pd.concat([scaled_df_train_0[target], \n",
    "                                        scaled_df_train_1[target],\n",
    "                                        scaled_df_train_2[target]]),\n",
    "                             np.hstack([pred_train_0, pred_train_1, pred_train_2]),\n",
    "                              algorithm='segm_kmeans3_regression', dataset_type='train', \n",
    "                              res_df=result_metrics)\n",
    "\n",
    "result_metrics = get_metrics(pd.concat([scaled_df_test_0[target], \n",
    "                                        scaled_df_test_1[target],\n",
    "                                        scaled_df_test_2[target]]),\n",
    "                             np.hstack([pred_test_0, pred_test_1, pred_test_2]),\n",
    "                              algorithm='segm_kmeans3_regression', dataset_type='test', \n",
    "                              res_df=result_metrics)"
   ]
  },
  {
   "cell_type": "markdown",
   "metadata": {},
   "source": [
    "## fit 2 clusters on features"
   ]
  },
  {
   "cell_type": "markdown",
   "metadata": {},
   "source": [
    "### clustering"
   ]
  },
  {
   "cell_type": "code",
   "execution_count": 36,
   "metadata": {},
   "outputs": [],
   "source": [
    "kmeans = KMeans(n_clusters=2, random_state=2025)\n",
    "kmeans.fit(scaled_df_train[linear_features])\n",
    "\n",
    "scaled_df_train['kmeans'] = kmeans.predict(scaled_df_train[linear_features])\n",
    "scaled_df_test['kmeans'] = kmeans.predict(scaled_df_test[linear_features])\n",
    "\n",
    "kmeans_data = pd.concat([scaled_df_train, scaled_df_test])"
   ]
  },
  {
   "cell_type": "code",
   "execution_count": 37,
   "metadata": {},
   "outputs": [
    {
     "data": {
      "image/png": "[encoded data removed]",
      "text/plain": [
       "<Figure size 640x480 with 1 Axes>"
      ]
     },
     "metadata": {},
     "output_type": "display_data"
    }
   ],
   "source": [
    "plt.title('target dist')\n",
    "plt.grid(which='major')\n",
    "sns.histplot(data = kmeans_data, x=target, kde=True, hue='kmeans')\n",
    "plt.show()"
   ]
  },
  {
   "cell_type": "markdown",
   "metadata": {},
   "source": [
    "### fit clf"
   ]
  },
  {
   "cell_type": "code",
   "execution_count": 38,
   "metadata": {},
   "outputs": [],
   "source": [
    "clf = cat.CatBoostClassifier(random_state=2025, verbose=False)\n",
    "clf.fit(scaled_df_train[catboost_features], scaled_df_train[clf_target])\n",
    "\n",
    "clf_pred_train = clf.predict(scaled_df_train[catboost_features])\n",
    "clf_pred_test = clf.predict(scaled_df_test[catboost_features])"
   ]
  },
  {
   "cell_type": "code",
   "execution_count": 39,
   "metadata": {},
   "outputs": [
    {
     "name": "stdout",
     "output_type": "stream",
     "text": [
      "              precision    recall  f1-score   support\n",
      "\n",
      "           0       1.00      1.00      1.00       444\n",
      "           1       1.00      1.00      1.00       452\n",
      "\n",
      "    accuracy                           1.00       896\n",
      "   macro avg       1.00      1.00      1.00       896\n",
      "weighted avg       1.00      1.00      1.00       896\n",
      "\n"
     ]
    }
   ],
   "source": [
    "print(metrics.classification_report(scaled_df_train[clf_target], clf_pred_train))"
   ]
  },
  {
   "cell_type": "code",
   "execution_count": 40,
   "metadata": {},
   "outputs": [
    {
     "name": "stdout",
     "output_type": "stream",
     "text": [
      "              precision    recall  f1-score   support\n",
      "\n",
      "           0       1.00      1.00      1.00       232\n",
      "           1       1.00      1.00      1.00       210\n",
      "\n",
      "    accuracy                           1.00       442\n",
      "   macro avg       1.00      1.00      1.00       442\n",
      "weighted avg       1.00      1.00      1.00       442\n",
      "\n"
     ]
    }
   ],
   "source": [
    "print(metrics.classification_report(scaled_df_test[clf_target], clf_pred_test))"
   ]
  },
  {
   "cell_type": "markdown",
   "metadata": {},
   "source": [
    "### fit regression"
   ]
  },
  {
   "cell_type": "code",
   "execution_count": 41,
   "metadata": {},
   "outputs": [],
   "source": [
    "scaled_df_train_0 = scaled_df_train[scaled_df_train[clf_target] == 0]\n",
    "scaled_df_train_1 = scaled_df_train[scaled_df_train[clf_target] == 1]\n",
    "\n",
    "clf_pred_test = clf.predict(scaled_df_test[catboost_features])\n",
    "scaled_df_test['clf_pred'] = clf_pred_test\n",
    "\n",
    "scaled_df_test_0 = scaled_df_test[scaled_df_test['clf_pred'] == 0]\n",
    "scaled_df_test_1 = scaled_df_test[scaled_df_test['clf_pred'] == 1]"
   ]
  },
  {
   "cell_type": "code",
   "execution_count": 42,
   "metadata": {},
   "outputs": [
    {
     "name": "stdout",
     "output_type": "stream",
     "text": [
      "train (444, 8) (452, 8)\n",
      "test (232, 9) (210, 9)\n"
     ]
    }
   ],
   "source": [
    "print(\"train\", scaled_df_train_0.shape, scaled_df_train_1.shape)\n",
    "print(\"test\", scaled_df_test_0.shape, scaled_df_test_1.shape)"
   ]
  },
  {
   "cell_type": "code",
   "execution_count": 43,
   "metadata": {},
   "outputs": [],
   "source": [
    "lr_0 = LinearRegression()\n",
    "lr_0.fit(scaled_df_train_0[linear_features], scaled_df_train_0[target])\n",
    "pred_train_0 = lr_0.predict(scaled_df_train_0[linear_features])\n",
    "pred_test_0 = lr_0.predict(scaled_df_test_0[linear_features])\n",
    "\n",
    "lr_1 = LinearRegression()\n",
    "lr_1.fit(scaled_df_train_1[linear_features], scaled_df_train_1[target])\n",
    "pred_train_1 = lr_1.predict(scaled_df_train_1[linear_features])\n",
    "pred_test_1 = lr_1.predict(scaled_df_test_1[linear_features])"
   ]
  },
  {
   "cell_type": "code",
   "execution_count": 44,
   "metadata": {},
   "outputs": [
    {
     "name": "stdout",
     "output_type": "stream",
     "text": [
      "segm_kmeans2onFeatures_regression, -- Type Dataset - train\n",
      "R2 = 0.7611047439229053\n",
      "MSE = 34603250.30939687\n",
      "RMSE = 5882.452746040283\n",
      "MAE = 4020.289872466939\n",
      "MAPE = 0.3955556680520586\n",
      "segm_kmeans2onFeatures_regression, -- Type Dataset - test\n",
      "R2 = 0.7305066537571208\n",
      "MSE = 40337043.17880048\n",
      "RMSE = 6351.145028953479\n",
      "MAE = 4341.408813597989\n",
      "MAPE = 0.41046931724013835\n"
     ]
    }
   ],
   "source": [
    "result_metrics = get_metrics(pd.concat([scaled_df_train_0[target], \n",
    "                                        scaled_df_train_1[target]]),\n",
    "                             np.hstack([pred_train_0, pred_train_1]),\n",
    "                              algorithm='segm_kmeans2onFeatures_regression', \n",
    "                              dataset_type='train', \n",
    "                              res_df=result_metrics)\n",
    "\n",
    "result_metrics = get_metrics(pd.concat([scaled_df_test_0[target], \n",
    "                                        scaled_df_test_1[target]]),\n",
    "                             np.hstack([pred_test_0, pred_test_1]),\n",
    "                              algorithm='segm_kmeans2onFeatures_regression', \n",
    "                              dataset_type='test', \n",
    "                              res_df=result_metrics)"
   ]
  },
  {
   "cell_type": "markdown",
   "metadata": {},
   "source": [
    "## fit 3 clusters on features"
   ]
  },
  {
   "cell_type": "markdown",
   "metadata": {},
   "source": [
    "### clustering"
   ]
  },
  {
   "cell_type": "code",
   "execution_count": 45,
   "metadata": {},
   "outputs": [],
   "source": [
    "kmeans = KMeans(n_clusters=3, random_state=2025)\n",
    "kmeans.fit(scaled_df_train[linear_features])\n",
    "\n",
    "scaled_df_train['kmeans'] = kmeans.predict(scaled_df_train[linear_features])\n",
    "scaled_df_test['kmeans'] = kmeans.predict(scaled_df_test[linear_features])\n",
    "\n",
    "kmeans_data = pd.concat([scaled_df_train, scaled_df_test])"
   ]
  },
  {
   "cell_type": "code",
   "execution_count": 46,
   "metadata": {},
   "outputs": [
    {
     "data": {
      "image/png": "[encoded data removed]",
      "text/plain": [
       "<Figure size 640x480 with 1 Axes>"
      ]
     },
     "metadata": {},
     "output_type": "display_data"
    }
   ],
   "source": [
    "plt.title('target dist')\n",
    "plt.grid(which='major')\n",
    "sns.histplot(data = kmeans_data, x=target, kde=True, hue='kmeans')\n",
    "plt.show()"
   ]
  },
  {
   "cell_type": "markdown",
   "metadata": {},
   "source": [
    "### fit clf"
   ]
  },
  {
   "cell_type": "code",
   "execution_count": 47,
   "metadata": {},
   "outputs": [],
   "source": [
    "clf = cat.CatBoostClassifier(random_state=2025, verbose=False)\n",
    "clf.fit(scaled_df_train[catboost_features], scaled_df_train[clf_target])\n",
    "\n",
    "clf_pred_train = clf.predict(scaled_df_train[catboost_features])\n",
    "clf_pred_test = clf.predict(scaled_df_test[catboost_features])"
   ]
  },
  {
   "cell_type": "code",
   "execution_count": 48,
   "metadata": {},
   "outputs": [
    {
     "name": "stdout",
     "output_type": "stream",
     "text": [
      "              precision    recall  f1-score   support\n",
      "\n",
      "           0       1.00      1.00      1.00       123\n",
      "           1       1.00      1.00      1.00       452\n",
      "           2       1.00      1.00      1.00       321\n",
      "\n",
      "    accuracy                           1.00       896\n",
      "   macro avg       1.00      1.00      1.00       896\n",
      "weighted avg       1.00      1.00      1.00       896\n",
      "\n"
     ]
    }
   ],
   "source": [
    "print(metrics.classification_report(scaled_df_train[clf_target], clf_pred_train))"
   ]
  },
  {
   "cell_type": "code",
   "execution_count": 49,
   "metadata": {},
   "outputs": [
    {
     "name": "stdout",
     "output_type": "stream",
     "text": [
      "              precision    recall  f1-score   support\n",
      "\n",
      "           0       1.00      1.00      1.00        66\n",
      "           1       1.00      1.00      1.00       210\n",
      "           2       1.00      1.00      1.00       166\n",
      "\n",
      "    accuracy                           1.00       442\n",
      "   macro avg       1.00      1.00      1.00       442\n",
      "weighted avg       1.00      1.00      1.00       442\n",
      "\n"
     ]
    }
   ],
   "source": [
    "print(metrics.classification_report(scaled_df_test[clf_target], clf_pred_test))"
   ]
  },
  {
   "cell_type": "markdown",
   "metadata": {},
   "source": [
    "### fit regression"
   ]
  },
  {
   "cell_type": "code",
   "execution_count": 50,
   "metadata": {},
   "outputs": [],
   "source": [
    "scaled_df_train_0 = scaled_df_train[scaled_df_train[clf_target] == 0]\n",
    "scaled_df_train_1 = scaled_df_train[scaled_df_train[clf_target] == 1]\n",
    "scaled_df_train_2 = scaled_df_train[scaled_df_train[clf_target] == 2]\n",
    "\n",
    "clf_pred_test = clf.predict(scaled_df_test[catboost_features])\n",
    "scaled_df_test['clf_pred'] = clf_pred_test\n",
    "\n",
    "scaled_df_test_0 = scaled_df_test[scaled_df_test['clf_pred'] == 0]\n",
    "scaled_df_test_1 = scaled_df_test[scaled_df_test['clf_pred'] == 1]\n",
    "scaled_df_test_2 = scaled_df_test[scaled_df_test['clf_pred'] == 2]"
   ]
  },
  {
   "cell_type": "code",
   "execution_count": 51,
   "metadata": {},
   "outputs": [
    {
     "name": "stdout",
     "output_type": "stream",
     "text": [
      "train (123, 8) (452, 8) (321, 8)\n",
      "test (66, 9) (210, 9) (166, 9)\n"
     ]
    }
   ],
   "source": [
    "print(\"train\", scaled_df_train_0.shape, scaled_df_train_1.shape, scaled_df_train_2.shape)\n",
    "print(\"test\", scaled_df_test_0.shape, scaled_df_test_1.shape, scaled_df_test_2.shape)"
   ]
  },
  {
   "cell_type": "code",
   "execution_count": 52,
   "metadata": {},
   "outputs": [],
   "source": [
    "lr_0 = LinearRegression()\n",
    "lr_0.fit(scaled_df_train_0[linear_features], scaled_df_train_0[target])\n",
    "pred_train_0 = lr_0.predict(scaled_df_train_0[linear_features])\n",
    "pred_test_0 = lr_0.predict(scaled_df_test_0[linear_features])\n",
    "\n",
    "lr_1 = LinearRegression()\n",
    "lr_1.fit(scaled_df_train_1[linear_features], scaled_df_train_1[target])\n",
    "pred_train_1 = lr_1.predict(scaled_df_train_1[linear_features])\n",
    "pred_test_1 = lr_1.predict(scaled_df_test_1[linear_features])\n",
    "\n",
    "lr_2 = LinearRegression()\n",
    "lr_2.fit(scaled_df_train_2[linear_features], scaled_df_train_2[target])\n",
    "pred_train_2 = lr_2.predict(scaled_df_train_2[linear_features])\n",
    "pred_test_2 = lr_2.predict(scaled_df_test_2[linear_features])"
   ]
  },
  {
   "cell_type": "code",
   "execution_count": 53,
   "metadata": {},
   "outputs": [
    {
     "name": "stdout",
     "output_type": "stream",
     "text": [
      "segm_kmeans3onFeatures_regression, -- Type Dataset - train\n",
      "R2 = 0.7636539699980684\n",
      "MSE = 34234002.67584134\n",
      "RMSE = 5850.983052089738\n",
      "MAE = 3997.393452913787\n",
      "MAPE = 0.3933036326008824\n",
      "segm_kmeans3onFeatures_regression, -- Type Dataset - test\n",
      "R2 = 0.7346458515993745\n",
      "MSE = 39717499.11800535\n",
      "RMSE = 6302.182091784191\n",
      "MAE = 4291.037934572649\n",
      "MAPE = 0.4129110201323689\n"
     ]
    }
   ],
   "source": [
    "result_metrics = get_metrics(pd.concat([scaled_df_train_0[target], \n",
    "                                        scaled_df_train_1[target],\n",
    "                                        scaled_df_train_2[target]]),\n",
    "                             np.hstack([pred_train_0, pred_train_1, pred_train_2]),\n",
    "                              algorithm='segm_kmeans3onFeatures_regression',\n",
    "                               dataset_type='train', \n",
    "                              res_df=result_metrics)\n",
    "\n",
    "result_metrics = get_metrics(pd.concat([scaled_df_test_0[target], \n",
    "                                        scaled_df_test_1[target],\n",
    "                                        scaled_df_test_2[target]]),\n",
    "                             np.hstack([pred_test_0, pred_test_1, pred_test_2]),\n",
    "                              algorithm='segm_kmeans3onFeatures_regression',\n",
    "                               dataset_type='test', \n",
    "                              res_df=result_metrics)"
   ]
  },
  {
   "cell_type": "markdown",
   "metadata": {},
   "source": [
    "# Catboost"
   ]
  },
  {
   "cell_type": "code",
   "execution_count": 54,
   "metadata": {},
   "outputs": [],
   "source": [
    "catboost_features = num_features+cat_features"
   ]
  },
  {
   "cell_type": "code",
   "execution_count": 56,
   "metadata": {},
   "outputs": [
    {
     "data": {
      "text/plain": [
       "<catboost.core.CatBoostRegressor at 0x16c07c1d0>"
      ]
     },
     "execution_count": 56,
     "metadata": {},
     "output_type": "execute_result"
    }
   ],
   "source": [
    "cat_model = cat.CatBoostRegressor(random_seed = 2025, verbose=False)\n",
    "cat_model.fit(df_train[catboost_features], df_train[target])"
   ]
  },
  {
   "cell_type": "code",
   "execution_count": 57,
   "metadata": {},
   "outputs": [],
   "source": [
    "y_train_pred = cat_model.predict(df_train[catboost_features])\n",
    "y_test_pred = cat_model.predict(df_test[catboost_features])"
   ]
  },
  {
   "cell_type": "code",
   "execution_count": 58,
   "metadata": {},
   "outputs": [
    {
     "name": "stdout",
     "output_type": "stream",
     "text": [
      "catboost_regression, -- Type Dataset - train\n",
      "R2 = 0.9576530448190317\n",
      "MSE = 6133827.494234419\n",
      "RMSE = 2476.6565151902714\n",
      "MAE = 1332.1079451810415\n",
      "MAPE = 0.1624102364180742\n"
     ]
    }
   ],
   "source": [
    "result_metrics = get_metrics(df_train[target], y_train_pred,\n",
    "                              algorithm='catboost_regression', dataset_type='train', \n",
    "                              res_df=result_metrics)"
   ]
  },
  {
   "cell_type": "code",
   "execution_count": 59,
   "metadata": {},
   "outputs": [
    {
     "name": "stdout",
     "output_type": "stream",
     "text": [
      "catboost_regression, -- Type Dataset - test\n",
      "R2 = 0.8342112133561761\n",
      "MSE = 24814822.104683284\n",
      "RMSE = 4981.447792026258\n",
      "MAE = 2760.243997441067\n",
      "MAPE = 0.27130479823841774\n"
     ]
    }
   ],
   "source": [
    "result_metrics = get_metrics(df_test[target], y_test_pred,\n",
    "                              algorithm='catboost_regression', dataset_type='test', \n",
    "                              res_df=result_metrics)"
   ]
  },
  {
   "cell_type": "code",
   "execution_count": 60,
   "metadata": {},
   "outputs": [
    {
     "data": {
      "text/html": [
       "<div>\n",
       "<style scoped>\n",
       "    .dataframe tbody tr th:only-of-type {\n",
       "        vertical-align: middle;\n",
       "    }\n",
       "\n",
       "    .dataframe tbody tr th {\n",
       "        vertical-align: top;\n",
       "    }\n",
       "\n",
       "    .dataframe thead th {\n",
       "        text-align: right;\n",
       "    }\n",
       "</style>\n",
       "<table border=\"1\" class=\"dataframe\">\n",
       "  <thead>\n",
       "    <tr style=\"text-align: right;\">\n",
       "      <th></th>\n",
       "      <th>algorithm</th>\n",
       "      <th>dataset_type</th>\n",
       "      <th>R2</th>\n",
       "      <th>MSE</th>\n",
       "      <th>RMSE</th>\n",
       "      <th>MAE</th>\n",
       "      <th>MAPE</th>\n",
       "    </tr>\n",
       "  </thead>\n",
       "  <tbody>\n",
       "    <tr>\n",
       "      <th>0</th>\n",
       "      <td>simple_regression</td>\n",
       "      <td>train</td>\n",
       "      <td>0.759376</td>\n",
       "      <td>3.485372e+07</td>\n",
       "      <td>5903.703585</td>\n",
       "      <td>4046.188583</td>\n",
       "      <td>0.397939</td>\n",
       "    </tr>\n",
       "    <tr>\n",
       "      <th>0</th>\n",
       "      <td>segm_kmeans2_regression</td>\n",
       "      <td>train</td>\n",
       "      <td>0.927425</td>\n",
       "      <td>1.051227e+07</td>\n",
       "      <td>3242.262478</td>\n",
       "      <td>1716.260814</td>\n",
       "      <td>0.161700</td>\n",
       "    </tr>\n",
       "    <tr>\n",
       "      <th>0</th>\n",
       "      <td>segm_kmeans3_regression</td>\n",
       "      <td>train</td>\n",
       "      <td>0.948755</td>\n",
       "      <td>7.422676e+06</td>\n",
       "      <td>2724.458817</td>\n",
       "      <td>1411.162366</td>\n",
       "      <td>0.108514</td>\n",
       "    </tr>\n",
       "    <tr>\n",
       "      <th>0</th>\n",
       "      <td>segm_kmeans2onFeatures_regression</td>\n",
       "      <td>train</td>\n",
       "      <td>0.761105</td>\n",
       "      <td>3.460325e+07</td>\n",
       "      <td>5882.452746</td>\n",
       "      <td>4020.289872</td>\n",
       "      <td>0.395556</td>\n",
       "    </tr>\n",
       "    <tr>\n",
       "      <th>0</th>\n",
       "      <td>segm_kmeans3onFeatures_regression</td>\n",
       "      <td>train</td>\n",
       "      <td>0.763654</td>\n",
       "      <td>3.423400e+07</td>\n",
       "      <td>5850.983052</td>\n",
       "      <td>3997.393453</td>\n",
       "      <td>0.393304</td>\n",
       "    </tr>\n",
       "    <tr>\n",
       "      <th>0</th>\n",
       "      <td>catboost_regression</td>\n",
       "      <td>train</td>\n",
       "      <td>0.957653</td>\n",
       "      <td>6.133827e+06</td>\n",
       "      <td>2476.656515</td>\n",
       "      <td>1332.107945</td>\n",
       "      <td>0.162410</td>\n",
       "    </tr>\n",
       "  </tbody>\n",
       "</table>\n",
       "</div>"
      ],
      "text/plain": [
       "                           algorithm dataset_type        R2           MSE  \\\n",
       "0                  simple_regression        train  0.759376  3.485372e+07   \n",
       "0            segm_kmeans2_regression        train  0.927425  1.051227e+07   \n",
       "0            segm_kmeans3_regression        train  0.948755  7.422676e+06   \n",
       "0  segm_kmeans2onFeatures_regression        train  0.761105  3.460325e+07   \n",
       "0  segm_kmeans3onFeatures_regression        train  0.763654  3.423400e+07   \n",
       "0                catboost_regression        train  0.957653  6.133827e+06   \n",
       "\n",
       "          RMSE          MAE      MAPE  \n",
       "0  5903.703585  4046.188583  0.397939  \n",
       "0  3242.262478  1716.260814  0.161700  \n",
       "0  2724.458817  1411.162366  0.108514  \n",
       "0  5882.452746  4020.289872  0.395556  \n",
       "0  5850.983052  3997.393453  0.393304  \n",
       "0  2476.656515  1332.107945  0.162410  "
      ]
     },
     "execution_count": 60,
     "metadata": {},
     "output_type": "execute_result"
    }
   ],
   "source": [
    "result_metrics.query('dataset_type == \"train\"')"
   ]
  },
  {
   "cell_type": "code",
   "execution_count": 61,
   "metadata": {},
   "outputs": [
    {
     "data": {
      "text/html": [
       "<div>\n",
       "<style scoped>\n",
       "    .dataframe tbody tr th:only-of-type {\n",
       "        vertical-align: middle;\n",
       "    }\n",
       "\n",
       "    .dataframe tbody tr th {\n",
       "        vertical-align: top;\n",
       "    }\n",
       "\n",
       "    .dataframe thead th {\n",
       "        text-align: right;\n",
       "    }\n",
       "</style>\n",
       "<table border=\"1\" class=\"dataframe\">\n",
       "  <thead>\n",
       "    <tr style=\"text-align: right;\">\n",
       "      <th></th>\n",
       "      <th>algorithm</th>\n",
       "      <th>dataset_type</th>\n",
       "      <th>R2</th>\n",
       "      <th>MSE</th>\n",
       "      <th>RMSE</th>\n",
       "      <th>MAE</th>\n",
       "      <th>MAPE</th>\n",
       "    </tr>\n",
       "  </thead>\n",
       "  <tbody>\n",
       "    <tr>\n",
       "      <th>0</th>\n",
       "      <td>simple_regression</td>\n",
       "      <td>test</td>\n",
       "      <td>0.730082</td>\n",
       "      <td>4.040057e+07</td>\n",
       "      <td>6356.144506</td>\n",
       "      <td>4362.732314</td>\n",
       "      <td>0.411567</td>\n",
       "    </tr>\n",
       "    <tr>\n",
       "      <th>0</th>\n",
       "      <td>segm_kmeans2_regression</td>\n",
       "      <td>test</td>\n",
       "      <td>0.836277</td>\n",
       "      <td>2.450565e+07</td>\n",
       "      <td>4950.318633</td>\n",
       "      <td>2430.668466</td>\n",
       "      <td>0.181649</td>\n",
       "    </tr>\n",
       "    <tr>\n",
       "      <th>0</th>\n",
       "      <td>segm_kmeans3_regression</td>\n",
       "      <td>test</td>\n",
       "      <td>0.832259</td>\n",
       "      <td>2.510695e+07</td>\n",
       "      <td>5010.683734</td>\n",
       "      <td>2449.860534</td>\n",
       "      <td>0.157924</td>\n",
       "    </tr>\n",
       "    <tr>\n",
       "      <th>0</th>\n",
       "      <td>segm_kmeans2onFeatures_regression</td>\n",
       "      <td>test</td>\n",
       "      <td>0.730507</td>\n",
       "      <td>4.033704e+07</td>\n",
       "      <td>6351.145029</td>\n",
       "      <td>4341.408814</td>\n",
       "      <td>0.410469</td>\n",
       "    </tr>\n",
       "    <tr>\n",
       "      <th>0</th>\n",
       "      <td>segm_kmeans3onFeatures_regression</td>\n",
       "      <td>test</td>\n",
       "      <td>0.734646</td>\n",
       "      <td>3.971750e+07</td>\n",
       "      <td>6302.182092</td>\n",
       "      <td>4291.037935</td>\n",
       "      <td>0.412911</td>\n",
       "    </tr>\n",
       "    <tr>\n",
       "      <th>0</th>\n",
       "      <td>catboost_regression</td>\n",
       "      <td>test</td>\n",
       "      <td>0.834211</td>\n",
       "      <td>2.481482e+07</td>\n",
       "      <td>4981.447792</td>\n",
       "      <td>2760.243997</td>\n",
       "      <td>0.271305</td>\n",
       "    </tr>\n",
       "  </tbody>\n",
       "</table>\n",
       "</div>"
      ],
      "text/plain": [
       "                           algorithm dataset_type        R2           MSE  \\\n",
       "0                  simple_regression         test  0.730082  4.040057e+07   \n",
       "0            segm_kmeans2_regression         test  0.836277  2.450565e+07   \n",
       "0            segm_kmeans3_regression         test  0.832259  2.510695e+07   \n",
       "0  segm_kmeans2onFeatures_regression         test  0.730507  4.033704e+07   \n",
       "0  segm_kmeans3onFeatures_regression         test  0.734646  3.971750e+07   \n",
       "0                catboost_regression         test  0.834211  2.481482e+07   \n",
       "\n",
       "          RMSE          MAE      MAPE  \n",
       "0  6356.144506  4362.732314  0.411567  \n",
       "0  4950.318633  2430.668466  0.181649  \n",
       "0  5010.683734  2449.860534  0.157924  \n",
       "0  6351.145029  4341.408814  0.410469  \n",
       "0  6302.182092  4291.037935  0.412911  \n",
       "0  4981.447792  2760.243997  0.271305  "
      ]
     },
     "execution_count": 61,
     "metadata": {},
     "output_type": "execute_result"
    }
   ],
   "source": [
    "result_metrics.query('dataset_type == \"test\"')"
   ]
  },
  {
   "cell_type": "code",
   "execution_count": null,
   "metadata": {},
   "outputs": [],
   "source": []
  }
 ],
 "metadata": {
  "kernelspec": {
   "display_name": ".venv",
   "language": "python",
   "name": "python3"
  },
  "language_info": {
   "codemirror_mode": {
    "name": "ipython",
    "version": 3
   },
   "file_extension": ".py",
   "mimetype": "text/x-python",
   "name": "python",
   "nbconvert_exporter": "python",
   "pygments_lexer": "ipython3",
   "version": "3.11.4"
  }
 },
 "nbformat": 4,
 "nbformat_minor": 2
}
