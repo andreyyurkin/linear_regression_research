{
 "cells": [
  {
   "cell_type": "code",
   "execution_count": 1,
   "metadata": {},
   "outputs": [],
   "source": [
    "from auto_ml_regression.automl_pipeline import AutoMLPipeline\n",
    "import pandas as pd\n",
    "\n",
    "data = pd.read_csv('../../datasets/insurance_dataset/insurance.csv')\n",
    "target_col=\"charges\"\n",
    "N_SEGMENTS = 2\n",
    "\n",
    "cat_features = data.select_dtypes(include='object').columns.to_list()\n",
    "num_features = data.select_dtypes(exclude='object').columns.to_list()\n",
    "num_features.remove(target_col)"
   ]
  },
  {
   "cell_type": "code",
   "execution_count": 2,
   "metadata": {},
   "outputs": [],
   "source": [
    "# Инициализация\n",
    "pipeline = AutoMLPipeline(\n",
    "    num_features=num_features,\n",
    "    cat_features=cat_features,\n",
    "    target_col=target_col,\n",
    "    n_segments=N_SEGMENTS   # Можно указать любое количество сегментов\n",
    ")"
   ]
  },
  {
   "cell_type": "code",
   "execution_count": 3,
   "metadata": {},
   "outputs": [],
   "source": [
    "# Запуск полного пайплайна\n",
    "pipeline.preprocess_data(data)"
   ]
  },
  {
   "cell_type": "code",
   "execution_count": 4,
   "metadata": {},
   "outputs": [
    {
     "name": "stderr",
     "output_type": "stream",
     "text": [
      "/Users/andrejurkinair/Documents/diploma_practice/.venv/lib/python3.11/site-packages/tqdm/auto.py:21: TqdmWarning: IProgress not found. Please update jupyter and ipywidgets. See https://ipywidgets.readthedocs.io/en/stable/user_install.html\n",
      "  from .autonotebook import tqdm as notebook_tqdm\n",
      "[I 2025-05-17 17:09:44,068] A new study created in memory with name: no-name-c4dcd7bc-9462-4661-8105-9836b2eae383\n",
      "[I 2025-05-17 17:09:46,517] Trial 0 finished with value: -11345.134452908855 and parameters: {'depth': 4, 'learning_rate': 0.09375768624750647, 'l2_leaf_reg': 5.916847090516876}. Best is trial 0 with value: -11345.134452908855.\n",
      "[I 2025-05-17 17:09:47,124] Trial 1 finished with value: -10128.89097909646 and parameters: {'depth': 4, 'learning_rate': 0.27228782223260956, 'l2_leaf_reg': 6.722108719139823}. Best is trial 1 with value: -10128.89097909646.\n",
      "[I 2025-05-17 17:09:47,767] Trial 2 finished with value: -11156.685922827615 and parameters: {'depth': 2, 'learning_rate': 0.1345505567823697, 'l2_leaf_reg': 8.441486401382132}. Best is trial 1 with value: -10128.89097909646.\n",
      "[I 2025-05-17 17:09:47,797] Trial 3 finished with value: -10493.935851298662 and parameters: {'depth': 2, 'learning_rate': 0.2273679037617584, 'l2_leaf_reg': 3.542237528501898}. Best is trial 1 with value: -10128.89097909646.\n",
      "[I 2025-05-17 17:09:47,812] Trial 4 finished with value: -11421.222957422418 and parameters: {'depth': 4, 'learning_rate': 0.08683134687553606, 'l2_leaf_reg': 7.4905152949956}. Best is trial 1 with value: -10128.89097909646.\n",
      "[I 2025-05-17 17:09:47,825] Trial 5 finished with value: -11505.705693832695 and parameters: {'depth': 3, 'learning_rate': 0.07498791335992605, 'l2_leaf_reg': 8.614822706726319}. Best is trial 1 with value: -10128.89097909646.\n",
      "[I 2025-05-17 17:09:47,840] Trial 6 finished with value: -10858.119750130898 and parameters: {'depth': 2, 'learning_rate': 0.1664324120035862, 'l2_leaf_reg': 1.4626470496490218}. Best is trial 1 with value: -10128.89097909646.\n",
      "[I 2025-05-17 17:09:47,854] Trial 7 finished with value: -11905.755037907003 and parameters: {'depth': 2, 'learning_rate': 0.017995304028205192, 'l2_leaf_reg': 3.908906966192294}. Best is trial 1 with value: -10128.89097909646.\n",
      "[I 2025-05-17 17:09:47,869] Trial 8 finished with value: -10120.626368009029 and parameters: {'depth': 4, 'learning_rate': 0.26749677384390574, 'l2_leaf_reg': 5.904577286928728}. Best is trial 8 with value: -10120.626368009029.\n",
      "[I 2025-05-17 17:09:47,884] Trial 9 finished with value: -10611.582897854254 and parameters: {'depth': 3, 'learning_rate': 0.19982779575920837, 'l2_leaf_reg': 7.356094044688676}. Best is trial 8 with value: -10120.626368009029.\n",
      "[I 2025-05-17 17:09:47,906] Trial 10 finished with value: -10129.982359915492 and parameters: {'depth': 4, 'learning_rate': 0.2953807194991243, 'l2_leaf_reg': 9.948558623924328}. Best is trial 8 with value: -10120.626368009029.\n",
      "[I 2025-05-17 17:09:47,923] Trial 11 finished with value: -9942.539782398593 and parameters: {'depth': 4, 'learning_rate': 0.2923533764685541, 'l2_leaf_reg': 5.73436228333395}. Best is trial 11 with value: -9942.539782398593.\n",
      "[I 2025-05-17 17:09:47,942] Trial 12 finished with value: -10164.798221747345 and parameters: {'depth': 3, 'learning_rate': 0.24650823053695725, 'l2_leaf_reg': 4.418871207745315}. Best is trial 11 with value: -9942.539782398593.\n",
      "[I 2025-05-17 17:09:47,961] Trial 13 finished with value: -9902.219600808567 and parameters: {'depth': 4, 'learning_rate': 0.29609214325341493, 'l2_leaf_reg': 5.4685475287256935}. Best is trial 13 with value: -9902.219600808567.\n",
      "[I 2025-05-17 17:09:47,980] Trial 14 finished with value: -9808.953716571943 and parameters: {'depth': 4, 'learning_rate': 0.29523722788936935, 'l2_leaf_reg': 2.4741304910320916}. Best is trial 14 with value: -9808.953716571943.\n",
      "[I 2025-05-17 17:09:48,000] Trial 15 finished with value: -10283.76183002105 and parameters: {'depth': 3, 'learning_rate': 0.2090622834396379, 'l2_leaf_reg': 1.0058962184077433}. Best is trial 14 with value: -9808.953716571943.\n",
      "[I 2025-05-17 17:09:48,019] Trial 16 finished with value: -10652.905982422039 and parameters: {'depth': 4, 'learning_rate': 0.1766083813390762, 'l2_leaf_reg': 2.661779488457749}. Best is trial 14 with value: -9808.953716571943.\n",
      "[I 2025-05-17 17:09:48,037] Trial 17 finished with value: -10082.386290073246 and parameters: {'depth': 3, 'learning_rate': 0.2435232460158253, 'l2_leaf_reg': 2.3299967188492565}. Best is trial 14 with value: -9808.953716571943.\n",
      "[I 2025-05-17 17:09:48,057] Trial 18 finished with value: -10135.005610067208 and parameters: {'depth': 4, 'learning_rate': 0.25589496074781215, 'l2_leaf_reg': 4.62087100310665}. Best is trial 14 with value: -9808.953716571943.\n",
      "[I 2025-05-17 17:09:48,074] Trial 19 finished with value: -10997.767164353141 and parameters: {'depth': 4, 'learning_rate': 0.131985193173606, 'l2_leaf_reg': 2.7586227297462247}. Best is trial 14 with value: -9808.953716571943.\n",
      "[I 2025-05-17 17:09:48,091] Trial 20 finished with value: -10489.583270654375 and parameters: {'depth': 3, 'learning_rate': 0.20545892122896836, 'l2_leaf_reg': 5.043466472843316}. Best is trial 14 with value: -9808.953716571943.\n",
      "[I 2025-05-17 17:09:48,109] Trial 21 finished with value: -9898.629767365312 and parameters: {'depth': 4, 'learning_rate': 0.29787319370787735, 'l2_leaf_reg': 5.618563173257146}. Best is trial 14 with value: -9808.953716571943.\n",
      "[I 2025-05-17 17:09:48,128] Trial 22 finished with value: -9830.624488315378 and parameters: {'depth': 4, 'learning_rate': 0.29717748976868685, 'l2_leaf_reg': 3.629359503769151}. Best is trial 14 with value: -9808.953716571943.\n",
      "[I 2025-05-17 17:09:48,147] Trial 23 finished with value: -10035.03383800578 and parameters: {'depth': 4, 'learning_rate': 0.2669934417013406, 'l2_leaf_reg': 3.501228254298512}. Best is trial 14 with value: -9808.953716571943.\n",
      "[I 2025-05-17 17:09:48,166] Trial 24 finished with value: -9914.019610128891 and parameters: {'depth': 4, 'learning_rate': 0.27656727034675993, 'l2_leaf_reg': 1.8848968457510709}. Best is trial 14 with value: -9808.953716571943.\n",
      "[I 2025-05-17 17:09:48,186] Trial 25 finished with value: -10272.650756662853 and parameters: {'depth': 4, 'learning_rate': 0.23179454272707953, 'l2_leaf_reg': 3.2388482110812418}. Best is trial 14 with value: -9808.953716571943.\n",
      "[I 2025-05-17 17:09:48,204] Trial 26 finished with value: -9785.606089768427 and parameters: {'depth': 3, 'learning_rate': 0.29711796301633947, 'l2_leaf_reg': 4.131467586464062}. Best is trial 26 with value: -9785.606089768427.\n",
      "[I 2025-05-17 17:09:48,223] Trial 27 finished with value: -10321.567144425824 and parameters: {'depth': 3, 'learning_rate': 0.22445309823022097, 'l2_leaf_reg': 4.327415136183741}. Best is trial 26 with value: -9785.606089768427.\n",
      "[I 2025-05-17 17:09:48,241] Trial 28 finished with value: -9800.502981276504 and parameters: {'depth': 3, 'learning_rate': 0.28029202059724667, 'l2_leaf_reg': 2.2789460935764083}. Best is trial 26 with value: -9785.606089768427.\n",
      "[I 2025-05-17 17:09:48,260] Trial 29 finished with value: -11598.014395739709 and parameters: {'depth': 3, 'learning_rate': 0.052199617031793905, 'l2_leaf_reg': 2.0230657927953453}. Best is trial 26 with value: -9785.606089768427.\n"
     ]
    }
   ],
   "source": [
    "pipeline.segment_data(use_optuna=True, n_trials=30, plot=False)\n"
   ]
  },
  {
   "cell_type": "code",
   "execution_count": 5,
   "metadata": {},
   "outputs": [
    {
     "name": "stderr",
     "output_type": "stream",
     "text": [
      "[I 2025-05-17 17:09:48,414] A new study created in memory with name: no-name-6b6aa6b8-ab0f-4167-8e4c-d2369c8ad531\n",
      "[I 2025-05-17 17:09:49,006] Trial 0 finished with value: 1.0 and parameters: {'iterations': 826, 'learning_rate': 0.06334905445668514, 'l2_leaf_reg': 0.2945242351729893, 'random_strength': 1.0341108441998181, 'bagging_temperature': 9.088792252493082, 'border_count': 78, 'min_data_in_leaf': 58, 'leaf_estimation_iterations': 4, 'grow_policy': 'SymmetricTree', 'od_type': 'IncToDec', 'od_wait': 31, 'one_hot_max_size': 3}. Best is trial 0 with value: 1.0.\n",
      "[I 2025-05-17 17:09:58,639] Trial 1 finished with value: 1.0 and parameters: {'iterations': 1489, 'learning_rate': 0.015644245329886102, 'l2_leaf_reg': 0.0025371680270307663, 'random_strength': 0.3630166963407439, 'bagging_temperature': 1.1460520629508353, 'border_count': 173, 'min_data_in_leaf': 1, 'leaf_estimation_iterations': 13, 'grow_policy': 'Depthwise', 'od_type': 'IncToDec', 'od_wait': 32, 'one_hot_max_size': 16, 'max_depth': 11}. Best is trial 0 with value: 1.0.\n",
      "[I 2025-05-17 17:09:58,908] Trial 2 finished with value: 0.9999382716049383 and parameters: {'iterations': 637, 'learning_rate': 0.0013091220273264452, 'l2_leaf_reg': 0.3420871811392515, 'random_strength': 0.008624198972074894, 'bagging_temperature': 8.593744642713224, 'border_count': 61, 'min_data_in_leaf': 9, 'leaf_estimation_iterations': 11, 'grow_policy': 'SymmetricTree', 'od_type': 'IncToDec', 'od_wait': 26, 'one_hot_max_size': 221}. Best is trial 0 with value: 1.0.\n",
      "[I 2025-05-17 17:09:59,063] Trial 3 finished with value: 0.9998765432098766 and parameters: {'iterations': 392, 'learning_rate': 0.051543758702619825, 'l2_leaf_reg': 0.0013449670886514927, 'random_strength': 0.04540088677180547, 'bagging_temperature': 4.909209932086527, 'border_count': 49, 'min_data_in_leaf': 20, 'leaf_estimation_iterations': 11, 'grow_policy': 'SymmetricTree', 'od_type': 'IncToDec', 'od_wait': 27, 'one_hot_max_size': 78}. Best is trial 0 with value: 1.0.\n",
      "[I 2025-05-17 17:09:59,097] Trial 4 finished with value: 1.0 and parameters: {'iterations': 860, 'learning_rate': 0.1781404912650162, 'l2_leaf_reg': 0.013011616250703016, 'random_strength': 0.02506714065323792, 'bagging_temperature': 2.566577495087621, 'border_count': 43, 'min_data_in_leaf': 19, 'leaf_estimation_iterations': 4, 'grow_policy': 'Lossguide', 'od_type': 'Iter', 'od_wait': 41, 'one_hot_max_size': 119, 'max_leaves': 32}. Best is trial 0 with value: 1.0.\n",
      "[I 2025-05-17 17:09:59,112] Trial 5 finished with value: 1.0 and parameters: {'iterations': 1317, 'learning_rate': 0.004109757802142061, 'l2_leaf_reg': 0.12240267544571452, 'random_strength': 0.09352526811609947, 'bagging_temperature': 0.8895493727510251, 'border_count': 125, 'min_data_in_leaf': 92, 'leaf_estimation_iterations': 9, 'grow_policy': 'SymmetricTree', 'od_type': 'Iter', 'od_wait': 20, 'one_hot_max_size': 70}. Best is trial 0 with value: 1.0.\n",
      "[I 2025-05-17 17:09:59,125] Trial 6 finished with value: 1.0 and parameters: {'iterations': 1071, 'learning_rate': 0.002992641714818086, 'l2_leaf_reg': 0.07031341652764712, 'random_strength': 0.00588853529951196, 'bagging_temperature': 1.4362272742445192, 'border_count': 134, 'min_data_in_leaf': 58, 'leaf_estimation_iterations': 3, 'grow_policy': 'SymmetricTree', 'od_type': 'Iter', 'od_wait': 19, 'one_hot_max_size': 101}. Best is trial 0 with value: 1.0.\n",
      "[I 2025-05-17 17:09:59,145] Trial 7 finished with value: 1.0 and parameters: {'iterations': 900, 'learning_rate': 0.22378184834257223, 'l2_leaf_reg': 3.308838262108769, 'random_strength': 0.005094350845249048, 'bagging_temperature': 2.0323602805079455, 'border_count': 143, 'min_data_in_leaf': 92, 'leaf_estimation_iterations': 5, 'grow_policy': 'Lossguide', 'od_type': 'Iter', 'od_wait': 30, 'one_hot_max_size': 233, 'max_leaves': 32}. Best is trial 0 with value: 1.0.\n",
      "[I 2025-05-17 17:09:59,249] Trial 8 finished with value: 0.9999999999999999 and parameters: {'iterations': 259, 'learning_rate': 0.06887079434654696, 'l2_leaf_reg': 0.1456802088268455, 'random_strength': 1.5452313353967617, 'bagging_temperature': 0.018779260187858915, 'border_count': 163, 'min_data_in_leaf': 50, 'leaf_estimation_iterations': 5, 'grow_policy': 'SymmetricTree', 'od_type': 'IncToDec', 'od_wait': 20, 'one_hot_max_size': 34}. Best is trial 0 with value: 1.0.\n",
      "[I 2025-05-17 17:10:00,921] Trial 9 finished with value: 1.0 and parameters: {'iterations': 1933, 'learning_rate': 0.019133725628351955, 'l2_leaf_reg': 0.0011819753212470726, 'random_strength': 0.011336630534999458, 'bagging_temperature': 9.524874433315812, 'border_count': 146, 'min_data_in_leaf': 11, 'leaf_estimation_iterations': 5, 'grow_policy': 'Lossguide', 'od_type': 'IncToDec', 'od_wait': 36, 'one_hot_max_size': 216, 'max_leaves': 56}. Best is trial 0 with value: 1.0.\n"
     ]
    },
    {
     "name": "stdout",
     "output_type": "stream",
     "text": [
      "Classification Report: TRAIN\n",
      "              precision    recall  f1-score   support\n",
      "\n",
      "           0       1.00      1.00      1.00       450\n",
      "           1       1.00      1.00      1.00       446\n",
      "\n",
      "    accuracy                           1.00       896\n",
      "   macro avg       1.00      1.00      1.00       896\n",
      "weighted avg       1.00      1.00      1.00       896\n",
      "\n",
      "ROC AUC = 1.0\n",
      "TEST ROC AUC = 1.0000\n"
     ]
    }
   ],
   "source": [
    "pipeline.train_classifier(n_trials=10)"
   ]
  },
  {
   "cell_type": "code",
   "execution_count": 6,
   "metadata": {},
   "outputs": [
    {
     "name": "stderr",
     "output_type": "stream",
     "text": [
      "[I 2025-05-17 17:10:01,391] A new study created in memory with name: no-name-23deca2b-edfb-43d1-ace2-fd8f213805d0\n",
      "[I 2025-05-17 17:10:01,412] Trial 0 finished with value: -11448.39785436738 and parameters: {'epsilon': 5.675563982436878, 'alpha': 0.22690236165035968, 'fit_intercept': False}. Best is trial 0 with value: -11448.39785436738.\n",
      "[I 2025-05-17 17:10:01,433] Trial 1 finished with value: -11023.60413122239 and parameters: {'epsilon': 8.172316251267924, 'alpha': 0.14860258876518653, 'fit_intercept': False}. Best is trial 1 with value: -11023.60413122239.\n",
      "[I 2025-05-17 17:10:01,453] Trial 2 finished with value: -6982.680656449957 and parameters: {'epsilon': 6.175055964741765, 'alpha': 0.04684874424276271, 'fit_intercept': True}. Best is trial 2 with value: -6982.680656449957.\n",
      "[I 2025-05-17 17:10:01,473] Trial 3 finished with value: -7355.939639724247 and parameters: {'epsilon': 8.434015360719204, 'alpha': 0.12864010783810992, 'fit_intercept': True}. Best is trial 2 with value: -6982.680656449957.\n",
      "[I 2025-05-17 17:10:01,493] Trial 4 finished with value: -7472.771347620117 and parameters: {'epsilon': 8.799798850140576, 'alpha': 0.2675474785255446, 'fit_intercept': True}. Best is trial 2 with value: -6982.680656449957.\n",
      "[I 2025-05-17 17:10:01,511] Trial 5 finished with value: -11359.442519173459 and parameters: {'epsilon': 9.028552523462599, 'alpha': 0.20465654953921056, 'fit_intercept': False}. Best is trial 2 with value: -6982.680656449957.\n",
      "[I 2025-05-17 17:10:01,532] Trial 6 finished with value: -7424.216770965295 and parameters: {'epsilon': 1.3106170785910107, 'alpha': 0.2605699684357429, 'fit_intercept': True}. Best is trial 2 with value: -6982.680656449957.\n",
      "[I 2025-05-17 17:10:01,551] Trial 7 finished with value: -7383.320810775801 and parameters: {'epsilon': 2.5270210001377476, 'alpha': 0.1725006905172078, 'fit_intercept': True}. Best is trial 2 with value: -6982.680656449957.\n",
      "[I 2025-05-17 17:10:01,571] Trial 8 finished with value: -7427.368800673123 and parameters: {'epsilon': 5.986031586721282, 'alpha': 0.18909967459430094, 'fit_intercept': True}. Best is trial 2 with value: -6982.680656449957.\n",
      "[I 2025-05-17 17:10:01,590] Trial 9 finished with value: -7133.172947941395 and parameters: {'epsilon': 4.817432515799481, 'alpha': 0.06461144065867448, 'fit_intercept': True}. Best is trial 2 with value: -6982.680656449957.\n",
      "[I 2025-05-17 17:10:01,611] Trial 10 finished with value: -6757.004839235626 and parameters: {'epsilon': 3.6748491473149967, 'alpha': 0.021386310819213727, 'fit_intercept': False}. Best is trial 10 with value: -6757.004839235626.\n",
      "[I 2025-05-17 17:10:01,636] Trial 11 finished with value: -3620.4074770539564 and parameters: {'epsilon': 3.883301256395896, 'alpha': 0.00046347916010559473, 'fit_intercept': False}. Best is trial 11 with value: -3620.4074770539564.\n",
      "[I 2025-05-17 17:10:01,660] Trial 12 finished with value: -3705.444372428543 and parameters: {'epsilon': 3.6737893608021883, 'alpha': 0.002437465436662293, 'fit_intercept': False}. Best is trial 11 with value: -3620.4074770539564.\n",
      "[I 2025-05-17 17:10:01,682] Trial 13 finished with value: -4130.987436812749 and parameters: {'epsilon': 3.589243039642578, 'alpha': 0.005013379102397332, 'fit_intercept': False}. Best is trial 11 with value: -3620.4074770539564.\n",
      "[I 2025-05-17 17:10:01,704] Trial 14 finished with value: -10182.32689424961 and parameters: {'epsilon': 4.237274912020302, 'alpha': 0.08552090867575245, 'fit_intercept': False}. Best is trial 11 with value: -3620.4074770539564.\n",
      "[I 2025-05-17 17:10:01,727] Trial 15 finished with value: -10710.448933491585 and parameters: {'epsilon': 2.174725069894563, 'alpha': 0.120756416122105, 'fit_intercept': False}. Best is trial 11 with value: -3620.4074770539564.\n",
      "[I 2025-05-17 17:10:01,758] Trial 16 finished with value: -3700.023247184176 and parameters: {'epsilon': 6.8240430505992205, 'alpha': 0.0020197232529122235, 'fit_intercept': False}. Best is trial 11 with value: -3620.4074770539564.\n",
      "[I 2025-05-17 17:10:01,782] Trial 17 finished with value: -10157.159573257137 and parameters: {'epsilon': 7.520336056077611, 'alpha': 0.08408416577613194, 'fit_intercept': False}. Best is trial 11 with value: -3620.4074770539564.\n",
      "[I 2025-05-17 17:10:01,807] Trial 18 finished with value: -8450.870963402445 and parameters: {'epsilon': 7.37922201537747, 'alpha': 0.039937959112607974, 'fit_intercept': False}. Best is trial 11 with value: -3620.4074770539564.\n",
      "[I 2025-05-17 17:10:01,837] Trial 19 finished with value: -10430.960593099619 and parameters: {'epsilon': 6.770992448880522, 'alpha': 0.09810629075061682, 'fit_intercept': False}. Best is trial 11 with value: -3620.4074770539564.\n",
      "[I 2025-05-17 17:10:01,867] Trial 20 finished with value: -8559.581938344243 and parameters: {'epsilon': 4.853298911729539, 'alpha': 0.041715719725742895, 'fit_intercept': False}. Best is trial 11 with value: -3620.4074770539564.\n",
      "[I 2025-05-17 17:10:01,900] Trial 21 finished with value: -3704.86768580234 and parameters: {'epsilon': 9.784238038096577, 'alpha': 0.0020141892874640413, 'fit_intercept': False}. Best is trial 11 with value: -3620.4074770539564.\n",
      "[I 2025-05-17 17:10:01,938] Trial 22 finished with value: -3684.6606691092175 and parameters: {'epsilon': 9.388288788402544, 'alpha': 0.00023302931385054957, 'fit_intercept': False}. Best is trial 11 with value: -3620.4074770539564.\n",
      "[I 2025-05-17 17:10:01,964] Trial 23 finished with value: -7611.070783214158 and parameters: {'epsilon': 9.333478902002398, 'alpha': 0.029259868317315463, 'fit_intercept': False}. Best is trial 11 with value: -3620.4074770539564.\n",
      "[I 2025-05-17 17:10:01,988] Trial 24 finished with value: -9659.075723447178 and parameters: {'epsilon': 6.787240556695747, 'alpha': 0.06558209763256526, 'fit_intercept': False}. Best is trial 11 with value: -3620.4074770539564.\n",
      "[I 2025-05-17 17:10:02,011] Trial 25 finished with value: -9434.425969833377 and parameters: {'epsilon': 4.946978882649908, 'alpha': 0.05933132771812831, 'fit_intercept': False}. Best is trial 11 with value: -3620.4074770539564.\n",
      "[I 2025-05-17 17:10:02,036] Trial 26 finished with value: -6671.445547644691 and parameters: {'epsilon': 9.855289756869697, 'alpha': 0.020336562468012975, 'fit_intercept': False}. Best is trial 11 with value: -3620.4074770539564.\n",
      "[I 2025-05-17 17:10:02,058] Trial 27 finished with value: -10580.613214415886 and parameters: {'epsilon': 2.8831224951199244, 'alpha': 0.10870505196310909, 'fit_intercept': False}. Best is trial 11 with value: -3620.4074770539564.\n",
      "[I 2025-05-17 17:10:02,082] Trial 28 finished with value: -6842.258615125617 and parameters: {'epsilon': 7.832155925655947, 'alpha': 0.021783983650870774, 'fit_intercept': False}. Best is trial 11 with value: -3620.4074770539564.\n",
      "[I 2025-05-17 17:10:02,107] Trial 29 finished with value: -11433.405106512688 and parameters: {'epsilon': 5.563638414190679, 'alpha': 0.22282336787440932, 'fit_intercept': False}. Best is trial 11 with value: -3620.4074770539564.\n",
      "[I 2025-05-17 17:10:02,131] Trial 30 finished with value: -11637.037801080407 and parameters: {'epsilon': 6.398643932531428, 'alpha': 0.2937246330313412, 'fit_intercept': False}. Best is trial 11 with value: -3620.4074770539564.\n",
      "[I 2025-05-17 17:10:02,158] Trial 31 finished with value: -5001.0249145725975 and parameters: {'epsilon': 9.069985141870076, 'alpha': 0.009060252715711611, 'fit_intercept': False}. Best is trial 11 with value: -3620.4074770539564.\n",
      "[I 2025-05-17 17:10:02,186] Trial 32 finished with value: -3654.3881025804617 and parameters: {'epsilon': 9.840462949839626, 'alpha': 0.0014131890011796428, 'fit_intercept': False}. Best is trial 11 with value: -3620.4074770539564.\n",
      "[I 2025-05-17 17:10:02,291] Trial 33 finished with value: -8996.164288593685 and parameters: {'epsilon': 8.323726553839377, 'alpha': 0.04935034321537461, 'fit_intercept': False}. Best is trial 11 with value: -3620.4074770539564.\n",
      "[I 2025-05-17 17:10:02,327] Trial 34 finished with value: -8021.854664239625 and parameters: {'epsilon': 9.52289274081923, 'alpha': 0.034057715778126704, 'fit_intercept': False}. Best is trial 11 with value: -3620.4074770539564.\n",
      "[I 2025-05-17 17:10:02,352] Trial 35 finished with value: -10045.449891623164 and parameters: {'epsilon': 8.675033730320514, 'alpha': 0.07925708435722248, 'fit_intercept': False}. Best is trial 11 with value: -3620.4074770539564.\n",
      "[I 2025-05-17 17:10:02,378] Trial 36 finished with value: -6479.760986995652 and parameters: {'epsilon': 8.088955932958847, 'alpha': 0.018778894079777838, 'fit_intercept': False}. Best is trial 11 with value: -3620.4074770539564.\n",
      "[I 2025-05-17 17:10:02,403] Trial 37 finished with value: -7043.336808832301 and parameters: {'epsilon': 7.104519882401534, 'alpha': 0.05241779921611553, 'fit_intercept': True}. Best is trial 11 with value: -3620.4074770539564.\n",
      "[I 2025-05-17 17:10:02,428] Trial 38 finished with value: -11087.436137161256 and parameters: {'epsilon': 9.989908167718934, 'alpha': 0.15688014669220376, 'fit_intercept': False}. Best is trial 11 with value: -3620.4074770539564.\n",
      "[I 2025-05-17 17:10:02,454] Trial 39 finished with value: -6745.874125245888 and parameters: {'epsilon': 1.143838102597372, 'alpha': 0.03291618591407415, 'fit_intercept': True}. Best is trial 11 with value: -3620.4074770539564.\n",
      "[I 2025-05-17 17:10:02,478] Trial 40 finished with value: -10919.43900308188 and parameters: {'epsilon': 8.776077239776534, 'alpha': 0.1366801927878695, 'fit_intercept': False}. Best is trial 11 with value: -3620.4074770539564.\n",
      "[I 2025-05-17 17:10:02,508] Trial 41 finished with value: -3678.9053751900965 and parameters: {'epsilon': 9.590662132333104, 'alpha': 0.0002816318291162978, 'fit_intercept': False}. Best is trial 11 with value: -3620.4074770539564.\n",
      "[I 2025-05-17 17:10:02,533] Trial 42 finished with value: -5766.9687366606795 and parameters: {'epsilon': 9.31238463507991, 'alpha': 0.01365490524067885, 'fit_intercept': False}. Best is trial 11 with value: -3620.4074770539564.\n",
      "[I 2025-05-17 17:10:02,565] Trial 43 finished with value: -3649.7858117362675 and parameters: {'epsilon': 8.398675952233578, 'alpha': 0.0012558759884069718, 'fit_intercept': False}. Best is trial 11 with value: -3620.4074770539564.\n",
      "[I 2025-05-17 17:10:02,597] Trial 44 finished with value: -3722.8910071873515 and parameters: {'epsilon': 9.078282612202356, 'alpha': 0.0005633471120472738, 'fit_intercept': True}. Best is trial 11 with value: -3620.4074770539564.\n",
      "[I 2025-05-17 17:10:02,621] Trial 45 finished with value: -7442.738702734393 and parameters: {'epsilon': 8.578219582628188, 'alpha': 0.027470165416822585, 'fit_intercept': False}. Best is trial 11 with value: -3620.4074770539564.\n",
      "[I 2025-05-17 17:10:02,644] Trial 46 finished with value: -9867.118431165763 and parameters: {'epsilon': 9.475789149340436, 'alpha': 0.07242607062065193, 'fit_intercept': False}. Best is trial 11 with value: -3620.4074770539564.\n",
      "[I 2025-05-17 17:10:02,667] Trial 47 finished with value: -8843.496473173287 and parameters: {'epsilon': 7.847344550384894, 'alpha': 0.04643988942788546, 'fit_intercept': False}. Best is trial 11 with value: -3620.4074770539564.\n",
      "[I 2025-05-17 17:10:02,694] Trial 48 finished with value: -5676.064221753749 and parameters: {'epsilon': 1.7575246752529443, 'alpha': 0.015155569509128844, 'fit_intercept': True}. Best is trial 11 with value: -3620.4074770539564.\n",
      "[I 2025-05-17 17:10:02,719] Trial 49 finished with value: -5766.315651577343 and parameters: {'epsilon': 9.99843085265074, 'alpha': 0.013650621152338446, 'fit_intercept': False}. Best is trial 11 with value: -3620.4074770539564.\n",
      "[I 2025-05-17 17:10:02,723] A new study created in memory with name: no-name-df498b13-8786-42a1-a91e-69a192a3fc50\n",
      "[I 2025-05-17 17:10:02,747] Trial 0 finished with value: -11152.885127160302 and parameters: {'epsilon': 8.2081654152302, 'alpha': 0.020842264004416678, 'fit_intercept': True}. Best is trial 0 with value: -11152.885127160302.\n",
      "[I 2025-05-17 17:10:02,771] Trial 1 finished with value: -17002.82216623295 and parameters: {'epsilon': 6.478589465386847, 'alpha': 0.24890497074253023, 'fit_intercept': False}. Best is trial 0 with value: -11152.885127160302.\n",
      "[I 2025-05-17 17:10:02,792] Trial 2 finished with value: -12595.86550023747 and parameters: {'epsilon': 1.3297924796738516, 'alpha': 0.21929823131622214, 'fit_intercept': True}. Best is trial 0 with value: -11152.885127160302.\n",
      "[I 2025-05-17 17:10:02,814] Trial 3 finished with value: -12895.162579650136 and parameters: {'epsilon': 8.02726236868703, 'alpha': 0.2874562199507311, 'fit_intercept': True}. Best is trial 0 with value: -11152.885127160302.\n",
      "[I 2025-05-17 17:10:02,835] Trial 4 finished with value: -12830.0435925416 and parameters: {'epsilon': 2.723675322618506, 'alpha': 0.20506923550518377, 'fit_intercept': True}. Best is trial 0 with value: -11152.885127160302.\n",
      "[I 2025-05-17 17:10:02,859] Trial 5 finished with value: -12887.259255804183 and parameters: {'epsilon': 9.786342423325191, 'alpha': 0.27231644756412754, 'fit_intercept': True}. Best is trial 0 with value: -11152.885127160302.\n",
      "[I 2025-05-17 17:10:02,880] Trial 6 finished with value: -12630.300776716907 and parameters: {'epsilon': 1.1937257514522566, 'alpha': 0.18137451690928416, 'fit_intercept': True}. Best is trial 0 with value: -11152.885127160302.\n",
      "[I 2025-05-17 17:10:02,900] Trial 7 finished with value: -16693.318566295748 and parameters: {'epsilon': 8.3590448897791, 'alpha': 0.19198153663153644, 'fit_intercept': False}. Best is trial 0 with value: -11152.885127160302.\n",
      "[I 2025-05-17 17:10:02,934] Trial 8 finished with value: -16119.916978069652 and parameters: {'epsilon': 9.33835960494773, 'alpha': 0.13248695413568015, 'fit_intercept': False}. Best is trial 0 with value: -11152.885127160302.\n",
      "[I 2025-05-17 17:10:02,956] Trial 9 finished with value: -10426.467392775867 and parameters: {'epsilon': 7.540202409295748, 'alpha': 0.01474138203201257, 'fit_intercept': True}. Best is trial 9 with value: -10426.467392775867.\n",
      "[I 2025-05-17 17:10:02,979] Trial 10 finished with value: -8742.721655386074 and parameters: {'epsilon': 4.714876225097806, 'alpha': 0.010395238606660306, 'fit_intercept': False}. Best is trial 10 with value: -8742.721655386074.\n",
      "[I 2025-05-17 17:10:03,004] Trial 11 finished with value: -7261.546703127153 and parameters: {'epsilon': 4.818719834649852, 'alpha': 0.0068243178527505974, 'fit_intercept': False}. Best is trial 11 with value: -7261.546703127153.\n",
      "[I 2025-05-17 17:10:03,026] Trial 12 finished with value: -15284.36964217967 and parameters: {'epsilon': 4.475552857819676, 'alpha': 0.08856049448977704, 'fit_intercept': False}. Best is trial 11 with value: -7261.546703127153.\n",
      "[I 2025-05-17 17:10:03,047] Trial 13 finished with value: -14656.117290980637 and parameters: {'epsilon': 4.590738724354356, 'alpha': 0.06917810770162187, 'fit_intercept': False}. Best is trial 11 with value: -7261.546703127153.\n",
      "[I 2025-05-17 17:10:03,070] Trial 14 finished with value: -14459.024560276514 and parameters: {'epsilon': 5.238808241083853, 'alpha': 0.06438660428711833, 'fit_intercept': False}. Best is trial 11 with value: -7261.546703127153.\n",
      "[I 2025-05-17 17:10:03,092] Trial 15 finished with value: -15914.470809797043 and parameters: {'epsilon': 3.426906676961515, 'alpha': 0.11860682275282594, 'fit_intercept': False}. Best is trial 11 with value: -7261.546703127153.\n",
      "[I 2025-05-17 17:10:03,120] Trial 16 finished with value: -3582.730176029164 and parameters: {'epsilon': 6.387105519487846, 'alpha': 0.0001166140934798221, 'fit_intercept': False}. Best is trial 16 with value: -3582.730176029164.\n",
      "[I 2025-05-17 17:10:03,143] Trial 17 finished with value: -13482.247055173437 and parameters: {'epsilon': 6.5755722137196155, 'alpha': 0.04630520610832001, 'fit_intercept': False}. Best is trial 16 with value: -3582.730176029164.\n",
      "[I 2025-05-17 17:10:03,165] Trial 18 finished with value: -15531.925458248263 and parameters: {'epsilon': 6.288765883676951, 'alpha': 0.0986408892864864, 'fit_intercept': False}. Best is trial 16 with value: -3582.730176029164.\n",
      "[I 2025-05-17 17:10:03,187] Trial 19 finished with value: -13109.64983384138 and parameters: {'epsilon': 3.435042159253518, 'alpha': 0.04114410576559454, 'fit_intercept': False}. Best is trial 16 with value: -3582.730176029164.\n",
      "[I 2025-05-17 17:10:03,209] Trial 20 finished with value: -16445.93729307094 and parameters: {'epsilon': 5.542859773259318, 'alpha': 0.161351205664481, 'fit_intercept': False}. Best is trial 16 with value: -3582.730176029164.\n",
      "[I 2025-05-17 17:10:03,234] Trial 21 finished with value: -4880.083509148106 and parameters: {'epsilon': 4.004312455979086, 'alpha': 0.0030421367571170357, 'fit_intercept': False}. Best is trial 16 with value: -3582.730176029164.\n",
      "[I 2025-05-17 17:10:03,255] Trial 22 finished with value: -12827.791563548586 and parameters: {'epsilon': 3.6812921715828932, 'alpha': 0.03767001078765509, 'fit_intercept': False}. Best is trial 16 with value: -3582.730176029164.\n",
      "[I 2025-05-17 17:10:03,278] Trial 23 finished with value: -8911.526498753963 and parameters: {'epsilon': 2.2873317622760605, 'alpha': 0.010938956233899762, 'fit_intercept': False}. Best is trial 16 with value: -3582.730176029164.\n",
      "[I 2025-05-17 17:10:03,307] Trial 24 finished with value: -3776.381418159516 and parameters: {'epsilon': 7.158221700559813, 'alpha': 0.0009740490281020184, 'fit_intercept': False}. Best is trial 16 with value: -3582.730176029164.\n",
      "[I 2025-05-17 17:10:03,329] Trial 25 finished with value: -13876.958310100226 and parameters: {'epsilon': 7.3499838017011925, 'alpha': 0.05267916725777255, 'fit_intercept': False}. Best is trial 16 with value: -3582.730176029164.\n",
      "[I 2025-05-17 17:10:03,351] Trial 26 finished with value: -15117.16105311227 and parameters: {'epsilon': 5.819280438814205, 'alpha': 0.08266464957780881, 'fit_intercept': False}. Best is trial 16 with value: -3582.730176029164.\n",
      "[I 2025-05-17 17:10:03,374] Trial 27 finished with value: -12017.31857331744 and parameters: {'epsilon': 7.258769955102193, 'alpha': 0.029293742252239078, 'fit_intercept': False}. Best is trial 16 with value: -3582.730176029164.\n",
      "[I 2025-05-17 17:10:03,400] Trial 28 finished with value: -4672.5571683639755 and parameters: {'epsilon': 8.693915281989536, 'alpha': 0.002698837383390678, 'fit_intercept': False}. Best is trial 16 with value: -3582.730176029164.\n",
      "[I 2025-05-17 17:10:03,425] Trial 29 finished with value: -12156.428675306493 and parameters: {'epsilon': 8.711737551065807, 'alpha': 0.030580007242268017, 'fit_intercept': False}. Best is trial 16 with value: -3582.730176029164.\n",
      "[I 2025-05-17 17:10:03,449] Trial 30 finished with value: -15935.133292849901 and parameters: {'epsilon': 9.317206638175408, 'alpha': 0.1198863775660463, 'fit_intercept': False}. Best is trial 16 with value: -3582.730176029164.\n",
      "[I 2025-05-17 17:10:03,477] Trial 31 finished with value: -3733.423374743128 and parameters: {'epsilon': 6.973846428594219, 'alpha': 0.0008602775691017265, 'fit_intercept': False}. Best is trial 16 with value: -3582.730176029164.\n",
      "[I 2025-05-17 17:10:03,499] Trial 32 finished with value: -11393.152432258117 and parameters: {'epsilon': 6.88195710506535, 'alpha': 0.02415904580511179, 'fit_intercept': False}. Best is trial 16 with value: -3582.730176029164.\n",
      "[I 2025-05-17 17:10:03,528] Trial 33 finished with value: -3877.750727094841 and parameters: {'epsilon': 7.858870336388027, 'alpha': 0.001216432639902179, 'fit_intercept': False}. Best is trial 16 with value: -3582.730176029164.\n",
      "[I 2025-05-17 17:10:03,549] Trial 34 finished with value: -14316.138271840784 and parameters: {'epsilon': 6.221978146178407, 'alpha': 0.06120026779325912, 'fit_intercept': False}. Best is trial 16 with value: -3582.730176029164.\n",
      "[I 2025-05-17 17:10:03,574] Trial 35 finished with value: -11361.890206011269 and parameters: {'epsilon': 7.754271713116909, 'alpha': 0.023568277316383248, 'fit_intercept': True}. Best is trial 16 with value: -3582.730176029164.\n",
      "[I 2025-05-17 17:10:03,597] Trial 36 finished with value: -17014.373283315963 and parameters: {'epsilon': 6.904839227318864, 'alpha': 0.2516447232332763, 'fit_intercept': False}. Best is trial 16 with value: -3582.730176029164.\n",
      "[I 2025-05-17 17:10:03,622] Trial 37 finished with value: -12190.453495838363 and parameters: {'epsilon': 8.18317463215143, 'alpha': 0.04756830068859122, 'fit_intercept': True}. Best is trial 16 with value: -3582.730176029164.\n",
      "[I 2025-05-17 17:10:03,644] Trial 38 finished with value: -14948.977712382835 and parameters: {'epsilon': 5.89168118904483, 'alpha': 0.07731563720738316, 'fit_intercept': False}. Best is trial 16 with value: -3582.730176029164.\n",
      "[I 2025-05-17 17:10:03,670] Trial 39 finished with value: -12855.429641856696 and parameters: {'epsilon': 6.996406992718263, 'alpha': 0.2245344959299891, 'fit_intercept': True}. Best is trial 16 with value: -3582.730176029164.\n",
      "[I 2025-05-17 17:10:03,698] Trial 40 finished with value: -3594.6123553751418 and parameters: {'epsilon': 8.023311775588889, 'alpha': 0.0002510722749482076, 'fit_intercept': False}. Best is trial 16 with value: -3582.730176029164.\n",
      "[I 2025-05-17 17:10:03,722] Trial 41 finished with value: -10809.040426376912 and parameters: {'epsilon': 7.8835192105582585, 'alpha': 0.020064129324951406, 'fit_intercept': False}. Best is trial 16 with value: -3582.730176029164.\n",
      "[I 2025-05-17 17:10:03,749] Trial 42 finished with value: -4450.182861434678 and parameters: {'epsilon': 8.610668953629474, 'alpha': 0.002323120438731688, 'fit_intercept': False}. Best is trial 16 with value: -3582.730176029164.\n",
      "[I 2025-05-17 17:10:03,772] Trial 43 finished with value: -12385.226855343262 and parameters: {'epsilon': 7.666451967158714, 'alpha': 0.03281975241437711, 'fit_intercept': False}. Best is trial 16 with value: -3582.730176029164.\n",
      "[I 2025-05-17 17:10:03,794] Trial 44 finished with value: -9776.6473058422 and parameters: {'epsilon': 6.595012984380927, 'alpha': 0.01435256213780688, 'fit_intercept': False}. Best is trial 16 with value: -3582.730176029164.\n",
      "[I 2025-05-17 17:10:03,824] Trial 45 finished with value: -4103.904631620686 and parameters: {'epsilon': 9.234539225121784, 'alpha': 0.0014498884459565786, 'fit_intercept': True}. Best is trial 16 with value: -3582.730176029164.\n",
      "[I 2025-05-17 17:10:03,847] Trial 46 finished with value: -17183.127271673467 and parameters: {'epsilon': 7.253100663223363, 'alpha': 0.29923751719190744, 'fit_intercept': False}. Best is trial 16 with value: -3582.730176029164.\n",
      "[I 2025-05-17 17:10:03,870] Trial 47 finished with value: -14058.432486791042 and parameters: {'epsilon': 8.142926005395081, 'alpha': 0.055993365722123746, 'fit_intercept': False}. Best is trial 16 with value: -3582.730176029164.\n",
      "[I 2025-05-17 17:10:03,892] Trial 48 finished with value: -10154.116047555297 and parameters: {'epsilon': 9.977853808521274, 'alpha': 0.01622776224191234, 'fit_intercept': False}. Best is trial 16 with value: -3582.730176029164.\n",
      "[I 2025-05-17 17:10:03,915] Trial 49 finished with value: -13088.728727423666 and parameters: {'epsilon': 5.2411893458064736, 'alpha': 0.04087615127810283, 'fit_intercept': False}. Best is trial 16 with value: -3582.730176029164.\n"
     ]
    }
   ],
   "source": [
    "pipeline.train_regressors(model_type='huber', n_trials=50, cv=4)"
   ]
  },
  {
   "cell_type": "code",
   "execution_count": 7,
   "metadata": {},
   "outputs": [
    {
     "data": {
      "text/html": [
       "<div>\n",
       "<style scoped>\n",
       "    .dataframe tbody tr th:only-of-type {\n",
       "        vertical-align: middle;\n",
       "    }\n",
       "\n",
       "    .dataframe tbody tr th {\n",
       "        vertical-align: top;\n",
       "    }\n",
       "\n",
       "    .dataframe thead th {\n",
       "        text-align: right;\n",
       "    }\n",
       "</style>\n",
       "<table border=\"1\" class=\"dataframe\">\n",
       "  <thead>\n",
       "    <tr style=\"text-align: right;\">\n",
       "      <th></th>\n",
       "      <th>model_coef_segment_0</th>\n",
       "      <th>model_coef_segment_1</th>\n",
       "    </tr>\n",
       "  </thead>\n",
       "  <tbody>\n",
       "    <tr>\n",
       "      <th>intercept_</th>\n",
       "      <td>0.000000</td>\n",
       "      <td>0.000000</td>\n",
       "    </tr>\n",
       "    <tr>\n",
       "      <th>age</th>\n",
       "      <td>12142.247153</td>\n",
       "      <td>12747.927445</td>\n",
       "    </tr>\n",
       "    <tr>\n",
       "      <th>bmi</th>\n",
       "      <td>8351.403320</td>\n",
       "      <td>3551.157631</td>\n",
       "    </tr>\n",
       "    <tr>\n",
       "      <th>children</th>\n",
       "      <td>1769.444153</td>\n",
       "      <td>4254.480173</td>\n",
       "    </tr>\n",
       "    <tr>\n",
       "      <th>sex</th>\n",
       "      <td>-45.945171</td>\n",
       "      <td>-525.683936</td>\n",
       "    </tr>\n",
       "    <tr>\n",
       "      <th>smoker</th>\n",
       "      <td>14715.677965</td>\n",
       "      <td>32628.040362</td>\n",
       "    </tr>\n",
       "    <tr>\n",
       "      <th>region</th>\n",
       "      <td>-719.451842</td>\n",
       "      <td>-66.207703</td>\n",
       "    </tr>\n",
       "  </tbody>\n",
       "</table>\n",
       "</div>"
      ],
      "text/plain": [
       "            model_coef_segment_0  model_coef_segment_1\n",
       "intercept_              0.000000              0.000000\n",
       "age                 12142.247153          12747.927445\n",
       "bmi                  8351.403320           3551.157631\n",
       "children             1769.444153           4254.480173\n",
       "sex                   -45.945171           -525.683936\n",
       "smoker              14715.677965          32628.040362\n",
       "region               -719.451842            -66.207703"
      ]
     },
     "execution_count": 7,
     "metadata": {},
     "output_type": "execute_result"
    }
   ],
   "source": [
    "pipeline.regressor.get_model_coefs()"
   ]
  },
  {
   "cell_type": "code",
   "execution_count": 8,
   "metadata": {},
   "outputs": [],
   "source": [
    "test_target_preds = pipeline.regressor.predict(pipeline.segmented_test[num_features+cat_features], \n",
    "                              segments=pipeline.segmented_test['segment_preds'],\n",
    "                              )\n",
    "test_target_true = pipeline.segmented_test.charges"
   ]
  },
  {
   "cell_type": "code",
   "execution_count": 9,
   "metadata": {},
   "outputs": [
    {
     "name": "stdout",
     "output_type": "stream",
     "text": [
      "R2 = 0.8513539575621136\n",
      "MSE = 22248942.00827885\n",
      "RMSE = 4716.87841779697\n",
      "MAE = 2596.4377537090395\n",
      "MAPE = 0.246662173987762\n"
     ]
    }
   ],
   "source": [
    "from sklearn import metrics\n",
    "r2 = metrics.r2_score(test_target_true, test_target_preds)\n",
    "mse = metrics.mean_squared_error(test_target_true, test_target_preds)\n",
    "mae = metrics.mean_absolute_error(test_target_true, test_target_preds)\n",
    "mape = metrics.mean_absolute_percentage_error(test_target_true, test_target_preds)\n",
    "\n",
    "print(f\"R2 = {r2}\")\n",
    "print(f\"MSE = {mse}\")\n",
    "print(f\"RMSE = {mse**0.5}\")\n",
    "print(f\"MAE = {mae}\")\n",
    "print(f\"MAPE = {mape}\")"
   ]
  },
  {
   "cell_type": "code",
   "execution_count": 10,
   "metadata": {},
   "outputs": [
    {
     "data": {
      "text/html": [
       "<div>\n",
       "<style scoped>\n",
       "    .dataframe tbody tr th:only-of-type {\n",
       "        vertical-align: middle;\n",
       "    }\n",
       "\n",
       "    .dataframe tbody tr th {\n",
       "        vertical-align: top;\n",
       "    }\n",
       "\n",
       "    .dataframe thead th {\n",
       "        text-align: right;\n",
       "    }\n",
       "</style>\n",
       "<table border=\"1\" class=\"dataframe\">\n",
       "  <thead>\n",
       "    <tr style=\"text-align: right;\">\n",
       "      <th></th>\n",
       "      <th>r2</th>\n",
       "      <th>mse</th>\n",
       "      <th>rmse</th>\n",
       "      <th>mae</th>\n",
       "      <th>mape</th>\n",
       "    </tr>\n",
       "  </thead>\n",
       "  <tbody>\n",
       "    <tr>\n",
       "      <th>0</th>\n",
       "      <td>0.851354</td>\n",
       "      <td>2.224894e+07</td>\n",
       "      <td>4716.878418</td>\n",
       "      <td>2596.437754</td>\n",
       "      <td>0.246662</td>\n",
       "    </tr>\n",
       "  </tbody>\n",
       "</table>\n",
       "</div>"
      ],
      "text/plain": [
       "         r2           mse         rmse          mae      mape\n",
       "0  0.851354  2.224894e+07  4716.878418  2596.437754  0.246662"
      ]
     },
     "execution_count": 10,
     "metadata": {},
     "output_type": "execute_result"
    }
   ],
   "source": [
    "# Оценка качества\n",
    "metrics_df = pipeline.evaluate_test()\n",
    "metrics_df"
   ]
  }
 ],
 "metadata": {
  "kernelspec": {
   "display_name": ".venv",
   "language": "python",
   "name": "python3"
  },
  "language_info": {
   "codemirror_mode": {
    "name": "ipython",
    "version": 3
   },
   "file_extension": ".py",
   "mimetype": "text/x-python",
   "name": "python",
   "nbconvert_exporter": "python",
   "pygments_lexer": "ipython3",
   "version": "3.11.4"
  }
 },
 "nbformat": 4,
 "nbformat_minor": 2
}
