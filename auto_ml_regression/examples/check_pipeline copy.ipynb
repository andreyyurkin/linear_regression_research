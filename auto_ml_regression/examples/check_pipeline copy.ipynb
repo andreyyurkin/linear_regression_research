{
 "cells": [
  {
   "cell_type": "code",
   "execution_count": 1,
   "metadata": {},
   "outputs": [],
   "source": [
    "from auto_ml_regression.automl_pipeline import AutoMLPipeline\n",
    "import pandas as pd\n",
    "\n",
    "data = pd.read_csv('../../datasets/insurance_dataset/insurance.csv')\n",
    "target_col=\"charges\"\n",
    "N_SEGMENTS = 2\n",
    "\n",
    "cat_features = data.select_dtypes(include='object').columns.to_list()\n",
    "num_features = data.select_dtypes(exclude='object').columns.to_list()\n",
    "num_features.remove(target_col)"
   ]
  },
  {
   "cell_type": "code",
   "execution_count": 2,
   "metadata": {},
   "outputs": [],
   "source": [
    "# Инициализация\n",
    "pipeline = AutoMLPipeline(\n",
    "    num_features=num_features,\n",
    "    cat_features=cat_features,\n",
    "    target_col=target_col,\n",
    "    n_segments=N_SEGMENTS   # Можно указать любое количество сегментов\n",
    ")"
   ]
  },
  {
   "cell_type": "code",
   "execution_count": 3,
   "metadata": {},
   "outputs": [],
   "source": [
    "# Запуск полного пайплайна\n",
    "pipeline.preprocess_data(data)"
   ]
  },
  {
   "cell_type": "code",
   "execution_count": 4,
   "metadata": {},
   "outputs": [],
   "source": [
    "pipeline.segment_data_gmm()\n"
   ]
  },
  {
   "cell_type": "code",
   "execution_count": 5,
   "metadata": {},
   "outputs": [
    {
     "name": "stderr",
     "output_type": "stream",
     "text": [
      "/Users/andrejurkinair/Documents/diploma_practice/.venv/lib/python3.11/site-packages/tqdm/auto.py:21: TqdmWarning: IProgress not found. Please update jupyter and ipywidgets. See https://ipywidgets.readthedocs.io/en/stable/user_install.html\n",
      "  from .autonotebook import tqdm as notebook_tqdm\n",
      "[I 2025-05-21 21:40:37,965] A new study created in memory with name: no-name-fe7940f6-9bc1-470a-9ca4-84f7293a2f50\n",
      "[I 2025-05-21 21:40:38,140] Trial 0 finished with value: 0.9130877609913428 and parameters: {'iterations': 1414, 'learning_rate': 0.008627858034159533, 'l2_leaf_reg': 0.007873507032925525, 'random_strength': 0.6049765300105571, 'bagging_temperature': 9.927267588969011, 'border_count': 142, 'min_data_in_leaf': 76, 'leaf_estimation_iterations': 12, 'grow_policy': 'Depthwise', 'od_type': 'Iter', 'od_wait': 38, 'one_hot_max_size': 218, 'max_depth': 4}. Best is trial 0 with value: 0.9130877609913428.\n",
      "[I 2025-05-21 21:40:38,480] Trial 1 finished with value: 0.9259887964691902 and parameters: {'iterations': 840, 'learning_rate': 0.004612605338894028, 'l2_leaf_reg': 0.0013516654238801364, 'random_strength': 0.008696214531223514, 'bagging_temperature': 8.249635846903319, 'border_count': 236, 'min_data_in_leaf': 34, 'leaf_estimation_iterations': 2, 'grow_policy': 'SymmetricTree', 'od_type': 'IncToDec', 'od_wait': 25, 'one_hot_max_size': 249}. Best is trial 1 with value: 0.9259887964691902.\n",
      "[I 2025-05-21 21:40:38,704] Trial 2 finished with value: 0.9169920217280598 and parameters: {'iterations': 369, 'learning_rate': 0.03686401290369824, 'l2_leaf_reg': 0.27298802421656904, 'random_strength': 3.9370192280361485, 'bagging_temperature': 9.88825019777401, 'border_count': 255, 'min_data_in_leaf': 74, 'leaf_estimation_iterations': 11, 'grow_policy': 'Lossguide', 'od_type': 'IncToDec', 'od_wait': 16, 'one_hot_max_size': 90, 'max_leaves': 15}. Best is trial 1 with value: 0.9259887964691902.\n",
      "[I 2025-05-21 21:40:39,384] Trial 3 finished with value: 0.9164827703276185 and parameters: {'iterations': 1142, 'learning_rate': 0.029104712020355857, 'l2_leaf_reg': 1.1583479733764157, 'random_strength': 0.15335286686221236, 'bagging_temperature': 3.2208699406467156, 'border_count': 42, 'min_data_in_leaf': 59, 'leaf_estimation_iterations': 5, 'grow_policy': 'Depthwise', 'od_type': 'IncToDec', 'od_wait': 27, 'one_hot_max_size': 153, 'max_depth': 10}. Best is trial 1 with value: 0.9259887964691902.\n",
      "[I 2025-05-21 21:40:39,400] Trial 4 finished with value: 0.9352401969105415 and parameters: {'iterations': 1189, 'learning_rate': 0.0010388122561847963, 'l2_leaf_reg': 0.008171913630963142, 'random_strength': 0.036663356212562885, 'bagging_temperature': 6.639268646351279, 'border_count': 78, 'min_data_in_leaf': 58, 'leaf_estimation_iterations': 3, 'grow_policy': 'SymmetricTree', 'od_type': 'Iter', 'od_wait': 28, 'one_hot_max_size': 130}. Best is trial 4 with value: 0.9352401969105415.\n",
      "[I 2025-05-21 21:40:39,471] Trial 5 finished with value: 0.9307418095399763 and parameters: {'iterations': 198, 'learning_rate': 0.004999678844729765, 'l2_leaf_reg': 0.22805410862153117, 'random_strength': 0.24495668591257005, 'bagging_temperature': 9.612832949590072, 'border_count': 129, 'min_data_in_leaf': 2, 'leaf_estimation_iterations': 3, 'grow_policy': 'SymmetricTree', 'od_type': 'IncToDec', 'od_wait': 17, 'one_hot_max_size': 63}. Best is trial 4 with value: 0.9352401969105415.\n",
      "[I 2025-05-21 21:40:39,793] Trial 6 finished with value: 0.9325241894415209 and parameters: {'iterations': 879, 'learning_rate': 0.005272578691280836, 'l2_leaf_reg': 0.1036267743421828, 'random_strength': 2.479898273728451, 'bagging_temperature': 3.011502034713266, 'border_count': 183, 'min_data_in_leaf': 49, 'leaf_estimation_iterations': 14, 'grow_policy': 'Depthwise', 'od_type': 'IncToDec', 'od_wait': 45, 'one_hot_max_size': 255, 'max_depth': 2}. Best is trial 4 with value: 0.9352401969105415.\n",
      "[I 2025-05-21 21:40:39,811] Trial 7 finished with value: 0.8564759803089459 and parameters: {'iterations': 391, 'learning_rate': 0.025479811283179762, 'l2_leaf_reg': 5.385382102156497, 'random_strength': 0.003848730655191898, 'bagging_temperature': 3.3494710038022655, 'border_count': 101, 'min_data_in_leaf': 7, 'leaf_estimation_iterations': 1, 'grow_policy': 'SymmetricTree', 'od_type': 'Iter', 'od_wait': 30, 'one_hot_max_size': 38}. Best is trial 4 with value: 0.9352401969105415.\n",
      "[I 2025-05-21 21:40:40,310] Trial 8 finished with value: 0.9193685282634527 and parameters: {'iterations': 823, 'learning_rate': 0.007671724811832182, 'l2_leaf_reg': 0.007377633953330727, 'random_strength': 0.4141671730387954, 'bagging_temperature': 9.227535014031421, 'border_count': 158, 'min_data_in_leaf': 96, 'leaf_estimation_iterations': 13, 'grow_policy': 'Depthwise', 'od_type': 'IncToDec', 'od_wait': 21, 'one_hot_max_size': 9, 'max_depth': 11}. Best is trial 4 with value: 0.9352401969105415.\n",
      "[I 2025-05-21 21:40:40,514] Trial 9 finished with value: 0.9137667628585979 and parameters: {'iterations': 374, 'learning_rate': 0.0015530368501278137, 'l2_leaf_reg': 0.04544847593877946, 'random_strength': 0.023201621901597053, 'bagging_temperature': 5.5611510623470215, 'border_count': 100, 'min_data_in_leaf': 86, 'leaf_estimation_iterations': 11, 'grow_policy': 'Lossguide', 'od_type': 'IncToDec', 'od_wait': 35, 'one_hot_max_size': 75, 'max_leaves': 26}. Best is trial 4 with value: 0.9352401969105415.\n"
     ]
    },
    {
     "name": "stdout",
     "output_type": "stream",
     "text": [
      "Classification Report: TRAIN\n",
      "              precision    recall  f1-score   support\n",
      "\n",
      "           0       0.93      1.00      0.96       681\n",
      "           1       1.00      0.76      0.87       215\n",
      "\n",
      "    accuracy                           0.94       896\n",
      "   macro avg       0.97      0.88      0.91       896\n",
      "weighted avg       0.95      0.94      0.94       896\n",
      "\n",
      "ROC AUC = 0.9845063688829697\n",
      "TEST ROC AUC = 0.8896\n"
     ]
    }
   ],
   "source": [
    "pipeline.train_classifier(n_trials=10)"
   ]
  },
  {
   "cell_type": "code",
   "execution_count": 6,
   "metadata": {},
   "outputs": [
    {
     "name": "stderr",
     "output_type": "stream",
     "text": [
      "[I 2025-05-21 21:40:41,679] A new study created in memory with name: no-name-58968624-bc9b-461c-a9f1-71e66dc5dc40\n",
      "[I 2025-05-21 21:40:41,786] Trial 0 finished with value: -3319.142712867988 and parameters: {'epsilon': 7.885236400490485, 'alpha': 0.0685106610420834, 'fit_intercept': True}. Best is trial 0 with value: -3319.142712867988.\n",
      "[I 2025-05-21 21:40:41,815] Trial 1 finished with value: -1159.1980798542813 and parameters: {'epsilon': 6.605559459276528, 'alpha': 0.0011769253133664872, 'fit_intercept': False}. Best is trial 1 with value: -1159.1980798542813.\n",
      "[I 2025-05-21 21:40:41,836] Trial 2 finished with value: -3430.685535700217 and parameters: {'epsilon': 9.564352244207923, 'alpha': 0.09250569441968928, 'fit_intercept': True}. Best is trial 1 with value: -1159.1980798542813.\n",
      "[I 2025-05-21 21:40:41,858] Trial 3 finished with value: -3042.15033740705 and parameters: {'epsilon': 2.1741395824449605, 'alpha': 0.04238660018086489, 'fit_intercept': True}. Best is trial 1 with value: -1159.1980798542813.\n",
      "[I 2025-05-21 21:40:41,885] Trial 4 finished with value: -1416.803393637082 and parameters: {'epsilon': 8.190497830303528, 'alpha': 0.00468465419275783, 'fit_intercept': False}. Best is trial 1 with value: -1159.1980798542813.\n",
      "[I 2025-05-21 21:40:41,909] Trial 5 finished with value: -3479.6458796036623 and parameters: {'epsilon': 6.434603593685317, 'alpha': 0.10874512308340534, 'fit_intercept': True}. Best is trial 1 with value: -1159.1980798542813.\n",
      "[I 2025-05-21 21:40:41,929] Trial 6 finished with value: -5502.714544183556 and parameters: {'epsilon': 9.053137204344809, 'alpha': 0.131337098506036, 'fit_intercept': False}. Best is trial 1 with value: -1159.1980798542813.\n",
      "[I 2025-05-21 21:40:41,952] Trial 7 finished with value: -3530.213133193207 and parameters: {'epsilon': 9.644017811283454, 'alpha': 0.13233686828464342, 'fit_intercept': True}. Best is trial 1 with value: -1159.1980798542813.\n",
      "[I 2025-05-21 21:40:41,972] Trial 8 finished with value: -3624.1074933696527 and parameters: {'epsilon': 5.382368727267617, 'alpha': 0.2182907715395015, 'fit_intercept': True}. Best is trial 1 with value: -1159.1980798542813.\n",
      "[I 2025-05-21 21:40:41,993] Trial 9 finished with value: -3657.1340793400664 and parameters: {'epsilon': 2.2643473393700764, 'alpha': 0.2826209254028665, 'fit_intercept': True}. Best is trial 1 with value: -1159.1980798542813.\n",
      "[I 2025-05-21 21:40:42,017] Trial 10 finished with value: -6126.239507637207 and parameters: {'epsilon': 4.424900389079141, 'alpha': 0.19503430449609263, 'fit_intercept': False}. Best is trial 1 with value: -1159.1980798542813.\n",
      "[I 2025-05-21 21:40:42,051] Trial 11 finished with value: -1136.4944149145194 and parameters: {'epsilon': 7.1070850112872215, 'alpha': 0.0004212033712185211, 'fit_intercept': False}. Best is trial 11 with value: -1136.4944149145194.\n",
      "[I 2025-05-21 21:40:42,080] Trial 12 finished with value: -1157.5614984349513 and parameters: {'epsilon': 6.674180069480341, 'alpha': 0.0011243950770359198, 'fit_intercept': False}. Best is trial 11 with value: -1136.4944149145194.\n",
      "[I 2025-05-21 21:40:42,104] Trial 13 finished with value: -3605.6241493532543 and parameters: {'epsilon': 4.218221924438609, 'alpha': 0.04561844977037906, 'fit_intercept': False}. Best is trial 11 with value: -1136.4944149145194.\n",
      "[I 2025-05-21 21:40:42,128] Trial 14 finished with value: -3380.810170546218 and parameters: {'epsilon': 6.778498330161043, 'alpha': 0.039610943004508896, 'fit_intercept': False}. Best is trial 11 with value: -1136.4944149145194.\n",
      "[I 2025-05-21 21:40:42,159] Trial 15 finished with value: -1157.5498777880694 and parameters: {'epsilon': 7.995067767595884, 'alpha': 0.0009167290557920114, 'fit_intercept': False}. Best is trial 11 with value: -1136.4944149145194.\n",
      "[I 2025-05-21 21:40:42,185] Trial 16 finished with value: -5972.272819129239 and parameters: {'epsilon': 7.949322805622941, 'alpha': 0.17541762418884826, 'fit_intercept': False}. Best is trial 11 with value: -1136.4944149145194.\n",
      "[I 2025-05-21 21:40:42,208] Trial 17 finished with value: -6487.836245210327 and parameters: {'epsilon': 5.164582719428303, 'alpha': 0.25864990892389184, 'fit_intercept': False}. Best is trial 11 with value: -1136.4944149145194.\n",
      "[I 2025-05-21 21:40:42,231] Trial 18 finished with value: -4547.928387723805 and parameters: {'epsilon': 8.726297749318237, 'alpha': 0.07788499668790119, 'fit_intercept': False}. Best is trial 11 with value: -1136.4944149145194.\n",
      "[I 2025-05-21 21:40:42,257] Trial 19 finished with value: -2733.666109141864 and parameters: {'epsilon': 1.0295140413452932, 'alpha': 0.025452457002517755, 'fit_intercept': False}. Best is trial 11 with value: -1136.4944149145194.\n",
      "[I 2025-05-21 21:40:42,281] Trial 20 finished with value: -4026.3091249889485 and parameters: {'epsilon': 7.451016102878282, 'alpha': 0.058414385895391385, 'fit_intercept': False}. Best is trial 11 with value: -1136.4944149145194.\n",
      "[I 2025-05-21 21:40:42,315] Trial 21 finished with value: -1142.0774591136408 and parameters: {'epsilon': 7.040301958760261, 'alpha': 0.0006327959261319873, 'fit_intercept': False}. Best is trial 11 with value: -1136.4944149145194.\n",
      "[I 2025-05-21 21:40:42,348] Trial 22 finished with value: -2793.797600277836 and parameters: {'epsilon': 5.899432122807988, 'alpha': 0.026212558959950533, 'fit_intercept': False}. Best is trial 11 with value: -1136.4944149145194.\n",
      "[I 2025-05-21 21:40:42,376] Trial 23 finished with value: -2432.1735880385795 and parameters: {'epsilon': 7.340581937074184, 'alpha': 0.019535486674432195, 'fit_intercept': False}. Best is trial 11 with value: -1136.4944149145194.\n",
      "[I 2025-05-21 21:40:42,402] Trial 24 finished with value: -4953.290380192363 and parameters: {'epsilon': 8.49239942241982, 'alpha': 0.09683591854455072, 'fit_intercept': False}. Best is trial 11 with value: -1136.4944149145194.\n",
      "[I 2025-05-21 21:40:42,426] Trial 25 finished with value: -4042.9208976155137 and parameters: {'epsilon': 7.310871490132521, 'alpha': 0.058966103081828064, 'fit_intercept': False}. Best is trial 11 with value: -1136.4944149145194.\n",
      "[I 2025-05-21 21:40:42,455] Trial 26 finished with value: -2774.989350703927 and parameters: {'epsilon': 5.776096466895858, 'alpha': 0.025837794481873087, 'fit_intercept': False}. Best is trial 11 with value: -1136.4944149145194.\n",
      "[I 2025-05-21 21:40:42,479] Trial 27 finished with value: -4568.885345269771 and parameters: {'epsilon': 9.086509568369804, 'alpha': 0.07877023271662074, 'fit_intercept': False}. Best is trial 11 with value: -1136.4944149145194.\n",
      "[I 2025-05-21 21:40:42,513] Trial 28 finished with value: -1126.5362164336768 and parameters: {'epsilon': 5.0123005667914455, 'alpha': 0.000335005715567193, 'fit_intercept': False}. Best is trial 28 with value: -1126.5362164336768.\n",
      "[I 2025-05-21 21:40:42,539] Trial 29 finished with value: -4289.727507519937 and parameters: {'epsilon': 4.555764568220277, 'alpha': 0.06767530353543781, 'fit_intercept': False}. Best is trial 28 with value: -1126.5362164336768.\n",
      "[I 2025-05-21 21:40:42,567] Trial 30 finished with value: -5821.514663215571 and parameters: {'epsilon': 3.45905747967446, 'alpha': 0.15908032265431654, 'fit_intercept': False}. Best is trial 28 with value: -1126.5362164336768.\n",
      "[I 2025-05-21 21:40:42,608] Trial 31 finished with value: -2110.1356560794943 and parameters: {'epsilon': 6.084713872582685, 'alpha': 0.014356884790577364, 'fit_intercept': False}. Best is trial 28 with value: -1126.5362164336768.\n",
      "[I 2025-05-21 21:40:42,645] Trial 32 finished with value: -1203.21699288615 and parameters: {'epsilon': 7.676203380287192, 'alpha': 0.001771519390187389, 'fit_intercept': False}. Best is trial 28 with value: -1126.5362164336768.\n",
      "[I 2025-05-21 21:40:42,671] Trial 33 finished with value: -3017.6009877752576 and parameters: {'epsilon': 5.066051180440746, 'alpha': 0.03092707073251562, 'fit_intercept': False}. Best is trial 28 with value: -1126.5362164336768.\n",
      "[I 2025-05-21 21:40:42,694] Trial 34 finished with value: -3655.9668647990816 and parameters: {'epsilon': 6.725448828697467, 'alpha': 0.04703559906674556, 'fit_intercept': False}. Best is trial 28 with value: -1126.5362164336768.\n",
      "[I 2025-05-21 21:40:42,727] Trial 35 finished with value: -2059.496979186533 and parameters: {'epsilon': 3.6098742969629685, 'alpha': 0.012714486971986926, 'fit_intercept': True}. Best is trial 28 with value: -1126.5362164336768.\n",
      "[I 2025-05-21 21:40:42,752] Trial 36 finished with value: -3640.83688329886 and parameters: {'epsilon': 7.042800855812883, 'alpha': 0.04660608394081914, 'fit_intercept': False}. Best is trial 28 with value: -1126.5362164336768.\n",
      "[I 2025-05-21 21:40:42,782] Trial 37 finished with value: -1209.6616851694434 and parameters: {'epsilon': 7.990215691434725, 'alpha': 0.0018420639008467818, 'fit_intercept': False}. Best is trial 28 with value: -1126.5362164336768.\n",
      "[I 2025-05-21 21:40:42,807] Trial 38 finished with value: -3504.9762396592823 and parameters: {'epsilon': 6.289287158080899, 'alpha': 0.11945603465301666, 'fit_intercept': True}. Best is trial 28 with value: -1126.5362164336768.\n",
      "[I 2025-05-21 21:40:42,836] Trial 39 finished with value: -4873.487481600196 and parameters: {'epsilon': 8.37437519934198, 'alpha': 0.09276308530483987, 'fit_intercept': False}. Best is trial 28 with value: -1126.5362164336768.\n",
      "[I 2025-05-21 21:40:42,869] Trial 40 finished with value: -2895.1207013492462 and parameters: {'epsilon': 9.308607038516163, 'alpha': 0.03241825560637307, 'fit_intercept': True}. Best is trial 28 with value: -1126.5362164336768.\n",
      "[I 2025-05-21 21:40:42,905] Trial 41 finished with value: -1447.2642064413137 and parameters: {'epsilon': 6.638199660057226, 'alpha': 0.005225118498970654, 'fit_intercept': False}. Best is trial 28 with value: -1126.5362164336768.\n",
      "[I 2025-05-21 21:40:42,939] Trial 42 finished with value: -1147.2552010060801 and parameters: {'epsilon': 7.0261617068734825, 'alpha': 0.0007868159885127668, 'fit_intercept': False}. Best is trial 28 with value: -1126.5362164336768.\n",
      "[I 2025-05-21 21:40:42,967] Trial 43 finished with value: -2082.081068281247 and parameters: {'epsilon': 5.643957167315998, 'alpha': 0.013931931863963576, 'fit_intercept': False}. Best is trial 28 with value: -1126.5362164336768.\n",
      "[I 2025-05-21 21:40:42,996] Trial 44 finished with value: -2229.620622926069 and parameters: {'epsilon': 7.716838395046568, 'alpha': 0.01621264610563785, 'fit_intercept': False}. Best is trial 28 with value: -1126.5362164336768.\n",
      "[I 2025-05-21 21:40:43,023] Trial 45 finished with value: -4078.122052009908 and parameters: {'epsilon': 7.118413930916293, 'alpha': 0.06014777702075313, 'fit_intercept': False}. Best is trial 28 with value: -1126.5362164336768.\n",
      "[I 2025-05-21 21:40:43,052] Trial 46 finished with value: -2936.637428942152 and parameters: {'epsilon': 9.817395047218376, 'alpha': 0.034373972177381015, 'fit_intercept': True}. Best is trial 28 with value: -1126.5362164336768.\n",
      "[I 2025-05-21 21:40:43,076] Trial 47 finished with value: -6384.1294986554 and parameters: {'epsilon': 4.721929310981642, 'alpha': 0.23718248303216288, 'fit_intercept': False}. Best is trial 28 with value: -1126.5362164336768.\n",
      "[I 2025-05-21 21:40:43,110] Trial 48 finished with value: -1151.9340545209907 and parameters: {'epsilon': 6.307892164008512, 'alpha': 0.0010832408620280148, 'fit_intercept': False}. Best is trial 28 with value: -1126.5362164336768.\n",
      "[I 2025-05-21 21:40:43,136] Trial 49 finished with value: -6631.112784491025 and parameters: {'epsilon': 6.185780731660554, 'alpha': 0.2943224744879026, 'fit_intercept': False}. Best is trial 28 with value: -1126.5362164336768.\n",
      "[I 2025-05-21 21:40:43,140] A new study created in memory with name: no-name-2f6905c4-b20d-476b-b258-3d13129edbfc\n",
      "[I 2025-05-21 21:40:43,167] Trial 0 finished with value: -9703.691198221899 and parameters: {'epsilon': 9.934105803397596, 'alpha': 0.21219387312991486, 'fit_intercept': True}. Best is trial 0 with value: -9703.691198221899.\n",
      "[I 2025-05-21 21:40:43,187] Trial 1 finished with value: -28049.880885211347 and parameters: {'epsilon': 3.29735566585341, 'alpha': 0.05957152829399729, 'fit_intercept': False}. Best is trial 0 with value: -9703.691198221899.\n",
      "[I 2025-05-21 21:40:43,211] Trial 2 finished with value: -9710.19990237426 and parameters: {'epsilon': 7.189959998819702, 'alpha': 0.2746805848304873, 'fit_intercept': True}. Best is trial 0 with value: -9703.691198221899.\n",
      "[I 2025-05-21 21:40:43,236] Trial 3 finished with value: -9681.695207295494 and parameters: {'epsilon': 4.746908946864064, 'alpha': 0.11946913694202729, 'fit_intercept': True}. Best is trial 3 with value: -9681.695207295494.\n",
      "[I 2025-05-21 21:40:43,259] Trial 4 finished with value: -9710.018499651507 and parameters: {'epsilon': 9.606289403173397, 'alpha': 0.27242108783943364, 'fit_intercept': True}. Best is trial 3 with value: -9681.695207295494.\n",
      "[I 2025-05-21 21:40:43,279] Trial 5 finished with value: -21773.728068907283 and parameters: {'epsilon': 9.484958779272958, 'alpha': 0.022541303604588486, 'fit_intercept': False}. Best is trial 3 with value: -9681.695207295494.\n",
      "[I 2025-05-21 21:40:43,303] Trial 6 finished with value: -9683.786819186107 and parameters: {'epsilon': 2.1162639124224176, 'alpha': 0.13297108686143666, 'fit_intercept': True}. Best is trial 3 with value: -9681.695207295494.\n",
      "[I 2025-05-21 21:40:43,323] Trial 7 finished with value: -28790.084589776125 and parameters: {'epsilon': 3.813291590951218, 'alpha': 0.0726572398405926, 'fit_intercept': False}. Best is trial 3 with value: -9681.695207295494.\n",
      "[I 2025-05-21 21:40:43,346] Trial 8 finished with value: -31097.6066461667 and parameters: {'epsilon': 6.798288112170176, 'alpha': 0.2213185080692794, 'fit_intercept': False}. Best is trial 3 with value: -9681.695207295494.\n",
      "[I 2025-05-21 21:40:43,373] Trial 9 finished with value: -9712.056825838881 and parameters: {'epsilon': 5.092998888882017, 'alpha': 0.2997732631702883, 'fit_intercept': True}. Best is trial 3 with value: -9681.695207295494.\n",
      "[I 2025-05-21 21:40:43,398] Trial 10 finished with value: -9691.462833292893 and parameters: {'epsilon': 1.2074340534020207, 'alpha': 0.13507191009955563, 'fit_intercept': True}. Best is trial 3 with value: -9681.695207295494.\n",
      "[I 2025-05-21 21:40:43,428] Trial 11 finished with value: -9688.06294202563 and parameters: {'epsilon': 1.3990215673694788, 'alpha': 0.14297103416642942, 'fit_intercept': True}. Best is trial 3 with value: -9681.695207295494.\n",
      "[I 2025-05-21 21:40:43,457] Trial 12 finished with value: -9676.88153427537 and parameters: {'epsilon': 2.9198856576472187, 'alpha': 0.10963401789712605, 'fit_intercept': True}. Best is trial 12 with value: -9676.88153427537.\n",
      "[I 2025-05-21 21:40:43,486] Trial 13 finished with value: -9668.096132127896 and parameters: {'epsilon': 4.82310043461853, 'alpha': 0.09382175637555894, 'fit_intercept': True}. Best is trial 13 with value: -9668.096132127896.\n",
      "[I 2025-05-21 21:40:43,512] Trial 14 finished with value: -9661.050589197504 and parameters: {'epsilon': 3.074176331018416, 'alpha': 0.08439528575235071, 'fit_intercept': True}. Best is trial 14 with value: -9661.050589197504.\n",
      "[I 2025-05-21 21:40:43,543] Trial 15 finished with value: -8682.564852958916 and parameters: {'epsilon': 6.606749696268444, 'alpha': 0.003929546269252668, 'fit_intercept': True}. Best is trial 15 with value: -8682.564852958916.\n",
      "[I 2025-05-21 21:40:43,573] Trial 16 finished with value: -8022.026436646234 and parameters: {'epsilon': 6.678311777273753, 'alpha': 0.0018013264783504242, 'fit_intercept': True}. Best is trial 16 with value: -8022.026436646234.\n",
      "[I 2025-05-21 21:40:43,604] Trial 17 finished with value: -6517.164084303553 and parameters: {'epsilon': 7.158388950718286, 'alpha': 0.0002878238443992688, 'fit_intercept': True}. Best is trial 17 with value: -6517.164084303553.\n",
      "[I 2025-05-21 21:40:43,625] Trial 18 finished with value: -24135.61449132858 and parameters: {'epsilon': 7.700487398852672, 'alpha': 0.029887289341738097, 'fit_intercept': False}. Best is trial 17 with value: -6517.164084303553.\n",
      "[I 2025-05-21 21:40:43,651] Trial 19 finished with value: -9612.308846410047 and parameters: {'epsilon': 8.22721173454501, 'alpha': 0.04934683721678906, 'fit_intercept': True}. Best is trial 17 with value: -6517.164084303553.\n",
      "[I 2025-05-21 21:40:43,676] Trial 20 finished with value: -9697.841915298597 and parameters: {'epsilon': 6.01331298054184, 'alpha': 0.17605466183838112, 'fit_intercept': True}. Best is trial 17 with value: -6517.164084303553.\n",
      "[I 2025-05-21 21:40:43,702] Trial 21 finished with value: -8604.659425856149 and parameters: {'epsilon': 6.135351864757221, 'alpha': 0.0035394335078902522, 'fit_intercept': True}. Best is trial 17 with value: -6517.164084303553.\n",
      "[I 2025-05-21 21:40:43,730] Trial 22 finished with value: -6686.741921520133 and parameters: {'epsilon': 5.85066220762772, 'alpha': 0.00038812061277774634, 'fit_intercept': True}. Best is trial 17 with value: -6517.164084303553.\n",
      "[I 2025-05-21 21:40:43,755] Trial 23 finished with value: -9510.962876969119 and parameters: {'epsilon': 8.513122640560036, 'alpha': 0.025867148968538263, 'fit_intercept': True}. Best is trial 17 with value: -6517.164084303553.\n",
      "[I 2025-05-21 21:40:43,786] Trial 24 finished with value: -9589.787219106453 and parameters: {'epsilon': 5.789844496456532, 'alpha': 0.04124544773776532, 'fit_intercept': True}. Best is trial 17 with value: -6517.164084303553.\n",
      "[I 2025-05-21 21:40:43,816] Trial 25 finished with value: -6689.502730852391 and parameters: {'epsilon': 7.557895865656841, 'alpha': 0.0003897774900553125, 'fit_intercept': True}. Best is trial 17 with value: -6517.164084303553.\n",
      "[I 2025-05-21 21:40:43,839] Trial 26 finished with value: -27996.03612462829 and parameters: {'epsilon': 8.595039119743324, 'alpha': 0.05879529023167029, 'fit_intercept': False}. Best is trial 17 with value: -6517.164084303553.\n",
      "[I 2025-05-21 21:40:43,865] Trial 27 finished with value: -9502.765018190483 and parameters: {'epsilon': 7.6281000529046565, 'alpha': 0.024874286047223006, 'fit_intercept': True}. Best is trial 17 with value: -6517.164084303553.\n",
      "[I 2025-05-21 21:40:43,892] Trial 28 finished with value: -9698.689818210332 and parameters: {'epsilon': 4.217862880408999, 'alpha': 0.18052304320443632, 'fit_intercept': True}. Best is trial 17 with value: -6517.164084303553.\n",
      "[I 2025-05-21 21:40:43,921] Trial 29 finished with value: -9650.328443061167 and parameters: {'epsilon': 5.3494069122791865, 'alpha': 0.07310061496590602, 'fit_intercept': True}. Best is trial 17 with value: -6517.164084303553.\n",
      "[I 2025-05-21 21:40:43,952] Trial 30 finished with value: -6797.984012561883 and parameters: {'epsilon': 8.986969399793633, 'alpha': 0.00045730436352597897, 'fit_intercept': True}. Best is trial 17 with value: -6517.164084303553.\n",
      "[I 2025-05-21 21:40:43,979] Trial 31 finished with value: -9359.732371026894 and parameters: {'epsilon': 8.93506488564656, 'alpha': 0.014587393355507839, 'fit_intercept': True}. Best is trial 17 with value: -6517.164084303553.\n",
      "[I 2025-05-21 21:40:44,005] Trial 32 finished with value: -9583.81989052296 and parameters: {'epsilon': 7.851164998403997, 'alpha': 0.03951054120816106, 'fit_intercept': True}. Best is trial 17 with value: -6517.164084303553.\n",
      "[I 2025-05-21 21:40:44,030] Trial 33 finished with value: -9618.140797672177 and parameters: {'epsilon': 7.1542498828555185, 'alpha': 0.051965171168243895, 'fit_intercept': True}. Best is trial 17 with value: -6517.164084303553.\n",
      "[I 2025-05-21 21:40:44,059] Trial 34 finished with value: -8203.095787163456 and parameters: {'epsilon': 7.313260415745355, 'alpha': 0.0021830225434873495, 'fit_intercept': True}. Best is trial 17 with value: -6517.164084303553.\n",
      "[I 2025-05-21 21:40:44,084] Trial 35 finished with value: -9579.988809790379 and parameters: {'epsilon': 9.067396497999825, 'alpha': 0.038468477556473646, 'fit_intercept': True}. Best is trial 17 with value: -6517.164084303553.\n",
      "[I 2025-05-21 21:40:44,118] Trial 36 finished with value: -18996.668762254165 and parameters: {'epsilon': 8.1977556241683, 'alpha': 0.017050083503956495, 'fit_intercept': False}. Best is trial 17 with value: -6517.164084303553.\n",
      "[I 2025-05-21 21:40:44,143] Trial 37 finished with value: -9644.614133541445 and parameters: {'epsilon': 6.338180280514081, 'alpha': 0.06821911104234271, 'fit_intercept': True}. Best is trial 17 with value: -6517.164084303553.\n",
      "[I 2025-05-21 21:40:44,171] Trial 38 finished with value: -9671.543924335814 and parameters: {'epsilon': 9.306512997990872, 'alpha': 0.09924413669209102, 'fit_intercept': True}. Best is trial 17 with value: -6517.164084303553.\n",
      "[I 2025-05-21 21:40:44,194] Trial 39 finished with value: -31128.896196758895 and parameters: {'epsilon': 9.84767211688532, 'alpha': 0.22755104876164062, 'fit_intercept': False}. Best is trial 17 with value: -6517.164084303553.\n",
      "[I 2025-05-21 21:40:44,219] Trial 40 finished with value: -9400.103181432496 and parameters: {'epsilon': 7.134886694896319, 'alpha': 0.016591487145765155, 'fit_intercept': True}. Best is trial 17 with value: -6517.164084303553.\n",
      "[I 2025-05-21 21:40:44,244] Trial 41 finished with value: -8633.311410181988 and parameters: {'epsilon': 6.749789271026538, 'alpha': 0.0036760917632787447, 'fit_intercept': True}. Best is trial 17 with value: -6517.164084303553.\n",
      "[I 2025-05-21 21:40:44,269] Trial 42 finished with value: -9529.877575480104 and parameters: {'epsilon': 5.697066636665147, 'alpha': 0.02846542586398285, 'fit_intercept': True}. Best is trial 17 with value: -6517.164084303553.\n",
      "[I 2025-05-21 21:40:44,299] Trial 43 finished with value: -6940.289585911598 and parameters: {'epsilon': 6.412027231986954, 'alpha': 0.0005526675057878907, 'fit_intercept': True}. Best is trial 17 with value: -6517.164084303553.\n",
      "[I 2025-05-21 21:40:44,325] Trial 44 finished with value: -9398.458326273008 and parameters: {'epsilon': 5.3174740918489745, 'alpha': 0.01650034234507575, 'fit_intercept': True}. Best is trial 17 with value: -6517.164084303553.\n",
      "[I 2025-05-21 21:40:44,350] Trial 45 finished with value: -9601.240515251007 and parameters: {'epsilon': 7.449578613019777, 'alpha': 0.045017441361357144, 'fit_intercept': True}. Best is trial 17 with value: -6517.164084303553.\n",
      "[I 2025-05-21 21:40:44,375] Trial 46 finished with value: -9560.652844180906 and parameters: {'epsilon': 4.347381324305062, 'alpha': 0.03391736249950668, 'fit_intercept': True}. Best is trial 17 with value: -6517.164084303553.\n",
      "[I 2025-05-21 21:40:44,396] Trial 47 finished with value: -28321.348368080104 and parameters: {'epsilon': 8.062219815838748, 'alpha': 0.06379859243729956, 'fit_intercept': False}. Best is trial 17 with value: -6517.164084303553.\n",
      "[I 2025-05-21 21:40:44,420] Trial 48 finished with value: -9295.297980160187 and parameters: {'epsilon': 6.231114232631949, 'alpha': 0.012142019620617846, 'fit_intercept': True}. Best is trial 17 with value: -6517.164084303553.\n",
      "[I 2025-05-21 21:40:44,449] Trial 49 finished with value: -6861.2275539622515 and parameters: {'epsilon': 6.994327401697255, 'alpha': 0.0004987485663890301, 'fit_intercept': True}. Best is trial 17 with value: -6517.164084303553.\n"
     ]
    }
   ],
   "source": [
    "pipeline.train_regressors(model_type='huber', n_trials=50, cv=4)"
   ]
  },
  {
   "cell_type": "code",
   "execution_count": 7,
   "metadata": {},
   "outputs": [
    {
     "data": {
      "text/html": [
       "<div>\n",
       "<style scoped>\n",
       "    .dataframe tbody tr th:only-of-type {\n",
       "        vertical-align: middle;\n",
       "    }\n",
       "\n",
       "    .dataframe tbody tr th {\n",
       "        vertical-align: top;\n",
       "    }\n",
       "\n",
       "    .dataframe thead th {\n",
       "        text-align: right;\n",
       "    }\n",
       "</style>\n",
       "<table border=\"1\" class=\"dataframe\">\n",
       "  <thead>\n",
       "    <tr style=\"text-align: right;\">\n",
       "      <th></th>\n",
       "      <th>model_coef_segment_0</th>\n",
       "      <th>model_coef_segment_1</th>\n",
       "    </tr>\n",
       "  </thead>\n",
       "  <tbody>\n",
       "    <tr>\n",
       "      <th>intercept_</th>\n",
       "      <td>0.000000</td>\n",
       "      <td>6957.671591</td>\n",
       "    </tr>\n",
       "    <tr>\n",
       "      <th>age</th>\n",
       "      <td>12564.869377</td>\n",
       "      <td>9442.897524</td>\n",
       "    </tr>\n",
       "    <tr>\n",
       "      <th>bmi</th>\n",
       "      <td>1776.291856</td>\n",
       "      <td>29959.026305</td>\n",
       "    </tr>\n",
       "    <tr>\n",
       "      <th>children</th>\n",
       "      <td>2549.191611</td>\n",
       "      <td>-127.444026</td>\n",
       "    </tr>\n",
       "    <tr>\n",
       "      <th>sex</th>\n",
       "      <td>-115.972513</td>\n",
       "      <td>188.637803</td>\n",
       "    </tr>\n",
       "    <tr>\n",
       "      <th>smoker</th>\n",
       "      <td>13249.317387</td>\n",
       "      <td>9092.292185</td>\n",
       "    </tr>\n",
       "    <tr>\n",
       "      <th>region</th>\n",
       "      <td>-177.112066</td>\n",
       "      <td>-688.248622</td>\n",
       "    </tr>\n",
       "  </tbody>\n",
       "</table>\n",
       "</div>"
      ],
      "text/plain": [
       "            model_coef_segment_0  model_coef_segment_1\n",
       "intercept_              0.000000           6957.671591\n",
       "age                 12564.869377           9442.897524\n",
       "bmi                  1776.291856          29959.026305\n",
       "children             2549.191611           -127.444026\n",
       "sex                  -115.972513            188.637803\n",
       "smoker              13249.317387           9092.292185\n",
       "region               -177.112066           -688.248622"
      ]
     },
     "execution_count": 7,
     "metadata": {},
     "output_type": "execute_result"
    }
   ],
   "source": [
    "pipeline.regressor.get_model_coefs()"
   ]
  },
  {
   "cell_type": "code",
   "execution_count": 8,
   "metadata": {},
   "outputs": [],
   "source": [
    "test_target_preds = pipeline.regressor.predict(pipeline.segmented_test[num_features+cat_features], \n",
    "                              segments=pipeline.segmented_test['segment_preds'],\n",
    "                              )\n",
    "test_target_true = pipeline.segmented_test.charges"
   ]
  },
  {
   "cell_type": "code",
   "execution_count": 9,
   "metadata": {},
   "outputs": [
    {
     "name": "stdout",
     "output_type": "stream",
     "text": [
      "R2 = 0.8050073615497906\n",
      "MSE = 29185976.52361206\n",
      "RMSE = 5402.404698244298\n",
      "MAE = 2793.217590139512\n",
      "MAPE = 0.19358343272587747\n"
     ]
    }
   ],
   "source": [
    "from sklearn import metrics\n",
    "r2 = metrics.r2_score(test_target_true, test_target_preds)\n",
    "mse = metrics.mean_squared_error(test_target_true, test_target_preds)\n",
    "mae = metrics.mean_absolute_error(test_target_true, test_target_preds)\n",
    "mape = metrics.mean_absolute_percentage_error(test_target_true, test_target_preds)\n",
    "\n",
    "print(f\"R2 = {r2}\")\n",
    "print(f\"MSE = {mse}\")\n",
    "print(f\"RMSE = {mse**0.5}\")\n",
    "print(f\"MAE = {mae}\")\n",
    "print(f\"MAPE = {mape}\")"
   ]
  },
  {
   "cell_type": "code",
   "execution_count": 10,
   "metadata": {},
   "outputs": [
    {
     "data": {
      "text/html": [
       "<div>\n",
       "<style scoped>\n",
       "    .dataframe tbody tr th:only-of-type {\n",
       "        vertical-align: middle;\n",
       "    }\n",
       "\n",
       "    .dataframe tbody tr th {\n",
       "        vertical-align: top;\n",
       "    }\n",
       "\n",
       "    .dataframe thead th {\n",
       "        text-align: right;\n",
       "    }\n",
       "</style>\n",
       "<table border=\"1\" class=\"dataframe\">\n",
       "  <thead>\n",
       "    <tr style=\"text-align: right;\">\n",
       "      <th></th>\n",
       "      <th>r2</th>\n",
       "      <th>mse</th>\n",
       "      <th>rmse</th>\n",
       "      <th>mae</th>\n",
       "      <th>mape</th>\n",
       "    </tr>\n",
       "  </thead>\n",
       "  <tbody>\n",
       "    <tr>\n",
       "      <th>0</th>\n",
       "      <td>0.805007</td>\n",
       "      <td>2.918598e+07</td>\n",
       "      <td>5402.404698</td>\n",
       "      <td>2793.21759</td>\n",
       "      <td>0.193583</td>\n",
       "    </tr>\n",
       "  </tbody>\n",
       "</table>\n",
       "</div>"
      ],
      "text/plain": [
       "         r2           mse         rmse         mae      mape\n",
       "0  0.805007  2.918598e+07  5402.404698  2793.21759  0.193583"
      ]
     },
     "execution_count": 10,
     "metadata": {},
     "output_type": "execute_result"
    }
   ],
   "source": [
    "# Оценка качества\n",
    "metrics_df = pipeline.evaluate_test()\n",
    "metrics_df"
   ]
  },
  {
   "cell_type": "code",
   "execution_count": 11,
   "metadata": {},
   "outputs": [
    {
     "data": {
      "text/plain": [
       "<auto_ml_regression.segmentation.gmm.GaussianMixtureSegmenter at 0x14e160c50>"
      ]
     },
     "execution_count": 11,
     "metadata": {},
     "output_type": "execute_result"
    }
   ],
   "source": [
    "pipeline.segmenter"
   ]
  },
  {
   "cell_type": "code",
   "execution_count": null,
   "metadata": {},
   "outputs": [],
   "source": []
  }
 ],
 "metadata": {
  "kernelspec": {
   "display_name": ".venv",
   "language": "python",
   "name": "python3"
  },
  "language_info": {
   "codemirror_mode": {
    "name": "ipython",
    "version": 3
   },
   "file_extension": ".py",
   "mimetype": "text/x-python",
   "name": "python",
   "nbconvert_exporter": "python",
   "pygments_lexer": "ipython3",
   "version": "3.11.4"
  }
 },
 "nbformat": 4,
 "nbformat_minor": 2
}
